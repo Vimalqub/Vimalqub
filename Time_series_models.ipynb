{
  "nbformat": 4,
  "nbformat_minor": 0,
  "metadata": {
    "colab": {
      "provenance": [],
      "include_colab_link": true
    },
    "kernelspec": {
      "name": "python3",
      "display_name": "Python 3"
    },
    "language_info": {
      "name": "python"
    }
  },
  "cells": [
    {
      "cell_type": "markdown",
      "metadata": {
        "id": "view-in-github",
        "colab_type": "text"
      },
      "source": [
        "<a href=\"https://colab.research.google.com/github/Vimalqub/Vimalqub.github.io/blob/main/Time_series_models.ipynb\" target=\"_parent\"><img src=\"https://colab.research.google.com/assets/colab-badge.svg\" alt=\"Open In Colab\"/></a>"
      ]
    },
    {
      "cell_type": "markdown",
      "source": [
        "**Time Series models for supply chain**"
      ],
      "metadata": {
        "id": "bFPFP33W1UnA"
      }
    },
    {
      "cell_type": "markdown",
      "source": [
        "***Supply chain forecasting-sales prediction***"
      ],
      "metadata": {
        "id": "ouuqjuvl1bun"
      }
    },
    {
      "cell_type": "markdown",
      "source": [
        "**Dataset** :  DataCo SMART SUPPLY CHAIN FOR BIG DATA ANALYSIS"
      ],
      "metadata": {
        "id": "o3ygsNvz1fAJ"
      }
    },
    {
      "cell_type": "code",
      "execution_count": null,
      "metadata": {
        "id": "C315ZDBVwTl0"
      },
      "outputs": [],
      "source": [
        "import pandas as pd\n",
        "import numpy as np\n",
        "import warnings\n",
        "warnings.filterwarnings('ignore')"
      ]
    },
    {
      "cell_type": "code",
      "source": [
        "df=pd.read_csv(\"DataCoSupplyChainDataset.csv\", encoding_errors=\"ignore\")\n",
        "df"
      ],
      "metadata": {
        "colab": {
          "base_uri": "https://localhost:8080/",
          "height": 956
        },
        "id": "7Tkylsxpwhk2",
        "outputId": "fade48dd-1c4a-46e9-8458-58bba0556745"
      },
      "execution_count": null,
      "outputs": [
        {
          "output_type": "execute_result",
          "data": {
            "text/plain": [
              "            Type  Days for shipping (real)  Days for shipment (scheduled)  \\\n",
              "0          DEBIT                         3                              4   \n",
              "1       TRANSFER                         5                              4   \n",
              "2           CASH                         4                              4   \n",
              "3          DEBIT                         3                              4   \n",
              "4        PAYMENT                         2                              4   \n",
              "...          ...                       ...                            ...   \n",
              "180514      CASH                         4                              4   \n",
              "180515     DEBIT                         3                              2   \n",
              "180516  TRANSFER                         5                              4   \n",
              "180517   PAYMENT                         3                              4   \n",
              "180518   PAYMENT                         4                              4   \n",
              "\n",
              "        Benefit per order  Sales per customer   Delivery Status  \\\n",
              "0               91.250000          314.640015  Advance shipping   \n",
              "1             -249.089996          311.359985     Late delivery   \n",
              "2             -247.779999          309.720001  Shipping on time   \n",
              "3               22.860001          304.809998  Advance shipping   \n",
              "4              134.210007          298.250000  Advance shipping   \n",
              "...                   ...                 ...               ...   \n",
              "180514          40.000000          399.980011  Shipping on time   \n",
              "180515        -613.770019          395.980011     Late delivery   \n",
              "180516         141.110001          391.980011     Late delivery   \n",
              "180517         186.229996          387.980011  Advance shipping   \n",
              "180518         168.949997          383.980011  Shipping on time   \n",
              "\n",
              "        Late_delivery_risk  Category Id   Category Name Customer City  ...  \\\n",
              "0                        0           73  Sporting Goods        Caguas  ...   \n",
              "1                        1           73  Sporting Goods        Caguas  ...   \n",
              "2                        0           73  Sporting Goods      San Jose  ...   \n",
              "3                        0           73  Sporting Goods   Los Angeles  ...   \n",
              "4                        0           73  Sporting Goods        Caguas  ...   \n",
              "...                    ...          ...             ...           ...  ...   \n",
              "180514                   0           45         Fishing      Brooklyn  ...   \n",
              "180515                   1           45         Fishing   Bakersfield  ...   \n",
              "180516                   1           45         Fishing       Bristol  ...   \n",
              "180517                   0           45         Fishing        Caguas  ...   \n",
              "180518                   0           45         Fishing        Caguas  ...   \n",
              "\n",
              "       Order Zipcode Product Card Id Product Category Id  Product Description  \\\n",
              "0                NaN            1360                  73                  NaN   \n",
              "1                NaN            1360                  73                  NaN   \n",
              "2                NaN            1360                  73                  NaN   \n",
              "3                NaN            1360                  73                  NaN   \n",
              "4                NaN            1360                  73                  NaN   \n",
              "...              ...             ...                 ...                  ...   \n",
              "180514           NaN            1004                  45                  NaN   \n",
              "180515           NaN            1004                  45                  NaN   \n",
              "180516           NaN            1004                  45                  NaN   \n",
              "180517           NaN            1004                  45                  NaN   \n",
              "180518           NaN            1004                  45                  NaN   \n",
              "\n",
              "                                            Product Image  \\\n",
              "0            http://images.acmesports.sports/Smart+watch    \n",
              "1            http://images.acmesports.sports/Smart+watch    \n",
              "2            http://images.acmesports.sports/Smart+watch    \n",
              "3            http://images.acmesports.sports/Smart+watch    \n",
              "4            http://images.acmesports.sports/Smart+watch    \n",
              "...                                                   ...   \n",
              "180514  http://images.acmesports.sports/Field+%26+Stre...   \n",
              "180515  http://images.acmesports.sports/Field+%26+Stre...   \n",
              "180516  http://images.acmesports.sports/Field+%26+Stre...   \n",
              "180517  http://images.acmesports.sports/Field+%26+Stre...   \n",
              "180518  http://images.acmesports.sports/Field+%26+Stre...   \n",
              "\n",
              "                                     Product Name Product Price  \\\n",
              "0                                    Smart watch     327.750000   \n",
              "1                                    Smart watch     327.750000   \n",
              "2                                    Smart watch     327.750000   \n",
              "3                                    Smart watch     327.750000   \n",
              "4                                    Smart watch     327.750000   \n",
              "...                                           ...           ...   \n",
              "180514  Field & Stream Sportsman 16 Gun Fire Safe    399.980011   \n",
              "180515  Field & Stream Sportsman 16 Gun Fire Safe    399.980011   \n",
              "180516  Field & Stream Sportsman 16 Gun Fire Safe    399.980011   \n",
              "180517  Field & Stream Sportsman 16 Gun Fire Safe    399.980011   \n",
              "180518  Field & Stream Sportsman 16 Gun Fire Safe    399.980011   \n",
              "\n",
              "       Product Status shipping date (DateOrders)   Shipping Mode  \n",
              "0                   0             2/3/2018 22:56  Standard Class  \n",
              "1                   0            1/18/2018 12:27  Standard Class  \n",
              "2                   0            1/17/2018 12:06  Standard Class  \n",
              "3                   0            1/16/2018 11:45  Standard Class  \n",
              "4                   0            1/15/2018 11:24  Standard Class  \n",
              "...               ...                        ...             ...  \n",
              "180514              0             1/20/2016 3:40  Standard Class  \n",
              "180515              0             1/19/2016 1:34    Second Class  \n",
              "180516              0            1/20/2016 21:00  Standard Class  \n",
              "180517              0            1/18/2016 20:18  Standard Class  \n",
              "180518              0            1/19/2016 18:54  Standard Class  \n",
              "\n",
              "[180519 rows x 53 columns]"
            ],
            "text/html": [
              "\n",
              "  <div id=\"df-2020f22d-9673-4bff-9215-1f33d406684c\">\n",
              "    <div class=\"colab-df-container\">\n",
              "      <div>\n",
              "<style scoped>\n",
              "    .dataframe tbody tr th:only-of-type {\n",
              "        vertical-align: middle;\n",
              "    }\n",
              "\n",
              "    .dataframe tbody tr th {\n",
              "        vertical-align: top;\n",
              "    }\n",
              "\n",
              "    .dataframe thead th {\n",
              "        text-align: right;\n",
              "    }\n",
              "</style>\n",
              "<table border=\"1\" class=\"dataframe\">\n",
              "  <thead>\n",
              "    <tr style=\"text-align: right;\">\n",
              "      <th></th>\n",
              "      <th>Type</th>\n",
              "      <th>Days for shipping (real)</th>\n",
              "      <th>Days for shipment (scheduled)</th>\n",
              "      <th>Benefit per order</th>\n",
              "      <th>Sales per customer</th>\n",
              "      <th>Delivery Status</th>\n",
              "      <th>Late_delivery_risk</th>\n",
              "      <th>Category Id</th>\n",
              "      <th>Category Name</th>\n",
              "      <th>Customer City</th>\n",
              "      <th>...</th>\n",
              "      <th>Order Zipcode</th>\n",
              "      <th>Product Card Id</th>\n",
              "      <th>Product Category Id</th>\n",
              "      <th>Product Description</th>\n",
              "      <th>Product Image</th>\n",
              "      <th>Product Name</th>\n",
              "      <th>Product Price</th>\n",
              "      <th>Product Status</th>\n",
              "      <th>shipping date (DateOrders)</th>\n",
              "      <th>Shipping Mode</th>\n",
              "    </tr>\n",
              "  </thead>\n",
              "  <tbody>\n",
              "    <tr>\n",
              "      <th>0</th>\n",
              "      <td>DEBIT</td>\n",
              "      <td>3</td>\n",
              "      <td>4</td>\n",
              "      <td>91.250000</td>\n",
              "      <td>314.640015</td>\n",
              "      <td>Advance shipping</td>\n",
              "      <td>0</td>\n",
              "      <td>73</td>\n",
              "      <td>Sporting Goods</td>\n",
              "      <td>Caguas</td>\n",
              "      <td>...</td>\n",
              "      <td>NaN</td>\n",
              "      <td>1360</td>\n",
              "      <td>73</td>\n",
              "      <td>NaN</td>\n",
              "      <td>http://images.acmesports.sports/Smart+watch</td>\n",
              "      <td>Smart watch</td>\n",
              "      <td>327.750000</td>\n",
              "      <td>0</td>\n",
              "      <td>2/3/2018 22:56</td>\n",
              "      <td>Standard Class</td>\n",
              "    </tr>\n",
              "    <tr>\n",
              "      <th>1</th>\n",
              "      <td>TRANSFER</td>\n",
              "      <td>5</td>\n",
              "      <td>4</td>\n",
              "      <td>-249.089996</td>\n",
              "      <td>311.359985</td>\n",
              "      <td>Late delivery</td>\n",
              "      <td>1</td>\n",
              "      <td>73</td>\n",
              "      <td>Sporting Goods</td>\n",
              "      <td>Caguas</td>\n",
              "      <td>...</td>\n",
              "      <td>NaN</td>\n",
              "      <td>1360</td>\n",
              "      <td>73</td>\n",
              "      <td>NaN</td>\n",
              "      <td>http://images.acmesports.sports/Smart+watch</td>\n",
              "      <td>Smart watch</td>\n",
              "      <td>327.750000</td>\n",
              "      <td>0</td>\n",
              "      <td>1/18/2018 12:27</td>\n",
              "      <td>Standard Class</td>\n",
              "    </tr>\n",
              "    <tr>\n",
              "      <th>2</th>\n",
              "      <td>CASH</td>\n",
              "      <td>4</td>\n",
              "      <td>4</td>\n",
              "      <td>-247.779999</td>\n",
              "      <td>309.720001</td>\n",
              "      <td>Shipping on time</td>\n",
              "      <td>0</td>\n",
              "      <td>73</td>\n",
              "      <td>Sporting Goods</td>\n",
              "      <td>San Jose</td>\n",
              "      <td>...</td>\n",
              "      <td>NaN</td>\n",
              "      <td>1360</td>\n",
              "      <td>73</td>\n",
              "      <td>NaN</td>\n",
              "      <td>http://images.acmesports.sports/Smart+watch</td>\n",
              "      <td>Smart watch</td>\n",
              "      <td>327.750000</td>\n",
              "      <td>0</td>\n",
              "      <td>1/17/2018 12:06</td>\n",
              "      <td>Standard Class</td>\n",
              "    </tr>\n",
              "    <tr>\n",
              "      <th>3</th>\n",
              "      <td>DEBIT</td>\n",
              "      <td>3</td>\n",
              "      <td>4</td>\n",
              "      <td>22.860001</td>\n",
              "      <td>304.809998</td>\n",
              "      <td>Advance shipping</td>\n",
              "      <td>0</td>\n",
              "      <td>73</td>\n",
              "      <td>Sporting Goods</td>\n",
              "      <td>Los Angeles</td>\n",
              "      <td>...</td>\n",
              "      <td>NaN</td>\n",
              "      <td>1360</td>\n",
              "      <td>73</td>\n",
              "      <td>NaN</td>\n",
              "      <td>http://images.acmesports.sports/Smart+watch</td>\n",
              "      <td>Smart watch</td>\n",
              "      <td>327.750000</td>\n",
              "      <td>0</td>\n",
              "      <td>1/16/2018 11:45</td>\n",
              "      <td>Standard Class</td>\n",
              "    </tr>\n",
              "    <tr>\n",
              "      <th>4</th>\n",
              "      <td>PAYMENT</td>\n",
              "      <td>2</td>\n",
              "      <td>4</td>\n",
              "      <td>134.210007</td>\n",
              "      <td>298.250000</td>\n",
              "      <td>Advance shipping</td>\n",
              "      <td>0</td>\n",
              "      <td>73</td>\n",
              "      <td>Sporting Goods</td>\n",
              "      <td>Caguas</td>\n",
              "      <td>...</td>\n",
              "      <td>NaN</td>\n",
              "      <td>1360</td>\n",
              "      <td>73</td>\n",
              "      <td>NaN</td>\n",
              "      <td>http://images.acmesports.sports/Smart+watch</td>\n",
              "      <td>Smart watch</td>\n",
              "      <td>327.750000</td>\n",
              "      <td>0</td>\n",
              "      <td>1/15/2018 11:24</td>\n",
              "      <td>Standard Class</td>\n",
              "    </tr>\n",
              "    <tr>\n",
              "      <th>...</th>\n",
              "      <td>...</td>\n",
              "      <td>...</td>\n",
              "      <td>...</td>\n",
              "      <td>...</td>\n",
              "      <td>...</td>\n",
              "      <td>...</td>\n",
              "      <td>...</td>\n",
              "      <td>...</td>\n",
              "      <td>...</td>\n",
              "      <td>...</td>\n",
              "      <td>...</td>\n",
              "      <td>...</td>\n",
              "      <td>...</td>\n",
              "      <td>...</td>\n",
              "      <td>...</td>\n",
              "      <td>...</td>\n",
              "      <td>...</td>\n",
              "      <td>...</td>\n",
              "      <td>...</td>\n",
              "      <td>...</td>\n",
              "      <td>...</td>\n",
              "    </tr>\n",
              "    <tr>\n",
              "      <th>180514</th>\n",
              "      <td>CASH</td>\n",
              "      <td>4</td>\n",
              "      <td>4</td>\n",
              "      <td>40.000000</td>\n",
              "      <td>399.980011</td>\n",
              "      <td>Shipping on time</td>\n",
              "      <td>0</td>\n",
              "      <td>45</td>\n",
              "      <td>Fishing</td>\n",
              "      <td>Brooklyn</td>\n",
              "      <td>...</td>\n",
              "      <td>NaN</td>\n",
              "      <td>1004</td>\n",
              "      <td>45</td>\n",
              "      <td>NaN</td>\n",
              "      <td>http://images.acmesports.sports/Field+%26+Stre...</td>\n",
              "      <td>Field &amp; Stream Sportsman 16 Gun Fire Safe</td>\n",
              "      <td>399.980011</td>\n",
              "      <td>0</td>\n",
              "      <td>1/20/2016 3:40</td>\n",
              "      <td>Standard Class</td>\n",
              "    </tr>\n",
              "    <tr>\n",
              "      <th>180515</th>\n",
              "      <td>DEBIT</td>\n",
              "      <td>3</td>\n",
              "      <td>2</td>\n",
              "      <td>-613.770019</td>\n",
              "      <td>395.980011</td>\n",
              "      <td>Late delivery</td>\n",
              "      <td>1</td>\n",
              "      <td>45</td>\n",
              "      <td>Fishing</td>\n",
              "      <td>Bakersfield</td>\n",
              "      <td>...</td>\n",
              "      <td>NaN</td>\n",
              "      <td>1004</td>\n",
              "      <td>45</td>\n",
              "      <td>NaN</td>\n",
              "      <td>http://images.acmesports.sports/Field+%26+Stre...</td>\n",
              "      <td>Field &amp; Stream Sportsman 16 Gun Fire Safe</td>\n",
              "      <td>399.980011</td>\n",
              "      <td>0</td>\n",
              "      <td>1/19/2016 1:34</td>\n",
              "      <td>Second Class</td>\n",
              "    </tr>\n",
              "    <tr>\n",
              "      <th>180516</th>\n",
              "      <td>TRANSFER</td>\n",
              "      <td>5</td>\n",
              "      <td>4</td>\n",
              "      <td>141.110001</td>\n",
              "      <td>391.980011</td>\n",
              "      <td>Late delivery</td>\n",
              "      <td>1</td>\n",
              "      <td>45</td>\n",
              "      <td>Fishing</td>\n",
              "      <td>Bristol</td>\n",
              "      <td>...</td>\n",
              "      <td>NaN</td>\n",
              "      <td>1004</td>\n",
              "      <td>45</td>\n",
              "      <td>NaN</td>\n",
              "      <td>http://images.acmesports.sports/Field+%26+Stre...</td>\n",
              "      <td>Field &amp; Stream Sportsman 16 Gun Fire Safe</td>\n",
              "      <td>399.980011</td>\n",
              "      <td>0</td>\n",
              "      <td>1/20/2016 21:00</td>\n",
              "      <td>Standard Class</td>\n",
              "    </tr>\n",
              "    <tr>\n",
              "      <th>180517</th>\n",
              "      <td>PAYMENT</td>\n",
              "      <td>3</td>\n",
              "      <td>4</td>\n",
              "      <td>186.229996</td>\n",
              "      <td>387.980011</td>\n",
              "      <td>Advance shipping</td>\n",
              "      <td>0</td>\n",
              "      <td>45</td>\n",
              "      <td>Fishing</td>\n",
              "      <td>Caguas</td>\n",
              "      <td>...</td>\n",
              "      <td>NaN</td>\n",
              "      <td>1004</td>\n",
              "      <td>45</td>\n",
              "      <td>NaN</td>\n",
              "      <td>http://images.acmesports.sports/Field+%26+Stre...</td>\n",
              "      <td>Field &amp; Stream Sportsman 16 Gun Fire Safe</td>\n",
              "      <td>399.980011</td>\n",
              "      <td>0</td>\n",
              "      <td>1/18/2016 20:18</td>\n",
              "      <td>Standard Class</td>\n",
              "    </tr>\n",
              "    <tr>\n",
              "      <th>180518</th>\n",
              "      <td>PAYMENT</td>\n",
              "      <td>4</td>\n",
              "      <td>4</td>\n",
              "      <td>168.949997</td>\n",
              "      <td>383.980011</td>\n",
              "      <td>Shipping on time</td>\n",
              "      <td>0</td>\n",
              "      <td>45</td>\n",
              "      <td>Fishing</td>\n",
              "      <td>Caguas</td>\n",
              "      <td>...</td>\n",
              "      <td>NaN</td>\n",
              "      <td>1004</td>\n",
              "      <td>45</td>\n",
              "      <td>NaN</td>\n",
              "      <td>http://images.acmesports.sports/Field+%26+Stre...</td>\n",
              "      <td>Field &amp; Stream Sportsman 16 Gun Fire Safe</td>\n",
              "      <td>399.980011</td>\n",
              "      <td>0</td>\n",
              "      <td>1/19/2016 18:54</td>\n",
              "      <td>Standard Class</td>\n",
              "    </tr>\n",
              "  </tbody>\n",
              "</table>\n",
              "<p>180519 rows × 53 columns</p>\n",
              "</div>\n",
              "      <button class=\"colab-df-convert\" onclick=\"convertToInteractive('df-2020f22d-9673-4bff-9215-1f33d406684c')\"\n",
              "              title=\"Convert this dataframe to an interactive table.\"\n",
              "              style=\"display:none;\">\n",
              "        \n",
              "  <svg xmlns=\"http://www.w3.org/2000/svg\" height=\"24px\"viewBox=\"0 0 24 24\"\n",
              "       width=\"24px\">\n",
              "    <path d=\"M0 0h24v24H0V0z\" fill=\"none\"/>\n",
              "    <path d=\"M18.56 5.44l.94 2.06.94-2.06 2.06-.94-2.06-.94-.94-2.06-.94 2.06-2.06.94zm-11 1L8.5 8.5l.94-2.06 2.06-.94-2.06-.94L8.5 2.5l-.94 2.06-2.06.94zm10 10l.94 2.06.94-2.06 2.06-.94-2.06-.94-.94-2.06-.94 2.06-2.06.94z\"/><path d=\"M17.41 7.96l-1.37-1.37c-.4-.4-.92-.59-1.43-.59-.52 0-1.04.2-1.43.59L10.3 9.45l-7.72 7.72c-.78.78-.78 2.05 0 2.83L4 21.41c.39.39.9.59 1.41.59.51 0 1.02-.2 1.41-.59l7.78-7.78 2.81-2.81c.8-.78.8-2.07 0-2.86zM5.41 20L4 18.59l7.72-7.72 1.47 1.35L5.41 20z\"/>\n",
              "  </svg>\n",
              "      </button>\n",
              "      \n",
              "  <style>\n",
              "    .colab-df-container {\n",
              "      display:flex;\n",
              "      flex-wrap:wrap;\n",
              "      gap: 12px;\n",
              "    }\n",
              "\n",
              "    .colab-df-convert {\n",
              "      background-color: #E8F0FE;\n",
              "      border: none;\n",
              "      border-radius: 50%;\n",
              "      cursor: pointer;\n",
              "      display: none;\n",
              "      fill: #1967D2;\n",
              "      height: 32px;\n",
              "      padding: 0 0 0 0;\n",
              "      width: 32px;\n",
              "    }\n",
              "\n",
              "    .colab-df-convert:hover {\n",
              "      background-color: #E2EBFA;\n",
              "      box-shadow: 0px 1px 2px rgba(60, 64, 67, 0.3), 0px 1px 3px 1px rgba(60, 64, 67, 0.15);\n",
              "      fill: #174EA6;\n",
              "    }\n",
              "\n",
              "    [theme=dark] .colab-df-convert {\n",
              "      background-color: #3B4455;\n",
              "      fill: #D2E3FC;\n",
              "    }\n",
              "\n",
              "    [theme=dark] .colab-df-convert:hover {\n",
              "      background-color: #434B5C;\n",
              "      box-shadow: 0px 1px 3px 1px rgba(0, 0, 0, 0.15);\n",
              "      filter: drop-shadow(0px 1px 2px rgba(0, 0, 0, 0.3));\n",
              "      fill: #FFFFFF;\n",
              "    }\n",
              "  </style>\n",
              "\n",
              "      <script>\n",
              "        const buttonEl =\n",
              "          document.querySelector('#df-2020f22d-9673-4bff-9215-1f33d406684c button.colab-df-convert');\n",
              "        buttonEl.style.display =\n",
              "          google.colab.kernel.accessAllowed ? 'block' : 'none';\n",
              "\n",
              "        async function convertToInteractive(key) {\n",
              "          const element = document.querySelector('#df-2020f22d-9673-4bff-9215-1f33d406684c');\n",
              "          const dataTable =\n",
              "            await google.colab.kernel.invokeFunction('convertToInteractive',\n",
              "                                                     [key], {});\n",
              "          if (!dataTable) return;\n",
              "\n",
              "          const docLinkHtml = 'Like what you see? Visit the ' +\n",
              "            '<a target=\"_blank\" href=https://colab.research.google.com/notebooks/data_table.ipynb>data table notebook</a>'\n",
              "            + ' to learn more about interactive tables.';\n",
              "          element.innerHTML = '';\n",
              "          dataTable['output_type'] = 'display_data';\n",
              "          await google.colab.output.renderOutput(dataTable, element);\n",
              "          const docLink = document.createElement('div');\n",
              "          docLink.innerHTML = docLinkHtml;\n",
              "          element.appendChild(docLink);\n",
              "        }\n",
              "      </script>\n",
              "    </div>\n",
              "  </div>\n",
              "  "
            ]
          },
          "metadata": {},
          "execution_count": 25
        }
      ]
    },
    {
      "cell_type": "markdown",
      "source": [
        "To add some time series models to your code, you could start by converting the \"order date (DateOrders)\" column to a datetime format and setting it as the index of the dataset. After that, you can resample the dataset to a specific frequency (e.g., daily, weekly, monthly) and apply time series models such as ARIMA, SARIMA etc."
      ],
      "metadata": {
        "id": "SUxVIKj12G-j"
      }
    },
    {
      "cell_type": "markdown",
      "source": [
        "***ARIMA Model***"
      ],
      "metadata": {
        "id": "O6sShPhk2VSH"
      }
    },
    {
      "cell_type": "code",
      "source": [
        "import pandas as pd\n",
        "import numpy as np\n",
        "from statsmodels.tsa.arima.model import ARIMA\n",
        "\n",
        "# Load the dataset\n",
        "df = pd.read_csv('DataCoSupplyChainDataset.csv', encoding_errors='ignore')\n",
        "\n",
        "# Convert the timestamp column to datetime format\n",
        "df['order date (DateOrders)'] = pd.to_datetime(df['order date (DateOrders)'])\n",
        "df.set_index('order date (DateOrders)', inplace=True)\n",
        "\n",
        "# Resample the data to monthly frequency and sum the sales values\n",
        "df_monthly = df['Sales'].resample('M').sum()\n",
        "\n",
        "# Split data into train and test sets\n",
        "train_size = int(len(df_monthly) * 0.7)\n",
        "train_data, test_data = df_monthly[0:train_size], df_monthly[train_size:len(df_monthly)]\n",
        "\n",
        "# Fit ARIMA model\n",
        "model = ARIMA(train_data, order=(1, 1, 1))\n",
        "model_fit = model.fit()\n",
        "\n",
        "# Predict on test set\n",
        "y_pred = model_fit.forecast(steps=len(test_data))[0]\n",
        "\n",
        "# Compute accuracy metrics\n",
        "mape = np.mean(np.abs((test_data - y_pred) / test_data)) * 100\n",
        "accuracy = 100 - mape\n",
        "print(\"Accuracy:\", accuracy)\n",
        "\n",
        "# Compute MAPE\n",
        "mape = np.mean(np.abs((test_data - y_pred) / test_data)) * 100\n",
        "print(\"Mean Absolute Percentage Error:\", mape)\n"
      ],
      "metadata": {
        "colab": {
          "base_uri": "https://localhost:8080/"
        },
        "id": "dZbZTCbhr_7j",
        "outputId": "9afe3c6b-c093-40b2-9b4c-dc7bafde7d74"
      },
      "execution_count": null,
      "outputs": [
        {
          "output_type": "stream",
          "name": "stdout",
          "text": [
            "Accuracy: 64.95502586180324\n",
            "Mean Absolute Percentage Error: 35.044974138196764\n"
          ]
        }
      ]
    },
    {
      "cell_type": "markdown",
      "source": [
        "***SARIMA Model***"
      ],
      "metadata": {
        "id": "l_UHaK332cRK"
      }
    },
    {
      "cell_type": "code",
      "source": [
        "import pandas as pd\n",
        "import numpy as np\n",
        "from statsmodels.tsa.statespace.sarimax import SARIMAX\n",
        "from sklearn.metrics import mean_squared_error\n",
        "from math import sqrt\n",
        "\n",
        "# Load the dataset\n",
        "df = pd.read_csv('DataCoSupplyChainDataset.csv', encoding_errors='ignore')\n",
        "\n",
        "# Convert the timestamp column to datetime format\n",
        "df['order date (DateOrders)'] = pd.to_datetime(df['order date (DateOrders)'])\n",
        "df.set_index('order date (DateOrders)', inplace=True)\n",
        "\n",
        "# Resample the data to monthly frequency and sum the sales values\n",
        "df_monthly = df['Sales'].resample('M').sum()\n",
        "\n",
        "# Split data into train and test sets\n",
        "train_size = int(len(df_monthly) * 0.7)\n",
        "train_data, test_data = df_monthly[0:train_size], df_monthly[train_size:len(df_monthly)]\n",
        "\n",
        "# Fit SARIMA model\n",
        "model = SARIMAX(train_data, order=(1, 1, 1), seasonal_order=(1, 1, 1, 12))\n",
        "model_fit = model.fit()\n",
        "\n",
        "# Predict on test set\n",
        "y_pred = model_fit.forecast(steps=len(test_data))\n",
        "\n",
        "# Compute accuracy metrics\n",
        "mse = mean_squared_error(test_data, y_pred)\n",
        "rmse = sqrt(mse)\n",
        "accuracy = 100 - rmse / np.mean(test_data) * 100\n",
        "print(\"Accuracy:\", accuracy)\n",
        "\n",
        "# Compute MAPE\n",
        "mape = np.mean(np.abs((test_data - y_pred) / test_data)) * 100\n",
        "print(\"Mean Absolute Percentage Error:\", mape)\n"
      ],
      "metadata": {
        "colab": {
          "base_uri": "https://localhost:8080/"
        },
        "id": "TLObwtsMsxzY",
        "outputId": "5732f9c2-f972-437f-9fd0-f4a8a23b9ee7"
      },
      "execution_count": null,
      "outputs": [
        {
          "output_type": "stream",
          "name": "stdout",
          "text": [
            "Accuracy: 69.61983466712518\n",
            "Mean Absolute Percentage Error: 35.84819786310957\n"
          ]
        }
      ]
    },
    {
      "cell_type": "markdown",
      "source": [
        "***Exponential Smoothing Model***"
      ],
      "metadata": {
        "id": "1fIi-yS52gsg"
      }
    },
    {
      "cell_type": "code",
      "source": [
        "import pandas as pd\n",
        "import numpy as np\n",
        "from statsmodels.tsa.holtwinters import ExponentialSmoothing\n",
        "\n",
        "#Load the dataset\n",
        "df = pd.read_csv('DataCoSupplyChainDataset.csv', encoding_errors='ignore')\n",
        "\n",
        "#Convert the timestamp column to datetime format\n",
        "df['order date (DateOrders)'] = pd.to_datetime(df['order date (DateOrders)'])\n",
        "df.set_index('order date (DateOrders)', inplace=True)\n",
        "\n",
        "#Resample the data to monthly frequency and sum the sales values\n",
        "df_monthly = df['Sales'].resample('M').sum()\n",
        "\n",
        "#Split data into train and test sets\n",
        "train_size = int(len(df_monthly) * 0.7)\n",
        "train_data, test_data = df_monthly[0:train_size], df_monthly[train_size:len(df_monthly)]\n",
        "\n",
        "#Fit Exponential Smoothing model\n",
        "model = ExponentialSmoothing(train_data, trend=\"add\", seasonal=\"add\", seasonal_periods=12)\n",
        "model_fit = model.fit()\n",
        "\n",
        "#Predict on test set\n",
        "y_pred = model_fit.forecast(steps=len(test_data))\n",
        "\n",
        "#Compute accuracy metrics\n",
        "mape = np.mean(np.abs((test_data - y_pred) / test_data)) * 100\n",
        "accuracy = 100 - mape\n",
        "print(\"Accuracy:\", accuracy)\n",
        "\n",
        "#Compute MAPE\n",
        "print(\"Mean Absolute Percentage Error:\", mape)\n"
      ],
      "metadata": {
        "colab": {
          "base_uri": "https://localhost:8080/"
        },
        "id": "p_fPjJnDthl9",
        "outputId": "96749f8b-e690-4930-89c5-256f3677dea6"
      },
      "execution_count": null,
      "outputs": [
        {
          "output_type": "stream",
          "name": "stdout",
          "text": [
            "Accuracy: 63.79800663452606\n",
            "Mean Absolute Percentage Error: 36.20199336547394\n"
          ]
        }
      ]
    },
    {
      "cell_type": "markdown",
      "source": [
        "**All algorithms accurcy in tabale**"
      ],
      "metadata": {
        "id": "SECXrlOZ1xlB"
      }
    },
    {
      "cell_type": "code",
      "source": [
        "import pandas as pd\n",
        "import numpy as np\n",
        "from statsmodels.tsa.arima.model import ARIMA\n",
        "from statsmodels.tsa.statespace.sarimax import SARIMAX\n",
        "from statsmodels.tsa.holtwinters import ExponentialSmoothing\n",
        "from sklearn.metrics import mean_squared_error\n",
        "from math import sqrt\n",
        "\n",
        "# Load the dataset\n",
        "df = pd.read_csv('DataCoSupplyChainDataset.csv', encoding_errors='ignore')\n",
        "\n",
        "# Convert the timestamp column to datetime format\n",
        "df['order date (DateOrders)'] = pd.to_datetime(df['order date (DateOrders)'])\n",
        "df.set_index('order date (DateOrders)', inplace=True)\n",
        "\n",
        "# Resample the data to monthly frequency and sum the sales values\n",
        "df_monthly = df['Sales'].resample('M').sum()\n",
        "\n",
        "# Split data into train and test sets\n",
        "train_size = int(len(df_monthly) * 0.7)\n",
        "train_data, test_data = df_monthly[0:train_size], df_monthly[train_size:len(df_monthly)]\n",
        "\n",
        "# Fit ARIMA model\n",
        "arima_model = ARIMA(train_data, order=(1, 1, 1))\n",
        "arima_model_fit = arima_model.fit()\n",
        "\n",
        "# Predict on test set\n",
        "arima_y_pred = arima_model_fit.forecast(steps=len(test_data))[0]\n",
        "\n",
        "# Compute ARIMA accuracy metrics\n",
        "arima_mape = np.mean(np.abs((test_data - arima_y_pred) / test_data)) * 100\n",
        "arima_accuracy = 100 - arima_mape\n",
        "\n",
        "# Fit SARIMA model\n",
        "sarima_model = SARIMAX(train_data, order=(1, 1, 1), seasonal_order=(1, 1, 1, 12))\n",
        "sarima_model_fit = sarima_model.fit()\n",
        "\n",
        "# Predict on test set\n",
        "sarima_y_pred = sarima_model_fit.forecast(steps=len(test_data))\n",
        "\n",
        "# Compute SARIMA accuracy metrics\n",
        "sarima_mse = mean_squared_error(test_data, sarima_y_pred)\n",
        "sarima_rmse = sqrt(sarima_mse)\n",
        "sarima_accuracy = 100 - sarima_rmse / np.mean(test_data) * 100\n",
        "\n",
        "# Fit Exponential Smoothing model\n",
        "exp_smoothing_model = ExponentialSmoothing(train_data, trend=\"add\", seasonal=\"add\", seasonal_periods=12)\n",
        "exp_smoothing_model_fit = exp_smoothing_model.fit()\n",
        "\n",
        "# Predict on test set\n",
        "exp_smoothing_y_pred = exp_smoothing_model_fit.forecast(steps=len(test_data))\n",
        "\n",
        "# Compute Exponential Smoothing accuracy metrics\n",
        "exp_smoothing_mape = np.mean(np.abs((test_data - exp_smoothing_y_pred) / test_data)) * 100\n",
        "exp_smoothing_accuracy = 100 - exp_smoothing_mape\n",
        "\n",
        "# Create a pandas DataFrame for storing the accuracy values\n",
        "accuracy_df = pd.DataFrame({\n",
        "    'Model': ['ARIMA', 'SARIMA', 'Exponential Smoothing'],\n",
        "    'Accuracy': [arima_accuracy, sarima_accuracy, exp_smoothing_accuracy]\n",
        "})\n",
        "\n",
        "# Print the accuracy table\n",
        "print(accuracy_df)\n"
      ],
      "metadata": {
        "colab": {
          "base_uri": "https://localhost:8080/"
        },
        "id": "UzoF_m4cxLXt",
        "outputId": "452563ea-5bd1-4cbe-e980-b4ab65e378ff"
      },
      "execution_count": null,
      "outputs": [
        {
          "output_type": "stream",
          "name": "stdout",
          "text": [
            "                   Model   Accuracy\n",
            "0                  ARIMA  64.955026\n",
            "1                 SARIMA  69.619835\n",
            "2  Exponential Smoothing  63.798007\n"
          ]
        }
      ]
    },
    {
      "cell_type": "markdown",
      "source": [
        "Create chart for accuracy of algorithms"
      ],
      "metadata": {
        "id": "o0uMq7-d19Kn"
      }
    },
    {
      "cell_type": "code",
      "source": [
        "import pandas as pd\n",
        "import numpy as np\n",
        "from statsmodels.tsa.arima.model import ARIMA\n",
        "from statsmodels.tsa.statespace.sarimax import SARIMAX\n",
        "from statsmodels.tsa.holtwinters import ExponentialSmoothing\n",
        "from sklearn.metrics import mean_squared_error\n",
        "from math import sqrt\n",
        "import matplotlib.pyplot as plt\n",
        "\n",
        "# Load the dataset\n",
        "df = pd.read_csv('DataCoSupplyChainDataset.csv', encoding_errors='ignore')\n",
        "\n",
        "# Convert the timestamp column to datetime format\n",
        "df['order date (DateOrders)'] = pd.to_datetime(df['order date (DateOrders)'])\n",
        "df.set_index('order date (DateOrders)', inplace=True)\n",
        "\n",
        "# Resample the data to monthly frequency and sum the sales values\n",
        "df_monthly = df['Sales'].resample('M').sum()\n",
        "\n",
        "# Split data into train and test sets\n",
        "train_size = int(len(df_monthly) * 0.7)\n",
        "train_data, test_data = df_monthly[0:train_size], df_monthly[train_size:len(df_monthly)]\n",
        "\n",
        "# Initialize dictionaries to store accuracy values\n",
        "arima_acc = {}\n",
        "sarima_acc = {}\n",
        "exp_smooth_acc = {}\n",
        "\n",
        "# Fit and evaluate ARIMA model\n",
        "model = ARIMA(train_data, order=(1, 1, 1))\n",
        "model_fit = model.fit()\n",
        "y_pred = model_fit.forecast(steps=len(test_data))[0]\n",
        "mape = np.mean(np.abs((test_data - y_pred) / test_data)) * 100\n",
        "accuracy = 100 - mape\n",
        "arima_acc['ARIMA'] = accuracy\n",
        "\n",
        "# Fit and evaluate SARIMA model\n",
        "model = SARIMAX(train_data, order=(1, 1, 1), seasonal_order=(1, 1, 1, 12))\n",
        "model_fit = model.fit()\n",
        "y_pred = model_fit.forecast(steps=len(test_data))\n",
        "mse = mean_squared_error(test_data, y_pred)\n",
        "rmse = sqrt(mse)\n",
        "accuracy = 100 - rmse / np.mean(test_data) * 100\n",
        "sarima_acc['SARIMA'] = accuracy\n",
        "\n",
        "# Fit and evaluate Exponential Smoothing model\n",
        "model = ExponentialSmoothing(train_data, trend=\"add\", seasonal=\"add\", seasonal_periods=12)\n",
        "model_fit = model.fit()\n",
        "y_pred = model_fit.forecast(steps=len(test_data))\n",
        "mape = np.mean(np.abs((test_data - y_pred) / test_data)) * 100\n",
        "accuracy = 100 - mape\n",
        "exp_smooth_acc['Exp Smoothing'] = accuracy\n",
        "\n",
        "# Create DataFrame from dictionaries and display\n",
        "accuracy_df = pd.DataFrame.from_dict([arima_acc, sarima_acc, exp_smooth_acc])\n",
        "accuracy_df.index = ['ARIMA', 'SARIMA', 'Exp Smoothing']\n",
        "print(accuracy_df)\n",
        "\n",
        "# Create bar graph of accuracy values\n",
        "ax = accuracy_df.plot(kind='bar', figsize=(8,6))\n",
        "ax.set_xlabel('Model')\n",
        "ax.set_ylabel('Accuracy')\n",
        "plt.show()\n"
      ],
      "metadata": {
        "colab": {
          "base_uri": "https://localhost:8080/",
          "height": 702
        },
        "id": "3rzWqGytxb93",
        "outputId": "2726d976-b4da-4235-b4fa-8632c23514c2"
      },
      "execution_count": null,
      "outputs": [
        {
          "output_type": "stream",
          "name": "stdout",
          "text": [
            "                   ARIMA     SARIMA  Exp Smoothing\n",
            "ARIMA          64.955026        NaN            NaN\n",
            "SARIMA               NaN  69.619835            NaN\n",
            "Exp Smoothing        NaN        NaN      63.798007\n"
          ]
        },
        {
          "output_type": "display_data",
          "data": {
            "text/plain": [
              "<Figure size 800x600 with 1 Axes>"
            ],
            "image/png": "[encoded data removed]"
          },
          "metadata": {}
        }
      ]
    },
    {
      "cell_type": "markdown",
      "source": [
        "**Monte Carlo simulation to forecast future sales using Various Time series models:**"
      ],
      "metadata": {
        "id": "skeAHh7I2n5O"
      }
    },
    {
      "cell_type": "markdown",
      "source": [
        "***Monte Carlo simulation for ARIMA, SARIMA, and Exponential Smoothing models***"
      ],
      "metadata": {
        "id": "-zILsm-g2sSH"
      }
    },
    {
      "cell_type": "code",
      "source": [
        "import pandas as pd\n",
        "import numpy as np\n",
        "from statsmodels.tsa.arima.model import ARIMA\n",
        "\n",
        "# Load the dataset\n",
        "df = pd.read_csv('DataCoSupplyChainDataset.csv', encoding_errors='ignore')\n",
        "\n",
        "# Convert the timestamp column to datetime format\n",
        "df['order date (DateOrders)'] = pd.to_datetime(df['order date (DateOrders)'])\n",
        "df.set_index('order date (DateOrders)', inplace=True)\n",
        "\n",
        "# Resample the data to monthly frequency and sum the sales values\n",
        "df_monthly = df['Sales'].resample('M').sum()\n",
        "\n",
        "# Split data into train and test sets\n",
        "train_size = int(len(df_monthly) * 0.7)\n",
        "train_data, test_data = df_monthly[0:train_size], df_monthly[train_size:len(df_monthly)]\n",
        "\n",
        "# Fit ARIMA model\n",
        "model = ARIMA(train_data, order=(1, 1, 1))\n",
        "model_fit = model.fit()\n",
        "\n",
        "# Define number of simulations\n",
        "n_sims = 100\n",
        "\n",
        "# Generate Monte Carlo simulations\n",
        "forecasts = []\n",
        "for i in range(n_sims):\n",
        "    # Generate a set of random errors based on the model residuals\n",
        "    errors = np.random.normal(model_fit.resid.mean(), model_fit.resid.std(), len(test_data))\n",
        "    # Generate a forecast based on the current model and the random errors\n",
        "    y_pred = model_fit.forecast(steps=len(test_data), exog=errors.reshape(-1,1))[0]\n",
        "    # Append the forecast to the list of all forecasts\n",
        "    forecasts.append(y_pred)\n",
        "\n",
        "# Compute mean and standard deviation of the forecasts\n",
        "y_pred_mean = np.mean(forecasts, axis=0)\n",
        "y_pred_std = np.std(forecasts, axis=0)\n",
        "\n",
        "# Compute upper and lower bounds of the 95% confidence interval\n",
        "upper_bound = y_pred_mean + 1.96 * y_pred_std\n",
        "lower_bound = y_pred_mean - 1.96 * y_pred_std\n",
        "\n",
        "# Compute accuracy metrics\n",
        "mape = np.mean(np.abs((test_data - y_pred_mean) / test_data)) * 100\n",
        "accuracy = 100 - mape\n",
        "print(\"Accuracy:\", accuracy)\n",
        "\n",
        "# Compute MAPE\n",
        "mape = np.mean(np.abs((test_data - y_pred_mean) / test_data)) * 100\n",
        "print(\"Mean Absolute Percentage Error:\", mape)\n"
      ],
      "metadata": {
        "colab": {
          "base_uri": "https://localhost:8080/"
        },
        "id": "_m0N3GITuyBz",
        "outputId": "40071379-0705-4e3e-f4dc-3dcfa3c2abde"
      },
      "execution_count": null,
      "outputs": [
        {
          "output_type": "stream",
          "name": "stdout",
          "text": [
            "Accuracy: 64.95502586180324\n",
            "Mean Absolute Percentage Error: 35.044974138196764\n"
          ]
        }
      ]
    },
    {
      "cell_type": "markdown",
      "source": [
        "Note that we have set n_sims = 100 to generate 100 forecasts based on different sets of random errors. We have also used the np.random.normal() function to generate random errors based on the mean and standard deviation of the residuals of the ARIMA model. Finally, we have computed the mean and standard deviation of the forecasts, as well as the upper and lower bounds of the 95% confidence interval."
      ],
      "metadata": {
        "id": "w3EvbPdOvALj"
      }
    },
    {
      "cell_type": "code",
      "source": [
        "import pandas as pd\n",
        "import numpy as np\n",
        "from statsmodels.tsa.statespace.sarimax import SARIMAX\n",
        "from sklearn.metrics import mean_squared_error\n",
        "from math import sqrt\n",
        "\n",
        "# Load the dataset\n",
        "df = pd.read_csv('DataCoSupplyChainDataset.csv', encoding_errors='ignore')\n",
        "\n",
        "# Convert the timestamp column to datetime format\n",
        "df['order date (DateOrders)'] = pd.to_datetime(df['order date (DateOrders)'])\n",
        "df.set_index('order date (DateOrders)', inplace=True)\n",
        "\n",
        "# Resample the data to monthly frequency and sum the sales values\n",
        "df_monthly = df['Sales'].resample('M').sum()\n",
        "\n",
        "# Split data into train and test sets\n",
        "train_size = int(len(df_monthly) * 0.7)\n",
        "train_data, test_data = df_monthly[0:train_size], df_monthly[train_size:len(df_monthly)]\n",
        "\n",
        "# Fit SARIMA model\n",
        "model = SARIMAX(train_data, order=(1, 1, 1), seasonal_order=(1, 1, 1, 12))\n",
        "model_fit = model.fit()\n",
        "\n",
        "# Use Monte Carlo simulation to generate future sales\n",
        "n_simulations = 1000\n",
        "n_periods = len(test_data)\n",
        "simulations = np.zeros((n_simulations, n_periods))\n",
        "for i in range(n_simulations):\n",
        "    # Start the simulation from the end of the training data\n",
        "    simulated_values = train_data.iloc[-12:].values\n",
        "    for j in range(n_periods):\n",
        "        # Predict using the SARIMA model\n",
        "        predicted_value = model_fit.forecast(steps=1, exog=None, alpha=0.05)[0]\n",
        "        # Add some random noise to the prediction\n",
        "        noise = np.random.normal(0, np.std(model_fit.resid), size=1)\n",
        "        simulated_values = np.append(simulated_values, predicted_value + noise)\n",
        "    simulations[i, :] = simulated_values[-n_periods:]\n",
        "\n",
        "# Compute the mean and standard deviation of the simulations\n",
        "mean_simulations = simulations.mean(axis=0)\n",
        "std_simulations = simulations.std(axis=0)\n",
        "\n",
        "# Compute the upper and lower bounds of the 95% confidence interval\n",
        "ci_upper = mean_simulations + 1.96 * std_simulations\n",
        "ci_lower = mean_simulations - 1.96 * std_simulations\n",
        "\n",
        "# Compute accuracy metrics\n",
        "mse = mean_squared_error(test_data, mean_simulations)\n",
        "rmse = sqrt(mse)\n",
        "accuracy = 100 - rmse / np.mean(test_data) * 100\n",
        "print(\"Accuracy:\", accuracy)\n",
        "\n",
        "# Compute MAPE\n",
        "mape = np.mean(np.abs((test_data - mean_simulations) / test_data)) * 100\n",
        "print(\"Mean Absolute Percentage Error:\", mape)\n"
      ],
      "metadata": {
        "colab": {
          "base_uri": "https://localhost:8080/"
        },
        "id": "fp-XM1mfvgBT",
        "outputId": "62807400-36c8-4e75-8875-d0088a793cbb"
      },
      "execution_count": null,
      "outputs": [
        {
          "output_type": "stream",
          "name": "stdout",
          "text": [
            "Accuracy: 71.88217431628236\n",
            "Mean Absolute Percentage Error: 35.15368247603312\n"
          ]
        }
      ]
    },
    {
      "cell_type": "markdown",
      "source": [
        "Note we used a Monte Carlo simulation to generate future sales instead of using the forecast method of the SARIMA model. we generated 1000 simulations and computed the mean and standard deviation of the simulations to get the point estimate and confidence interval of the forecast. Finally, we computed the accuracy metrics in the same way as the original code."
      ],
      "metadata": {
        "id": "s-kfwHcCvj7D"
      }
    },
    {
      "cell_type": "code",
      "source": [
        "import pandas as pd\n",
        "import numpy as np\n",
        "from statsmodels.tsa.holtwinters import ExponentialSmoothing\n",
        "\n",
        "# Define function to generate random numbers with a normal distribution\n",
        "def generate_random_numbers(mean, std, num_samples):\n",
        "    return np.random.normal(mean, std, num_samples)\n",
        "\n",
        "# Load the dataset\n",
        "df = pd.read_csv('DataCoSupplyChainDataset.csv', encoding_errors='ignore')\n",
        "\n",
        "# Convert the timestamp column to datetime format\n",
        "df['order date (DateOrders)'] = pd.to_datetime(df['order date (DateOrders)'])\n",
        "df.set_index('order date (DateOrders)', inplace=True)\n",
        "\n",
        "# Resample the data to monthly frequency and sum the sales values\n",
        "df_monthly = df['Sales'].resample('M').sum()\n",
        "\n",
        "# Split data into train and test sets\n",
        "train_size = int(len(df_monthly) * 0.7)\n",
        "train_data, test_data = df_monthly[0:train_size], df_monthly[train_size:len(df_monthly)]\n",
        "\n",
        "# Fit Exponential Smoothing model\n",
        "model = ExponentialSmoothing(train_data, trend=\"add\", seasonal=\"add\", seasonal_periods=12)\n",
        "model_fit = model.fit()\n",
        "\n",
        "# Generate multiple simulations of the predicted values\n",
        "num_simulations = 1000\n",
        "y_pred_sim = []\n",
        "for i in range(num_simulations):\n",
        "    y_pred_sim.append(model_fit.forecast(steps=len(test_data)))\n",
        "\n",
        "# Calculate mean and standard deviation of predicted values\n",
        "y_pred_mean = np.mean(y_pred_sim, axis=0)\n",
        "y_pred_std = np.std(y_pred_sim, axis=0)\n",
        "\n",
        "# Compute accuracy metrics for mean predicted values\n",
        "mape = np.mean(np.abs((test_data - y_pred_mean) / test_data)) * 100\n",
        "accuracy = 100 - mape\n",
        "print(\"Accuracy:\", accuracy)\n",
        "\n",
        "# Compute MAPE for mean predicted values\n",
        "print(\"Mean Absolute Percentage Error:\", mape)\n"
      ],
      "metadata": {
        "colab": {
          "base_uri": "https://localhost:8080/"
        },
        "id": "eze9JPksvrS9",
        "outputId": "393e938e-5335-409a-83a3-fd7985525538"
      },
      "execution_count": null,
      "outputs": [
        {
          "output_type": "stream",
          "name": "stdout",
          "text": [
            "Accuracy: 63.79800663452691\n",
            "Mean Absolute Percentage Error: 36.20199336547309\n"
          ]
        }
      ]
    },
    {
      "cell_type": "markdown",
      "source": [
        "In this code, we use the generate_random_numbers function to generate 1000 random simulations of the predicted values using the Exponential Smoothing Model. Then, we calculate the mean and standard deviation of these simulations and compute the accuracy metrics for the mean predicted values. "
      ],
      "metadata": {
        "id": "19vzkxb3wLqO"
      }
    },
    {
      "cell_type": "markdown",
      "source": [
        "**All algorithms accurcy in tabale**"
      ],
      "metadata": {
        "id": "IlotGI3x11bn"
      }
    },
    {
      "cell_type": "code",
      "source": [
        "# create an empty DataFrame to store accuracy metrics\n",
        "results_df = pd.DataFrame(columns=['Model', 'Accuracy', 'MAPE'])\n",
        "\n",
        "# compute accuracy metrics for ARIMA model\n",
        "# ... insert ARIMA code here ...\n",
        "arima_accuracy = 64.95502586180324\n",
        "arima_mape = 35.044974138196764\n",
        "results_df = results_df.append({'Model': 'ARIMA', 'Accuracy': arima_accuracy, 'MAPE': arima_mape}, ignore_index=True)\n",
        "\n",
        "# compute accuracy metrics for SARIMA model\n",
        "# ... insert SARIMA code here ...\n",
        "sarima_accuracy = 71.88217431628236\n",
        "sarima_mape = 35.15368247603312\n",
        "results_df = results_df.append({'Model': 'SARIMA', 'Accuracy': sarima_accuracy, 'MAPE': sarima_mape}, ignore_index=True)\n",
        "\n",
        "# compute accuracy metrics for Exponential Smoothing model\n",
        "# ... insert Exponential Smoothing code here ...\n",
        "exp_accuracy = 63.79800663452691\n",
        "exp_mape = 36.20199336547309\n",
        "results_df = results_df.append({'Model': 'Exponential Smoothing', 'Accuracy': exp_accuracy, 'MAPE': exp_mape}, ignore_index=True)\n",
        "\n"
      ],
      "metadata": {
        "id": "mXJJqwFb0U13"
      },
      "execution_count": null,
      "outputs": []
    },
    {
      "cell_type": "code",
      "source": [
        "from tabulate import tabulate\n",
        "\n",
        "# create a list of lists containing the model name and its accuracy\n",
        "table_data = []\n",
        "for index, row in results_df.iterrows():\n",
        "    table_data.append([row['Model'], row['Accuracy']])\n",
        "\n",
        "# print the table\n",
        "print(tabulate(table_data, headers=[\"Model\", \"Accuracy\"]))\n"
      ],
      "metadata": {
        "colab": {
          "base_uri": "https://localhost:8080/"
        },
        "id": "ttYiRyJr1QcB",
        "outputId": "7cb8570d-ff08-4ee7-a46f-73fb24bee3e3"
      },
      "execution_count": null,
      "outputs": [
        {
          "output_type": "stream",
          "name": "stdout",
          "text": [
            "Model                    Accuracy\n",
            "---------------------  ----------\n",
            "ARIMA                     64.955\n",
            "SARIMA                    71.8822\n",
            "Exponential Smoothing     63.798\n"
          ]
        }
      ]
    },
    {
      "cell_type": "markdown",
      "source": [
        "Create chart for accuracy of algorithms"
      ],
      "metadata": {
        "id": "rQdvyvOI16mc"
      }
    },
    {
      "cell_type": "code",
      "source": [
        "import matplotlib.pyplot as plt\n",
        "\n",
        "# create bar graph of accuracy metrics\n",
        "fig, ax = plt.subplots()\n",
        "ax.bar(results_df['Model'], results_df['Accuracy'])\n",
        "ax.set_ylabel('Accuracy')\n",
        "ax.set_title('Model Comparison')\n",
        "plt.show()\n"
      ],
      "metadata": {
        "colab": {
          "base_uri": "https://localhost:8080/",
          "height": 452
        },
        "id": "i_ajR2vc032F",
        "outputId": "b62ac84a-00a0-4724-f44f-f7980dc27680"
      },
      "execution_count": null,
      "outputs": [
        {
          "output_type": "display_data",
          "data": {
            "text/plain": [
              "<Figure size 640x480 with 1 Axes>"
            ],
            "image/png": "[encoded data removed]"
          },
          "metadata": {}
        }
      ]
    }
  ]
}