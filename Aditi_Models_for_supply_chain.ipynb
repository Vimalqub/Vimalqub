{
  "cells": [
    {
      "cell_type": "markdown",
      "metadata": {
        "id": "view-in-github",
        "colab_type": "text"
      },
      "source": [
        "<a href=\"https://colab.research.google.com/github/Vimalqub/Vimalqub.github.io/blob/main/Aditi_Models_for_supply_chain.ipynb\" target=\"_parent\"><img src=\"https://colab.research.google.com/assets/colab-badge.svg\" alt=\"Open In Colab\"/></a>"
      ]
    },
    {
      "cell_type": "markdown",
      "metadata": {
        "id": "TWtvAoGrBAre"
      },
      "source": [
        "***Supply chain forecasting-sales prediction***"
      ]
    },
    {
      "cell_type": "markdown",
      "metadata": {
        "id": "2OCVpIefBC82"
      },
      "source": [
        "**Dataset** :  DataCo SMART SUPPLY CHAIN FOR BIG DATA ANALYSIS"
      ]
    },
    {
      "cell_type": "markdown",
      "metadata": {
        "id": "Zpn6l8kY1QcV"
      },
      "source": [
        "Dataset link : https://www.kaggle.com/datasets/shashwatwork/dataco-smart-supply-chain-for-big-data-analysis"
      ]
    },
    {
      "cell_type": "markdown",
      "metadata": {
        "id": "JHCFRKiTA2PS"
      },
      "source": [
        "**Machine Learning and Statistical models for supply chain**"
      ]
    },
    {
      "cell_type": "code",
      "execution_count": null,
      "metadata": {
        "colab": {
          "base_uri": "https://localhost:8080/"
        },
        "id": "xuD_FRaexWmk",
        "outputId": "e1b9f900-2185-4acd-b07f-67abb9d4a0c9"
      },
      "outputs": [
        {
          "name": "stdout",
          "output_type": "stream",
          "text": [
            "Looking in indexes: https://pypi.org/simple, https://us-python.pkg.dev/colab-wheels/public/simple/\n",
            "Requirement already satisfied: kaggle in /usr/local/lib/python3.10/dist-packages (1.5.13)\n",
            "Requirement already satisfied: six>=1.10 in /usr/local/lib/python3.10/dist-packages (from kaggle) (1.16.0)\n",
            "Requirement already satisfied: certifi in /usr/local/lib/python3.10/dist-packages (from kaggle) (2022.12.7)\n",
            "Requirement already satisfied: python-dateutil in /usr/local/lib/python3.10/dist-packages (from kaggle) (2.8.2)\n",
            "Requirement already satisfied: requests in /usr/local/lib/python3.10/dist-packages (from kaggle) (2.27.1)\n",
            "Requirement already satisfied: tqdm in /usr/local/lib/python3.10/dist-packages (from kaggle) (4.65.0)\n",
            "Requirement already satisfied: python-slugify in /usr/local/lib/python3.10/dist-packages (from kaggle) (8.0.1)\n",
            "Requirement already satisfied: urllib3 in /usr/local/lib/python3.10/dist-packages (from kaggle) (1.26.15)\n",
            "Requirement already satisfied: text-unidecode>=1.3 in /usr/local/lib/python3.10/dist-packages (from python-slugify->kaggle) (1.3)\n",
            "Requirement already satisfied: charset-normalizer~=2.0.0 in /usr/local/lib/python3.10/dist-packages (from requests->kaggle) (2.0.12)\n",
            "Requirement already satisfied: idna<4,>=2.5 in /usr/local/lib/python3.10/dist-packages (from requests->kaggle) (3.4)\n"
          ]
        }
      ],
      "source": [
        "! pip install kaggle"
      ]
    },
    {
      "cell_type": "code",
      "execution_count": null,
      "metadata": {
        "id": "CrK3XbTgxXy6"
      },
      "outputs": [],
      "source": [
        "! mkdir ~/.kaggle"
      ]
    },
    {
      "cell_type": "code",
      "execution_count": null,
      "metadata": {
        "colab": {
          "base_uri": "https://localhost:8080/",
          "height": 90
        },
        "id": "36EAYN4OxXsz",
        "outputId": "7089ba1e-5fb5-4b35-fdae-6cfbef2fb51a"
      },
      "outputs": [
        {
          "data": {
            "text/html": [
              "\n",
              "     <input type=\"file\" id=\"files-d1d443b3-d03b-40e7-80fd-f39f2a4afc44\" name=\"files[]\" multiple disabled\n",
              "        style=\"border:none\" />\n",
              "     <output id=\"result-d1d443b3-d03b-40e7-80fd-f39f2a4afc44\">\n",
              "      Upload widget is only available when the cell has been executed in the\n",
              "      current browser session. Please rerun this cell to enable.\n",
              "      </output>\n",
              "      <script>// Copyright 2017 Google LLC\n",
              "//\n",
              "// Licensed under the Apache License, Version 2.0 (the \"License\");\n",
              "// you may not use this file except in compliance with the License.\n",
              "// You may obtain a copy of the License at\n",
              "//\n",
              "//      http://www.apache.org/licenses/LICENSE-2.0\n",
              "//\n",
              "// Unless required by applicable law or agreed to in writing, software\n",
              "// distributed under the License is distributed on an \"AS IS\" BASIS,\n",
              "// WITHOUT WARRANTIES OR CONDITIONS OF ANY KIND, either express or implied.\n",
              "// See the License for the specific language governing permissions and\n",
              "// limitations under the License.\n",
              "\n",
              "/**\n",
              " * @fileoverview Helpers for google.colab Python module.\n",
              " */\n",
              "(function(scope) {\n",
              "function span(text, styleAttributes = {}) {\n",
              "  const element = document.createElement('span');\n",
              "  element.textContent = text;\n",
              "  for (const key of Object.keys(styleAttributes)) {\n",
              "    element.style[key] = styleAttributes[key];\n",
              "  }\n",
              "  return element;\n",
              "}\n",
              "\n",
              "// Max number of bytes which will be uploaded at a time.\n",
              "const MAX_PAYLOAD_SIZE = 100 * 1024;\n",
              "\n",
              "function _uploadFiles(inputId, outputId) {\n",
              "  const steps = uploadFilesStep(inputId, outputId);\n",
              "  const outputElement = document.getElementById(outputId);\n",
              "  // Cache steps on the outputElement to make it available for the next call\n",
              "  // to uploadFilesContinue from Python.\n",
              "  outputElement.steps = steps;\n",
              "\n",
              "  return _uploadFilesContinue(outputId);\n",
              "}\n",
              "\n",
              "// This is roughly an async generator (not supported in the browser yet),\n",
              "// where there are multiple asynchronous steps and the Python side is going\n",
              "// to poll for completion of each step.\n",
              "// This uses a Promise to block the python side on completion of each step,\n",
              "// then passes the result of the previous step as the input to the next step.\n",
              "function _uploadFilesContinue(outputId) {\n",
              "  const outputElement = document.getElementById(outputId);\n",
              "  const steps = outputElement.steps;\n",
              "\n",
              "  const next = steps.next(outputElement.lastPromiseValue);\n",
              "  return Promise.resolve(next.value.promise).then((value) => {\n",
              "    // Cache the last promise value to make it available to the next\n",
              "    // step of the generator.\n",
              "    outputElement.lastPromiseValue = value;\n",
              "    return next.value.response;\n",
              "  });\n",
              "}\n",
              "\n",
              "/**\n",
              " * Generator function which is called between each async step of the upload\n",
              " * process.\n",
              " * @param {string} inputId Element ID of the input file picker element.\n",
              " * @param {string} outputId Element ID of the output display.\n",
              " * @return {!Iterable<!Object>} Iterable of next steps.\n",
              " */\n",
              "function* uploadFilesStep(inputId, outputId) {\n",
              "  const inputElement = document.getElementById(inputId);\n",
              "  inputElement.disabled = false;\n",
              "\n",
              "  const outputElement = document.getElementById(outputId);\n",
              "  outputElement.innerHTML = '';\n",
              "\n",
              "  const pickedPromise = new Promise((resolve) => {\n",
              "    inputElement.addEventListener('change', (e) => {\n",
              "      resolve(e.target.files);\n",
              "    });\n",
              "  });\n",
              "\n",
              "  const cancel = document.createElement('button');\n",
              "  inputElement.parentElement.appendChild(cancel);\n",
              "  cancel.textContent = 'Cancel upload';\n",
              "  const cancelPromise = new Promise((resolve) => {\n",
              "    cancel.onclick = () => {\n",
              "      resolve(null);\n",
              "    };\n",
              "  });\n",
              "\n",
              "  // Wait for the user to pick the files.\n",
              "  const files = yield {\n",
              "    promise: Promise.race([pickedPromise, cancelPromise]),\n",
              "    response: {\n",
              "      action: 'starting',\n",
              "    }\n",
              "  };\n",
              "\n",
              "  cancel.remove();\n",
              "\n",
              "  // Disable the input element since further picks are not allowed.\n",
              "  inputElement.disabled = true;\n",
              "\n",
              "  if (!files) {\n",
              "    return {\n",
              "      response: {\n",
              "        action: 'complete',\n",
              "      }\n",
              "    };\n",
              "  }\n",
              "\n",
              "  for (const file of files) {\n",
              "    const li = document.createElement('li');\n",
              "    li.append(span(file.name, {fontWeight: 'bold'}));\n",
              "    li.append(span(\n",
              "        `(${file.type || 'n/a'}) - ${file.size} bytes, ` +\n",
              "        `last modified: ${\n",
              "            file.lastModifiedDate ? file.lastModifiedDate.toLocaleDateString() :\n",
              "                                    'n/a'} - `));\n",
              "    const percent = span('0% done');\n",
              "    li.appendChild(percent);\n",
              "\n",
              "    outputElement.appendChild(li);\n",
              "\n",
              "    const fileDataPromise = new Promise((resolve) => {\n",
              "      const reader = new FileReader();\n",
              "      reader.onload = (e) => {\n",
              "        resolve(e.target.result);\n",
              "      };\n",
              "      reader.readAsArrayBuffer(file);\n",
              "    });\n",
              "    // Wait for the data to be ready.\n",
              "    let fileData = yield {\n",
              "      promise: fileDataPromise,\n",
              "      response: {\n",
              "        action: 'continue',\n",
              "      }\n",
              "    };\n",
              "\n",
              "    // Use a chunked sending to avoid message size limits. See b/62115660.\n",
              "    let position = 0;\n",
              "    do {\n",
              "      const length = Math.min(fileData.byteLength - position, MAX_PAYLOAD_SIZE);\n",
              "      const chunk = new Uint8Array(fileData, position, length);\n",
              "      position += length;\n",
              "\n",
              "      const base64 = btoa(String.fromCharCode.apply(null, chunk));\n",
              "      yield {\n",
              "        response: {\n",
              "          action: 'append',\n",
              "          file: file.name,\n",
              "          data: base64,\n",
              "        },\n",
              "      };\n",
              "\n",
              "      let percentDone = fileData.byteLength === 0 ?\n",
              "          100 :\n",
              "          Math.round((position / fileData.byteLength) * 100);\n",
              "      percent.textContent = `${percentDone}% done`;\n",
              "\n",
              "    } while (position < fileData.byteLength);\n",
              "  }\n",
              "\n",
              "  // All done.\n",
              "  yield {\n",
              "    response: {\n",
              "      action: 'complete',\n",
              "    }\n",
              "  };\n",
              "}\n",
              "\n",
              "scope.google = scope.google || {};\n",
              "scope.google.colab = scope.google.colab || {};\n",
              "scope.google.colab._files = {\n",
              "  _uploadFiles,\n",
              "  _uploadFilesContinue,\n",
              "};\n",
              "})(self);\n",
              "</script> "
            ],
            "text/plain": [
              "<IPython.core.display.HTML object>"
            ]
          },
          "metadata": {},
          "output_type": "display_data"
        },
        {
          "name": "stdout",
          "output_type": "stream",
          "text": [
            "Saving kaggle.json to kaggle.json\n"
          ]
        },
        {
          "data": {
            "text/plain": [
              "{'kaggle.json': b'{\"username\":\"aditiagrawal27\",\"key\":\"22f8673a89da45cfef848fca082ebbfd\"}'}"
            ]
          },
          "execution_count": 3,
          "metadata": {},
          "output_type": "execute_result"
        }
      ],
      "source": [
        "from google.colab import files\n",
        "files.upload()"
      ]
    },
    {
      "cell_type": "code",
      "execution_count": null,
      "metadata": {
        "id": "fg56p_NjxXqP"
      },
      "outputs": [],
      "source": [
        "! cp kaggle.json ~/.kaggle/"
      ]
    },
    {
      "cell_type": "code",
      "execution_count": null,
      "metadata": {
        "id": "yjGzrhMwxXiH"
      },
      "outputs": [],
      "source": [
        "! chmod 600 ~/.kaggle/kaggle.json"
      ]
    },
    {
      "cell_type": "code",
      "execution_count": null,
      "metadata": {
        "id": "sLyT55wexXVZ"
      },
      "outputs": [],
      "source": [
        "! kaggle datasets list"
      ]
    },
    {
      "cell_type": "code",
      "execution_count": null,
      "metadata": {
        "colab": {
          "base_uri": "https://localhost:8080/"
        },
        "id": "AyMCS77Jxul6",
        "outputId": "3cd248b8-e945-4a41-db85-8ea8ce14e86d"
      },
      "outputs": [
        {
          "name": "stdout",
          "output_type": "stream",
          "text": [
            "Downloading dataco-smart-supply-chain-for-big-data-analysis.zip to /content\n",
            " 78% 20.0M/25.7M [00:00<00:00, 51.1MB/s]\n",
            "100% 25.7M/25.7M [00:00<00:00, 50.2MB/s]\n"
          ]
        }
      ],
      "source": [
        "!kaggle datasets download -d shashwatwork/dataco-smart-supply-chain-for-big-data-analysis\n"
      ]
    },
    {
      "cell_type": "code",
      "execution_count": null,
      "metadata": {
        "colab": {
          "base_uri": "https://localhost:8080/"
        },
        "id": "tjvDaxvUxx_E",
        "outputId": "2f02d3f9-97a2-4fbf-c0c3-4ef81e163652"
      },
      "outputs": [
        {
          "name": "stdout",
          "output_type": "stream",
          "text": [
            "Archive:  dataco-smart-supply-chain-for-big-data-analysis.zip\n",
            "  inflating: DataCoSupplyChainDataset.csv  \n",
            "  inflating: DescriptionDataCoSupplyChain.csv  \n",
            "  inflating: tokenized_access_logs.csv  \n"
          ]
        }
      ],
      "source": [
        "!unzip dataco-smart-supply-chain-for-big-data-analysis"
      ]
    },
    {
      "cell_type": "code",
      "execution_count": null,
      "metadata": {
        "id": "4BFEQkzbA_68"
      },
      "outputs": [],
      "source": [
        "import pandas as pd\n",
        "import numpy as np\n",
        "import warnings\n",
        "warnings.filterwarnings('ignore')\n",
        "from sklearn.model_selection import GridSearchCV"
      ]
    },
    {
      "cell_type": "code",
      "execution_count": null,
      "metadata": {
        "colab": {
          "base_uri": "https://localhost:8080/",
          "height": 956
        },
        "id": "qsMbRaufBkK5",
        "outputId": "afb6863f-d026-4db4-b46e-e5c94fd3a458"
      },
      "outputs": [
        {
          "data": {
            "text/html": [
              "\n",
              "  <div id=\"df-61182b5f-f520-4a5a-be10-b9ccdf18428c\">\n",
              "    <div class=\"colab-df-container\">\n",
              "      <div>\n",
              "<style scoped>\n",
              "    .dataframe tbody tr th:only-of-type {\n",
              "        vertical-align: middle;\n",
              "    }\n",
              "\n",
              "    .dataframe tbody tr th {\n",
              "        vertical-align: top;\n",
              "    }\n",
              "\n",
              "    .dataframe thead th {\n",
              "        text-align: right;\n",
              "    }\n",
              "</style>\n",
              "<table border=\"1\" class=\"dataframe\">\n",
              "  <thead>\n",
              "    <tr style=\"text-align: right;\">\n",
              "      <th></th>\n",
              "      <th>Type</th>\n",
              "      <th>Days for shipping (real)</th>\n",
              "      <th>Days for shipment (scheduled)</th>\n",
              "      <th>Benefit per order</th>\n",
              "      <th>Sales per customer</th>\n",
              "      <th>Delivery Status</th>\n",
              "      <th>Late_delivery_risk</th>\n",
              "      <th>Category Id</th>\n",
              "      <th>Category Name</th>\n",
              "      <th>Customer City</th>\n",
              "      <th>...</th>\n",
              "      <th>Order Zipcode</th>\n",
              "      <th>Product Card Id</th>\n",
              "      <th>Product Category Id</th>\n",
              "      <th>Product Description</th>\n",
              "      <th>Product Image</th>\n",
              "      <th>Product Name</th>\n",
              "      <th>Product Price</th>\n",
              "      <th>Product Status</th>\n",
              "      <th>shipping date (DateOrders)</th>\n",
              "      <th>Shipping Mode</th>\n",
              "    </tr>\n",
              "  </thead>\n",
              "  <tbody>\n",
              "    <tr>\n",
              "      <th>0</th>\n",
              "      <td>DEBIT</td>\n",
              "      <td>3</td>\n",
              "      <td>4</td>\n",
              "      <td>91.250000</td>\n",
              "      <td>314.640015</td>\n",
              "      <td>Advance shipping</td>\n",
              "      <td>0</td>\n",
              "      <td>73</td>\n",
              "      <td>Sporting Goods</td>\n",
              "      <td>Caguas</td>\n",
              "      <td>...</td>\n",
              "      <td>NaN</td>\n",
              "      <td>1360</td>\n",
              "      <td>73</td>\n",
              "      <td>NaN</td>\n",
              "      <td>http://images.acmesports.sports/Smart+watch</td>\n",
              "      <td>Smart watch</td>\n",
              "      <td>327.750000</td>\n",
              "      <td>0</td>\n",
              "      <td>2/3/2018 22:56</td>\n",
              "      <td>Standard Class</td>\n",
              "    </tr>\n",
              "    <tr>\n",
              "      <th>1</th>\n",
              "      <td>TRANSFER</td>\n",
              "      <td>5</td>\n",
              "      <td>4</td>\n",
              "      <td>-249.089996</td>\n",
              "      <td>311.359985</td>\n",
              "      <td>Late delivery</td>\n",
              "      <td>1</td>\n",
              "      <td>73</td>\n",
              "      <td>Sporting Goods</td>\n",
              "      <td>Caguas</td>\n",
              "      <td>...</td>\n",
              "      <td>NaN</td>\n",
              "      <td>1360</td>\n",
              "      <td>73</td>\n",
              "      <td>NaN</td>\n",
              "      <td>http://images.acmesports.sports/Smart+watch</td>\n",
              "      <td>Smart watch</td>\n",
              "      <td>327.750000</td>\n",
              "      <td>0</td>\n",
              "      <td>1/18/2018 12:27</td>\n",
              "      <td>Standard Class</td>\n",
              "    </tr>\n",
              "    <tr>\n",
              "      <th>2</th>\n",
              "      <td>CASH</td>\n",
              "      <td>4</td>\n",
              "      <td>4</td>\n",
              "      <td>-247.779999</td>\n",
              "      <td>309.720001</td>\n",
              "      <td>Shipping on time</td>\n",
              "      <td>0</td>\n",
              "      <td>73</td>\n",
              "      <td>Sporting Goods</td>\n",
              "      <td>San Jose</td>\n",
              "      <td>...</td>\n",
              "      <td>NaN</td>\n",
              "      <td>1360</td>\n",
              "      <td>73</td>\n",
              "      <td>NaN</td>\n",
              "      <td>http://images.acmesports.sports/Smart+watch</td>\n",
              "      <td>Smart watch</td>\n",
              "      <td>327.750000</td>\n",
              "      <td>0</td>\n",
              "      <td>1/17/2018 12:06</td>\n",
              "      <td>Standard Class</td>\n",
              "    </tr>\n",
              "    <tr>\n",
              "      <th>3</th>\n",
              "      <td>DEBIT</td>\n",
              "      <td>3</td>\n",
              "      <td>4</td>\n",
              "      <td>22.860001</td>\n",
              "      <td>304.809998</td>\n",
              "      <td>Advance shipping</td>\n",
              "      <td>0</td>\n",
              "      <td>73</td>\n",
              "      <td>Sporting Goods</td>\n",
              "      <td>Los Angeles</td>\n",
              "      <td>...</td>\n",
              "      <td>NaN</td>\n",
              "      <td>1360</td>\n",
              "      <td>73</td>\n",
              "      <td>NaN</td>\n",
              "      <td>http://images.acmesports.sports/Smart+watch</td>\n",
              "      <td>Smart watch</td>\n",
              "      <td>327.750000</td>\n",
              "      <td>0</td>\n",
              "      <td>1/16/2018 11:45</td>\n",
              "      <td>Standard Class</td>\n",
              "    </tr>\n",
              "    <tr>\n",
              "      <th>4</th>\n",
              "      <td>PAYMENT</td>\n",
              "      <td>2</td>\n",
              "      <td>4</td>\n",
              "      <td>134.210007</td>\n",
              "      <td>298.250000</td>\n",
              "      <td>Advance shipping</td>\n",
              "      <td>0</td>\n",
              "      <td>73</td>\n",
              "      <td>Sporting Goods</td>\n",
              "      <td>Caguas</td>\n",
              "      <td>...</td>\n",
              "      <td>NaN</td>\n",
              "      <td>1360</td>\n",
              "      <td>73</td>\n",
              "      <td>NaN</td>\n",
              "      <td>http://images.acmesports.sports/Smart+watch</td>\n",
              "      <td>Smart watch</td>\n",
              "      <td>327.750000</td>\n",
              "      <td>0</td>\n",
              "      <td>1/15/2018 11:24</td>\n",
              "      <td>Standard Class</td>\n",
              "    </tr>\n",
              "    <tr>\n",
              "      <th>...</th>\n",
              "      <td>...</td>\n",
              "      <td>...</td>\n",
              "      <td>...</td>\n",
              "      <td>...</td>\n",
              "      <td>...</td>\n",
              "      <td>...</td>\n",
              "      <td>...</td>\n",
              "      <td>...</td>\n",
              "      <td>...</td>\n",
              "      <td>...</td>\n",
              "      <td>...</td>\n",
              "      <td>...</td>\n",
              "      <td>...</td>\n",
              "      <td>...</td>\n",
              "      <td>...</td>\n",
              "      <td>...</td>\n",
              "      <td>...</td>\n",
              "      <td>...</td>\n",
              "      <td>...</td>\n",
              "      <td>...</td>\n",
              "      <td>...</td>\n",
              "    </tr>\n",
              "    <tr>\n",
              "      <th>180514</th>\n",
              "      <td>CASH</td>\n",
              "      <td>4</td>\n",
              "      <td>4</td>\n",
              "      <td>40.000000</td>\n",
              "      <td>399.980011</td>\n",
              "      <td>Shipping on time</td>\n",
              "      <td>0</td>\n",
              "      <td>45</td>\n",
              "      <td>Fishing</td>\n",
              "      <td>Brooklyn</td>\n",
              "      <td>...</td>\n",
              "      <td>NaN</td>\n",
              "      <td>1004</td>\n",
              "      <td>45</td>\n",
              "      <td>NaN</td>\n",
              "      <td>http://images.acmesports.sports/Field+%26+Stre...</td>\n",
              "      <td>Field &amp; Stream Sportsman 16 Gun Fire Safe</td>\n",
              "      <td>399.980011</td>\n",
              "      <td>0</td>\n",
              "      <td>1/20/2016 3:40</td>\n",
              "      <td>Standard Class</td>\n",
              "    </tr>\n",
              "    <tr>\n",
              "      <th>180515</th>\n",
              "      <td>DEBIT</td>\n",
              "      <td>3</td>\n",
              "      <td>2</td>\n",
              "      <td>-613.770019</td>\n",
              "      <td>395.980011</td>\n",
              "      <td>Late delivery</td>\n",
              "      <td>1</td>\n",
              "      <td>45</td>\n",
              "      <td>Fishing</td>\n",
              "      <td>Bakersfield</td>\n",
              "      <td>...</td>\n",
              "      <td>NaN</td>\n",
              "      <td>1004</td>\n",
              "      <td>45</td>\n",
              "      <td>NaN</td>\n",
              "      <td>http://images.acmesports.sports/Field+%26+Stre...</td>\n",
              "      <td>Field &amp; Stream Sportsman 16 Gun Fire Safe</td>\n",
              "      <td>399.980011</td>\n",
              "      <td>0</td>\n",
              "      <td>1/19/2016 1:34</td>\n",
              "      <td>Second Class</td>\n",
              "    </tr>\n",
              "    <tr>\n",
              "      <th>180516</th>\n",
              "      <td>TRANSFER</td>\n",
              "      <td>5</td>\n",
              "      <td>4</td>\n",
              "      <td>141.110001</td>\n",
              "      <td>391.980011</td>\n",
              "      <td>Late delivery</td>\n",
              "      <td>1</td>\n",
              "      <td>45</td>\n",
              "      <td>Fishing</td>\n",
              "      <td>Bristol</td>\n",
              "      <td>...</td>\n",
              "      <td>NaN</td>\n",
              "      <td>1004</td>\n",
              "      <td>45</td>\n",
              "      <td>NaN</td>\n",
              "      <td>http://images.acmesports.sports/Field+%26+Stre...</td>\n",
              "      <td>Field &amp; Stream Sportsman 16 Gun Fire Safe</td>\n",
              "      <td>399.980011</td>\n",
              "      <td>0</td>\n",
              "      <td>1/20/2016 21:00</td>\n",
              "      <td>Standard Class</td>\n",
              "    </tr>\n",
              "    <tr>\n",
              "      <th>180517</th>\n",
              "      <td>PAYMENT</td>\n",
              "      <td>3</td>\n",
              "      <td>4</td>\n",
              "      <td>186.229996</td>\n",
              "      <td>387.980011</td>\n",
              "      <td>Advance shipping</td>\n",
              "      <td>0</td>\n",
              "      <td>45</td>\n",
              "      <td>Fishing</td>\n",
              "      <td>Caguas</td>\n",
              "      <td>...</td>\n",
              "      <td>NaN</td>\n",
              "      <td>1004</td>\n",
              "      <td>45</td>\n",
              "      <td>NaN</td>\n",
              "      <td>http://images.acmesports.sports/Field+%26+Stre...</td>\n",
              "      <td>Field &amp; Stream Sportsman 16 Gun Fire Safe</td>\n",
              "      <td>399.980011</td>\n",
              "      <td>0</td>\n",
              "      <td>1/18/2016 20:18</td>\n",
              "      <td>Standard Class</td>\n",
              "    </tr>\n",
              "    <tr>\n",
              "      <th>180518</th>\n",
              "      <td>PAYMENT</td>\n",
              "      <td>4</td>\n",
              "      <td>4</td>\n",
              "      <td>168.949997</td>\n",
              "      <td>383.980011</td>\n",
              "      <td>Shipping on time</td>\n",
              "      <td>0</td>\n",
              "      <td>45</td>\n",
              "      <td>Fishing</td>\n",
              "      <td>Caguas</td>\n",
              "      <td>...</td>\n",
              "      <td>NaN</td>\n",
              "      <td>1004</td>\n",
              "      <td>45</td>\n",
              "      <td>NaN</td>\n",
              "      <td>http://images.acmesports.sports/Field+%26+Stre...</td>\n",
              "      <td>Field &amp; Stream Sportsman 16 Gun Fire Safe</td>\n",
              "      <td>399.980011</td>\n",
              "      <td>0</td>\n",
              "      <td>1/19/2016 18:54</td>\n",
              "      <td>Standard Class</td>\n",
              "    </tr>\n",
              "  </tbody>\n",
              "</table>\n",
              "<p>180519 rows × 53 columns</p>\n",
              "</div>\n",
              "      <button class=\"colab-df-convert\" onclick=\"convertToInteractive('df-61182b5f-f520-4a5a-be10-b9ccdf18428c')\"\n",
              "              title=\"Convert this dataframe to an interactive table.\"\n",
              "              style=\"display:none;\">\n",
              "        \n",
              "  <svg xmlns=\"http://www.w3.org/2000/svg\" height=\"24px\"viewBox=\"0 0 24 24\"\n",
              "       width=\"24px\">\n",
              "    <path d=\"M0 0h24v24H0V0z\" fill=\"none\"/>\n",
              "    <path d=\"M18.56 5.44l.94 2.06.94-2.06 2.06-.94-2.06-.94-.94-2.06-.94 2.06-2.06.94zm-11 1L8.5 8.5l.94-2.06 2.06-.94-2.06-.94L8.5 2.5l-.94 2.06-2.06.94zm10 10l.94 2.06.94-2.06 2.06-.94-2.06-.94-.94-2.06-.94 2.06-2.06.94z\"/><path d=\"M17.41 7.96l-1.37-1.37c-.4-.4-.92-.59-1.43-.59-.52 0-1.04.2-1.43.59L10.3 9.45l-7.72 7.72c-.78.78-.78 2.05 0 2.83L4 21.41c.39.39.9.59 1.41.59.51 0 1.02-.2 1.41-.59l7.78-7.78 2.81-2.81c.8-.78.8-2.07 0-2.86zM5.41 20L4 18.59l7.72-7.72 1.47 1.35L5.41 20z\"/>\n",
              "  </svg>\n",
              "      </button>\n",
              "      \n",
              "  <style>\n",
              "    .colab-df-container {\n",
              "      display:flex;\n",
              "      flex-wrap:wrap;\n",
              "      gap: 12px;\n",
              "    }\n",
              "\n",
              "    .colab-df-convert {\n",
              "      background-color: #E8F0FE;\n",
              "      border: none;\n",
              "      border-radius: 50%;\n",
              "      cursor: pointer;\n",
              "      display: none;\n",
              "      fill: #1967D2;\n",
              "      height: 32px;\n",
              "      padding: 0 0 0 0;\n",
              "      width: 32px;\n",
              "    }\n",
              "\n",
              "    .colab-df-convert:hover {\n",
              "      background-color: #E2EBFA;\n",
              "      box-shadow: 0px 1px 2px rgba(60, 64, 67, 0.3), 0px 1px 3px 1px rgba(60, 64, 67, 0.15);\n",
              "      fill: #174EA6;\n",
              "    }\n",
              "\n",
              "    [theme=dark] .colab-df-convert {\n",
              "      background-color: #3B4455;\n",
              "      fill: #D2E3FC;\n",
              "    }\n",
              "\n",
              "    [theme=dark] .colab-df-convert:hover {\n",
              "      background-color: #434B5C;\n",
              "      box-shadow: 0px 1px 3px 1px rgba(0, 0, 0, 0.15);\n",
              "      filter: drop-shadow(0px 1px 2px rgba(0, 0, 0, 0.3));\n",
              "      fill: #FFFFFF;\n",
              "    }\n",
              "  </style>\n",
              "\n",
              "      <script>\n",
              "        const buttonEl =\n",
              "          document.querySelector('#df-61182b5f-f520-4a5a-be10-b9ccdf18428c button.colab-df-convert');\n",
              "        buttonEl.style.display =\n",
              "          google.colab.kernel.accessAllowed ? 'block' : 'none';\n",
              "\n",
              "        async function convertToInteractive(key) {\n",
              "          const element = document.querySelector('#df-61182b5f-f520-4a5a-be10-b9ccdf18428c');\n",
              "          const dataTable =\n",
              "            await google.colab.kernel.invokeFunction('convertToInteractive',\n",
              "                                                     [key], {});\n",
              "          if (!dataTable) return;\n",
              "\n",
              "          const docLinkHtml = 'Like what you see? Visit the ' +\n",
              "            '<a target=\"_blank\" href=https://colab.research.google.com/notebooks/data_table.ipynb>data table notebook</a>'\n",
              "            + ' to learn more about interactive tables.';\n",
              "          element.innerHTML = '';\n",
              "          dataTable['output_type'] = 'display_data';\n",
              "          await google.colab.output.renderOutput(dataTable, element);\n",
              "          const docLink = document.createElement('div');\n",
              "          docLink.innerHTML = docLinkHtml;\n",
              "          element.appendChild(docLink);\n",
              "        }\n",
              "      </script>\n",
              "    </div>\n",
              "  </div>\n",
              "  "
            ],
            "text/plain": [
              "            Type  Days for shipping (real)  Days for shipment (scheduled)  \\\n",
              "0          DEBIT                         3                              4   \n",
              "1       TRANSFER                         5                              4   \n",
              "2           CASH                         4                              4   \n",
              "3          DEBIT                         3                              4   \n",
              "4        PAYMENT                         2                              4   \n",
              "...          ...                       ...                            ...   \n",
              "180514      CASH                         4                              4   \n",
              "180515     DEBIT                         3                              2   \n",
              "180516  TRANSFER                         5                              4   \n",
              "180517   PAYMENT                         3                              4   \n",
              "180518   PAYMENT                         4                              4   \n",
              "\n",
              "        Benefit per order  Sales per customer   Delivery Status  \\\n",
              "0               91.250000          314.640015  Advance shipping   \n",
              "1             -249.089996          311.359985     Late delivery   \n",
              "2             -247.779999          309.720001  Shipping on time   \n",
              "3               22.860001          304.809998  Advance shipping   \n",
              "4              134.210007          298.250000  Advance shipping   \n",
              "...                   ...                 ...               ...   \n",
              "180514          40.000000          399.980011  Shipping on time   \n",
              "180515        -613.770019          395.980011     Late delivery   \n",
              "180516         141.110001          391.980011     Late delivery   \n",
              "180517         186.229996          387.980011  Advance shipping   \n",
              "180518         168.949997          383.980011  Shipping on time   \n",
              "\n",
              "        Late_delivery_risk  Category Id   Category Name Customer City  ...  \\\n",
              "0                        0           73  Sporting Goods        Caguas  ...   \n",
              "1                        1           73  Sporting Goods        Caguas  ...   \n",
              "2                        0           73  Sporting Goods      San Jose  ...   \n",
              "3                        0           73  Sporting Goods   Los Angeles  ...   \n",
              "4                        0           73  Sporting Goods        Caguas  ...   \n",
              "...                    ...          ...             ...           ...  ...   \n",
              "180514                   0           45         Fishing      Brooklyn  ...   \n",
              "180515                   1           45         Fishing   Bakersfield  ...   \n",
              "180516                   1           45         Fishing       Bristol  ...   \n",
              "180517                   0           45         Fishing        Caguas  ...   \n",
              "180518                   0           45         Fishing        Caguas  ...   \n",
              "\n",
              "       Order Zipcode Product Card Id Product Category Id  Product Description  \\\n",
              "0                NaN            1360                  73                  NaN   \n",
              "1                NaN            1360                  73                  NaN   \n",
              "2                NaN            1360                  73                  NaN   \n",
              "3                NaN            1360                  73                  NaN   \n",
              "4                NaN            1360                  73                  NaN   \n",
              "...              ...             ...                 ...                  ...   \n",
              "180514           NaN            1004                  45                  NaN   \n",
              "180515           NaN            1004                  45                  NaN   \n",
              "180516           NaN            1004                  45                  NaN   \n",
              "180517           NaN            1004                  45                  NaN   \n",
              "180518           NaN            1004                  45                  NaN   \n",
              "\n",
              "                                            Product Image  \\\n",
              "0            http://images.acmesports.sports/Smart+watch    \n",
              "1            http://images.acmesports.sports/Smart+watch    \n",
              "2            http://images.acmesports.sports/Smart+watch    \n",
              "3            http://images.acmesports.sports/Smart+watch    \n",
              "4            http://images.acmesports.sports/Smart+watch    \n",
              "...                                                   ...   \n",
              "180514  http://images.acmesports.sports/Field+%26+Stre...   \n",
              "180515  http://images.acmesports.sports/Field+%26+Stre...   \n",
              "180516  http://images.acmesports.sports/Field+%26+Stre...   \n",
              "180517  http://images.acmesports.sports/Field+%26+Stre...   \n",
              "180518  http://images.acmesports.sports/Field+%26+Stre...   \n",
              "\n",
              "                                     Product Name Product Price  \\\n",
              "0                                    Smart watch     327.750000   \n",
              "1                                    Smart watch     327.750000   \n",
              "2                                    Smart watch     327.750000   \n",
              "3                                    Smart watch     327.750000   \n",
              "4                                    Smart watch     327.750000   \n",
              "...                                           ...           ...   \n",
              "180514  Field & Stream Sportsman 16 Gun Fire Safe    399.980011   \n",
              "180515  Field & Stream Sportsman 16 Gun Fire Safe    399.980011   \n",
              "180516  Field & Stream Sportsman 16 Gun Fire Safe    399.980011   \n",
              "180517  Field & Stream Sportsman 16 Gun Fire Safe    399.980011   \n",
              "180518  Field & Stream Sportsman 16 Gun Fire Safe    399.980011   \n",
              "\n",
              "       Product Status shipping date (DateOrders)   Shipping Mode  \n",
              "0                   0             2/3/2018 22:56  Standard Class  \n",
              "1                   0            1/18/2018 12:27  Standard Class  \n",
              "2                   0            1/17/2018 12:06  Standard Class  \n",
              "3                   0            1/16/2018 11:45  Standard Class  \n",
              "4                   0            1/15/2018 11:24  Standard Class  \n",
              "...               ...                        ...             ...  \n",
              "180514              0             1/20/2016 3:40  Standard Class  \n",
              "180515              0             1/19/2016 1:34    Second Class  \n",
              "180516              0            1/20/2016 21:00  Standard Class  \n",
              "180517              0            1/18/2016 20:18  Standard Class  \n",
              "180518              0            1/19/2016 18:54  Standard Class  \n",
              "\n",
              "[180519 rows x 53 columns]"
            ]
          },
          "execution_count": 12,
          "metadata": {},
          "output_type": "execute_result"
        }
      ],
      "source": [
        "df=pd.read_csv(\"DataCoSupplyChainDataset.csv\", encoding_errors=\"ignore\")\n",
        "df"
      ]
    },
    {
      "cell_type": "markdown",
      "metadata": {
        "id": "mzqAaEuaCCO5"
      },
      "source": [
        "**Data Preprocessing**"
      ]
    },
    {
      "cell_type": "code",
      "execution_count": null,
      "metadata": {
        "colab": {
          "base_uri": "https://localhost:8080/"
        },
        "id": "L34pB-xJCG86",
        "outputId": "32094f28-5e70-4fb3-8354-15964ced8e3c"
      },
      "outputs": [
        {
          "name": "stdout",
          "output_type": "stream",
          "text": [
            "<class 'pandas.core.frame.DataFrame'>\n",
            "RangeIndex: 180519 entries, 0 to 180518\n",
            "Data columns (total 53 columns):\n",
            " #   Column                         Non-Null Count   Dtype  \n",
            "---  ------                         --------------   -----  \n",
            " 0   Type                           180519 non-null  object \n",
            " 1   Days for shipping (real)       180519 non-null  int64  \n",
            " 2   Days for shipment (scheduled)  180519 non-null  int64  \n",
            " 3   Benefit per order              180519 non-null  float64\n",
            " 4   Sales per customer             180519 non-null  float64\n",
            " 5   Delivery Status                180519 non-null  object \n",
            " 6   Late_delivery_risk             180519 non-null  int64  \n",
            " 7   Category Id                    180519 non-null  int64  \n",
            " 8   Category Name                  180519 non-null  object \n",
            " 9   Customer City                  180519 non-null  object \n",
            " 10  Customer Country               180519 non-null  object \n",
            " 11  Customer Email                 180519 non-null  object \n",
            " 12  Customer Fname                 180519 non-null  object \n",
            " 13  Customer Id                    180519 non-null  int64  \n",
            " 14  Customer Lname                 180511 non-null  object \n",
            " 15  Customer Password              180519 non-null  object \n",
            " 16  Customer Segment               180519 non-null  object \n",
            " 17  Customer State                 180519 non-null  object \n",
            " 18  Customer Street                180519 non-null  object \n",
            " 19  Customer Zipcode               180516 non-null  float64\n",
            " 20  Department Id                  180519 non-null  int64  \n",
            " 21  Department Name                180519 non-null  object \n",
            " 22  Latitude                       180519 non-null  float64\n",
            " 23  Longitude                      180519 non-null  float64\n",
            " 24  Market                         180519 non-null  object \n",
            " 25  Order City                     180519 non-null  object \n",
            " 26  Order Country                  180519 non-null  object \n",
            " 27  Order Customer Id              180519 non-null  int64  \n",
            " 28  order date (DateOrders)        180519 non-null  object \n",
            " 29  Order Id                       180519 non-null  int64  \n",
            " 30  Order Item Cardprod Id         180519 non-null  int64  \n",
            " 31  Order Item Discount            180519 non-null  float64\n",
            " 32  Order Item Discount Rate       180519 non-null  float64\n",
            " 33  Order Item Id                  180519 non-null  int64  \n",
            " 34  Order Item Product Price       180519 non-null  float64\n",
            " 35  Order Item Profit Ratio        180519 non-null  float64\n",
            " 36  Order Item Quantity            180519 non-null  int64  \n",
            " 37  Sales                          180519 non-null  float64\n",
            " 38  Order Item Total               180519 non-null  float64\n",
            " 39  Order Profit Per Order         180519 non-null  float64\n",
            " 40  Order Region                   180519 non-null  object \n",
            " 41  Order State                    180519 non-null  object \n",
            " 42  Order Status                   180519 non-null  object \n",
            " 43  Order Zipcode                  24840 non-null   float64\n",
            " 44  Product Card Id                180519 non-null  int64  \n",
            " 45  Product Category Id            180519 non-null  int64  \n",
            " 46  Product Description            0 non-null       float64\n",
            " 47  Product Image                  180519 non-null  object \n",
            " 48  Product Name                   180519 non-null  object \n",
            " 49  Product Price                  180519 non-null  float64\n",
            " 50  Product Status                 180519 non-null  int64  \n",
            " 51  shipping date (DateOrders)     180519 non-null  object \n",
            " 52  Shipping Mode                  180519 non-null  object \n",
            "dtypes: float64(15), int64(14), object(24)\n",
            "memory usage: 73.0+ MB\n"
          ]
        }
      ],
      "source": [
        "df.info()"
      ]
    },
    {
      "cell_type": "code",
      "execution_count": null,
      "metadata": {
        "id": "0S3I_St3hE5-"
      },
      "outputs": [],
      "source": [
        "# Handling missing values\n",
        "# Handling data types\n",
        "# Handling categorical variables\n",
        "# Handling outliers\n"
      ]
    },
    {
      "cell_type": "code",
      "execution_count": null,
      "metadata": {
        "colab": {
          "base_uri": "https://localhost:8080/",
          "height": 428
        },
        "id": "tuUVL1gAGAQQ",
        "outputId": "0ac0fc95-d02b-45cd-d30d-44d3e42fbfc2"
      },
      "outputs": [
        {
          "data": {
            "text/html": [
              "\n",
              "  <div id=\"df-584c7e3b-b035-419a-b443-fb070fae1a25\">\n",
              "    <div class=\"colab-df-container\">\n",
              "      <div>\n",
              "<style scoped>\n",
              "    .dataframe tbody tr th:only-of-type {\n",
              "        vertical-align: middle;\n",
              "    }\n",
              "\n",
              "    .dataframe tbody tr th {\n",
              "        vertical-align: top;\n",
              "    }\n",
              "\n",
              "    .dataframe thead th {\n",
              "        text-align: right;\n",
              "    }\n",
              "</style>\n",
              "<table border=\"1\" class=\"dataframe\">\n",
              "  <thead>\n",
              "    <tr style=\"text-align: right;\">\n",
              "      <th></th>\n",
              "      <th>Days for shipping (real)</th>\n",
              "      <th>Days for shipment (scheduled)</th>\n",
              "      <th>Benefit per order</th>\n",
              "      <th>Sales per customer</th>\n",
              "      <th>Late_delivery_risk</th>\n",
              "      <th>Category Id</th>\n",
              "      <th>Customer Id</th>\n",
              "      <th>Customer Zipcode</th>\n",
              "      <th>Department Id</th>\n",
              "      <th>Latitude</th>\n",
              "      <th>...</th>\n",
              "      <th>Order Item Quantity</th>\n",
              "      <th>Sales</th>\n",
              "      <th>Order Item Total</th>\n",
              "      <th>Order Profit Per Order</th>\n",
              "      <th>Order Zipcode</th>\n",
              "      <th>Product Card Id</th>\n",
              "      <th>Product Category Id</th>\n",
              "      <th>Product Description</th>\n",
              "      <th>Product Price</th>\n",
              "      <th>Product Status</th>\n",
              "    </tr>\n",
              "  </thead>\n",
              "  <tbody>\n",
              "    <tr>\n",
              "      <th>count</th>\n",
              "      <td>180519.000000</td>\n",
              "      <td>180519.000000</td>\n",
              "      <td>180519.000000</td>\n",
              "      <td>180519.000000</td>\n",
              "      <td>180519.000000</td>\n",
              "      <td>180519.000000</td>\n",
              "      <td>180519.000000</td>\n",
              "      <td>180516.000000</td>\n",
              "      <td>180519.000000</td>\n",
              "      <td>180519.000000</td>\n",
              "      <td>...</td>\n",
              "      <td>180519.000000</td>\n",
              "      <td>180519.000000</td>\n",
              "      <td>180519.000000</td>\n",
              "      <td>180519.000000</td>\n",
              "      <td>24840.000000</td>\n",
              "      <td>180519.000000</td>\n",
              "      <td>180519.000000</td>\n",
              "      <td>0.0</td>\n",
              "      <td>180519.000000</td>\n",
              "      <td>180519.0</td>\n",
              "    </tr>\n",
              "    <tr>\n",
              "      <th>mean</th>\n",
              "      <td>3.497654</td>\n",
              "      <td>2.931847</td>\n",
              "      <td>21.974989</td>\n",
              "      <td>183.107609</td>\n",
              "      <td>0.548291</td>\n",
              "      <td>31.851451</td>\n",
              "      <td>6691.379495</td>\n",
              "      <td>35921.126914</td>\n",
              "      <td>5.443460</td>\n",
              "      <td>29.719955</td>\n",
              "      <td>...</td>\n",
              "      <td>2.127638</td>\n",
              "      <td>203.772096</td>\n",
              "      <td>183.107609</td>\n",
              "      <td>21.974989</td>\n",
              "      <td>55426.132327</td>\n",
              "      <td>692.509764</td>\n",
              "      <td>31.851451</td>\n",
              "      <td>NaN</td>\n",
              "      <td>141.232550</td>\n",
              "      <td>0.0</td>\n",
              "    </tr>\n",
              "    <tr>\n",
              "      <th>std</th>\n",
              "      <td>1.623722</td>\n",
              "      <td>1.374449</td>\n",
              "      <td>104.433526</td>\n",
              "      <td>120.043670</td>\n",
              "      <td>0.497664</td>\n",
              "      <td>15.640064</td>\n",
              "      <td>4162.918106</td>\n",
              "      <td>37542.461122</td>\n",
              "      <td>1.629246</td>\n",
              "      <td>9.813646</td>\n",
              "      <td>...</td>\n",
              "      <td>1.453451</td>\n",
              "      <td>132.273077</td>\n",
              "      <td>120.043670</td>\n",
              "      <td>104.433526</td>\n",
              "      <td>31919.279101</td>\n",
              "      <td>336.446807</td>\n",
              "      <td>15.640064</td>\n",
              "      <td>NaN</td>\n",
              "      <td>139.732492</td>\n",
              "      <td>0.0</td>\n",
              "    </tr>\n",
              "    <tr>\n",
              "      <th>min</th>\n",
              "      <td>0.000000</td>\n",
              "      <td>0.000000</td>\n",
              "      <td>-4274.979980</td>\n",
              "      <td>7.490000</td>\n",
              "      <td>0.000000</td>\n",
              "      <td>2.000000</td>\n",
              "      <td>1.000000</td>\n",
              "      <td>603.000000</td>\n",
              "      <td>2.000000</td>\n",
              "      <td>-33.937553</td>\n",
              "      <td>...</td>\n",
              "      <td>1.000000</td>\n",
              "      <td>9.990000</td>\n",
              "      <td>7.490000</td>\n",
              "      <td>-4274.979980</td>\n",
              "      <td>1040.000000</td>\n",
              "      <td>19.000000</td>\n",
              "      <td>2.000000</td>\n",
              "      <td>NaN</td>\n",
              "      <td>9.990000</td>\n",
              "      <td>0.0</td>\n",
              "    </tr>\n",
              "    <tr>\n",
              "      <th>25%</th>\n",
              "      <td>2.000000</td>\n",
              "      <td>2.000000</td>\n",
              "      <td>7.000000</td>\n",
              "      <td>104.379997</td>\n",
              "      <td>0.000000</td>\n",
              "      <td>18.000000</td>\n",
              "      <td>3258.500000</td>\n",
              "      <td>725.000000</td>\n",
              "      <td>4.000000</td>\n",
              "      <td>18.265432</td>\n",
              "      <td>...</td>\n",
              "      <td>1.000000</td>\n",
              "      <td>119.980003</td>\n",
              "      <td>104.379997</td>\n",
              "      <td>7.000000</td>\n",
              "      <td>23464.000000</td>\n",
              "      <td>403.000000</td>\n",
              "      <td>18.000000</td>\n",
              "      <td>NaN</td>\n",
              "      <td>50.000000</td>\n",
              "      <td>0.0</td>\n",
              "    </tr>\n",
              "    <tr>\n",
              "      <th>50%</th>\n",
              "      <td>3.000000</td>\n",
              "      <td>4.000000</td>\n",
              "      <td>31.520000</td>\n",
              "      <td>163.990005</td>\n",
              "      <td>1.000000</td>\n",
              "      <td>29.000000</td>\n",
              "      <td>6457.000000</td>\n",
              "      <td>19380.000000</td>\n",
              "      <td>5.000000</td>\n",
              "      <td>33.144863</td>\n",
              "      <td>...</td>\n",
              "      <td>1.000000</td>\n",
              "      <td>199.919998</td>\n",
              "      <td>163.990005</td>\n",
              "      <td>31.520000</td>\n",
              "      <td>59405.000000</td>\n",
              "      <td>627.000000</td>\n",
              "      <td>29.000000</td>\n",
              "      <td>NaN</td>\n",
              "      <td>59.990002</td>\n",
              "      <td>0.0</td>\n",
              "    </tr>\n",
              "    <tr>\n",
              "      <th>75%</th>\n",
              "      <td>5.000000</td>\n",
              "      <td>4.000000</td>\n",
              "      <td>64.800003</td>\n",
              "      <td>247.399994</td>\n",
              "      <td>1.000000</td>\n",
              "      <td>45.000000</td>\n",
              "      <td>9779.000000</td>\n",
              "      <td>78207.000000</td>\n",
              "      <td>7.000000</td>\n",
              "      <td>39.279617</td>\n",
              "      <td>...</td>\n",
              "      <td>3.000000</td>\n",
              "      <td>299.950012</td>\n",
              "      <td>247.399994</td>\n",
              "      <td>64.800003</td>\n",
              "      <td>90008.000000</td>\n",
              "      <td>1004.000000</td>\n",
              "      <td>45.000000</td>\n",
              "      <td>NaN</td>\n",
              "      <td>199.990005</td>\n",
              "      <td>0.0</td>\n",
              "    </tr>\n",
              "    <tr>\n",
              "      <th>max</th>\n",
              "      <td>6.000000</td>\n",
              "      <td>4.000000</td>\n",
              "      <td>911.799988</td>\n",
              "      <td>1939.989990</td>\n",
              "      <td>1.000000</td>\n",
              "      <td>76.000000</td>\n",
              "      <td>20757.000000</td>\n",
              "      <td>99205.000000</td>\n",
              "      <td>12.000000</td>\n",
              "      <td>48.781933</td>\n",
              "      <td>...</td>\n",
              "      <td>5.000000</td>\n",
              "      <td>1999.989990</td>\n",
              "      <td>1939.989990</td>\n",
              "      <td>911.799988</td>\n",
              "      <td>99301.000000</td>\n",
              "      <td>1363.000000</td>\n",
              "      <td>76.000000</td>\n",
              "      <td>NaN</td>\n",
              "      <td>1999.989990</td>\n",
              "      <td>0.0</td>\n",
              "    </tr>\n",
              "  </tbody>\n",
              "</table>\n",
              "<p>8 rows × 29 columns</p>\n",
              "</div>\n",
              "      <button class=\"colab-df-convert\" onclick=\"convertToInteractive('df-584c7e3b-b035-419a-b443-fb070fae1a25')\"\n",
              "              title=\"Convert this dataframe to an interactive table.\"\n",
              "              style=\"display:none;\">\n",
              "        \n",
              "  <svg xmlns=\"http://www.w3.org/2000/svg\" height=\"24px\"viewBox=\"0 0 24 24\"\n",
              "       width=\"24px\">\n",
              "    <path d=\"M0 0h24v24H0V0z\" fill=\"none\"/>\n",
              "    <path d=\"M18.56 5.44l.94 2.06.94-2.06 2.06-.94-2.06-.94-.94-2.06-.94 2.06-2.06.94zm-11 1L8.5 8.5l.94-2.06 2.06-.94-2.06-.94L8.5 2.5l-.94 2.06-2.06.94zm10 10l.94 2.06.94-2.06 2.06-.94-2.06-.94-.94-2.06-.94 2.06-2.06.94z\"/><path d=\"M17.41 7.96l-1.37-1.37c-.4-.4-.92-.59-1.43-.59-.52 0-1.04.2-1.43.59L10.3 9.45l-7.72 7.72c-.78.78-.78 2.05 0 2.83L4 21.41c.39.39.9.59 1.41.59.51 0 1.02-.2 1.41-.59l7.78-7.78 2.81-2.81c.8-.78.8-2.07 0-2.86zM5.41 20L4 18.59l7.72-7.72 1.47 1.35L5.41 20z\"/>\n",
              "  </svg>\n",
              "      </button>\n",
              "      \n",
              "  <style>\n",
              "    .colab-df-container {\n",
              "      display:flex;\n",
              "      flex-wrap:wrap;\n",
              "      gap: 12px;\n",
              "    }\n",
              "\n",
              "    .colab-df-convert {\n",
              "      background-color: #E8F0FE;\n",
              "      border: none;\n",
              "      border-radius: 50%;\n",
              "      cursor: pointer;\n",
              "      display: none;\n",
              "      fill: #1967D2;\n",
              "      height: 32px;\n",
              "      padding: 0 0 0 0;\n",
              "      width: 32px;\n",
              "    }\n",
              "\n",
              "    .colab-df-convert:hover {\n",
              "      background-color: #E2EBFA;\n",
              "      box-shadow: 0px 1px 2px rgba(60, 64, 67, 0.3), 0px 1px 3px 1px rgba(60, 64, 67, 0.15);\n",
              "      fill: #174EA6;\n",
              "    }\n",
              "\n",
              "    [theme=dark] .colab-df-convert {\n",
              "      background-color: #3B4455;\n",
              "      fill: #D2E3FC;\n",
              "    }\n",
              "\n",
              "    [theme=dark] .colab-df-convert:hover {\n",
              "      background-color: #434B5C;\n",
              "      box-shadow: 0px 1px 3px 1px rgba(0, 0, 0, 0.15);\n",
              "      filter: drop-shadow(0px 1px 2px rgba(0, 0, 0, 0.3));\n",
              "      fill: #FFFFFF;\n",
              "    }\n",
              "  </style>\n",
              "\n",
              "      <script>\n",
              "        const buttonEl =\n",
              "          document.querySelector('#df-584c7e3b-b035-419a-b443-fb070fae1a25 button.colab-df-convert');\n",
              "        buttonEl.style.display =\n",
              "          google.colab.kernel.accessAllowed ? 'block' : 'none';\n",
              "\n",
              "        async function convertToInteractive(key) {\n",
              "          const element = document.querySelector('#df-584c7e3b-b035-419a-b443-fb070fae1a25');\n",
              "          const dataTable =\n",
              "            await google.colab.kernel.invokeFunction('convertToInteractive',\n",
              "                                                     [key], {});\n",
              "          if (!dataTable) return;\n",
              "\n",
              "          const docLinkHtml = 'Like what you see? Visit the ' +\n",
              "            '<a target=\"_blank\" href=https://colab.research.google.com/notebooks/data_table.ipynb>data table notebook</a>'\n",
              "            + ' to learn more about interactive tables.';\n",
              "          element.innerHTML = '';\n",
              "          dataTable['output_type'] = 'display_data';\n",
              "          await google.colab.output.renderOutput(dataTable, element);\n",
              "          const docLink = document.createElement('div');\n",
              "          docLink.innerHTML = docLinkHtml;\n",
              "          element.appendChild(docLink);\n",
              "        }\n",
              "      </script>\n",
              "    </div>\n",
              "  </div>\n",
              "  "
            ],
            "text/plain": [
              "       Days for shipping (real)  Days for shipment (scheduled)  \\\n",
              "count             180519.000000                  180519.000000   \n",
              "mean                   3.497654                       2.931847   \n",
              "std                    1.623722                       1.374449   \n",
              "min                    0.000000                       0.000000   \n",
              "25%                    2.000000                       2.000000   \n",
              "50%                    3.000000                       4.000000   \n",
              "75%                    5.000000                       4.000000   \n",
              "max                    6.000000                       4.000000   \n",
              "\n",
              "       Benefit per order  Sales per customer  Late_delivery_risk  \\\n",
              "count      180519.000000       180519.000000       180519.000000   \n",
              "mean           21.974989          183.107609            0.548291   \n",
              "std           104.433526          120.043670            0.497664   \n",
              "min         -4274.979980            7.490000            0.000000   \n",
              "25%             7.000000          104.379997            0.000000   \n",
              "50%            31.520000          163.990005            1.000000   \n",
              "75%            64.800003          247.399994            1.000000   \n",
              "max           911.799988         1939.989990            1.000000   \n",
              "\n",
              "         Category Id    Customer Id  Customer Zipcode  Department Id  \\\n",
              "count  180519.000000  180519.000000     180516.000000  180519.000000   \n",
              "mean       31.851451    6691.379495      35921.126914       5.443460   \n",
              "std        15.640064    4162.918106      37542.461122       1.629246   \n",
              "min         2.000000       1.000000        603.000000       2.000000   \n",
              "25%        18.000000    3258.500000        725.000000       4.000000   \n",
              "50%        29.000000    6457.000000      19380.000000       5.000000   \n",
              "75%        45.000000    9779.000000      78207.000000       7.000000   \n",
              "max        76.000000   20757.000000      99205.000000      12.000000   \n",
              "\n",
              "            Latitude  ...  Order Item Quantity          Sales  \\\n",
              "count  180519.000000  ...        180519.000000  180519.000000   \n",
              "mean       29.719955  ...             2.127638     203.772096   \n",
              "std         9.813646  ...             1.453451     132.273077   \n",
              "min       -33.937553  ...             1.000000       9.990000   \n",
              "25%        18.265432  ...             1.000000     119.980003   \n",
              "50%        33.144863  ...             1.000000     199.919998   \n",
              "75%        39.279617  ...             3.000000     299.950012   \n",
              "max        48.781933  ...             5.000000    1999.989990   \n",
              "\n",
              "       Order Item Total  Order Profit Per Order  Order Zipcode  \\\n",
              "count     180519.000000           180519.000000   24840.000000   \n",
              "mean         183.107609               21.974989   55426.132327   \n",
              "std          120.043670              104.433526   31919.279101   \n",
              "min            7.490000            -4274.979980    1040.000000   \n",
              "25%          104.379997                7.000000   23464.000000   \n",
              "50%          163.990005               31.520000   59405.000000   \n",
              "75%          247.399994               64.800003   90008.000000   \n",
              "max         1939.989990              911.799988   99301.000000   \n",
              "\n",
              "       Product Card Id  Product Category Id  Product Description  \\\n",
              "count    180519.000000        180519.000000                  0.0   \n",
              "mean        692.509764            31.851451                  NaN   \n",
              "std         336.446807            15.640064                  NaN   \n",
              "min          19.000000             2.000000                  NaN   \n",
              "25%         403.000000            18.000000                  NaN   \n",
              "50%         627.000000            29.000000                  NaN   \n",
              "75%        1004.000000            45.000000                  NaN   \n",
              "max        1363.000000            76.000000                  NaN   \n",
              "\n",
              "       Product Price  Product Status  \n",
              "count  180519.000000        180519.0  \n",
              "mean      141.232550             0.0  \n",
              "std       139.732492             0.0  \n",
              "min         9.990000             0.0  \n",
              "25%        50.000000             0.0  \n",
              "50%        59.990002             0.0  \n",
              "75%       199.990005             0.0  \n",
              "max      1999.989990             0.0  \n",
              "\n",
              "[8 rows x 29 columns]"
            ]
          },
          "execution_count": 14,
          "metadata": {},
          "output_type": "execute_result"
        }
      ],
      "source": [
        "df.describe()"
      ]
    },
    {
      "cell_type": "code",
      "execution_count": null,
      "metadata": {
        "colab": {
          "base_uri": "https://localhost:8080/"
        },
        "id": "4J3uo-ISGDFG",
        "outputId": "ea3d8ad2-cb04-4b38-d014-524dca52d2ae"
      },
      "outputs": [
        {
          "data": {
            "text/plain": [
              "Type                                  0\n",
              "Days for shipping (real)              0\n",
              "Days for shipment (scheduled)         0\n",
              "Benefit per order                     0\n",
              "Sales per customer                    0\n",
              "Delivery Status                       0\n",
              "Late_delivery_risk                    0\n",
              "Category Id                           0\n",
              "Category Name                         0\n",
              "Customer City                         0\n",
              "Customer Country                      0\n",
              "Customer Email                        0\n",
              "Customer Fname                        0\n",
              "Customer Id                           0\n",
              "Customer Lname                        8\n",
              "Customer Password                     0\n",
              "Customer Segment                      0\n",
              "Customer State                        0\n",
              "Customer Street                       0\n",
              "Customer Zipcode                      3\n",
              "Department Id                         0\n",
              "Department Name                       0\n",
              "Latitude                              0\n",
              "Longitude                             0\n",
              "Market                                0\n",
              "Order City                            0\n",
              "Order Country                         0\n",
              "Order Customer Id                     0\n",
              "order date (DateOrders)               0\n",
              "Order Id                              0\n",
              "Order Item Cardprod Id                0\n",
              "Order Item Discount                   0\n",
              "Order Item Discount Rate              0\n",
              "Order Item Id                         0\n",
              "Order Item Product Price              0\n",
              "Order Item Profit Ratio               0\n",
              "Order Item Quantity                   0\n",
              "Sales                                 0\n",
              "Order Item Total                      0\n",
              "Order Profit Per Order                0\n",
              "Order Region                          0\n",
              "Order State                           0\n",
              "Order Status                          0\n",
              "Order Zipcode                    155679\n",
              "Product Card Id                       0\n",
              "Product Category Id                   0\n",
              "Product Description              180519\n",
              "Product Image                         0\n",
              "Product Name                          0\n",
              "Product Price                         0\n",
              "Product Status                        0\n",
              "shipping date (DateOrders)            0\n",
              "Shipping Mode                         0\n",
              "dtype: int64"
            ]
          },
          "execution_count": 15,
          "metadata": {},
          "output_type": "execute_result"
        }
      ],
      "source": [
        "df.isna().sum()"
      ]
    },
    {
      "cell_type": "code",
      "execution_count": null,
      "metadata": {
        "id": "yx37rFO-GJ__"
      },
      "outputs": [],
      "source": [
        "df.drop([\"Customer Email\",\"Customer Password\",\"Product Image\",\"Customer Fname\",\"Customer Fname\"],axis=1,inplace=True)"
      ]
    },
    {
      "cell_type": "code",
      "execution_count": null,
      "metadata": {
        "colab": {
          "base_uri": "https://localhost:8080/",
          "height": 421
        },
        "id": "iG-oVePGGMrC",
        "outputId": "606b4897-092a-41d0-b874-47834058ffdc"
      },
      "outputs": [
        {
          "data": {
            "text/html": [
              "\n",
              "  <div id=\"df-42325ab8-1383-4bb5-99de-945eafd69803\">\n",
              "    <div class=\"colab-df-container\">\n",
              "      <div>\n",
              "<style scoped>\n",
              "    .dataframe tbody tr th:only-of-type {\n",
              "        vertical-align: middle;\n",
              "    }\n",
              "\n",
              "    .dataframe tbody tr th {\n",
              "        vertical-align: top;\n",
              "    }\n",
              "\n",
              "    .dataframe thead th {\n",
              "        text-align: right;\n",
              "    }\n",
              "</style>\n",
              "<table border=\"1\" class=\"dataframe\">\n",
              "  <thead>\n",
              "    <tr style=\"text-align: right;\">\n",
              "      <th></th>\n",
              "      <th>Type</th>\n",
              "      <th>Days for shipping (real)</th>\n",
              "      <th>Days for shipment (scheduled)</th>\n",
              "      <th>Benefit per order</th>\n",
              "      <th>Sales per customer</th>\n",
              "      <th>Delivery Status</th>\n",
              "      <th>Late_delivery_risk</th>\n",
              "      <th>Category Id</th>\n",
              "      <th>Category Name</th>\n",
              "      <th>Customer City</th>\n",
              "      <th>...</th>\n",
              "      <th>Order Status</th>\n",
              "      <th>Order Zipcode</th>\n",
              "      <th>Product Card Id</th>\n",
              "      <th>Product Category Id</th>\n",
              "      <th>Product Description</th>\n",
              "      <th>Product Name</th>\n",
              "      <th>Product Price</th>\n",
              "      <th>Product Status</th>\n",
              "      <th>shipping date (DateOrders)</th>\n",
              "      <th>Shipping Mode</th>\n",
              "    </tr>\n",
              "  </thead>\n",
              "  <tbody>\n",
              "    <tr>\n",
              "      <th>0</th>\n",
              "      <td>DEBIT</td>\n",
              "      <td>3</td>\n",
              "      <td>4</td>\n",
              "      <td>91.250000</td>\n",
              "      <td>314.640015</td>\n",
              "      <td>Advance shipping</td>\n",
              "      <td>0</td>\n",
              "      <td>73</td>\n",
              "      <td>Sporting Goods</td>\n",
              "      <td>Caguas</td>\n",
              "      <td>...</td>\n",
              "      <td>COMPLETE</td>\n",
              "      <td>NaN</td>\n",
              "      <td>1360</td>\n",
              "      <td>73</td>\n",
              "      <td>NaN</td>\n",
              "      <td>Smart watch</td>\n",
              "      <td>327.75</td>\n",
              "      <td>0</td>\n",
              "      <td>2/3/2018 22:56</td>\n",
              "      <td>Standard Class</td>\n",
              "    </tr>\n",
              "    <tr>\n",
              "      <th>1</th>\n",
              "      <td>TRANSFER</td>\n",
              "      <td>5</td>\n",
              "      <td>4</td>\n",
              "      <td>-249.089996</td>\n",
              "      <td>311.359985</td>\n",
              "      <td>Late delivery</td>\n",
              "      <td>1</td>\n",
              "      <td>73</td>\n",
              "      <td>Sporting Goods</td>\n",
              "      <td>Caguas</td>\n",
              "      <td>...</td>\n",
              "      <td>PENDING</td>\n",
              "      <td>NaN</td>\n",
              "      <td>1360</td>\n",
              "      <td>73</td>\n",
              "      <td>NaN</td>\n",
              "      <td>Smart watch</td>\n",
              "      <td>327.75</td>\n",
              "      <td>0</td>\n",
              "      <td>1/18/2018 12:27</td>\n",
              "      <td>Standard Class</td>\n",
              "    </tr>\n",
              "    <tr>\n",
              "      <th>2</th>\n",
              "      <td>CASH</td>\n",
              "      <td>4</td>\n",
              "      <td>4</td>\n",
              "      <td>-247.779999</td>\n",
              "      <td>309.720001</td>\n",
              "      <td>Shipping on time</td>\n",
              "      <td>0</td>\n",
              "      <td>73</td>\n",
              "      <td>Sporting Goods</td>\n",
              "      <td>San Jose</td>\n",
              "      <td>...</td>\n",
              "      <td>CLOSED</td>\n",
              "      <td>NaN</td>\n",
              "      <td>1360</td>\n",
              "      <td>73</td>\n",
              "      <td>NaN</td>\n",
              "      <td>Smart watch</td>\n",
              "      <td>327.75</td>\n",
              "      <td>0</td>\n",
              "      <td>1/17/2018 12:06</td>\n",
              "      <td>Standard Class</td>\n",
              "    </tr>\n",
              "    <tr>\n",
              "      <th>3</th>\n",
              "      <td>DEBIT</td>\n",
              "      <td>3</td>\n",
              "      <td>4</td>\n",
              "      <td>22.860001</td>\n",
              "      <td>304.809998</td>\n",
              "      <td>Advance shipping</td>\n",
              "      <td>0</td>\n",
              "      <td>73</td>\n",
              "      <td>Sporting Goods</td>\n",
              "      <td>Los Angeles</td>\n",
              "      <td>...</td>\n",
              "      <td>COMPLETE</td>\n",
              "      <td>NaN</td>\n",
              "      <td>1360</td>\n",
              "      <td>73</td>\n",
              "      <td>NaN</td>\n",
              "      <td>Smart watch</td>\n",
              "      <td>327.75</td>\n",
              "      <td>0</td>\n",
              "      <td>1/16/2018 11:45</td>\n",
              "      <td>Standard Class</td>\n",
              "    </tr>\n",
              "    <tr>\n",
              "      <th>4</th>\n",
              "      <td>PAYMENT</td>\n",
              "      <td>2</td>\n",
              "      <td>4</td>\n",
              "      <td>134.210007</td>\n",
              "      <td>298.250000</td>\n",
              "      <td>Advance shipping</td>\n",
              "      <td>0</td>\n",
              "      <td>73</td>\n",
              "      <td>Sporting Goods</td>\n",
              "      <td>Caguas</td>\n",
              "      <td>...</td>\n",
              "      <td>PENDING_PAYMENT</td>\n",
              "      <td>NaN</td>\n",
              "      <td>1360</td>\n",
              "      <td>73</td>\n",
              "      <td>NaN</td>\n",
              "      <td>Smart watch</td>\n",
              "      <td>327.75</td>\n",
              "      <td>0</td>\n",
              "      <td>1/15/2018 11:24</td>\n",
              "      <td>Standard Class</td>\n",
              "    </tr>\n",
              "  </tbody>\n",
              "</table>\n",
              "<p>5 rows × 49 columns</p>\n",
              "</div>\n",
              "      <button class=\"colab-df-convert\" onclick=\"convertToInteractive('df-42325ab8-1383-4bb5-99de-945eafd69803')\"\n",
              "              title=\"Convert this dataframe to an interactive table.\"\n",
              "              style=\"display:none;\">\n",
              "        \n",
              "  <svg xmlns=\"http://www.w3.org/2000/svg\" height=\"24px\"viewBox=\"0 0 24 24\"\n",
              "       width=\"24px\">\n",
              "    <path d=\"M0 0h24v24H0V0z\" fill=\"none\"/>\n",
              "    <path d=\"M18.56 5.44l.94 2.06.94-2.06 2.06-.94-2.06-.94-.94-2.06-.94 2.06-2.06.94zm-11 1L8.5 8.5l.94-2.06 2.06-.94-2.06-.94L8.5 2.5l-.94 2.06-2.06.94zm10 10l.94 2.06.94-2.06 2.06-.94-2.06-.94-.94-2.06-.94 2.06-2.06.94z\"/><path d=\"M17.41 7.96l-1.37-1.37c-.4-.4-.92-.59-1.43-.59-.52 0-1.04.2-1.43.59L10.3 9.45l-7.72 7.72c-.78.78-.78 2.05 0 2.83L4 21.41c.39.39.9.59 1.41.59.51 0 1.02-.2 1.41-.59l7.78-7.78 2.81-2.81c.8-.78.8-2.07 0-2.86zM5.41 20L4 18.59l7.72-7.72 1.47 1.35L5.41 20z\"/>\n",
              "  </svg>\n",
              "      </button>\n",
              "      \n",
              "  <style>\n",
              "    .colab-df-container {\n",
              "      display:flex;\n",
              "      flex-wrap:wrap;\n",
              "      gap: 12px;\n",
              "    }\n",
              "\n",
              "    .colab-df-convert {\n",
              "      background-color: #E8F0FE;\n",
              "      border: none;\n",
              "      border-radius: 50%;\n",
              "      cursor: pointer;\n",
              "      display: none;\n",
              "      fill: #1967D2;\n",
              "      height: 32px;\n",
              "      padding: 0 0 0 0;\n",
              "      width: 32px;\n",
              "    }\n",
              "\n",
              "    .colab-df-convert:hover {\n",
              "      background-color: #E2EBFA;\n",
              "      box-shadow: 0px 1px 2px rgba(60, 64, 67, 0.3), 0px 1px 3px 1px rgba(60, 64, 67, 0.15);\n",
              "      fill: #174EA6;\n",
              "    }\n",
              "\n",
              "    [theme=dark] .colab-df-convert {\n",
              "      background-color: #3B4455;\n",
              "      fill: #D2E3FC;\n",
              "    }\n",
              "\n",
              "    [theme=dark] .colab-df-convert:hover {\n",
              "      background-color: #434B5C;\n",
              "      box-shadow: 0px 1px 3px 1px rgba(0, 0, 0, 0.15);\n",
              "      filter: drop-shadow(0px 1px 2px rgba(0, 0, 0, 0.3));\n",
              "      fill: #FFFFFF;\n",
              "    }\n",
              "  </style>\n",
              "\n",
              "      <script>\n",
              "        const buttonEl =\n",
              "          document.querySelector('#df-42325ab8-1383-4bb5-99de-945eafd69803 button.colab-df-convert');\n",
              "        buttonEl.style.display =\n",
              "          google.colab.kernel.accessAllowed ? 'block' : 'none';\n",
              "\n",
              "        async function convertToInteractive(key) {\n",
              "          const element = document.querySelector('#df-42325ab8-1383-4bb5-99de-945eafd69803');\n",
              "          const dataTable =\n",
              "            await google.colab.kernel.invokeFunction('convertToInteractive',\n",
              "                                                     [key], {});\n",
              "          if (!dataTable) return;\n",
              "\n",
              "          const docLinkHtml = 'Like what you see? Visit the ' +\n",
              "            '<a target=\"_blank\" href=https://colab.research.google.com/notebooks/data_table.ipynb>data table notebook</a>'\n",
              "            + ' to learn more about interactive tables.';\n",
              "          element.innerHTML = '';\n",
              "          dataTable['output_type'] = 'display_data';\n",
              "          await google.colab.output.renderOutput(dataTable, element);\n",
              "          const docLink = document.createElement('div');\n",
              "          docLink.innerHTML = docLinkHtml;\n",
              "          element.appendChild(docLink);\n",
              "        }\n",
              "      </script>\n",
              "    </div>\n",
              "  </div>\n",
              "  "
            ],
            "text/plain": [
              "       Type  Days for shipping (real)  Days for shipment (scheduled)  \\\n",
              "0     DEBIT                         3                              4   \n",
              "1  TRANSFER                         5                              4   \n",
              "2      CASH                         4                              4   \n",
              "3     DEBIT                         3                              4   \n",
              "4   PAYMENT                         2                              4   \n",
              "\n",
              "   Benefit per order  Sales per customer   Delivery Status  \\\n",
              "0          91.250000          314.640015  Advance shipping   \n",
              "1        -249.089996          311.359985     Late delivery   \n",
              "2        -247.779999          309.720001  Shipping on time   \n",
              "3          22.860001          304.809998  Advance shipping   \n",
              "4         134.210007          298.250000  Advance shipping   \n",
              "\n",
              "   Late_delivery_risk  Category Id   Category Name Customer City  ...  \\\n",
              "0                   0           73  Sporting Goods        Caguas  ...   \n",
              "1                   1           73  Sporting Goods        Caguas  ...   \n",
              "2                   0           73  Sporting Goods      San Jose  ...   \n",
              "3                   0           73  Sporting Goods   Los Angeles  ...   \n",
              "4                   0           73  Sporting Goods        Caguas  ...   \n",
              "\n",
              "      Order Status  Order Zipcode Product Card Id Product Category Id  \\\n",
              "0         COMPLETE            NaN            1360                  73   \n",
              "1          PENDING            NaN            1360                  73   \n",
              "2           CLOSED            NaN            1360                  73   \n",
              "3         COMPLETE            NaN            1360                  73   \n",
              "4  PENDING_PAYMENT            NaN            1360                  73   \n",
              "\n",
              "  Product Description  Product Name  Product Price  Product Status  \\\n",
              "0                 NaN  Smart watch          327.75               0   \n",
              "1                 NaN  Smart watch          327.75               0   \n",
              "2                 NaN  Smart watch          327.75               0   \n",
              "3                 NaN  Smart watch          327.75               0   \n",
              "4                 NaN  Smart watch          327.75               0   \n",
              "\n",
              "  shipping date (DateOrders)   Shipping Mode  \n",
              "0             2/3/2018 22:56  Standard Class  \n",
              "1            1/18/2018 12:27  Standard Class  \n",
              "2            1/17/2018 12:06  Standard Class  \n",
              "3            1/16/2018 11:45  Standard Class  \n",
              "4            1/15/2018 11:24  Standard Class  \n",
              "\n",
              "[5 rows x 49 columns]"
            ]
          },
          "execution_count": 17,
          "metadata": {},
          "output_type": "execute_result"
        }
      ],
      "source": [
        "df.head()"
      ]
    },
    {
      "cell_type": "code",
      "execution_count": null,
      "metadata": {
        "id": "_PGFR2TXiXbf"
      },
      "outputs": [],
      "source": [
        "df['Order Zipcode'].fillna(0, inplace=True)\n",
        "df['Product Description'].fillna(0, inplace=True)"
      ]
    },
    {
      "cell_type": "code",
      "execution_count": null,
      "metadata": {
        "id": "0SPfecDkGPiG"
      },
      "outputs": [],
      "source": [
        "df.rename(columns={\"Type\":\"Type Of Payments\"},inplace=True)"
      ]
    },
    {
      "cell_type": "code",
      "execution_count": null,
      "metadata": {
        "id": "Z_WurjwLGRc1"
      },
      "outputs": [],
      "source": [
        "df.info()"
      ]
    },
    {
      "cell_type": "markdown",
      "metadata": {
        "id": "J2zs_3jqS6VH"
      },
      "source": [
        "Sales per year,month and day date"
      ]
    },
    {
      "cell_type": "code",
      "execution_count": null,
      "metadata": {
        "id": "5b-ZkeCFS6_P"
      },
      "outputs": [],
      "source": [
        "df['year'] = df['order date (DateOrders)'].apply(lambda x: x.split('/')[-1].split(' ')[0])"
      ]
    },
    {
      "cell_type": "code",
      "execution_count": null,
      "metadata": {
        "id": "FszQk1lDS99U"
      },
      "outputs": [],
      "source": [
        "df['month'] = df['order date (DateOrders)'].apply(lambda x: x.split('/')[0].split(' ')[0])"
      ]
    },
    {
      "cell_type": "code",
      "execution_count": null,
      "metadata": {
        "id": "jL2U1DHZTC76"
      },
      "outputs": [],
      "source": [
        "df['day date'] = df['order date (DateOrders)'].apply(lambda x: x.split('/')[1].split(' ')[0])"
      ]
    },
    {
      "cell_type": "markdown",
      "metadata": {
        "id": "JVlamLIPTqJW"
      },
      "source": [
        "**Data Modeling**"
      ]
    },
    {
      "cell_type": "markdown",
      "metadata": {
        "id": "IVgmSnFjTtm9"
      },
      "source": [
        "Encoding label"
      ]
    },
    {
      "cell_type": "code",
      "execution_count": null,
      "metadata": {
        "id": "WcpaMSehTv5g"
      },
      "outputs": [],
      "source": [
        "from sklearn.preprocessing import LabelEncoder"
      ]
    },
    {
      "cell_type": "code",
      "execution_count": null,
      "metadata": {
        "id": "oi6iJ0vETyV2"
      },
      "outputs": [],
      "source": [
        "le=LabelEncoder()\n",
        "def Labelencoder_feature(x):\n",
        "    le=LabelEncoder()\n",
        "    x=le.fit_transform(x)\n",
        "    return x"
      ]
    },
    {
      "cell_type": "markdown",
      "metadata": {
        "id": "GcpUNf_fT4fV"
      },
      "source": [
        "Forcasting sales of different product"
      ]
    },
    {
      "cell_type": "code",
      "execution_count": null,
      "metadata": {
        "id": "vO5WYi1UT667"
      },
      "outputs": [],
      "source": [
        "data_sales=df[['Type Of Payments','Benefit per order', 'Sales per customer', 'Delivery Status','Late_delivery_risk', \n",
        "             'Category Name', 'Customer City','Customer Country','Customer Id','Customer Segment',\n",
        "             'Customer State', 'Customer Zipcode','Department Name', 'Latitude', 'Longitude', 'Market',\n",
        "             'Order City', 'Order Country', 'Order Customer Id','order date (DateOrders)', 'Order Id', \n",
        "             'Order Item Cardprod Id','Order Item Discount', 'Order Item Discount Rate', 'Order Item Id',\n",
        "             'Order Item Product Price', 'Order Item Profit Ratio','Order Item Quantity', 'Sales', \n",
        "             'Order Item Total','Order Profit Per Order', 'Order Region', 'Order State', 'Order Status',\n",
        "             'Order Zipcode', 'Product Card Id', 'Product Category Id','Product Description', \n",
        "             'Product Name', 'Product Price','Product Status', 'shipping date (DateOrders)', 'Shipping Mode']]"
      ]
    },
    {
      "cell_type": "code",
      "execution_count": null,
      "metadata": {
        "id": "9o-evIwHT-gz"
      },
      "outputs": [],
      "source": [
        "features=data_sales.drop(columns=['Sales', 'Order Item Quantity', 'Order Item Product Price'])\n",
        "target=data_sales['Sales'].astype(str)"
      ]
    },
    {
      "cell_type": "code",
      "execution_count": null,
      "metadata": {
        "colab": {
          "base_uri": "https://localhost:8080/",
          "height": 334
        },
        "id": "rtX-zEOwUA2z",
        "outputId": "a76399c4-8e45-4e58-aac9-eef057b6aa48"
      },
      "outputs": [
        {
          "data": {
            "text/html": [
              "\n",
              "  <div id=\"df-7cc07a99-6a92-4b16-8e0a-f61ee9c6b5d0\">\n",
              "    <div class=\"colab-df-container\">\n",
              "      <div>\n",
              "<style scoped>\n",
              "    .dataframe tbody tr th:only-of-type {\n",
              "        vertical-align: middle;\n",
              "    }\n",
              "\n",
              "    .dataframe tbody tr th {\n",
              "        vertical-align: top;\n",
              "    }\n",
              "\n",
              "    .dataframe thead th {\n",
              "        text-align: right;\n",
              "    }\n",
              "</style>\n",
              "<table border=\"1\" class=\"dataframe\">\n",
              "  <thead>\n",
              "    <tr style=\"text-align: right;\">\n",
              "      <th></th>\n",
              "      <th>Type Of Payments</th>\n",
              "      <th>Benefit per order</th>\n",
              "      <th>Sales per customer</th>\n",
              "      <th>Delivery Status</th>\n",
              "      <th>Late_delivery_risk</th>\n",
              "      <th>Category Name</th>\n",
              "      <th>Customer City</th>\n",
              "      <th>Customer Country</th>\n",
              "      <th>Customer Id</th>\n",
              "      <th>Customer Segment</th>\n",
              "      <th>...</th>\n",
              "      <th>Order Status</th>\n",
              "      <th>Order Zipcode</th>\n",
              "      <th>Product Card Id</th>\n",
              "      <th>Product Category Id</th>\n",
              "      <th>Product Description</th>\n",
              "      <th>Product Name</th>\n",
              "      <th>Product Price</th>\n",
              "      <th>Product Status</th>\n",
              "      <th>shipping date (DateOrders)</th>\n",
              "      <th>Shipping Mode</th>\n",
              "    </tr>\n",
              "  </thead>\n",
              "  <tbody>\n",
              "    <tr>\n",
              "      <th>0</th>\n",
              "      <td>1</td>\n",
              "      <td>18934</td>\n",
              "      <td>2568</td>\n",
              "      <td>0</td>\n",
              "      <td>0</td>\n",
              "      <td>40</td>\n",
              "      <td>66</td>\n",
              "      <td>1</td>\n",
              "      <td>20649</td>\n",
              "      <td>0</td>\n",
              "      <td>...</td>\n",
              "      <td>2</td>\n",
              "      <td>0</td>\n",
              "      <td>114</td>\n",
              "      <td>47</td>\n",
              "      <td>0</td>\n",
              "      <td>78</td>\n",
              "      <td>62</td>\n",
              "      <td>0</td>\n",
              "      <td>27149</td>\n",
              "      <td>3</td>\n",
              "    </tr>\n",
              "    <tr>\n",
              "      <th>1</th>\n",
              "      <td>3</td>\n",
              "      <td>2272</td>\n",
              "      <td>2559</td>\n",
              "      <td>1</td>\n",
              "      <td>1</td>\n",
              "      <td>40</td>\n",
              "      <td>66</td>\n",
              "      <td>1</td>\n",
              "      <td>19386</td>\n",
              "      <td>0</td>\n",
              "      <td>...</td>\n",
              "      <td>5</td>\n",
              "      <td>0</td>\n",
              "      <td>114</td>\n",
              "      <td>47</td>\n",
              "      <td>0</td>\n",
              "      <td>78</td>\n",
              "      <td>62</td>\n",
              "      <td>0</td>\n",
              "      <td>2209</td>\n",
              "      <td>3</td>\n",
              "    </tr>\n",
              "    <tr>\n",
              "      <th>2</th>\n",
              "      <td>0</td>\n",
              "      <td>2293</td>\n",
              "      <td>2555</td>\n",
              "      <td>3</td>\n",
              "      <td>0</td>\n",
              "      <td>40</td>\n",
              "      <td>452</td>\n",
              "      <td>0</td>\n",
              "      <td>19385</td>\n",
              "      <td>0</td>\n",
              "      <td>...</td>\n",
              "      <td>1</td>\n",
              "      <td>0</td>\n",
              "      <td>114</td>\n",
              "      <td>47</td>\n",
              "      <td>0</td>\n",
              "      <td>78</td>\n",
              "      <td>62</td>\n",
              "      <td>0</td>\n",
              "      <td>1980</td>\n",
              "      <td>3</td>\n",
              "    </tr>\n",
              "    <tr>\n",
              "      <th>3</th>\n",
              "      <td>1</td>\n",
              "      <td>13638</td>\n",
              "      <td>2546</td>\n",
              "      <td>0</td>\n",
              "      <td>0</td>\n",
              "      <td>40</td>\n",
              "      <td>285</td>\n",
              "      <td>0</td>\n",
              "      <td>19384</td>\n",
              "      <td>2</td>\n",
              "      <td>...</td>\n",
              "      <td>2</td>\n",
              "      <td>0</td>\n",
              "      <td>114</td>\n",
              "      <td>47</td>\n",
              "      <td>0</td>\n",
              "      <td>78</td>\n",
              "      <td>62</td>\n",
              "      <td>0</td>\n",
              "      <td>1752</td>\n",
              "      <td>3</td>\n",
              "    </tr>\n",
              "    <tr>\n",
              "      <th>4</th>\n",
              "      <td>2</td>\n",
              "      <td>20599</td>\n",
              "      <td>2526</td>\n",
              "      <td>0</td>\n",
              "      <td>0</td>\n",
              "      <td>40</td>\n",
              "      <td>66</td>\n",
              "      <td>1</td>\n",
              "      <td>19383</td>\n",
              "      <td>1</td>\n",
              "      <td>...</td>\n",
              "      <td>6</td>\n",
              "      <td>0</td>\n",
              "      <td>114</td>\n",
              "      <td>47</td>\n",
              "      <td>0</td>\n",
              "      <td>78</td>\n",
              "      <td>62</td>\n",
              "      <td>0</td>\n",
              "      <td>1528</td>\n",
              "      <td>3</td>\n",
              "    </tr>\n",
              "  </tbody>\n",
              "</table>\n",
              "<p>5 rows × 40 columns</p>\n",
              "</div>\n",
              "      <button class=\"colab-df-convert\" onclick=\"convertToInteractive('df-7cc07a99-6a92-4b16-8e0a-f61ee9c6b5d0')\"\n",
              "              title=\"Convert this dataframe to an interactive table.\"\n",
              "              style=\"display:none;\">\n",
              "        \n",
              "  <svg xmlns=\"http://www.w3.org/2000/svg\" height=\"24px\"viewBox=\"0 0 24 24\"\n",
              "       width=\"24px\">\n",
              "    <path d=\"M0 0h24v24H0V0z\" fill=\"none\"/>\n",
              "    <path d=\"M18.56 5.44l.94 2.06.94-2.06 2.06-.94-2.06-.94-.94-2.06-.94 2.06-2.06.94zm-11 1L8.5 8.5l.94-2.06 2.06-.94-2.06-.94L8.5 2.5l-.94 2.06-2.06.94zm10 10l.94 2.06.94-2.06 2.06-.94-2.06-.94-.94-2.06-.94 2.06-2.06.94z\"/><path d=\"M17.41 7.96l-1.37-1.37c-.4-.4-.92-.59-1.43-.59-.52 0-1.04.2-1.43.59L10.3 9.45l-7.72 7.72c-.78.78-.78 2.05 0 2.83L4 21.41c.39.39.9.59 1.41.59.51 0 1.02-.2 1.41-.59l7.78-7.78 2.81-2.81c.8-.78.8-2.07 0-2.86zM5.41 20L4 18.59l7.72-7.72 1.47 1.35L5.41 20z\"/>\n",
              "  </svg>\n",
              "      </button>\n",
              "      \n",
              "  <style>\n",
              "    .colab-df-container {\n",
              "      display:flex;\n",
              "      flex-wrap:wrap;\n",
              "      gap: 12px;\n",
              "    }\n",
              "\n",
              "    .colab-df-convert {\n",
              "      background-color: #E8F0FE;\n",
              "      border: none;\n",
              "      border-radius: 50%;\n",
              "      cursor: pointer;\n",
              "      display: none;\n",
              "      fill: #1967D2;\n",
              "      height: 32px;\n",
              "      padding: 0 0 0 0;\n",
              "      width: 32px;\n",
              "    }\n",
              "\n",
              "    .colab-df-convert:hover {\n",
              "      background-color: #E2EBFA;\n",
              "      box-shadow: 0px 1px 2px rgba(60, 64, 67, 0.3), 0px 1px 3px 1px rgba(60, 64, 67, 0.15);\n",
              "      fill: #174EA6;\n",
              "    }\n",
              "\n",
              "    [theme=dark] .colab-df-convert {\n",
              "      background-color: #3B4455;\n",
              "      fill: #D2E3FC;\n",
              "    }\n",
              "\n",
              "    [theme=dark] .colab-df-convert:hover {\n",
              "      background-color: #434B5C;\n",
              "      box-shadow: 0px 1px 3px 1px rgba(0, 0, 0, 0.15);\n",
              "      filter: drop-shadow(0px 1px 2px rgba(0, 0, 0, 0.3));\n",
              "      fill: #FFFFFF;\n",
              "    }\n",
              "  </style>\n",
              "\n",
              "      <script>\n",
              "        const buttonEl =\n",
              "          document.querySelector('#df-7cc07a99-6a92-4b16-8e0a-f61ee9c6b5d0 button.colab-df-convert');\n",
              "        buttonEl.style.display =\n",
              "          google.colab.kernel.accessAllowed ? 'block' : 'none';\n",
              "\n",
              "        async function convertToInteractive(key) {\n",
              "          const element = document.querySelector('#df-7cc07a99-6a92-4b16-8e0a-f61ee9c6b5d0');\n",
              "          const dataTable =\n",
              "            await google.colab.kernel.invokeFunction('convertToInteractive',\n",
              "                                                     [key], {});\n",
              "          if (!dataTable) return;\n",
              "\n",
              "          const docLinkHtml = 'Like what you see? Visit the ' +\n",
              "            '<a target=\"_blank\" href=https://colab.research.google.com/notebooks/data_table.ipynb>data table notebook</a>'\n",
              "            + ' to learn more about interactive tables.';\n",
              "          element.innerHTML = '';\n",
              "          dataTable['output_type'] = 'display_data';\n",
              "          await google.colab.output.renderOutput(dataTable, element);\n",
              "          const docLink = document.createElement('div');\n",
              "          docLink.innerHTML = docLinkHtml;\n",
              "          element.appendChild(docLink);\n",
              "        }\n",
              "      </script>\n",
              "    </div>\n",
              "  </div>\n",
              "  "
            ],
            "text/plain": [
              "   Type Of Payments  Benefit per order  Sales per customer  Delivery Status  \\\n",
              "0                 1              18934                2568                0   \n",
              "1                 3               2272                2559                1   \n",
              "2                 0               2293                2555                3   \n",
              "3                 1              13638                2546                0   \n",
              "4                 2              20599                2526                0   \n",
              "\n",
              "   Late_delivery_risk  Category Name  Customer City  Customer Country  \\\n",
              "0                   0             40             66                 1   \n",
              "1                   1             40             66                 1   \n",
              "2                   0             40            452                 0   \n",
              "3                   0             40            285                 0   \n",
              "4                   0             40             66                 1   \n",
              "\n",
              "   Customer Id  Customer Segment  ...  Order Status  Order Zipcode  \\\n",
              "0        20649                 0  ...             2              0   \n",
              "1        19386                 0  ...             5              0   \n",
              "2        19385                 0  ...             1              0   \n",
              "3        19384                 2  ...             2              0   \n",
              "4        19383                 1  ...             6              0   \n",
              "\n",
              "   Product Card Id  Product Category Id  Product Description  Product Name  \\\n",
              "0              114                   47                    0            78   \n",
              "1              114                   47                    0            78   \n",
              "2              114                   47                    0            78   \n",
              "3              114                   47                    0            78   \n",
              "4              114                   47                    0            78   \n",
              "\n",
              "   Product Price  Product Status  shipping date (DateOrders)  Shipping Mode  \n",
              "0             62               0                       27149              3  \n",
              "1             62               0                        2209              3  \n",
              "2             62               0                        1980              3  \n",
              "3             62               0                        1752              3  \n",
              "4             62               0                        1528              3  \n",
              "\n",
              "[5 rows x 40 columns]"
            ]
          },
          "execution_count": 28,
          "metadata": {},
          "output_type": "execute_result"
        }
      ],
      "source": [
        "features=features.apply(Labelencoder_feature)\n",
        "features.head()"
      ]
    },
    {
      "cell_type": "code",
      "execution_count": null,
      "metadata": {
        "id": "nuXXGjb4UDcA"
      },
      "outputs": [],
      "source": [
        "final_features=features[['Benefit per order', 'Sales per customer', 'Category Name',\n",
        "       'Customer Id', 'Customer Segment', 'Department Name', 'Market',\n",
        "       'Order City', 'Order Customer Id', 'order date (DateOrders)',\n",
        "       'Order Id', 'Order Item Cardprod Id', 'Order Item Discount',\n",
        "       'Order Item Id', 'Order Item Total', 'Order Profit Per Order',\n",
        "       'Order Region', 'Order State', 'Order Zipcode', 'Product Card Id',\n",
        "       'Product Category Id', 'Product Name', 'Product Price',\n",
        "       'shipping date (DateOrders)']]"
      ]
    },
    {
      "cell_type": "code",
      "execution_count": null,
      "metadata": {
        "colab": {
          "base_uri": "https://localhost:8080/",
          "height": 539
        },
        "id": "BR5iMoUWUGhE",
        "outputId": "992cef37-4d36-4be8-f3a4-dc8af107ef91"
      },
      "outputs": [
        {
          "data": {
            "text/html": [
              "\n",
              "  <div id=\"df-be905924-b792-41c0-8fdb-a54efa92df68\">\n",
              "    <div class=\"colab-df-container\">\n",
              "      <div>\n",
              "<style scoped>\n",
              "    .dataframe tbody tr th:only-of-type {\n",
              "        vertical-align: middle;\n",
              "    }\n",
              "\n",
              "    .dataframe tbody tr th {\n",
              "        vertical-align: top;\n",
              "    }\n",
              "\n",
              "    .dataframe thead th {\n",
              "        text-align: right;\n",
              "    }\n",
              "</style>\n",
              "<table border=\"1\" class=\"dataframe\">\n",
              "  <thead>\n",
              "    <tr style=\"text-align: right;\">\n",
              "      <th></th>\n",
              "      <th>Benefit per order</th>\n",
              "      <th>Sales per customer</th>\n",
              "      <th>Category Name</th>\n",
              "      <th>Customer Id</th>\n",
              "      <th>Customer Segment</th>\n",
              "      <th>Department Name</th>\n",
              "      <th>Market</th>\n",
              "      <th>Order City</th>\n",
              "      <th>Order Customer Id</th>\n",
              "      <th>order date (DateOrders)</th>\n",
              "      <th>...</th>\n",
              "      <th>Order Item Total</th>\n",
              "      <th>Order Profit Per Order</th>\n",
              "      <th>Order Region</th>\n",
              "      <th>Order State</th>\n",
              "      <th>Order Zipcode</th>\n",
              "      <th>Product Card Id</th>\n",
              "      <th>Product Category Id</th>\n",
              "      <th>Product Name</th>\n",
              "      <th>Product Price</th>\n",
              "      <th>shipping date (DateOrders)</th>\n",
              "    </tr>\n",
              "  </thead>\n",
              "  <tbody>\n",
              "    <tr>\n",
              "      <th>0</th>\n",
              "      <td>18934</td>\n",
              "      <td>2568</td>\n",
              "      <td>40</td>\n",
              "      <td>20649</td>\n",
              "      <td>0</td>\n",
              "      <td>4</td>\n",
              "      <td>3</td>\n",
              "      <td>332</td>\n",
              "      <td>20649</td>\n",
              "      <td>5961</td>\n",
              "      <td>...</td>\n",
              "      <td>2568</td>\n",
              "      <td>18934</td>\n",
              "      <td>15</td>\n",
              "      <td>475</td>\n",
              "      <td>0</td>\n",
              "      <td>114</td>\n",
              "      <td>47</td>\n",
              "      <td>78</td>\n",
              "      <td>62</td>\n",
              "      <td>27149</td>\n",
              "    </tr>\n",
              "    <tr>\n",
              "      <th>1</th>\n",
              "      <td>2272</td>\n",
              "      <td>2559</td>\n",
              "      <td>40</td>\n",
              "      <td>19386</td>\n",
              "      <td>0</td>\n",
              "      <td>4</td>\n",
              "      <td>3</td>\n",
              "      <td>392</td>\n",
              "      <td>19386</td>\n",
              "      <td>1147</td>\n",
              "      <td>...</td>\n",
              "      <td>2559</td>\n",
              "      <td>2272</td>\n",
              "      <td>13</td>\n",
              "      <td>841</td>\n",
              "      <td>0</td>\n",
              "      <td>114</td>\n",
              "      <td>47</td>\n",
              "      <td>78</td>\n",
              "      <td>62</td>\n",
              "      <td>2209</td>\n",
              "    </tr>\n",
              "    <tr>\n",
              "      <th>2</th>\n",
              "      <td>2293</td>\n",
              "      <td>2555</td>\n",
              "      <td>40</td>\n",
              "      <td>19385</td>\n",
              "      <td>0</td>\n",
              "      <td>4</td>\n",
              "      <td>3</td>\n",
              "      <td>392</td>\n",
              "      <td>19385</td>\n",
              "      <td>1146</td>\n",
              "      <td>...</td>\n",
              "      <td>2555</td>\n",
              "      <td>2293</td>\n",
              "      <td>13</td>\n",
              "      <td>841</td>\n",
              "      <td>0</td>\n",
              "      <td>114</td>\n",
              "      <td>47</td>\n",
              "      <td>78</td>\n",
              "      <td>62</td>\n",
              "      <td>1980</td>\n",
              "    </tr>\n",
              "    <tr>\n",
              "      <th>3</th>\n",
              "      <td>13638</td>\n",
              "      <td>2546</td>\n",
              "      <td>40</td>\n",
              "      <td>19384</td>\n",
              "      <td>2</td>\n",
              "      <td>4</td>\n",
              "      <td>3</td>\n",
              "      <td>3226</td>\n",
              "      <td>19384</td>\n",
              "      <td>1145</td>\n",
              "      <td>...</td>\n",
              "      <td>2546</td>\n",
              "      <td>13638</td>\n",
              "      <td>11</td>\n",
              "      <td>835</td>\n",
              "      <td>0</td>\n",
              "      <td>114</td>\n",
              "      <td>47</td>\n",
              "      <td>78</td>\n",
              "      <td>62</td>\n",
              "      <td>1752</td>\n",
              "    </tr>\n",
              "    <tr>\n",
              "      <th>4</th>\n",
              "      <td>20599</td>\n",
              "      <td>2526</td>\n",
              "      <td>40</td>\n",
              "      <td>19383</td>\n",
              "      <td>1</td>\n",
              "      <td>4</td>\n",
              "      <td>3</td>\n",
              "      <td>3226</td>\n",
              "      <td>19383</td>\n",
              "      <td>1144</td>\n",
              "      <td>...</td>\n",
              "      <td>2526</td>\n",
              "      <td>20599</td>\n",
              "      <td>11</td>\n",
              "      <td>835</td>\n",
              "      <td>0</td>\n",
              "      <td>114</td>\n",
              "      <td>47</td>\n",
              "      <td>78</td>\n",
              "      <td>62</td>\n",
              "      <td>1528</td>\n",
              "    </tr>\n",
              "    <tr>\n",
              "      <th>...</th>\n",
              "      <td>...</td>\n",
              "      <td>...</td>\n",
              "      <td>...</td>\n",
              "      <td>...</td>\n",
              "      <td>...</td>\n",
              "      <td>...</td>\n",
              "      <td>...</td>\n",
              "      <td>...</td>\n",
              "      <td>...</td>\n",
              "      <td>...</td>\n",
              "      <td>...</td>\n",
              "      <td>...</td>\n",
              "      <td>...</td>\n",
              "      <td>...</td>\n",
              "      <td>...</td>\n",
              "      <td>...</td>\n",
              "      <td>...</td>\n",
              "      <td>...</td>\n",
              "      <td>...</td>\n",
              "      <td>...</td>\n",
              "      <td>...</td>\n",
              "    </tr>\n",
              "    <tr>\n",
              "      <th>180514</th>\n",
              "      <td>15208</td>\n",
              "      <td>2752</td>\n",
              "      <td>18</td>\n",
              "      <td>992</td>\n",
              "      <td>2</td>\n",
              "      <td>3</td>\n",
              "      <td>3</td>\n",
              "      <td>2921</td>\n",
              "      <td>992</td>\n",
              "      <td>1774</td>\n",
              "      <td>...</td>\n",
              "      <td>2752</td>\n",
              "      <td>15208</td>\n",
              "      <td>7</td>\n",
              "      <td>914</td>\n",
              "      <td>0</td>\n",
              "      <td>96</td>\n",
              "      <td>30</td>\n",
              "      <td>24</td>\n",
              "      <td>66</td>\n",
              "      <td>2733</td>\n",
              "    </tr>\n",
              "    <tr>\n",
              "      <th>180515</th>\n",
              "      <td>422</td>\n",
              "      <td>2743</td>\n",
              "      <td>18</td>\n",
              "      <td>9066</td>\n",
              "      <td>1</td>\n",
              "      <td>3</td>\n",
              "      <td>3</td>\n",
              "      <td>1362</td>\n",
              "      <td>9066</td>\n",
              "      <td>1758</td>\n",
              "      <td>...</td>\n",
              "      <td>2743</td>\n",
              "      <td>422</td>\n",
              "      <td>7</td>\n",
              "      <td>770</td>\n",
              "      <td>0</td>\n",
              "      <td>96</td>\n",
              "      <td>30</td>\n",
              "      <td>24</td>\n",
              "      <td>66</td>\n",
              "      <td>2339</td>\n",
              "    </tr>\n",
              "    <tr>\n",
              "      <th>180516</th>\n",
              "      <td>20768</td>\n",
              "      <td>2734</td>\n",
              "      <td>18</td>\n",
              "      <td>288</td>\n",
              "      <td>1</td>\n",
              "      <td>3</td>\n",
              "      <td>3</td>\n",
              "      <td>25</td>\n",
              "      <td>288</td>\n",
              "      <td>1526</td>\n",
              "      <td>...</td>\n",
              "      <td>2734</td>\n",
              "      <td>20768</td>\n",
              "      <td>11</td>\n",
              "      <td>88</td>\n",
              "      <td>0</td>\n",
              "      <td>96</td>\n",
              "      <td>30</td>\n",
              "      <td>24</td>\n",
              "      <td>66</td>\n",
              "      <td>2727</td>\n",
              "    </tr>\n",
              "    <tr>\n",
              "      <th>180517</th>\n",
              "      <td>21463</td>\n",
              "      <td>2725</td>\n",
              "      <td>18</td>\n",
              "      <td>2781</td>\n",
              "      <td>0</td>\n",
              "      <td>3</td>\n",
              "      <td>3</td>\n",
              "      <td>25</td>\n",
              "      <td>2781</td>\n",
              "      <td>1524</td>\n",
              "      <td>...</td>\n",
              "      <td>2725</td>\n",
              "      <td>21463</td>\n",
              "      <td>11</td>\n",
              "      <td>88</td>\n",
              "      <td>0</td>\n",
              "      <td>96</td>\n",
              "      <td>30</td>\n",
              "      <td>24</td>\n",
              "      <td>66</td>\n",
              "      <td>2114</td>\n",
              "    </tr>\n",
              "    <tr>\n",
              "      <th>180518</th>\n",
              "      <td>21263</td>\n",
              "      <td>2716</td>\n",
              "      <td>18</td>\n",
              "      <td>7486</td>\n",
              "      <td>0</td>\n",
              "      <td>3</td>\n",
              "      <td>3</td>\n",
              "      <td>2202</td>\n",
              "      <td>7486</td>\n",
              "      <td>1517</td>\n",
              "      <td>...</td>\n",
              "      <td>2716</td>\n",
              "      <td>21263</td>\n",
              "      <td>13</td>\n",
              "      <td>967</td>\n",
              "      <td>0</td>\n",
              "      <td>96</td>\n",
              "      <td>30</td>\n",
              "      <td>24</td>\n",
              "      <td>66</td>\n",
              "      <td>2334</td>\n",
              "    </tr>\n",
              "  </tbody>\n",
              "</table>\n",
              "<p>180519 rows × 24 columns</p>\n",
              "</div>\n",
              "      <button class=\"colab-df-convert\" onclick=\"convertToInteractive('df-be905924-b792-41c0-8fdb-a54efa92df68')\"\n",
              "              title=\"Convert this dataframe to an interactive table.\"\n",
              "              style=\"display:none;\">\n",
              "        \n",
              "  <svg xmlns=\"http://www.w3.org/2000/svg\" height=\"24px\"viewBox=\"0 0 24 24\"\n",
              "       width=\"24px\">\n",
              "    <path d=\"M0 0h24v24H0V0z\" fill=\"none\"/>\n",
              "    <path d=\"M18.56 5.44l.94 2.06.94-2.06 2.06-.94-2.06-.94-.94-2.06-.94 2.06-2.06.94zm-11 1L8.5 8.5l.94-2.06 2.06-.94-2.06-.94L8.5 2.5l-.94 2.06-2.06.94zm10 10l.94 2.06.94-2.06 2.06-.94-2.06-.94-.94-2.06-.94 2.06-2.06.94z\"/><path d=\"M17.41 7.96l-1.37-1.37c-.4-.4-.92-.59-1.43-.59-.52 0-1.04.2-1.43.59L10.3 9.45l-7.72 7.72c-.78.78-.78 2.05 0 2.83L4 21.41c.39.39.9.59 1.41.59.51 0 1.02-.2 1.41-.59l7.78-7.78 2.81-2.81c.8-.78.8-2.07 0-2.86zM5.41 20L4 18.59l7.72-7.72 1.47 1.35L5.41 20z\"/>\n",
              "  </svg>\n",
              "      </button>\n",
              "      \n",
              "  <style>\n",
              "    .colab-df-container {\n",
              "      display:flex;\n",
              "      flex-wrap:wrap;\n",
              "      gap: 12px;\n",
              "    }\n",
              "\n",
              "    .colab-df-convert {\n",
              "      background-color: #E8F0FE;\n",
              "      border: none;\n",
              "      border-radius: 50%;\n",
              "      cursor: pointer;\n",
              "      display: none;\n",
              "      fill: #1967D2;\n",
              "      height: 32px;\n",
              "      padding: 0 0 0 0;\n",
              "      width: 32px;\n",
              "    }\n",
              "\n",
              "    .colab-df-convert:hover {\n",
              "      background-color: #E2EBFA;\n",
              "      box-shadow: 0px 1px 2px rgba(60, 64, 67, 0.3), 0px 1px 3px 1px rgba(60, 64, 67, 0.15);\n",
              "      fill: #174EA6;\n",
              "    }\n",
              "\n",
              "    [theme=dark] .colab-df-convert {\n",
              "      background-color: #3B4455;\n",
              "      fill: #D2E3FC;\n",
              "    }\n",
              "\n",
              "    [theme=dark] .colab-df-convert:hover {\n",
              "      background-color: #434B5C;\n",
              "      box-shadow: 0px 1px 3px 1px rgba(0, 0, 0, 0.15);\n",
              "      filter: drop-shadow(0px 1px 2px rgba(0, 0, 0, 0.3));\n",
              "      fill: #FFFFFF;\n",
              "    }\n",
              "  </style>\n",
              "\n",
              "      <script>\n",
              "        const buttonEl =\n",
              "          document.querySelector('#df-be905924-b792-41c0-8fdb-a54efa92df68 button.colab-df-convert');\n",
              "        buttonEl.style.display =\n",
              "          google.colab.kernel.accessAllowed ? 'block' : 'none';\n",
              "\n",
              "        async function convertToInteractive(key) {\n",
              "          const element = document.querySelector('#df-be905924-b792-41c0-8fdb-a54efa92df68');\n",
              "          const dataTable =\n",
              "            await google.colab.kernel.invokeFunction('convertToInteractive',\n",
              "                                                     [key], {});\n",
              "          if (!dataTable) return;\n",
              "\n",
              "          const docLinkHtml = 'Like what you see? Visit the ' +\n",
              "            '<a target=\"_blank\" href=https://colab.research.google.com/notebooks/data_table.ipynb>data table notebook</a>'\n",
              "            + ' to learn more about interactive tables.';\n",
              "          element.innerHTML = '';\n",
              "          dataTable['output_type'] = 'display_data';\n",
              "          await google.colab.output.renderOutput(dataTable, element);\n",
              "          const docLink = document.createElement('div');\n",
              "          docLink.innerHTML = docLinkHtml;\n",
              "          element.appendChild(docLink);\n",
              "        }\n",
              "      </script>\n",
              "    </div>\n",
              "  </div>\n",
              "  "
            ],
            "text/plain": [
              "        Benefit per order  Sales per customer  Category Name  Customer Id  \\\n",
              "0                   18934                2568             40        20649   \n",
              "1                    2272                2559             40        19386   \n",
              "2                    2293                2555             40        19385   \n",
              "3                   13638                2546             40        19384   \n",
              "4                   20599                2526             40        19383   \n",
              "...                   ...                 ...            ...          ...   \n",
              "180514              15208                2752             18          992   \n",
              "180515                422                2743             18         9066   \n",
              "180516              20768                2734             18          288   \n",
              "180517              21463                2725             18         2781   \n",
              "180518              21263                2716             18         7486   \n",
              "\n",
              "        Customer Segment  Department Name  Market  Order City  \\\n",
              "0                      0                4       3         332   \n",
              "1                      0                4       3         392   \n",
              "2                      0                4       3         392   \n",
              "3                      2                4       3        3226   \n",
              "4                      1                4       3        3226   \n",
              "...                  ...              ...     ...         ...   \n",
              "180514                 2                3       3        2921   \n",
              "180515                 1                3       3        1362   \n",
              "180516                 1                3       3          25   \n",
              "180517                 0                3       3          25   \n",
              "180518                 0                3       3        2202   \n",
              "\n",
              "        Order Customer Id  order date (DateOrders)  ...  Order Item Total  \\\n",
              "0                   20649                     5961  ...              2568   \n",
              "1                   19386                     1147  ...              2559   \n",
              "2                   19385                     1146  ...              2555   \n",
              "3                   19384                     1145  ...              2546   \n",
              "4                   19383                     1144  ...              2526   \n",
              "...                   ...                      ...  ...               ...   \n",
              "180514                992                     1774  ...              2752   \n",
              "180515               9066                     1758  ...              2743   \n",
              "180516                288                     1526  ...              2734   \n",
              "180517               2781                     1524  ...              2725   \n",
              "180518               7486                     1517  ...              2716   \n",
              "\n",
              "        Order Profit Per Order  Order Region  Order State  Order Zipcode  \\\n",
              "0                        18934            15          475              0   \n",
              "1                         2272            13          841              0   \n",
              "2                         2293            13          841              0   \n",
              "3                        13638            11          835              0   \n",
              "4                        20599            11          835              0   \n",
              "...                        ...           ...          ...            ...   \n",
              "180514                   15208             7          914              0   \n",
              "180515                     422             7          770              0   \n",
              "180516                   20768            11           88              0   \n",
              "180517                   21463            11           88              0   \n",
              "180518                   21263            13          967              0   \n",
              "\n",
              "        Product Card Id  Product Category Id  Product Name  Product Price  \\\n",
              "0                   114                   47            78             62   \n",
              "1                   114                   47            78             62   \n",
              "2                   114                   47            78             62   \n",
              "3                   114                   47            78             62   \n",
              "4                   114                   47            78             62   \n",
              "...                 ...                  ...           ...            ...   \n",
              "180514               96                   30            24             66   \n",
              "180515               96                   30            24             66   \n",
              "180516               96                   30            24             66   \n",
              "180517               96                   30            24             66   \n",
              "180518               96                   30            24             66   \n",
              "\n",
              "        shipping date (DateOrders)  \n",
              "0                            27149  \n",
              "1                             2209  \n",
              "2                             1980  \n",
              "3                             1752  \n",
              "4                             1528  \n",
              "...                            ...  \n",
              "180514                        2733  \n",
              "180515                        2339  \n",
              "180516                        2727  \n",
              "180517                        2114  \n",
              "180518                        2334  \n",
              "\n",
              "[180519 rows x 24 columns]"
            ]
          },
          "execution_count": 31,
          "metadata": {},
          "output_type": "execute_result"
        }
      ],
      "source": [
        "final_features"
      ]
    },
    {
      "cell_type": "code",
      "execution_count": null,
      "metadata": {
        "colab": {
          "base_uri": "https://localhost:8080/"
        },
        "id": "m6nyyNp7UTnF",
        "outputId": "cc246baf-9a47-4762-d04f-ce7204a3d0c4"
      },
      "outputs": [
        {
          "data": {
            "text/plain": [
              "Index(['Benefit per order', 'Sales per customer', 'Category Name',\n",
              "       'Customer Id', 'Customer Segment', 'Department Name', 'Market',\n",
              "       'Order City', 'Order Customer Id', 'order date (DateOrders)',\n",
              "       'Order Id', 'Order Item Cardprod Id', 'Order Item Discount',\n",
              "       'Order Item Id', 'Order Item Total', 'Order Profit Per Order',\n",
              "       'Order Region', 'Order State', 'Order Zipcode', 'Product Card Id',\n",
              "       'Product Category Id', 'Product Name', 'Product Price',\n",
              "       'shipping date (DateOrders)', 'Sales'],\n",
              "      dtype='object')"
            ]
          },
          "execution_count": 32,
          "metadata": {},
          "output_type": "execute_result"
        }
      ],
      "source": [
        "final_data=pd.concat([final_features,target],axis=1)\n",
        "final_data.columns"
      ]
    },
    {
      "cell_type": "code",
      "execution_count": null,
      "metadata": {
        "id": "B7qLxWh6UWgK"
      },
      "outputs": [],
      "source": [
        "fig=plt.figure(figsize=(20,10))\n",
        "sns.heatmap(final_data.corr(),annot=True,fmt=\".3f\",cmap=\"BuPu\")"
      ]
    },
    {
      "cell_type": "code",
      "execution_count": null,
      "metadata": {
        "id": "9rOTxP8YUcCt"
      },
      "outputs": [],
      "source": [
        "from sklearn.linear_model import LinearRegression\n",
        "from sklearn.model_selection import train_test_split\n",
        "from sklearn.metrics import classification_report\n",
        "from sklearn import *\n",
        "from sklearn.metrics import r2_score\n",
        "from sklearn.metrics import mean_squared_error\n",
        "from sklearn.metrics import confusion_matrix\n",
        "from sklearn.metrics import ConfusionMatrixDisplay\n",
        "from sklearn.linear_model import Lasso\n",
        "from sklearn.preprocessing import StandardScaler\n",
        "from sklearn.pipeline import Pipeline\n",
        "from sklearn.metrics import mean_absolute_error\n",
        "from sklearn.linear_model import Ridge\n",
        "from sklearn.preprocessing import *\n",
        "from sklearn.tree import DecisionTreeClassifier\n",
        "from sklearn.metrics import classification_report, confusion_matrix\n",
        "from sklearn.ensemble import RandomForestClassifier\n",
        "from sklearn.ensemble import GradientBoostingClassifier\n",
        "from sklearn import svm\n",
        "from sklearn.naive_bayes import GaussianNB  \n",
        "from sklearn.neighbors import KNeighborsClassifier\n",
        "import pickle"
      ]
    },
    {
      "cell_type": "markdown",
      "metadata": {
        "id": "D02jjrX9UfWo"
      },
      "source": [
        "***Linear Regression model***"
      ]
    },
    {
      "cell_type": "code",
      "execution_count": null,
      "metadata": {
        "colab": {
          "base_uri": "https://localhost:8080/"
        },
        "id": "3lnCLkIxUhrJ",
        "outputId": "3b2ceeb3-1c68-41dd-8ec4-2257f82c80ad"
      },
      "outputs": [
        {
          "data": {
            "text/plain": [
              "112599    249.8999939\n",
              "151009     399.980011\n",
              "48827     293.0400085\n",
              "138032     399.980011\n",
              "64344      299.980011\n",
              "             ...     \n",
              "54866     199.9900055\n",
              "149453          100.0\n",
              "179641     399.980011\n",
              "101983    199.9900055\n",
              "179789     399.980011\n",
              "Name: Sales, Length: 126363, dtype: object"
            ]
          },
          "execution_count": 62,
          "metadata": {},
          "output_type": "execute_result"
        }
      ],
      "source": [
        "X_train,X_test,y_train,y_test=train_test_split(final_features,target,test_size=0.3)\n",
        "\n",
        "X_train\n",
        "y_train"
      ]
    },
    {
      "cell_type": "code",
      "execution_count": null,
      "metadata": {
        "id": "525RvXiYVJPi"
      },
      "outputs": [],
      "source": [
        "X_train,X_test,y_train,y_test=train_test_split(final_features,target,test_size=0.3)"
      ]
    },
    {
      "cell_type": "code",
      "execution_count": null,
      "metadata": {
        "id": "-d1V6_gIVLo5"
      },
      "outputs": [],
      "source": [
        "from sklearn.linear_model import LinearRegression\n",
        "\n",
        "# Create a linear regression model object\n",
        "linReg = LinearRegression()\n",
        "\n",
        "# Fit the model to the training data\n",
        "linReg.fit(X_train, y_train)\n",
        "\n",
        "# Use the model to make predictions on the test set\n",
        "y_pred = linReg.predict(X_test)"
      ]
    },
    {
      "cell_type": "code",
      "execution_count": null,
      "metadata": {
        "colab": {
          "base_uri": "https://localhost:8080/"
        },
        "id": "i4JFnM9zVT3P",
        "outputId": "bbedeb48-d2f9-487d-e9c8-6132d52f7901"
      },
      "outputs": [
        {
          "name": "stdout",
          "output_type": "stream",
          "text": [
            "r2 score is: 0.7939474443973374\n",
            "mean_sqrd_error is 3598.2069046947913\n",
            "root_mean_squared error of is 59.985055678016934\n"
          ]
        }
      ],
      "source": [
        "ln_score=r2_score(y_test,y_pred)\n",
        "print(\"r2 score is:\" ,ln_score)\n",
        "print(\"mean_sqrd_error is\",mean_squared_error(y_test,y_pred))\n",
        "print(\"root_mean_squared error of is\",np.sqrt(mean_squared_error(y_test,y_pred)))"
      ]
    },
    {
      "cell_type": "code",
      "execution_count": null,
      "metadata": {
        "colab": {
          "base_uri": "https://localhost:8080/",
          "height": 363
        },
        "id": "RIdQ9wqSVWWp",
        "outputId": "528e4c2d-beeb-4de8-bed4-c9c905869e09"
      },
      "outputs": [
        {
          "data": {
            "text/html": [
              "\n",
              "  <div id=\"df-cf8ede3b-8996-4876-9e58-73eeaec7e45e\">\n",
              "    <div class=\"colab-df-container\">\n",
              "      <div>\n",
              "<style scoped>\n",
              "    .dataframe tbody tr th:only-of-type {\n",
              "        vertical-align: middle;\n",
              "    }\n",
              "\n",
              "    .dataframe tbody tr th {\n",
              "        vertical-align: top;\n",
              "    }\n",
              "\n",
              "    .dataframe thead th {\n",
              "        text-align: right;\n",
              "    }\n",
              "</style>\n",
              "<table border=\"1\" class=\"dataframe\">\n",
              "  <thead>\n",
              "    <tr style=\"text-align: right;\">\n",
              "      <th></th>\n",
              "      <th>actual</th>\n",
              "      <th>predicted</th>\n",
              "    </tr>\n",
              "  </thead>\n",
              "  <tbody>\n",
              "    <tr>\n",
              "      <th>145041</th>\n",
              "      <td>99.95999908</td>\n",
              "      <td>89.734147</td>\n",
              "    </tr>\n",
              "    <tr>\n",
              "      <th>60478</th>\n",
              "      <td>299.980011</td>\n",
              "      <td>336.155498</td>\n",
              "    </tr>\n",
              "    <tr>\n",
              "      <th>112112</th>\n",
              "      <td>149.9400024</td>\n",
              "      <td>158.657487</td>\n",
              "    </tr>\n",
              "    <tr>\n",
              "      <th>168779</th>\n",
              "      <td>150.0</td>\n",
              "      <td>162.865713</td>\n",
              "    </tr>\n",
              "    <tr>\n",
              "      <th>76436</th>\n",
              "      <td>199.9900055</td>\n",
              "      <td>211.241307</td>\n",
              "    </tr>\n",
              "    <tr>\n",
              "      <th>140968</th>\n",
              "      <td>200.0</td>\n",
              "      <td>220.721527</td>\n",
              "    </tr>\n",
              "    <tr>\n",
              "      <th>141064</th>\n",
              "      <td>299.9500122</td>\n",
              "      <td>268.787894</td>\n",
              "    </tr>\n",
              "    <tr>\n",
              "      <th>81658</th>\n",
              "      <td>299.9500122</td>\n",
              "      <td>266.137783</td>\n",
              "    </tr>\n",
              "    <tr>\n",
              "      <th>12305</th>\n",
              "      <td>250.0</td>\n",
              "      <td>251.140996</td>\n",
              "    </tr>\n",
              "    <tr>\n",
              "      <th>15827</th>\n",
              "      <td>250.0</td>\n",
              "      <td>246.518627</td>\n",
              "    </tr>\n",
              "  </tbody>\n",
              "</table>\n",
              "</div>\n",
              "      <button class=\"colab-df-convert\" onclick=\"convertToInteractive('df-cf8ede3b-8996-4876-9e58-73eeaec7e45e')\"\n",
              "              title=\"Convert this dataframe to an interactive table.\"\n",
              "              style=\"display:none;\">\n",
              "        \n",
              "  <svg xmlns=\"http://www.w3.org/2000/svg\" height=\"24px\"viewBox=\"0 0 24 24\"\n",
              "       width=\"24px\">\n",
              "    <path d=\"M0 0h24v24H0V0z\" fill=\"none\"/>\n",
              "    <path d=\"M18.56 5.44l.94 2.06.94-2.06 2.06-.94-2.06-.94-.94-2.06-.94 2.06-2.06.94zm-11 1L8.5 8.5l.94-2.06 2.06-.94-2.06-.94L8.5 2.5l-.94 2.06-2.06.94zm10 10l.94 2.06.94-2.06 2.06-.94-2.06-.94-.94-2.06-.94 2.06-2.06.94z\"/><path d=\"M17.41 7.96l-1.37-1.37c-.4-.4-.92-.59-1.43-.59-.52 0-1.04.2-1.43.59L10.3 9.45l-7.72 7.72c-.78.78-.78 2.05 0 2.83L4 21.41c.39.39.9.59 1.41.59.51 0 1.02-.2 1.41-.59l7.78-7.78 2.81-2.81c.8-.78.8-2.07 0-2.86zM5.41 20L4 18.59l7.72-7.72 1.47 1.35L5.41 20z\"/>\n",
              "  </svg>\n",
              "      </button>\n",
              "      \n",
              "  <style>\n",
              "    .colab-df-container {\n",
              "      display:flex;\n",
              "      flex-wrap:wrap;\n",
              "      gap: 12px;\n",
              "    }\n",
              "\n",
              "    .colab-df-convert {\n",
              "      background-color: #E8F0FE;\n",
              "      border: none;\n",
              "      border-radius: 50%;\n",
              "      cursor: pointer;\n",
              "      display: none;\n",
              "      fill: #1967D2;\n",
              "      height: 32px;\n",
              "      padding: 0 0 0 0;\n",
              "      width: 32px;\n",
              "    }\n",
              "\n",
              "    .colab-df-convert:hover {\n",
              "      background-color: #E2EBFA;\n",
              "      box-shadow: 0px 1px 2px rgba(60, 64, 67, 0.3), 0px 1px 3px 1px rgba(60, 64, 67, 0.15);\n",
              "      fill: #174EA6;\n",
              "    }\n",
              "\n",
              "    [theme=dark] .colab-df-convert {\n",
              "      background-color: #3B4455;\n",
              "      fill: #D2E3FC;\n",
              "    }\n",
              "\n",
              "    [theme=dark] .colab-df-convert:hover {\n",
              "      background-color: #434B5C;\n",
              "      box-shadow: 0px 1px 3px 1px rgba(0, 0, 0, 0.15);\n",
              "      filter: drop-shadow(0px 1px 2px rgba(0, 0, 0, 0.3));\n",
              "      fill: #FFFFFF;\n",
              "    }\n",
              "  </style>\n",
              "\n",
              "      <script>\n",
              "        const buttonEl =\n",
              "          document.querySelector('#df-cf8ede3b-8996-4876-9e58-73eeaec7e45e button.colab-df-convert');\n",
              "        buttonEl.style.display =\n",
              "          google.colab.kernel.accessAllowed ? 'block' : 'none';\n",
              "\n",
              "        async function convertToInteractive(key) {\n",
              "          const element = document.querySelector('#df-cf8ede3b-8996-4876-9e58-73eeaec7e45e');\n",
              "          const dataTable =\n",
              "            await google.colab.kernel.invokeFunction('convertToInteractive',\n",
              "                                                     [key], {});\n",
              "          if (!dataTable) return;\n",
              "\n",
              "          const docLinkHtml = 'Like what you see? Visit the ' +\n",
              "            '<a target=\"_blank\" href=https://colab.research.google.com/notebooks/data_table.ipynb>data table notebook</a>'\n",
              "            + ' to learn more about interactive tables.';\n",
              "          element.innerHTML = '';\n",
              "          dataTable['output_type'] = 'display_data';\n",
              "          await google.colab.output.renderOutput(dataTable, element);\n",
              "          const docLink = document.createElement('div');\n",
              "          docLink.innerHTML = docLinkHtml;\n",
              "          element.appendChild(docLink);\n",
              "        }\n",
              "      </script>\n",
              "    </div>\n",
              "  </div>\n",
              "  "
            ],
            "text/plain": [
              "             actual   predicted\n",
              "145041  99.95999908   89.734147\n",
              "60478    299.980011  336.155498\n",
              "112112  149.9400024  158.657487\n",
              "168779        150.0  162.865713\n",
              "76436   199.9900055  211.241307\n",
              "140968        200.0  220.721527\n",
              "141064  299.9500122  268.787894\n",
              "81658   299.9500122  266.137783\n",
              "12305         250.0  251.140996\n",
              "15827         250.0  246.518627"
            ]
          },
          "execution_count": 66,
          "metadata": {},
          "output_type": "execute_result"
        }
      ],
      "source": [
        "lin_train_predict = pd.DataFrame({'actual' : y_train,\n",
        "                                 'predicted' : linReg.predict(X_train)})\n",
        "lin_train_predict.head(10)"
      ]
    },
    {
      "cell_type": "markdown",
      "metadata": {
        "id": "-KXNUu6GVZur"
      },
      "source": [
        "***Lasso***"
      ]
    },
    {
      "cell_type": "code",
      "execution_count": null,
      "metadata": {
        "id": "dArduJMkVbb5"
      },
      "outputs": [],
      "source": [
        "X_train,X_test,y_train,y_test=train_test_split(final_features,target,test_size=0.3)"
      ]
    },
    {
      "cell_type": "code",
      "execution_count": null,
      "metadata": {
        "id": "NtJDZDkyVgbE"
      },
      "outputs": [],
      "source": [
        "lasReg=Lasso()\n",
        "lasmodel=lasReg.fit(X_train,y_train)"
      ]
    },
    {
      "cell_type": "code",
      "execution_count": null,
      "metadata": {
        "colab": {
          "base_uri": "https://localhost:8080/"
        },
        "id": "E-fkkDwjVn8m",
        "outputId": "891583cf-d271-489d-a48f-a6753bb39a2d"
      },
      "outputs": [
        {
          "data": {
            "text/plain": [
              "array([350.99119828, 134.15613882,  95.54533275, ..., 255.51343739,\n",
              "       341.98154575, 127.80485056])"
            ]
          },
          "execution_count": 69,
          "metadata": {},
          "output_type": "execute_result"
        }
      ],
      "source": [
        "y_prediction =lasReg.predict(X_test)\n",
        "y_prediction"
      ]
    },
    {
      "cell_type": "code",
      "execution_count": null,
      "metadata": {
        "colab": {
          "base_uri": "https://localhost:8080/"
        },
        "id": "Y4anq0qHVrkI",
        "outputId": "6b5e98c1-9366-42c1-b02f-e8ec33595cb8"
      },
      "outputs": [
        {
          "name": "stdout",
          "output_type": "stream",
          "text": [
            "r2 socre is: 0.8001623651778998\n",
            "mean_sqrd_error is 3450.8604254460956\n",
            "root_mean_squared error of is 58.744024593537134\n"
          ]
        }
      ],
      "source": [
        "ls_score=r2_score(y_test,y_prediction)\n",
        "print(\"r2 socre is:\" ,ls_score)\n",
        "print(\"mean_sqrd_error is\",mean_squared_error(y_test,y_prediction))\n",
        "print(\"root_mean_squared error of is\",np.sqrt(mean_squared_error(y_test,y_prediction)))"
      ]
    },
    {
      "cell_type": "markdown",
      "metadata": {
        "id": "CsZ4wN7hVwdy"
      },
      "source": [
        "Ridge regression"
      ]
    },
    {
      "cell_type": "code",
      "execution_count": null,
      "metadata": {
        "id": "N8KmSCZ-VyKO"
      },
      "outputs": [],
      "source": [
        "X_train,X_test,y_train,y_test=train_test_split(final_features,target,test_size=0.3)"
      ]
    },
    {
      "cell_type": "code",
      "execution_count": null,
      "metadata": {
        "id": "_lLCj89rV2U5"
      },
      "outputs": [],
      "source": [
        "ridReg=Ridge()\n",
        "ridmodel=ridReg.fit(X_train,y_train)"
      ]
    },
    {
      "cell_type": "code",
      "execution_count": null,
      "metadata": {
        "colab": {
          "base_uri": "https://localhost:8080/"
        },
        "id": "04Z7J5LsV4wf",
        "outputId": "4f9550be-7b86-4ebb-cc5e-6293f24ad3e8"
      },
      "outputs": [
        {
          "data": {
            "text/plain": [
              "array([202.94966522, 333.44996851, 370.59554158, ...,  28.29585323,\n",
              "       241.26585184, 109.85625955])"
            ]
          },
          "execution_count": 73,
          "metadata": {},
          "output_type": "execute_result"
        }
      ],
      "source": [
        "y_prediction =ridReg.predict(X_test)\n",
        "y_prediction"
      ]
    },
    {
      "cell_type": "code",
      "execution_count": null,
      "metadata": {
        "colab": {
          "base_uri": "https://localhost:8080/"
        },
        "id": "D2M03C23WGnv",
        "outputId": "24a725d8-387c-439a-ee78-fb5942b23e89"
      },
      "outputs": [
        {
          "name": "stdout",
          "output_type": "stream",
          "text": [
            "r2 socre is: 0.7855568830715851\n",
            "mean_sqrd_error is 3880.4896790450553\n",
            "root_mean_squared error of is 62.2935765472256\n"
          ]
        }
      ],
      "source": [
        "rd_score=r2_score(y_test,y_prediction)\n",
        "print(\"r2 socre is:\" ,rd_score)\n",
        "print(\"mean_sqrd_error is\",mean_squared_error(y_test,y_prediction))\n",
        "print(\"root_mean_squared error of is\",np.sqrt(mean_squared_error(y_test,y_prediction)))"
      ]
    },
    {
      "cell_type": "markdown",
      "metadata": {
        "id": "_pfOmvyOWJDY"
      },
      "source": [
        "***KNN***"
      ]
    },
    {
      "cell_type": "code",
      "execution_count": null,
      "metadata": {
        "id": "IaQwA8duWMbn"
      },
      "outputs": [],
      "source": [
        "X_train,X_test,y_train,y_test=train_test_split(final_features,target,test_size=0.3)"
      ]
    },
    {
      "cell_type": "code",
      "execution_count": null,
      "metadata": {
        "colab": {
          "base_uri": "https://localhost:8080/",
          "height": 74
        },
        "id": "nIwkn6AbWQHN",
        "outputId": "2223eee8-3a5d-43e6-e72c-7e052a32868f"
      },
      "outputs": [
        {
          "data": {
            "text/html": [
              "<style>#sk-container-id-1 {color: black;background-color: white;}#sk-container-id-1 pre{padding: 0;}#sk-container-id-1 div.sk-toggleable {background-color: white;}#sk-container-id-1 label.sk-toggleable__label {cursor: pointer;display: block;width: 100%;margin-bottom: 0;padding: 0.3em;box-sizing: border-box;text-align: center;}#sk-container-id-1 label.sk-toggleable__label-arrow:before {content: \"▸\";float: left;margin-right: 0.25em;color: #696969;}#sk-container-id-1 label.sk-toggleable__label-arrow:hover:before {color: black;}#sk-container-id-1 div.sk-estimator:hover label.sk-toggleable__label-arrow:before {color: black;}#sk-container-id-1 div.sk-toggleable__content {max-height: 0;max-width: 0;overflow: hidden;text-align: left;background-color: #f0f8ff;}#sk-container-id-1 div.sk-toggleable__content pre {margin: 0.2em;color: black;border-radius: 0.25em;background-color: #f0f8ff;}#sk-container-id-1 input.sk-toggleable__control:checked~div.sk-toggleable__content {max-height: 200px;max-width: 100%;overflow: auto;}#sk-container-id-1 input.sk-toggleable__control:checked~label.sk-toggleable__label-arrow:before {content: \"▾\";}#sk-container-id-1 div.sk-estimator input.sk-toggleable__control:checked~label.sk-toggleable__label {background-color: #d4ebff;}#sk-container-id-1 div.sk-label input.sk-toggleable__control:checked~label.sk-toggleable__label {background-color: #d4ebff;}#sk-container-id-1 input.sk-hidden--visually {border: 0;clip: rect(1px 1px 1px 1px);clip: rect(1px, 1px, 1px, 1px);height: 1px;margin: -1px;overflow: hidden;padding: 0;position: absolute;width: 1px;}#sk-container-id-1 div.sk-estimator {font-family: monospace;background-color: #f0f8ff;border: 1px dotted black;border-radius: 0.25em;box-sizing: border-box;margin-bottom: 0.5em;}#sk-container-id-1 div.sk-estimator:hover {background-color: #d4ebff;}#sk-container-id-1 div.sk-parallel-item::after {content: \"\";width: 100%;border-bottom: 1px solid gray;flex-grow: 1;}#sk-container-id-1 div.sk-label:hover label.sk-toggleable__label {background-color: #d4ebff;}#sk-container-id-1 div.sk-serial::before {content: \"\";position: absolute;border-left: 1px solid gray;box-sizing: border-box;top: 0;bottom: 0;left: 50%;z-index: 0;}#sk-container-id-1 div.sk-serial {display: flex;flex-direction: column;align-items: center;background-color: white;padding-right: 0.2em;padding-left: 0.2em;position: relative;}#sk-container-id-1 div.sk-item {position: relative;z-index: 1;}#sk-container-id-1 div.sk-parallel {display: flex;align-items: stretch;justify-content: center;background-color: white;position: relative;}#sk-container-id-1 div.sk-item::before, #sk-container-id-1 div.sk-parallel-item::before {content: \"\";position: absolute;border-left: 1px solid gray;box-sizing: border-box;top: 0;bottom: 0;left: 50%;z-index: -1;}#sk-container-id-1 div.sk-parallel-item {display: flex;flex-direction: column;z-index: 1;position: relative;background-color: white;}#sk-container-id-1 div.sk-parallel-item:first-child::after {align-self: flex-end;width: 50%;}#sk-container-id-1 div.sk-parallel-item:last-child::after {align-self: flex-start;width: 50%;}#sk-container-id-1 div.sk-parallel-item:only-child::after {width: 0;}#sk-container-id-1 div.sk-dashed-wrapped {border: 1px dashed gray;margin: 0 0.4em 0.5em 0.4em;box-sizing: border-box;padding-bottom: 0.4em;background-color: white;}#sk-container-id-1 div.sk-label label {font-family: monospace;font-weight: bold;display: inline-block;line-height: 1.2em;}#sk-container-id-1 div.sk-label-container {text-align: center;}#sk-container-id-1 div.sk-container {/* jupyter's `normalize.less` sets `[hidden] { display: none; }` but bootstrap.min.css set `[hidden] { display: none !important; }` so we also need the `!important` here to be able to override the default hidden behavior on the sphinx rendered scikit-learn.org. See: https://github.com/scikit-learn/scikit-learn/issues/21755 */display: inline-block !important;position: relative;}#sk-container-id-1 div.sk-text-repr-fallback {display: none;}</style><div id=\"sk-container-id-1\" class=\"sk-top-container\"><div class=\"sk-text-repr-fallback\"><pre>KNeighborsClassifier(n_neighbors=7)</pre><b>In a Jupyter environment, please rerun this cell to show the HTML representation or trust the notebook. <br />On GitHub, the HTML representation is unable to render, please try loading this page with nbviewer.org.</b></div><div class=\"sk-container\" hidden><div class=\"sk-item\"><div class=\"sk-estimator sk-toggleable\"><input class=\"sk-toggleable__control sk-hidden--visually\" id=\"sk-estimator-id-1\" type=\"checkbox\" checked><label for=\"sk-estimator-id-1\" class=\"sk-toggleable__label sk-toggleable__label-arrow\">KNeighborsClassifier</label><div class=\"sk-toggleable__content\"><pre>KNeighborsClassifier(n_neighbors=7)</pre></div></div></div></div></div>"
            ],
            "text/plain": [
              "KNeighborsClassifier(n_neighbors=7)"
            ]
          },
          "execution_count": 76,
          "metadata": {},
          "output_type": "execute_result"
        }
      ],
      "source": [
        "knncls=KNeighborsClassifier(n_neighbors=7)\n",
        "knncls.fit(X_train,y_train)"
      ]
    },
    {
      "cell_type": "code",
      "execution_count": null,
      "metadata": {
        "id": "TrYgfetUWSkw"
      },
      "outputs": [],
      "source": [
        "y_prediction =knncls.predict(X_test)"
      ]
    },
    {
      "cell_type": "code",
      "execution_count": null,
      "metadata": {
        "colab": {
          "base_uri": "https://localhost:8080/"
        },
        "id": "y-uWAc0dXBd5",
        "outputId": "d022690b-2107-41ec-b589-08edfc6551bd"
      },
      "outputs": [
        {
          "name": "stdout",
          "output_type": "stream",
          "text": [
            "r2 score is: 0.5528145041521373\n",
            "mean_sqrd_error is 7688.224190693933\n",
            "root_mean_squared error of is 87.6825192994244\n",
            "Accuracy: 0.21061378240638157\n"
          ]
        }
      ],
      "source": [
        "from sklearn.metrics import accuracy_score\n",
        "knn_score=r2_score(y_test,y_prediction)\n",
        "print(\"r2 score is:\" ,knn_score)\n",
        "print(\"mean_sqrd_error is\",mean_squared_error(y_test,y_prediction))\n",
        "print(\"root_mean_squared error of is\",np.sqrt(mean_squared_error(y_test,y_prediction)))\n",
        "accuracy = accuracy_score(y_test, y_prediction)\n",
        "print(\"Accuracy:\", accuracy)"
      ]
    },
    {
      "cell_type": "markdown",
      "metadata": {
        "id": "3SPoVpR5XLY_"
      },
      "source": [
        "***Naive bayes***"
      ]
    },
    {
      "cell_type": "code",
      "execution_count": null,
      "metadata": {
        "id": "39CB2vD5XUxC"
      },
      "outputs": [],
      "source": [
        "X_train,X_test,y_train,y_test=train_test_split(final_features,target,test_size=0.3)"
      ]
    },
    {
      "cell_type": "code",
      "execution_count": null,
      "metadata": {
        "id": "l02rKgmGYUZa"
      },
      "outputs": [],
      "source": [
        "sc=StandardScaler()"
      ]
    },
    {
      "cell_type": "code",
      "execution_count": null,
      "metadata": {
        "id": "Eu9K1peHYYBa"
      },
      "outputs": [],
      "source": [
        "x_scaler=sc.fit_transform(final_features)"
      ]
    },
    {
      "cell_type": "code",
      "execution_count": null,
      "metadata": {
        "id": "MlsYauefYiHk"
      },
      "outputs": [],
      "source": [
        "pipe=Pipeline(steps=[(\"sc\",sc),(\"Guaasinnb\", GaussianNB())])"
      ]
    },
    {
      "cell_type": "code",
      "execution_count": null,
      "metadata": {
        "colab": {
          "base_uri": "https://localhost:8080/",
          "height": 125
        },
        "id": "6Tggi5bYYiLF",
        "outputId": "250f4f7e-d1a2-48e8-dec0-f0c5c46f6ae1"
      },
      "outputs": [
        {
          "data": {
            "text/html": [
              "<style>#sk-container-id-2 {color: black;background-color: white;}#sk-container-id-2 pre{padding: 0;}#sk-container-id-2 div.sk-toggleable {background-color: white;}#sk-container-id-2 label.sk-toggleable__label {cursor: pointer;display: block;width: 100%;margin-bottom: 0;padding: 0.3em;box-sizing: border-box;text-align: center;}#sk-container-id-2 label.sk-toggleable__label-arrow:before {content: \"▸\";float: left;margin-right: 0.25em;color: #696969;}#sk-container-id-2 label.sk-toggleable__label-arrow:hover:before {color: black;}#sk-container-id-2 div.sk-estimator:hover label.sk-toggleable__label-arrow:before {color: black;}#sk-container-id-2 div.sk-toggleable__content {max-height: 0;max-width: 0;overflow: hidden;text-align: left;background-color: #f0f8ff;}#sk-container-id-2 div.sk-toggleable__content pre {margin: 0.2em;color: black;border-radius: 0.25em;background-color: #f0f8ff;}#sk-container-id-2 input.sk-toggleable__control:checked~div.sk-toggleable__content {max-height: 200px;max-width: 100%;overflow: auto;}#sk-container-id-2 input.sk-toggleable__control:checked~label.sk-toggleable__label-arrow:before {content: \"▾\";}#sk-container-id-2 div.sk-estimator input.sk-toggleable__control:checked~label.sk-toggleable__label {background-color: #d4ebff;}#sk-container-id-2 div.sk-label input.sk-toggleable__control:checked~label.sk-toggleable__label {background-color: #d4ebff;}#sk-container-id-2 input.sk-hidden--visually {border: 0;clip: rect(1px 1px 1px 1px);clip: rect(1px, 1px, 1px, 1px);height: 1px;margin: -1px;overflow: hidden;padding: 0;position: absolute;width: 1px;}#sk-container-id-2 div.sk-estimator {font-family: monospace;background-color: #f0f8ff;border: 1px dotted black;border-radius: 0.25em;box-sizing: border-box;margin-bottom: 0.5em;}#sk-container-id-2 div.sk-estimator:hover {background-color: #d4ebff;}#sk-container-id-2 div.sk-parallel-item::after {content: \"\";width: 100%;border-bottom: 1px solid gray;flex-grow: 1;}#sk-container-id-2 div.sk-label:hover label.sk-toggleable__label {background-color: #d4ebff;}#sk-container-id-2 div.sk-serial::before {content: \"\";position: absolute;border-left: 1px solid gray;box-sizing: border-box;top: 0;bottom: 0;left: 50%;z-index: 0;}#sk-container-id-2 div.sk-serial {display: flex;flex-direction: column;align-items: center;background-color: white;padding-right: 0.2em;padding-left: 0.2em;position: relative;}#sk-container-id-2 div.sk-item {position: relative;z-index: 1;}#sk-container-id-2 div.sk-parallel {display: flex;align-items: stretch;justify-content: center;background-color: white;position: relative;}#sk-container-id-2 div.sk-item::before, #sk-container-id-2 div.sk-parallel-item::before {content: \"\";position: absolute;border-left: 1px solid gray;box-sizing: border-box;top: 0;bottom: 0;left: 50%;z-index: -1;}#sk-container-id-2 div.sk-parallel-item {display: flex;flex-direction: column;z-index: 1;position: relative;background-color: white;}#sk-container-id-2 div.sk-parallel-item:first-child::after {align-self: flex-end;width: 50%;}#sk-container-id-2 div.sk-parallel-item:last-child::after {align-self: flex-start;width: 50%;}#sk-container-id-2 div.sk-parallel-item:only-child::after {width: 0;}#sk-container-id-2 div.sk-dashed-wrapped {border: 1px dashed gray;margin: 0 0.4em 0.5em 0.4em;box-sizing: border-box;padding-bottom: 0.4em;background-color: white;}#sk-container-id-2 div.sk-label label {font-family: monospace;font-weight: bold;display: inline-block;line-height: 1.2em;}#sk-container-id-2 div.sk-label-container {text-align: center;}#sk-container-id-2 div.sk-container {/* jupyter's `normalize.less` sets `[hidden] { display: none; }` but bootstrap.min.css set `[hidden] { display: none !important; }` so we also need the `!important` here to be able to override the default hidden behavior on the sphinx rendered scikit-learn.org. See: https://github.com/scikit-learn/scikit-learn/issues/21755 */display: inline-block !important;position: relative;}#sk-container-id-2 div.sk-text-repr-fallback {display: none;}</style><div id=\"sk-container-id-2\" class=\"sk-top-container\"><div class=\"sk-text-repr-fallback\"><pre>Pipeline(steps=[(&#x27;sc&#x27;, StandardScaler()), (&#x27;Guaasinnb&#x27;, GaussianNB())])</pre><b>In a Jupyter environment, please rerun this cell to show the HTML representation or trust the notebook. <br />On GitHub, the HTML representation is unable to render, please try loading this page with nbviewer.org.</b></div><div class=\"sk-container\" hidden><div class=\"sk-item sk-dashed-wrapped\"><div class=\"sk-label-container\"><div class=\"sk-label sk-toggleable\"><input class=\"sk-toggleable__control sk-hidden--visually\" id=\"sk-estimator-id-2\" type=\"checkbox\" ><label for=\"sk-estimator-id-2\" class=\"sk-toggleable__label sk-toggleable__label-arrow\">Pipeline</label><div class=\"sk-toggleable__content\"><pre>Pipeline(steps=[(&#x27;sc&#x27;, StandardScaler()), (&#x27;Guaasinnb&#x27;, GaussianNB())])</pre></div></div></div><div class=\"sk-serial\"><div class=\"sk-item\"><div class=\"sk-estimator sk-toggleable\"><input class=\"sk-toggleable__control sk-hidden--visually\" id=\"sk-estimator-id-3\" type=\"checkbox\" ><label for=\"sk-estimator-id-3\" class=\"sk-toggleable__label sk-toggleable__label-arrow\">StandardScaler</label><div class=\"sk-toggleable__content\"><pre>StandardScaler()</pre></div></div></div><div class=\"sk-item\"><div class=\"sk-estimator sk-toggleable\"><input class=\"sk-toggleable__control sk-hidden--visually\" id=\"sk-estimator-id-4\" type=\"checkbox\" ><label for=\"sk-estimator-id-4\" class=\"sk-toggleable__label sk-toggleable__label-arrow\">GaussianNB</label><div class=\"sk-toggleable__content\"><pre>GaussianNB()</pre></div></div></div></div></div></div></div>"
            ],
            "text/plain": [
              "Pipeline(steps=[('sc', StandardScaler()), ('Guaasinnb', GaussianNB())])"
            ]
          },
          "execution_count": 85,
          "metadata": {},
          "output_type": "execute_result"
        }
      ],
      "source": [
        "pipe.fit(X_train, y_train)"
      ]
    },
    {
      "cell_type": "code",
      "execution_count": null,
      "metadata": {
        "colab": {
          "base_uri": "https://localhost:8080/"
        },
        "id": "YwWa3Xt0Yn52",
        "outputId": "603a903d-f222-4151-a28d-49111473e4d7"
      },
      "outputs": [
        {
          "data": {
            "text/plain": [
              "0.9131767486520422"
            ]
          },
          "execution_count": 86,
          "metadata": {},
          "output_type": "execute_result"
        }
      ],
      "source": [
        "gu_Score=pipe.score(X_test, y_test)\n",
        "gu_Score"
      ]
    },
    {
      "cell_type": "markdown",
      "metadata": {
        "id": "aQ-l9MUfYvka"
      },
      "source": [
        "***SVM***"
      ]
    },
    {
      "cell_type": "code",
      "execution_count": null,
      "metadata": {
        "id": "Igdm9RZ-Y0nD"
      },
      "outputs": [],
      "source": [
        "# X_train,X_test,y_train,y_test=train_test_split(final_features,target,test_size=0.3)"
      ]
    },
    {
      "cell_type": "code",
      "execution_count": null,
      "metadata": {
        "id": "Pn2LpOt8Y3xy"
      },
      "outputs": [],
      "source": [
        "# from sklearn.svm import SVC\n",
        "# from sklearn.metrics import accuracy_score\n",
        "# model = SVC(kernel='linear', C=1, gamma='auto')\n",
        "\n",
        "# # Train the SVM model on the training set\n",
        "# model.fit(X_train, y_train)\n",
        "\n",
        "# # Predict the classes of the test set\n",
        "# y_pred = model.predict(X_test)\n",
        "\n",
        "# # Calculate the accuracy of the model\n",
        "# accuracy = accuracy_score(y_test, y_pred)\n",
        "\n",
        "# # Print the accuracy score\n",
        "# print(\"Accuracy:\", accuracy)"
      ]
    },
    {
      "cell_type": "code",
      "execution_count": null,
      "metadata": {
        "id": "bMEvEqzGZnsq"
      },
      "outputs": [],
      "source": [
        "# svc_score=r2_score(y_test,y_pred)\n",
        "# print(\"r2 score is:\" ,svc_score)\n",
        "# print(\"mean_sqrd_error is\",mean_squared_error(y_test,y_pred))\n",
        "# print(\"root_mean_squared error of is\",np.sqrt(mean_squared_error(y_test,y_pred)))"
      ]
    },
    {
      "cell_type": "markdown",
      "metadata": {
        "id": "3WFR-FF3SNIh"
      },
      "source": [
        "**GRADIENT BOOST**"
      ]
    },
    {
      "cell_type": "code",
      "execution_count": null,
      "metadata": {
        "id": "VrJkHJIgZyJX"
      },
      "outputs": [],
      "source": [
        "X_train,X_test,y_train,y_test=train_test_split(final_features,target,test_size=0.3)"
      ]
    },
    {
      "cell_type": "code",
      "execution_count": null,
      "metadata": {
        "colab": {
          "base_uri": "https://localhost:8080/"
        },
        "id": "93Jdu1B5Z3tm",
        "outputId": "00b53317-7c06-40bc-a941-aea10180445d"
      },
      "outputs": [
        {
          "name": "stdout",
          "output_type": "stream",
          "text": [
            "Mean Squared Error: 4.7938180483089\n"
          ]
        }
      ],
      "source": [
        "from sklearn.ensemble import GradientBoostingRegressor\n",
        "# Fit Gradient Boosting Regression model\n",
        "gbr = GradientBoostingRegressor(n_estimators=100, max_depth=4, learning_rate=0.1)\n",
        "gbr.fit(X_train, y_train)\n",
        "\n",
        "# Predict the target variable on the test set\n",
        "y_pred = gbr.predict(X_test)\n",
        "\n",
        "# Calculate the mean squared error of the predictions\n",
        "mse = mean_squared_error(y_test, y_pred)\n",
        "print('Mean Squared Error:', mse)"
      ]
    },
    {
      "cell_type": "code",
      "execution_count": null,
      "metadata": {
        "colab": {
          "base_uri": "https://localhost:8080/"
        },
        "id": "TERFv3W8Z-Dd",
        "outputId": "2d35513c-b059-4441-8534-93926622a07e"
      },
      "outputs": [
        {
          "name": "stdout",
          "output_type": "stream",
          "text": [
            "r2 score is: 0.9997239015945465\n",
            "mean_sqrd_error is 4.7938180483089\n",
            "root_mean_squared error of is 2.1894789444771785\n"
          ]
        }
      ],
      "source": [
        "gb_score=r2_score(y_test,y_pred)\n",
        "print(\"r2 score is:\" ,gb_score)\n",
        "print(\"mean_sqrd_error is\",mean_squared_error(y_test,y_pred))\n",
        "print(\"root_mean_squared error of is\",np.sqrt(mean_squared_error(y_test,y_pred)))"
      ]
    },
    {
      "cell_type": "markdown",
      "metadata": {
        "id": "KxGLPPSnaBKC"
      },
      "source": [
        "***Decison tree***"
      ]
    },
    {
      "cell_type": "code",
      "execution_count": null,
      "metadata": {
        "id": "8nczSC1CaFi-"
      },
      "outputs": [],
      "source": [
        "X_train,X_test,y_train,y_test=train_test_split(final_features,target,test_size=0.3)"
      ]
    },
    {
      "cell_type": "code",
      "execution_count": null,
      "metadata": {
        "colab": {
          "base_uri": "https://localhost:8080/"
        },
        "id": "-NSRf3Z6aKXI",
        "outputId": "2b23c7d9-3601-4edf-939f-ce2f042c00a5"
      },
      "outputs": [
        {
          "name": "stdout",
          "output_type": "stream",
          "text": [
            "Mean Squared Error:  5.654377712806246\n"
          ]
        }
      ],
      "source": [
        "from sklearn.tree import DecisionTreeRegressor\n",
        "# Create a decision tree regressor object\n",
        "dt = DecisionTreeRegressor()\n",
        "\n",
        "# Train the model on the training data\n",
        "dt.fit(X_train, y_train)\n",
        "\n",
        "# Make predictions on the test data\n",
        "y_pred = dt.predict(X_test)\n",
        "\n",
        "# Calculate the mean squared error of the model\n",
        "mse = mean_squared_error(y_test, y_pred)\n",
        "\n",
        "print(\"Mean Squared Error: \", mse)"
      ]
    },
    {
      "cell_type": "code",
      "execution_count": null,
      "metadata": {
        "colab": {
          "base_uri": "https://localhost:8080/"
        },
        "id": "cNbWcOzjaPOf",
        "outputId": "2c01077e-b5d3-457c-e86f-db32134df930"
      },
      "outputs": [
        {
          "name": "stdout",
          "output_type": "stream",
          "text": [
            "r2 score is: 0.9996785051516897\n",
            "root_mean_squared error of is 2.3778935453056445\n"
          ]
        }
      ],
      "source": [
        "dt_score=r2_score(y_test,y_pred)\n",
        "print(\"r2 score is:\" ,dt_score)\n",
        "print(\"root_mean_squared error of is\",np.sqrt(mean_squared_error(y_test,y_pred)))"
      ]
    },
    {
      "cell_type": "markdown",
      "metadata": {
        "id": "Y04MkeMvaRla"
      },
      "source": [
        "***Random Forest***"
      ]
    },
    {
      "cell_type": "code",
      "execution_count": null,
      "metadata": {
        "id": "849qkkdcaWhs"
      },
      "outputs": [],
      "source": [
        "X_train,X_test,y_train,y_test=train_test_split(final_features,target,test_size=0.3)"
      ]
    },
    {
      "cell_type": "code",
      "execution_count": null,
      "metadata": {
        "colab": {
          "base_uri": "https://localhost:8080/"
        },
        "id": "KOLRES-iaYx3",
        "outputId": "27843bc5-4e10-4703-9630-aa0c4d4c5278"
      },
      "outputs": [
        {
          "name": "stdout",
          "output_type": "stream",
          "text": [
            "Mean Squared Error: 7.608117649073646\n"
          ]
        }
      ],
      "source": [
        "from sklearn.ensemble import RandomForestRegressor\n",
        "# create random forest regressor model\n",
        "rf = RandomForestRegressor(n_estimators=100, max_depth=10, random_state=42)\n",
        "\n",
        "# fit model to training data\n",
        "rf.fit(X_train, y_train)\n",
        "\n",
        "# make predictions on test data\n",
        "y_pred = rf.predict(X_test)\n",
        "\n",
        "# calculate mean squared error\n",
        "mse = mean_squared_error(y_test, y_pred)\n",
        "print(\"Mean Squared Error:\", mse)"
      ]
    },
    {
      "cell_type": "code",
      "execution_count": null,
      "metadata": {
        "colab": {
          "base_uri": "https://localhost:8080/"
        },
        "id": "P1F6JH3kaeJW",
        "outputId": "4efa0ac4-4168-4ef7-8370-81f85cb38fa0"
      },
      "outputs": [
        {
          "name": "stdout",
          "output_type": "stream",
          "text": [
            "r2 score is: 0.999571780750158\n",
            "root_mean_squared error of is 2.75828164788762\n"
          ]
        }
      ],
      "source": [
        "rf_score=r2_score(y_test,y_pred)\n",
        "print(\"r2 score is:\" ,rf_score)\n",
        "print(\"root_mean_squared error of is\",np.sqrt(mean_squared_error(y_test,y_pred)))"
      ]
    },
    {
      "cell_type": "markdown",
      "metadata": {
        "id": "A2FG6KNldmnU"
      },
      "source": [
        "***LSTM***"
      ]
    },
    {
      "cell_type": "code",
      "execution_count": null,
      "metadata": {
        "colab": {
          "base_uri": "https://localhost:8080/"
        },
        "id": "JZ4dYzSoTzph",
        "outputId": "d39a1f60-00dc-4345-a391-e3f43e4fbc9c"
      },
      "outputs": [
        {
          "name": "stdout",
          "output_type": "stream",
          "text": [
            "Epoch 1/10\n",
            "4513/4513 [==============================] - 40s 7ms/step - loss: 4.0809e-04\n",
            "Epoch 2/10\n",
            "4513/4513 [==============================] - 34s 8ms/step - loss: 1.3716e-04\n",
            "Epoch 3/10\n",
            "4513/4513 [==============================] - 35s 8ms/step - loss: 9.0101e-05\n",
            "Epoch 4/10\n",
            "4513/4513 [==============================] - 33s 7ms/step - loss: 7.2311e-05\n",
            "Epoch 5/10\n",
            "4513/4513 [==============================] - 24s 5ms/step - loss: 4.4791e-05\n",
            "Epoch 6/10\n",
            "4513/4513 [==============================] - 29s 6ms/step - loss: 3.8768e-05\n",
            "Epoch 7/10\n",
            "4513/4513 [==============================] - 30s 7ms/step - loss: 3.7278e-05\n",
            "Epoch 8/10\n",
            "4513/4513 [==============================] - 27s 6ms/step - loss: 3.5002e-05\n",
            "Epoch 9/10\n",
            "4513/4513 [==============================] - 35s 8ms/step - loss: 3.3660e-05\n",
            "Epoch 10/10\n",
            "4513/4513 [==============================] - 37s 8ms/step - loss: 2.8549e-05\n",
            "1129/1129 [==============================] - 4s 3ms/step\n",
            "Mean Squared Error:  0.0004694455186692389\n",
            "R2 Score:  0.892794155762691\n"
          ]
        }
      ],
      "source": [
        "import pandas as pd\n",
        "import numpy as np\n",
        "from sklearn.preprocessing import MinMaxScaler\n",
        "from sklearn.model_selection import train_test_split\n",
        "from sklearn.metrics import mean_squared_error, r2_score\n",
        "from keras.models import Sequential\n",
        "from keras.layers import LSTM, Dense\n",
        "\n",
        "\n",
        "# Preprocess data\n",
        "scaler = MinMaxScaler(feature_range=(0, 1))\n",
        "scaled_data = scaler.fit_transform(final_data)\n",
        "\n",
        "# Split the data into features and target\n",
        "X = scaled_data[:, :-1]\n",
        "y = scaled_data[:, -1]\n",
        "\n",
        "# Split the data into train and test sets\n",
        "X_train, X_test, y_train, y_test = train_test_split(X, y, test_size=0.2, random_state=42)\n",
        "\n",
        "# Reshape input to be [samples, time steps, features]\n",
        "X_train = np.reshape(X_train, (X_train.shape[0], 1, X_train.shape[1]))\n",
        "X_test = np.reshape(X_test, (X_test.shape[0], 1, X_test.shape[1]))\n",
        "\n",
        "# Define the LSTM model\n",
        "model = Sequential()\n",
        "model.add(LSTM(50, return_sequences=True, input_shape=(1, X_train.shape[2])))\n",
        "model.add(LSTM(50, return_sequences=True))\n",
        "model.add(LSTM(50))\n",
        "model.add(Dense(1))\n",
        "model.compile(loss='mean_squared_error', optimizer='adam')\n",
        "\n",
        "# Train the model\n",
        "model.fit(X_train, y_train, epochs=10, batch_size=32, verbose=1)\n",
        "\n",
        "# Make predictions\n",
        "y_pred = model.predict(X_test)\n",
        "\n",
        "# Calculate evaluation metrics\n",
        "mse = mean_squared_error(y_test, y_pred)\n",
        "r2 = r2_score(y_test, y_pred)\n",
        "\n",
        "print(\"Mean Squared Error: \", mse)\n",
        "print(\"R2 Score: \", r2)\n",
        "\n"
      ]
    },
    {
      "cell_type": "markdown",
      "metadata": {
        "id": "vywFoMNidq4z"
      },
      "source": [
        "***GRU***"
      ]
    },
    {
      "cell_type": "code",
      "execution_count": null,
      "metadata": {
        "colab": {
          "base_uri": "https://localhost:8080/"
        },
        "id": "uLBcspSdftH9",
        "outputId": "73efb263-decc-4924-e88a-b3c6d1ddab6a"
      },
      "outputs": [
        {
          "name": "stdout",
          "output_type": "stream",
          "text": [
            "Epoch 1/20\n",
            "4513/4513 [==============================] - 31s 6ms/step - loss: 7.4409e-04\n",
            "Epoch 2/20\n",
            "4513/4513 [==============================] - 27s 6ms/step - loss: 2.7675e-04\n",
            "Epoch 3/20\n",
            "4513/4513 [==============================] - 24s 5ms/step - loss: 2.1338e-04\n",
            "Epoch 4/20\n",
            "4513/4513 [==============================] - 28s 6ms/step - loss: 1.7141e-04\n",
            "Epoch 5/20\n",
            "4513/4513 [==============================] - 35s 8ms/step - loss: 1.4560e-04\n",
            "Epoch 6/20\n",
            "4513/4513 [==============================] - 34s 7ms/step - loss: 1.2836e-04\n",
            "Epoch 7/20\n",
            "4513/4513 [==============================] - 40s 9ms/step - loss: 1.2280e-04\n",
            "Epoch 8/20\n",
            "4513/4513 [==============================] - 39s 9ms/step - loss: 1.0257e-04\n",
            "Epoch 9/20\n",
            "4513/4513 [==============================] - 39s 9ms/step - loss: 9.1604e-05\n",
            "Epoch 10/20\n",
            "4513/4513 [==============================] - 30s 7ms/step - loss: 9.4959e-05\n",
            "Epoch 11/20\n",
            "4513/4513 [==============================] - 24s 5ms/step - loss: 8.4392e-05\n",
            "Epoch 12/20\n",
            "4513/4513 [==============================] - 26s 6ms/step - loss: 8.1916e-05\n",
            "Epoch 13/20\n",
            "4513/4513 [==============================] - 24s 5ms/step - loss: 8.2914e-05\n",
            "Epoch 14/20\n",
            "4513/4513 [==============================] - 24s 5ms/step - loss: 8.2023e-05\n",
            "Epoch 15/20\n",
            "4513/4513 [==============================] - 23s 5ms/step - loss: 7.1521e-05\n",
            "Epoch 16/20\n",
            "4513/4513 [==============================] - 23s 5ms/step - loss: 7.5646e-05\n",
            "Epoch 17/20\n",
            "4513/4513 [==============================] - 24s 5ms/step - loss: 6.8485e-05\n",
            "Epoch 18/20\n",
            "4513/4513 [==============================] - 23s 5ms/step - loss: 6.8481e-05\n",
            "Epoch 19/20\n",
            "4513/4513 [==============================] - 24s 5ms/step - loss: 7.2355e-05\n",
            "Epoch 20/20\n",
            "4513/4513 [==============================] - 24s 5ms/step - loss: 7.3590e-05\n",
            "1129/1129 [==============================] - 3s 2ms/step\n",
            "Mean Squared Error:  2.5357014073506044e-05\n",
            "R2 Score:  0.9942092958757097\n"
          ]
        }
      ],
      "source": [
        "import pandas as pd\n",
        "import numpy as np\n",
        "from sklearn.preprocessing import MinMaxScaler\n",
        "from sklearn.model_selection import train_test_split\n",
        "from sklearn.metrics import mean_squared_error, r2_score\n",
        "from keras.models import Sequential\n",
        "from keras.layers import GRU, Dense, Dropout\n",
        "\n",
        "\n",
        "\n",
        "# Preprocess the data\n",
        "scaler = MinMaxScaler(feature_range=(0, 1))\n",
        "scaled_data = scaler.fit_transform(final_data)\n",
        "\n",
        "# Split the data into features and target\n",
        "X = scaled_data[:, :-1]\n",
        "y = scaled_data[:, -1]\n",
        "\n",
        "# Split the data into train and test sets\n",
        "X_train, X_test, y_train, y_test = train_test_split(X, y, test_size=0.2, random_state=42)\n",
        "\n",
        "# Reshape input to be [samples, time steps, features]\n",
        "X_train = np.reshape(X_train, (X_train.shape[0], 1, X_train.shape[1]))\n",
        "X_test = np.reshape(X_test, (X_test.shape[0], 1, X_test.shape[1]))\n",
        "\n",
        "# Define the GRU model\n",
        "model = Sequential()\n",
        "model.add(GRU(128, input_shape=(1, X_train.shape[2]), return_sequences=True))\n",
        "model.add(Dropout(0.2))\n",
        "model.add(GRU(64))\n",
        "model.add(Dropout(0.2))\n",
        "model.add(Dense(32))\n",
        "model.add(Dense(1))\n",
        "model.compile(loss='mean_squared_error', optimizer='adam')\n",
        "\n",
        "# Train the model\n",
        "model.fit(X_train, y_train, epochs=20, batch_size=32, verbose=1)\n",
        "\n",
        "# Make predictions\n",
        "y_pred = model.predict(X_test)\n",
        "# Calculate evaluation metrics\n",
        "mse = mean_squared_error(y_test, y_pred)\n",
        "r2 = r2_score(y_test, y_pred)\n",
        "\n",
        "print(\"Mean Squared Error: \", mse)\n",
        "print(\"R2 Score: \", r2)\n"
      ]
    },
    {
      "cell_type": "markdown",
      "metadata": {
        "id": "4nGuslPXDMJo"
      },
      "source": [
        "***Multilayer Perceptron model***"
      ]
    },
    {
      "cell_type": "code",
      "execution_count": null,
      "metadata": {
        "colab": {
          "base_uri": "https://localhost:8080/"
        },
        "id": "JiPkGzS3DNv4",
        "outputId": "d5af11ff-6c5e-40e2-9492-2ef871befe65"
      },
      "outputs": [
        {
          "name": "stdout",
          "output_type": "stream",
          "text": [
            "r2 score is: 0.7375595821101532\n",
            "mean squared error is: 4582.9667034577515\n",
            "root mean squared error is: 67.69761224340007\n"
          ]
        }
      ],
      "source": [
        "from sklearn.neural_network import MLPRegressor\n",
        "\n",
        "# Multilayer Perceptron model\n",
        "X_train,X_test,y_train,y_test=train_test_split(final_features,target,test_size=0.2)\n",
        "\n",
        "mlpReg = MLPRegressor(hidden_layer_sizes=(100,50,), activation='relu', solver='adam', max_iter=2000)\n",
        "mlpmodel = mlpReg.fit(X_train, y_train)\n",
        "\n",
        "y_prediction = mlpReg.predict(X_test)\n",
        "\n",
        "mlp_score = r2_score(y_test, y_prediction)\n",
        "print(\"r2 score is:\", mlp_score)\n",
        "print(\"mean squared error is:\", mean_squared_error(y_test, y_prediction))\n",
        "print(\"root mean squared error is:\", np.sqrt(mean_squared_error(y_test, y_prediction)))\n"
      ]
    },
    {
      "cell_type": "markdown",
      "metadata": {
        "id": "MMxutYiKDqjn"
      },
      "source": [
        "***Ordinary Least Squares (OLS)***"
      ]
    },
    {
      "cell_type": "code",
      "execution_count": null,
      "metadata": {
        "colab": {
          "base_uri": "https://localhost:8080/"
        },
        "id": "6LmvlR9GdkAC",
        "outputId": "de4f3c51-535c-46a1-d03a-2a4a1a5ab793"
      },
      "outputs": [
        {
          "name": "stdout",
          "output_type": "stream",
          "text": [
            "r2 score is: 0.8101617562700599\n",
            "mean squared error is: 3235.8282734944537\n",
            "root mean squared error is: 56.884341197683334\n"
          ]
        }
      ],
      "source": [
        "import statsmodels.api as sm\n",
        "from sklearn.model_selection import train_test_split\n",
        "from sklearn.metrics import r2_score, mean_squared_error\n",
        "import numpy as np\n",
        "\n",
        "# Convert Sales column to float type\n",
        "final_data['Sales'] = final_data['Sales'].astype(float)\n",
        "y = final_data['Sales']\n",
        "\n",
        "# Split the data into training and testing sets\n",
        "X_train,X_test,y_train,y_test=train_test_split(final_features,y,test_size=0.2)\n",
        "\n",
        "# Add constant to the features matrix\n",
        "X_train = sm.add_constant(X_train)\n",
        "X_test = sm.add_constant(X_test)\n",
        "\n",
        "# Create the OLS model\n",
        "model = sm.OLS(y_train, X_train)\n",
        "\n",
        "# Fit the OLS model\n",
        "results = model.fit()\n",
        "\n",
        "# Make predictions on the testing set\n",
        "y_prediction = results.predict(X_test)\n",
        "\n",
        "# Calculate evaluation metrics\n",
        "r2_score = r2_score(y_test, y_prediction)\n",
        "mean_squared_error = mean_squared_error(y_test, y_prediction)\n",
        "root_mean_squared_error = np.sqrt(mean_squared_error)\n",
        "\n",
        "# Print the summary statistics and evaluation metrics of the model\n",
        "# print(results.summary())\n",
        "print(\"r2 score is:\", r2_score)\n",
        "print(\"mean squared error is:\", mean_squared_error)\n",
        "print(\"root mean squared error is:\", root_mean_squared_error)\n"
      ]
    },
    {
      "cell_type": "markdown",
      "metadata": {
        "id": "tq5zyhpVDyJg"
      },
      "source": [
        "***T-test***"
      ]
    },
    {
      "cell_type": "code",
      "execution_count": null,
      "metadata": {
        "colab": {
          "base_uri": "https://localhost:8080/"
        },
        "id": "DiDBCcPXiXU4",
        "outputId": "386dd295-5f0e-4747-fc19-f7769f55f6a4"
      },
      "outputs": [
        {
          "name": "stdout",
          "output_type": "stream",
          "text": [
            "T-test: Ttest_indResult(statistic=476.1624141755001, pvalue=0.0)\n",
            "r2 score: 1.0\n",
            "mean squared error: 1.4954492852230934e-24\n",
            "root mean squared error: 1.2228856386527293e-12\n",
            "Actual vs predicted values:\n"
          ]
        }
      ],
      "source": [
        "import statsmodels.api as sm\n",
        "import scipy.stats as stats\n",
        "from sklearn.metrics import r2_score, mean_squared_error\n",
        "from sklearn.model_selection import train_test_split\n",
        "import pandas as pd\n",
        "import numpy as np\n",
        "\n",
        "# Split the data into training and testing sets\n",
        "X_train, X_test, y_train, y_test = train_test_split(final_data[['Sales', 'Product Price']], final_data['Sales'], test_size=0.2, random_state=42)\n",
        "\n",
        "# Perform T-test\n",
        "t_test = stats.ttest_ind(X_train['Sales'], X_train['Product Price'])\n",
        "\n",
        "# Fit linear regression model to training data\n",
        "model = sm.OLS(y_train, X_train).fit()\n",
        "\n",
        "# Make predictions on test data\n",
        "y_pred = model.predict(X_test)\n",
        "\n",
        "# Calculate r2 score\n",
        "r2 = r2_score(y_test, y_pred)\n",
        "\n",
        "# Calculate mean squared error\n",
        "mse = mean_squared_error(y_test, y_pred)\n",
        "\n",
        "# Calculate root mean squared error\n",
        "rmse = np.sqrt(mse)\n",
        "\n",
        "# Display T-test result, r2 score, mean squared error, and root mean squared error\n",
        "print('T-test:', t_test)\n",
        "print('r2 score:', r2)\n",
        "print('mean squared error:', mse)\n",
        "print('root mean squared error:', rmse)\n",
        "print('Actual vs predicted values:')\n"
      ]
    },
    {
      "cell_type": "markdown",
      "metadata": {
        "id": "uQ5sfwcbD4_a"
      },
      "source": [
        "***Chi-square test***"
      ]
    },
    {
      "cell_type": "code",
      "execution_count": null,
      "metadata": {
        "colab": {
          "background_save": true
        },
        "id": "NOUSilVSotXW",
        "outputId": "fb5e79bd-86af-416c-de23-8a1487279636"
      },
      "outputs": [
        {
          "name": "stdout",
          "output_type": "stream",
          "text": [
            "Chi-Square test statistic: 12928717.6510641\n",
            "p-value: 0.0\n",
            "Degrees of freedom: 14208\n",
            "Classification report:\n",
            "              precision    recall  f1-score   support\n",
            "\n",
            "           0       0.74      0.66      0.70    116975\n",
            "           1       0.48      0.58      0.53     63544\n",
            "\n",
            "    accuracy                           0.63    180519\n",
            "   macro avg       0.61      0.62      0.61    180519\n",
            "weighted avg       0.65      0.63      0.64    180519\n",
            "\n",
            "Accuracy score: 0.6337670826893568\n"
          ]
        }
      ],
      "source": [
        "import numpy as np\n",
        "import pandas as pd\n",
        "import scipy.stats as stats\n",
        "from sklearn.metrics import classification_report, accuracy_score\n",
        "\n",
        "\n",
        "# Create cross-tabulation table of Sales and Product Price\n",
        "observed = pd.crosstab(final_data['Sales'], final_data['Product Price'])\n",
        "\n",
        "# Perform chi-square test of independence\n",
        "chi2, p_value, dof, expected = stats.chi2_contingency(observed)\n",
        "\n",
        "# Display chi-square test results\n",
        "print('Chi-Square test statistic:', chi2)\n",
        "print('p-value:', p_value)\n",
        "print('Degrees of freedom:', dof)\n",
        "\n",
        "# Predict Sales using Product Price as a feature\n",
        "y_true = final_data['Sales']\n",
        "y_pred = final_data['Product Price'] > final_data['Product Price'].mean()\n",
        "\n",
        "# Convert y_true into binary values\n",
        "threshold = final_data['Sales'].mean()\n",
        "y_true = (y_true > threshold).astype(int)\n",
        "\n",
        "# Compute classification report and accuracy score\n",
        "report = classification_report(y_true, y_pred)\n",
        "accuracy = accuracy_score(y_true, y_pred)\n",
        "\n",
        "# Display performance evaluation metrics\n",
        "print('Classification report:')\n",
        "print(report)\n",
        "print('Accuracy score:', accuracy)\n"
      ]
    },
    {
      "cell_type": "markdown",
      "metadata": {
        "id": "7D9d1TsbD-RZ"
      },
      "source": [
        "***Kruskal-Wallis test***"
      ]
    },
    {
      "cell_type": "code",
      "execution_count": null,
      "metadata": {
        "id": "Fmq-gpsBpEHr"
      },
      "outputs": [],
      "source": [
        "import numpy as np\n",
        "import pandas as pd\n",
        "import scipy.stats as stats\n",
        "from sklearn.model_selection import train_test_split\n",
        "from sklearn.linear_model import LinearRegression\n",
        "from sklearn.metrics import r2_score, mean_squared_error\n",
        "\n",
        "# Split the data into training and testing sets\n",
        "X = final_data['Product Price'].values.reshape(-1, 1)\n",
        "y = final_data['Sales'].values.reshape(-1, 1)\n",
        "X_train, X_test, y_train, y_test = train_test_split(X, y, test_size=0.3, random_state=42)\n",
        "\n",
        "# Train a linear regression model\n",
        "reg = LinearRegression().fit(X_train, y_train)\n",
        "\n",
        "# Evaluate the model on the testing set\n",
        "y_pred = reg.predict(X_test)\n",
        "r2 = r2_score(y_test, y_pred)\n",
        "mse = mean_squared_error(y_test, y_pred)\n",
        "rmse = np.sqrt(mse)\n",
        "\n",
        "# Display the evaluation metrics\n",
        "print('R2 score:', r2)\n",
        "print('Mean squared error:', mse)\n",
        "print('Root mean squared error:', rmse)"
      ]
    }
  ],
  "metadata": {
    "colab": {
      "provenance": [],
      "include_colab_link": true
    },
    "kernelspec": {
      "display_name": "Python 3",
      "name": "python3"
    },
    "language_info": {
      "name": "python"
    }
  },
  "nbformat": 4,
  "nbformat_minor": 0
}