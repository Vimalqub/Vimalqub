{
  "cells": [
    {
      "cell_type": "markdown",
      "metadata": {
        "id": "view-in-github",
        "colab_type": "text"
      },
      "source": [
        "<a href=\"https://colab.research.google.com/github/Vimalqub/Vimalqub.github.io/blob/main/Feature_Benefit_per_order_Models_for_supply_chain.ipynb\" target=\"_parent\"><img src=\"https://colab.research.google.com/assets/colab-badge.svg\" alt=\"Open In Colab\"/></a>"
      ]
    },
    {
      "cell_type": "markdown",
      "metadata": {
        "id": "TWtvAoGrBAre"
      },
      "source": [
        "***Supply chain forecasting-sales prediction***"
      ]
    },
    {
      "cell_type": "markdown",
      "metadata": {
        "id": "2OCVpIefBC82"
      },
      "source": [
        "**Dataset** :  DataCo SMART SUPPLY CHAIN FOR BIG DATA ANALYSIS"
      ]
    },
    {
      "cell_type": "markdown",
      "metadata": {
        "id": "Zpn6l8kY1QcV"
      },
      "source": [
        "Dataset link : https://www.kaggle.com/datasets/shashwatwork/dataco-smart-supply-chain-for-big-data-analysis"
      ]
    },
    {
      "cell_type": "markdown",
      "metadata": {
        "id": "JHCFRKiTA2PS"
      },
      "source": [
        "**Machine Learning and Statistical models for supply chain**"
      ]
    },
    {
      "cell_type": "code",
      "execution_count": null,
      "metadata": {
        "colab": {
          "base_uri": "https://localhost:8080/"
        },
        "id": "xuD_FRaexWmk",
        "outputId": "184c6256-ab1c-4960-8571-49c1b0789dd1"
      },
      "outputs": [
        {
          "output_type": "stream",
          "name": "stdout",
          "text": [
            "Looking in indexes: https://pypi.org/simple, https://us-python.pkg.dev/colab-wheels/public/simple/\n",
            "Requirement already satisfied: kaggle in /usr/local/lib/python3.10/dist-packages (1.5.13)\n",
            "Requirement already satisfied: six>=1.10 in /usr/local/lib/python3.10/dist-packages (from kaggle) (1.16.0)\n",
            "Requirement already satisfied: certifi in /usr/local/lib/python3.10/dist-packages (from kaggle) (2022.12.7)\n",
            "Requirement already satisfied: python-dateutil in /usr/local/lib/python3.10/dist-packages (from kaggle) (2.8.2)\n",
            "Requirement already satisfied: requests in /usr/local/lib/python3.10/dist-packages (from kaggle) (2.27.1)\n",
            "Requirement already satisfied: tqdm in /usr/local/lib/python3.10/dist-packages (from kaggle) (4.65.0)\n",
            "Requirement already satisfied: python-slugify in /usr/local/lib/python3.10/dist-packages (from kaggle) (8.0.1)\n",
            "Requirement already satisfied: urllib3 in /usr/local/lib/python3.10/dist-packages (from kaggle) (1.26.15)\n",
            "Requirement already satisfied: text-unidecode>=1.3 in /usr/local/lib/python3.10/dist-packages (from python-slugify->kaggle) (1.3)\n",
            "Requirement already satisfied: charset-normalizer~=2.0.0 in /usr/local/lib/python3.10/dist-packages (from requests->kaggle) (2.0.12)\n",
            "Requirement already satisfied: idna<4,>=2.5 in /usr/local/lib/python3.10/dist-packages (from requests->kaggle) (3.4)\n"
          ]
        }
      ],
      "source": [
        "! pip install kaggle"
      ]
    },
    {
      "cell_type": "code",
      "execution_count": null,
      "metadata": {
        "id": "CrK3XbTgxXy6"
      },
      "outputs": [],
      "source": [
        "! mkdir ~/.kaggle"
      ]
    },
    {
      "cell_type": "code",
      "execution_count": null,
      "metadata": {
        "colab": {
          "base_uri": "https://localhost:8080/",
          "height": 90
        },
        "id": "36EAYN4OxXsz",
        "outputId": "956672b5-da39-4bc0-f344-459b81e53c68"
      },
      "outputs": [
        {
          "output_type": "display_data",
          "data": {
            "text/plain": [
              "<IPython.core.display.HTML object>"
            ],
            "text/html": [
              "\n",
              "     <input type=\"file\" id=\"files-7b988e4f-fe58-4f86-9a63-ba78e83e6801\" name=\"files[]\" multiple disabled\n",
              "        style=\"border:none\" />\n",
              "     <output id=\"result-7b988e4f-fe58-4f86-9a63-ba78e83e6801\">\n",
              "      Upload widget is only available when the cell has been executed in the\n",
              "      current browser session. Please rerun this cell to enable.\n",
              "      </output>\n",
              "      <script>// Copyright 2017 Google LLC\n",
              "//\n",
              "// Licensed under the Apache License, Version 2.0 (the \"License\");\n",
              "// you may not use this file except in compliance with the License.\n",
              "// You may obtain a copy of the License at\n",
              "//\n",
              "//      http://www.apache.org/licenses/LICENSE-2.0\n",
              "//\n",
              "// Unless required by applicable law or agreed to in writing, software\n",
              "// distributed under the License is distributed on an \"AS IS\" BASIS,\n",
              "// WITHOUT WARRANTIES OR CONDITIONS OF ANY KIND, either express or implied.\n",
              "// See the License for the specific language governing permissions and\n",
              "// limitations under the License.\n",
              "\n",
              "/**\n",
              " * @fileoverview Helpers for google.colab Python module.\n",
              " */\n",
              "(function(scope) {\n",
              "function span(text, styleAttributes = {}) {\n",
              "  const element = document.createElement('span');\n",
              "  element.textContent = text;\n",
              "  for (const key of Object.keys(styleAttributes)) {\n",
              "    element.style[key] = styleAttributes[key];\n",
              "  }\n",
              "  return element;\n",
              "}\n",
              "\n",
              "// Max number of bytes which will be uploaded at a time.\n",
              "const MAX_PAYLOAD_SIZE = 100 * 1024;\n",
              "\n",
              "function _uploadFiles(inputId, outputId) {\n",
              "  const steps = uploadFilesStep(inputId, outputId);\n",
              "  const outputElement = document.getElementById(outputId);\n",
              "  // Cache steps on the outputElement to make it available for the next call\n",
              "  // to uploadFilesContinue from Python.\n",
              "  outputElement.steps = steps;\n",
              "\n",
              "  return _uploadFilesContinue(outputId);\n",
              "}\n",
              "\n",
              "// This is roughly an async generator (not supported in the browser yet),\n",
              "// where there are multiple asynchronous steps and the Python side is going\n",
              "// to poll for completion of each step.\n",
              "// This uses a Promise to block the python side on completion of each step,\n",
              "// then passes the result of the previous step as the input to the next step.\n",
              "function _uploadFilesContinue(outputId) {\n",
              "  const outputElement = document.getElementById(outputId);\n",
              "  const steps = outputElement.steps;\n",
              "\n",
              "  const next = steps.next(outputElement.lastPromiseValue);\n",
              "  return Promise.resolve(next.value.promise).then((value) => {\n",
              "    // Cache the last promise value to make it available to the next\n",
              "    // step of the generator.\n",
              "    outputElement.lastPromiseValue = value;\n",
              "    return next.value.response;\n",
              "  });\n",
              "}\n",
              "\n",
              "/**\n",
              " * Generator function which is called between each async step of the upload\n",
              " * process.\n",
              " * @param {string} inputId Element ID of the input file picker element.\n",
              " * @param {string} outputId Element ID of the output display.\n",
              " * @return {!Iterable<!Object>} Iterable of next steps.\n",
              " */\n",
              "function* uploadFilesStep(inputId, outputId) {\n",
              "  const inputElement = document.getElementById(inputId);\n",
              "  inputElement.disabled = false;\n",
              "\n",
              "  const outputElement = document.getElementById(outputId);\n",
              "  outputElement.innerHTML = '';\n",
              "\n",
              "  const pickedPromise = new Promise((resolve) => {\n",
              "    inputElement.addEventListener('change', (e) => {\n",
              "      resolve(e.target.files);\n",
              "    });\n",
              "  });\n",
              "\n",
              "  const cancel = document.createElement('button');\n",
              "  inputElement.parentElement.appendChild(cancel);\n",
              "  cancel.textContent = 'Cancel upload';\n",
              "  const cancelPromise = new Promise((resolve) => {\n",
              "    cancel.onclick = () => {\n",
              "      resolve(null);\n",
              "    };\n",
              "  });\n",
              "\n",
              "  // Wait for the user to pick the files.\n",
              "  const files = yield {\n",
              "    promise: Promise.race([pickedPromise, cancelPromise]),\n",
              "    response: {\n",
              "      action: 'starting',\n",
              "    }\n",
              "  };\n",
              "\n",
              "  cancel.remove();\n",
              "\n",
              "  // Disable the input element since further picks are not allowed.\n",
              "  inputElement.disabled = true;\n",
              "\n",
              "  if (!files) {\n",
              "    return {\n",
              "      response: {\n",
              "        action: 'complete',\n",
              "      }\n",
              "    };\n",
              "  }\n",
              "\n",
              "  for (const file of files) {\n",
              "    const li = document.createElement('li');\n",
              "    li.append(span(file.name, {fontWeight: 'bold'}));\n",
              "    li.append(span(\n",
              "        `(${file.type || 'n/a'}) - ${file.size} bytes, ` +\n",
              "        `last modified: ${\n",
              "            file.lastModifiedDate ? file.lastModifiedDate.toLocaleDateString() :\n",
              "                                    'n/a'} - `));\n",
              "    const percent = span('0% done');\n",
              "    li.appendChild(percent);\n",
              "\n",
              "    outputElement.appendChild(li);\n",
              "\n",
              "    const fileDataPromise = new Promise((resolve) => {\n",
              "      const reader = new FileReader();\n",
              "      reader.onload = (e) => {\n",
              "        resolve(e.target.result);\n",
              "      };\n",
              "      reader.readAsArrayBuffer(file);\n",
              "    });\n",
              "    // Wait for the data to be ready.\n",
              "    let fileData = yield {\n",
              "      promise: fileDataPromise,\n",
              "      response: {\n",
              "        action: 'continue',\n",
              "      }\n",
              "    };\n",
              "\n",
              "    // Use a chunked sending to avoid message size limits. See b/62115660.\n",
              "    let position = 0;\n",
              "    do {\n",
              "      const length = Math.min(fileData.byteLength - position, MAX_PAYLOAD_SIZE);\n",
              "      const chunk = new Uint8Array(fileData, position, length);\n",
              "      position += length;\n",
              "\n",
              "      const base64 = btoa(String.fromCharCode.apply(null, chunk));\n",
              "      yield {\n",
              "        response: {\n",
              "          action: 'append',\n",
              "          file: file.name,\n",
              "          data: base64,\n",
              "        },\n",
              "      };\n",
              "\n",
              "      let percentDone = fileData.byteLength === 0 ?\n",
              "          100 :\n",
              "          Math.round((position / fileData.byteLength) * 100);\n",
              "      percent.textContent = `${percentDone}% done`;\n",
              "\n",
              "    } while (position < fileData.byteLength);\n",
              "  }\n",
              "\n",
              "  // All done.\n",
              "  yield {\n",
              "    response: {\n",
              "      action: 'complete',\n",
              "    }\n",
              "  };\n",
              "}\n",
              "\n",
              "scope.google = scope.google || {};\n",
              "scope.google.colab = scope.google.colab || {};\n",
              "scope.google.colab._files = {\n",
              "  _uploadFiles,\n",
              "  _uploadFilesContinue,\n",
              "};\n",
              "})(self);\n",
              "</script> "
            ]
          },
          "metadata": {}
        },
        {
          "output_type": "stream",
          "name": "stdout",
          "text": [
            "Saving kaggle.json to kaggle.json\n"
          ]
        },
        {
          "output_type": "execute_result",
          "data": {
            "text/plain": [
              "{'kaggle.json': b'{\"username\":\"anaghajain\",\"key\":\"41134df6e187b69407045397ccf1fce0\"}'}"
            ]
          },
          "metadata": {},
          "execution_count": 3
        }
      ],
      "source": [
        "from google.colab import files\n",
        "files.upload()"
      ]
    },
    {
      "cell_type": "code",
      "execution_count": null,
      "metadata": {
        "id": "fg56p_NjxXqP"
      },
      "outputs": [],
      "source": [
        "! cp kaggle.json ~/.kaggle/"
      ]
    },
    {
      "cell_type": "code",
      "execution_count": null,
      "metadata": {
        "id": "yjGzrhMwxXiH"
      },
      "outputs": [],
      "source": [
        "! chmod 600 ~/.kaggle/kaggle.json"
      ]
    },
    {
      "cell_type": "code",
      "execution_count": null,
      "metadata": {
        "id": "sLyT55wexXVZ",
        "colab": {
          "base_uri": "https://localhost:8080/"
        },
        "outputId": "615cb6fa-29c1-48df-bfda-41fd747459d4"
      },
      "outputs": [
        {
          "output_type": "stream",
          "name": "stdout",
          "text": [
            "ref                                                       title                                                size  lastUpdated          downloadCount  voteCount  usabilityRating  \n",
            "--------------------------------------------------------  --------------------------------------------------  -----  -------------------  -------------  ---------  ---------------  \n",
            "arnabchaki/data-science-salaries-2023                     Data Science Salaries 2023 💸                         25KB  2023-04-13 09:55:16          20661        577  1.0              \n",
            "fatihb/coffee-quality-data-cqi                            Coffee Quality Data (CQI May-2023)                   22KB  2023-05-12 13:06:39           1897         49  1.0              \n",
            "darshanprabhu09/stock-prices-for                          Stock prices of Amazon , Microsoft , Google, Apple   85KB  2023-05-16 15:17:16            855         26  1.0              \n",
            "ashpalsingh1525/imdb-movies-dataset                       IMDB movies dataset                                   3MB  2023-04-28 23:18:15           2349         51  1.0              \n",
            "iammustafatz/diabetes-prediction-dataset                  Diabetes prediction dataset                         734KB  2023-04-08 06:11:45          10673        157  1.0              \n",
            "utkarshx27/inflation-rate-in-asia                         Inflation Rate in Asia                                3KB  2023-05-13 17:41:29            927         31  1.0              \n",
            "radheshyamkollipara/bank-customer-churn                   Bank Customer Churn                                 307KB  2023-04-28 16:32:01           2279         39  1.0              \n",
            "desalegngeb/students-exam-scores                          Students Exam Scores: Extended Dataset              695KB  2023-04-14 00:15:38           8529        165  1.0              \n",
            "chitrakumari25/corona-virus-latest-data-2023              Corona virus latest data 2023                        10KB  2023-04-29 16:00:51           2261         53  1.0              \n",
            "omarsobhy14/university-students-complaints-and-reports    University Students Complaints & Reports📝👨‍🎓         38KB  2023-05-12 19:46:45            802         32  1.0              \n",
            "utkarshx27/starbucks-nutrition                            Starbucks Nutrition Facts                             2KB  2023-05-10 05:42:59           1629         48  1.0              \n",
            "utkarshx27/survey-of-labour-and-income-dynamics           Survey of Labour and Income Dynamics                 54KB  2023-05-07 08:00:47            785         24  1.0              \n",
            "rajkumarpandey02/rainfall-in-all-india-dataset-1901-2016  Rainfall in All India Dataset 1901-2016               3KB  2023-05-18 05:45:59            468         31  1.0              \n",
            "faisaljanjua0555/best-video-games-of-all-time             Best Video Games of All Time                         24KB  2023-05-14 19:44:10            962         39  0.7058824        \n",
            "utkarshx27/world-gdp-growth-1980-2028                     World GDP growth 1980-2028                           53KB  2023-05-13 17:54:00            969         31  0.88235295       \n",
            "utkarshx27/global-poverty-and-inequality-dataset          Global poverty and inequality dataset                 4MB  2023-05-12 17:25:45            965         32  0.9411765        \n",
            "ursmaheshj/top-10000-popular-movies-tmdb-05-2023          Top 10000 popular Movies TMDB                         2MB  2023-05-09 13:43:53           1001         33  1.0              \n",
            "gyaswanth297/world-population-insights-1970-2022          World Population Insights: 1970-2022                 16KB  2023-05-16 16:25:59            923         31  0.88235295       \n",
            "sougatapramanick/happiness-index-2018-2019                Happiness Index 2018-2019                            15KB  2023-04-14 12:01:03           4070         68  1.0              \n",
            "utkarshx27/non-alcohol-fatty-liver-disease                Non-alcohol fatty liver disease (NAFLD)               3MB  2023-05-09 11:22:22            894         33  1.0              \n"
          ]
        }
      ],
      "source": [
        "! kaggle datasets list"
      ]
    },
    {
      "cell_type": "code",
      "execution_count": null,
      "metadata": {
        "colab": {
          "base_uri": "https://localhost:8080/"
        },
        "id": "AyMCS77Jxul6",
        "outputId": "f1f3d2f1-ef57-4517-99b5-a5953db519b3"
      },
      "outputs": [
        {
          "output_type": "stream",
          "name": "stdout",
          "text": [
            "Downloading dataco-smart-supply-chain-for-big-data-analysis.zip to /content\n",
            " 97% 25.0M/25.7M [00:01<00:00, 20.9MB/s]\n",
            "100% 25.7M/25.7M [00:01<00:00, 13.7MB/s]\n"
          ]
        }
      ],
      "source": [
        "!kaggle datasets download -d shashwatwork/dataco-smart-supply-chain-for-big-data-analysis\n"
      ]
    },
    {
      "cell_type": "code",
      "execution_count": null,
      "metadata": {
        "colab": {
          "base_uri": "https://localhost:8080/"
        },
        "id": "tjvDaxvUxx_E",
        "outputId": "01a3b40c-1240-437c-b376-7c2862229eab"
      },
      "outputs": [
        {
          "output_type": "stream",
          "name": "stdout",
          "text": [
            "Archive:  dataco-smart-supply-chain-for-big-data-analysis.zip\n",
            "  inflating: DataCoSupplyChainDataset.csv  \n",
            "  inflating: DescriptionDataCoSupplyChain.csv  \n",
            "  inflating: tokenized_access_logs.csv  \n"
          ]
        }
      ],
      "source": [
        "!unzip dataco-smart-supply-chain-for-big-data-analysis"
      ]
    },
    {
      "cell_type": "code",
      "execution_count": null,
      "metadata": {
        "id": "4BFEQkzbA_68"
      },
      "outputs": [],
      "source": [
        "import pandas as pd\n",
        "import numpy as np\n",
        "import warnings\n",
        "warnings.filterwarnings('ignore')\n",
        "from sklearn.model_selection import GridSearchCV"
      ]
    },
    {
      "cell_type": "code",
      "execution_count": null,
      "metadata": {
        "id": "qsMbRaufBkK5",
        "colab": {
          "base_uri": "https://localhost:8080/",
          "height": 956
        },
        "outputId": "cf8f1aa5-7838-49e8-ee5e-2f29bc67b238"
      },
      "outputs": [
        {
          "output_type": "execute_result",
          "data": {
            "text/plain": [
              "            Type  Days for shipping (real)  Days for shipment (scheduled)  \\\n",
              "0          DEBIT                         3                              4   \n",
              "1       TRANSFER                         5                              4   \n",
              "2           CASH                         4                              4   \n",
              "3          DEBIT                         3                              4   \n",
              "4        PAYMENT                         2                              4   \n",
              "...          ...                       ...                            ...   \n",
              "180514      CASH                         4                              4   \n",
              "180515     DEBIT                         3                              2   \n",
              "180516  TRANSFER                         5                              4   \n",
              "180517   PAYMENT                         3                              4   \n",
              "180518   PAYMENT                         4                              4   \n",
              "\n",
              "        Benefit per order  Sales per customer   Delivery Status  \\\n",
              "0               91.250000          314.640015  Advance shipping   \n",
              "1             -249.089996          311.359985     Late delivery   \n",
              "2             -247.779999          309.720001  Shipping on time   \n",
              "3               22.860001          304.809998  Advance shipping   \n",
              "4              134.210007          298.250000  Advance shipping   \n",
              "...                   ...                 ...               ...   \n",
              "180514          40.000000          399.980011  Shipping on time   \n",
              "180515        -613.770019          395.980011     Late delivery   \n",
              "180516         141.110001          391.980011     Late delivery   \n",
              "180517         186.229996          387.980011  Advance shipping   \n",
              "180518         168.949997          383.980011  Shipping on time   \n",
              "\n",
              "        Late_delivery_risk  Category Id   Category Name Customer City  ...  \\\n",
              "0                        0           73  Sporting Goods        Caguas  ...   \n",
              "1                        1           73  Sporting Goods        Caguas  ...   \n",
              "2                        0           73  Sporting Goods      San Jose  ...   \n",
              "3                        0           73  Sporting Goods   Los Angeles  ...   \n",
              "4                        0           73  Sporting Goods        Caguas  ...   \n",
              "...                    ...          ...             ...           ...  ...   \n",
              "180514                   0           45         Fishing      Brooklyn  ...   \n",
              "180515                   1           45         Fishing   Bakersfield  ...   \n",
              "180516                   1           45         Fishing       Bristol  ...   \n",
              "180517                   0           45         Fishing        Caguas  ...   \n",
              "180518                   0           45         Fishing        Caguas  ...   \n",
              "\n",
              "       Order Zipcode Product Card Id Product Category Id  Product Description  \\\n",
              "0                NaN            1360                  73                  NaN   \n",
              "1                NaN            1360                  73                  NaN   \n",
              "2                NaN            1360                  73                  NaN   \n",
              "3                NaN            1360                  73                  NaN   \n",
              "4                NaN            1360                  73                  NaN   \n",
              "...              ...             ...                 ...                  ...   \n",
              "180514           NaN            1004                  45                  NaN   \n",
              "180515           NaN            1004                  45                  NaN   \n",
              "180516           NaN            1004                  45                  NaN   \n",
              "180517           NaN            1004                  45                  NaN   \n",
              "180518           NaN            1004                  45                  NaN   \n",
              "\n",
              "                                            Product Image  \\\n",
              "0            http://images.acmesports.sports/Smart+watch    \n",
              "1            http://images.acmesports.sports/Smart+watch    \n",
              "2            http://images.acmesports.sports/Smart+watch    \n",
              "3            http://images.acmesports.sports/Smart+watch    \n",
              "4            http://images.acmesports.sports/Smart+watch    \n",
              "...                                                   ...   \n",
              "180514  http://images.acmesports.sports/Field+%26+Stre...   \n",
              "180515  http://images.acmesports.sports/Field+%26+Stre...   \n",
              "180516  http://images.acmesports.sports/Field+%26+Stre...   \n",
              "180517  http://images.acmesports.sports/Field+%26+Stre...   \n",
              "180518  http://images.acmesports.sports/Field+%26+Stre...   \n",
              "\n",
              "                                     Product Name Product Price  \\\n",
              "0                                    Smart watch     327.750000   \n",
              "1                                    Smart watch     327.750000   \n",
              "2                                    Smart watch     327.750000   \n",
              "3                                    Smart watch     327.750000   \n",
              "4                                    Smart watch     327.750000   \n",
              "...                                           ...           ...   \n",
              "180514  Field & Stream Sportsman 16 Gun Fire Safe    399.980011   \n",
              "180515  Field & Stream Sportsman 16 Gun Fire Safe    399.980011   \n",
              "180516  Field & Stream Sportsman 16 Gun Fire Safe    399.980011   \n",
              "180517  Field & Stream Sportsman 16 Gun Fire Safe    399.980011   \n",
              "180518  Field & Stream Sportsman 16 Gun Fire Safe    399.980011   \n",
              "\n",
              "       Product Status shipping date (DateOrders)   Shipping Mode  \n",
              "0                   0             2/3/2018 22:56  Standard Class  \n",
              "1                   0            1/18/2018 12:27  Standard Class  \n",
              "2                   0            1/17/2018 12:06  Standard Class  \n",
              "3                   0            1/16/2018 11:45  Standard Class  \n",
              "4                   0            1/15/2018 11:24  Standard Class  \n",
              "...               ...                        ...             ...  \n",
              "180514              0             1/20/2016 3:40  Standard Class  \n",
              "180515              0             1/19/2016 1:34    Second Class  \n",
              "180516              0            1/20/2016 21:00  Standard Class  \n",
              "180517              0            1/18/2016 20:18  Standard Class  \n",
              "180518              0            1/19/2016 18:54  Standard Class  \n",
              "\n",
              "[180519 rows x 53 columns]"
            ],
            "text/html": [
              "\n",
              "  <div id=\"df-cba265ca-7725-4bcb-a60e-20863c29d5df\">\n",
              "    <div class=\"colab-df-container\">\n",
              "      <div>\n",
              "<style scoped>\n",
              "    .dataframe tbody tr th:only-of-type {\n",
              "        vertical-align: middle;\n",
              "    }\n",
              "\n",
              "    .dataframe tbody tr th {\n",
              "        vertical-align: top;\n",
              "    }\n",
              "\n",
              "    .dataframe thead th {\n",
              "        text-align: right;\n",
              "    }\n",
              "</style>\n",
              "<table border=\"1\" class=\"dataframe\">\n",
              "  <thead>\n",
              "    <tr style=\"text-align: right;\">\n",
              "      <th></th>\n",
              "      <th>Type</th>\n",
              "      <th>Days for shipping (real)</th>\n",
              "      <th>Days for shipment (scheduled)</th>\n",
              "      <th>Benefit per order</th>\n",
              "      <th>Sales per customer</th>\n",
              "      <th>Delivery Status</th>\n",
              "      <th>Late_delivery_risk</th>\n",
              "      <th>Category Id</th>\n",
              "      <th>Category Name</th>\n",
              "      <th>Customer City</th>\n",
              "      <th>...</th>\n",
              "      <th>Order Zipcode</th>\n",
              "      <th>Product Card Id</th>\n",
              "      <th>Product Category Id</th>\n",
              "      <th>Product Description</th>\n",
              "      <th>Product Image</th>\n",
              "      <th>Product Name</th>\n",
              "      <th>Product Price</th>\n",
              "      <th>Product Status</th>\n",
              "      <th>shipping date (DateOrders)</th>\n",
              "      <th>Shipping Mode</th>\n",
              "    </tr>\n",
              "  </thead>\n",
              "  <tbody>\n",
              "    <tr>\n",
              "      <th>0</th>\n",
              "      <td>DEBIT</td>\n",
              "      <td>3</td>\n",
              "      <td>4</td>\n",
              "      <td>91.250000</td>\n",
              "      <td>314.640015</td>\n",
              "      <td>Advance shipping</td>\n",
              "      <td>0</td>\n",
              "      <td>73</td>\n",
              "      <td>Sporting Goods</td>\n",
              "      <td>Caguas</td>\n",
              "      <td>...</td>\n",
              "      <td>NaN</td>\n",
              "      <td>1360</td>\n",
              "      <td>73</td>\n",
              "      <td>NaN</td>\n",
              "      <td>http://images.acmesports.sports/Smart+watch</td>\n",
              "      <td>Smart watch</td>\n",
              "      <td>327.750000</td>\n",
              "      <td>0</td>\n",
              "      <td>2/3/2018 22:56</td>\n",
              "      <td>Standard Class</td>\n",
              "    </tr>\n",
              "    <tr>\n",
              "      <th>1</th>\n",
              "      <td>TRANSFER</td>\n",
              "      <td>5</td>\n",
              "      <td>4</td>\n",
              "      <td>-249.089996</td>\n",
              "      <td>311.359985</td>\n",
              "      <td>Late delivery</td>\n",
              "      <td>1</td>\n",
              "      <td>73</td>\n",
              "      <td>Sporting Goods</td>\n",
              "      <td>Caguas</td>\n",
              "      <td>...</td>\n",
              "      <td>NaN</td>\n",
              "      <td>1360</td>\n",
              "      <td>73</td>\n",
              "      <td>NaN</td>\n",
              "      <td>http://images.acmesports.sports/Smart+watch</td>\n",
              "      <td>Smart watch</td>\n",
              "      <td>327.750000</td>\n",
              "      <td>0</td>\n",
              "      <td>1/18/2018 12:27</td>\n",
              "      <td>Standard Class</td>\n",
              "    </tr>\n",
              "    <tr>\n",
              "      <th>2</th>\n",
              "      <td>CASH</td>\n",
              "      <td>4</td>\n",
              "      <td>4</td>\n",
              "      <td>-247.779999</td>\n",
              "      <td>309.720001</td>\n",
              "      <td>Shipping on time</td>\n",
              "      <td>0</td>\n",
              "      <td>73</td>\n",
              "      <td>Sporting Goods</td>\n",
              "      <td>San Jose</td>\n",
              "      <td>...</td>\n",
              "      <td>NaN</td>\n",
              "      <td>1360</td>\n",
              "      <td>73</td>\n",
              "      <td>NaN</td>\n",
              "      <td>http://images.acmesports.sports/Smart+watch</td>\n",
              "      <td>Smart watch</td>\n",
              "      <td>327.750000</td>\n",
              "      <td>0</td>\n",
              "      <td>1/17/2018 12:06</td>\n",
              "      <td>Standard Class</td>\n",
              "    </tr>\n",
              "    <tr>\n",
              "      <th>3</th>\n",
              "      <td>DEBIT</td>\n",
              "      <td>3</td>\n",
              "      <td>4</td>\n",
              "      <td>22.860001</td>\n",
              "      <td>304.809998</td>\n",
              "      <td>Advance shipping</td>\n",
              "      <td>0</td>\n",
              "      <td>73</td>\n",
              "      <td>Sporting Goods</td>\n",
              "      <td>Los Angeles</td>\n",
              "      <td>...</td>\n",
              "      <td>NaN</td>\n",
              "      <td>1360</td>\n",
              "      <td>73</td>\n",
              "      <td>NaN</td>\n",
              "      <td>http://images.acmesports.sports/Smart+watch</td>\n",
              "      <td>Smart watch</td>\n",
              "      <td>327.750000</td>\n",
              "      <td>0</td>\n",
              "      <td>1/16/2018 11:45</td>\n",
              "      <td>Standard Class</td>\n",
              "    </tr>\n",
              "    <tr>\n",
              "      <th>4</th>\n",
              "      <td>PAYMENT</td>\n",
              "      <td>2</td>\n",
              "      <td>4</td>\n",
              "      <td>134.210007</td>\n",
              "      <td>298.250000</td>\n",
              "      <td>Advance shipping</td>\n",
              "      <td>0</td>\n",
              "      <td>73</td>\n",
              "      <td>Sporting Goods</td>\n",
              "      <td>Caguas</td>\n",
              "      <td>...</td>\n",
              "      <td>NaN</td>\n",
              "      <td>1360</td>\n",
              "      <td>73</td>\n",
              "      <td>NaN</td>\n",
              "      <td>http://images.acmesports.sports/Smart+watch</td>\n",
              "      <td>Smart watch</td>\n",
              "      <td>327.750000</td>\n",
              "      <td>0</td>\n",
              "      <td>1/15/2018 11:24</td>\n",
              "      <td>Standard Class</td>\n",
              "    </tr>\n",
              "    <tr>\n",
              "      <th>...</th>\n",
              "      <td>...</td>\n",
              "      <td>...</td>\n",
              "      <td>...</td>\n",
              "      <td>...</td>\n",
              "      <td>...</td>\n",
              "      <td>...</td>\n",
              "      <td>...</td>\n",
              "      <td>...</td>\n",
              "      <td>...</td>\n",
              "      <td>...</td>\n",
              "      <td>...</td>\n",
              "      <td>...</td>\n",
              "      <td>...</td>\n",
              "      <td>...</td>\n",
              "      <td>...</td>\n",
              "      <td>...</td>\n",
              "      <td>...</td>\n",
              "      <td>...</td>\n",
              "      <td>...</td>\n",
              "      <td>...</td>\n",
              "      <td>...</td>\n",
              "    </tr>\n",
              "    <tr>\n",
              "      <th>180514</th>\n",
              "      <td>CASH</td>\n",
              "      <td>4</td>\n",
              "      <td>4</td>\n",
              "      <td>40.000000</td>\n",
              "      <td>399.980011</td>\n",
              "      <td>Shipping on time</td>\n",
              "      <td>0</td>\n",
              "      <td>45</td>\n",
              "      <td>Fishing</td>\n",
              "      <td>Brooklyn</td>\n",
              "      <td>...</td>\n",
              "      <td>NaN</td>\n",
              "      <td>1004</td>\n",
              "      <td>45</td>\n",
              "      <td>NaN</td>\n",
              "      <td>http://images.acmesports.sports/Field+%26+Stre...</td>\n",
              "      <td>Field &amp; Stream Sportsman 16 Gun Fire Safe</td>\n",
              "      <td>399.980011</td>\n",
              "      <td>0</td>\n",
              "      <td>1/20/2016 3:40</td>\n",
              "      <td>Standard Class</td>\n",
              "    </tr>\n",
              "    <tr>\n",
              "      <th>180515</th>\n",
              "      <td>DEBIT</td>\n",
              "      <td>3</td>\n",
              "      <td>2</td>\n",
              "      <td>-613.770019</td>\n",
              "      <td>395.980011</td>\n",
              "      <td>Late delivery</td>\n",
              "      <td>1</td>\n",
              "      <td>45</td>\n",
              "      <td>Fishing</td>\n",
              "      <td>Bakersfield</td>\n",
              "      <td>...</td>\n",
              "      <td>NaN</td>\n",
              "      <td>1004</td>\n",
              "      <td>45</td>\n",
              "      <td>NaN</td>\n",
              "      <td>http://images.acmesports.sports/Field+%26+Stre...</td>\n",
              "      <td>Field &amp; Stream Sportsman 16 Gun Fire Safe</td>\n",
              "      <td>399.980011</td>\n",
              "      <td>0</td>\n",
              "      <td>1/19/2016 1:34</td>\n",
              "      <td>Second Class</td>\n",
              "    </tr>\n",
              "    <tr>\n",
              "      <th>180516</th>\n",
              "      <td>TRANSFER</td>\n",
              "      <td>5</td>\n",
              "      <td>4</td>\n",
              "      <td>141.110001</td>\n",
              "      <td>391.980011</td>\n",
              "      <td>Late delivery</td>\n",
              "      <td>1</td>\n",
              "      <td>45</td>\n",
              "      <td>Fishing</td>\n",
              "      <td>Bristol</td>\n",
              "      <td>...</td>\n",
              "      <td>NaN</td>\n",
              "      <td>1004</td>\n",
              "      <td>45</td>\n",
              "      <td>NaN</td>\n",
              "      <td>http://images.acmesports.sports/Field+%26+Stre...</td>\n",
              "      <td>Field &amp; Stream Sportsman 16 Gun Fire Safe</td>\n",
              "      <td>399.980011</td>\n",
              "      <td>0</td>\n",
              "      <td>1/20/2016 21:00</td>\n",
              "      <td>Standard Class</td>\n",
              "    </tr>\n",
              "    <tr>\n",
              "      <th>180517</th>\n",
              "      <td>PAYMENT</td>\n",
              "      <td>3</td>\n",
              "      <td>4</td>\n",
              "      <td>186.229996</td>\n",
              "      <td>387.980011</td>\n",
              "      <td>Advance shipping</td>\n",
              "      <td>0</td>\n",
              "      <td>45</td>\n",
              "      <td>Fishing</td>\n",
              "      <td>Caguas</td>\n",
              "      <td>...</td>\n",
              "      <td>NaN</td>\n",
              "      <td>1004</td>\n",
              "      <td>45</td>\n",
              "      <td>NaN</td>\n",
              "      <td>http://images.acmesports.sports/Field+%26+Stre...</td>\n",
              "      <td>Field &amp; Stream Sportsman 16 Gun Fire Safe</td>\n",
              "      <td>399.980011</td>\n",
              "      <td>0</td>\n",
              "      <td>1/18/2016 20:18</td>\n",
              "      <td>Standard Class</td>\n",
              "    </tr>\n",
              "    <tr>\n",
              "      <th>180518</th>\n",
              "      <td>PAYMENT</td>\n",
              "      <td>4</td>\n",
              "      <td>4</td>\n",
              "      <td>168.949997</td>\n",
              "      <td>383.980011</td>\n",
              "      <td>Shipping on time</td>\n",
              "      <td>0</td>\n",
              "      <td>45</td>\n",
              "      <td>Fishing</td>\n",
              "      <td>Caguas</td>\n",
              "      <td>...</td>\n",
              "      <td>NaN</td>\n",
              "      <td>1004</td>\n",
              "      <td>45</td>\n",
              "      <td>NaN</td>\n",
              "      <td>http://images.acmesports.sports/Field+%26+Stre...</td>\n",
              "      <td>Field &amp; Stream Sportsman 16 Gun Fire Safe</td>\n",
              "      <td>399.980011</td>\n",
              "      <td>0</td>\n",
              "      <td>1/19/2016 18:54</td>\n",
              "      <td>Standard Class</td>\n",
              "    </tr>\n",
              "  </tbody>\n",
              "</table>\n",
              "<p>180519 rows × 53 columns</p>\n",
              "</div>\n",
              "      <button class=\"colab-df-convert\" onclick=\"convertToInteractive('df-cba265ca-7725-4bcb-a60e-20863c29d5df')\"\n",
              "              title=\"Convert this dataframe to an interactive table.\"\n",
              "              style=\"display:none;\">\n",
              "        \n",
              "  <svg xmlns=\"http://www.w3.org/2000/svg\" height=\"24px\"viewBox=\"0 0 24 24\"\n",
              "       width=\"24px\">\n",
              "    <path d=\"M0 0h24v24H0V0z\" fill=\"none\"/>\n",
              "    <path d=\"M18.56 5.44l.94 2.06.94-2.06 2.06-.94-2.06-.94-.94-2.06-.94 2.06-2.06.94zm-11 1L8.5 8.5l.94-2.06 2.06-.94-2.06-.94L8.5 2.5l-.94 2.06-2.06.94zm10 10l.94 2.06.94-2.06 2.06-.94-2.06-.94-.94-2.06-.94 2.06-2.06.94z\"/><path d=\"M17.41 7.96l-1.37-1.37c-.4-.4-.92-.59-1.43-.59-.52 0-1.04.2-1.43.59L10.3 9.45l-7.72 7.72c-.78.78-.78 2.05 0 2.83L4 21.41c.39.39.9.59 1.41.59.51 0 1.02-.2 1.41-.59l7.78-7.78 2.81-2.81c.8-.78.8-2.07 0-2.86zM5.41 20L4 18.59l7.72-7.72 1.47 1.35L5.41 20z\"/>\n",
              "  </svg>\n",
              "      </button>\n",
              "      \n",
              "  <style>\n",
              "    .colab-df-container {\n",
              "      display:flex;\n",
              "      flex-wrap:wrap;\n",
              "      gap: 12px;\n",
              "    }\n",
              "\n",
              "    .colab-df-convert {\n",
              "      background-color: #E8F0FE;\n",
              "      border: none;\n",
              "      border-radius: 50%;\n",
              "      cursor: pointer;\n",
              "      display: none;\n",
              "      fill: #1967D2;\n",
              "      height: 32px;\n",
              "      padding: 0 0 0 0;\n",
              "      width: 32px;\n",
              "    }\n",
              "\n",
              "    .colab-df-convert:hover {\n",
              "      background-color: #E2EBFA;\n",
              "      box-shadow: 0px 1px 2px rgba(60, 64, 67, 0.3), 0px 1px 3px 1px rgba(60, 64, 67, 0.15);\n",
              "      fill: #174EA6;\n",
              "    }\n",
              "\n",
              "    [theme=dark] .colab-df-convert {\n",
              "      background-color: #3B4455;\n",
              "      fill: #D2E3FC;\n",
              "    }\n",
              "\n",
              "    [theme=dark] .colab-df-convert:hover {\n",
              "      background-color: #434B5C;\n",
              "      box-shadow: 0px 1px 3px 1px rgba(0, 0, 0, 0.15);\n",
              "      filter: drop-shadow(0px 1px 2px rgba(0, 0, 0, 0.3));\n",
              "      fill: #FFFFFF;\n",
              "    }\n",
              "  </style>\n",
              "\n",
              "      <script>\n",
              "        const buttonEl =\n",
              "          document.querySelector('#df-cba265ca-7725-4bcb-a60e-20863c29d5df button.colab-df-convert');\n",
              "        buttonEl.style.display =\n",
              "          google.colab.kernel.accessAllowed ? 'block' : 'none';\n",
              "\n",
              "        async function convertToInteractive(key) {\n",
              "          const element = document.querySelector('#df-cba265ca-7725-4bcb-a60e-20863c29d5df');\n",
              "          const dataTable =\n",
              "            await google.colab.kernel.invokeFunction('convertToInteractive',\n",
              "                                                     [key], {});\n",
              "          if (!dataTable) return;\n",
              "\n",
              "          const docLinkHtml = 'Like what you see? Visit the ' +\n",
              "            '<a target=\"_blank\" href=https://colab.research.google.com/notebooks/data_table.ipynb>data table notebook</a>'\n",
              "            + ' to learn more about interactive tables.';\n",
              "          element.innerHTML = '';\n",
              "          dataTable['output_type'] = 'display_data';\n",
              "          await google.colab.output.renderOutput(dataTable, element);\n",
              "          const docLink = document.createElement('div');\n",
              "          docLink.innerHTML = docLinkHtml;\n",
              "          element.appendChild(docLink);\n",
              "        }\n",
              "      </script>\n",
              "    </div>\n",
              "  </div>\n",
              "  "
            ]
          },
          "metadata": {},
          "execution_count": 10
        }
      ],
      "source": [
        "\n",
        "df=pd.read_csv(\"DataCoSupplyChainDataset.csv\", encoding_errors=\"ignore\")\n",
        "df"
      ]
    },
    {
      "cell_type": "markdown",
      "metadata": {
        "id": "mzqAaEuaCCO5"
      },
      "source": [
        "**Data Preprocessing**"
      ]
    },
    {
      "cell_type": "code",
      "execution_count": null,
      "metadata": {
        "colab": {
          "base_uri": "https://localhost:8080/"
        },
        "id": "L34pB-xJCG86",
        "outputId": "3e92a382-3045-42b8-ea43-6382485b1303"
      },
      "outputs": [
        {
          "output_type": "stream",
          "name": "stdout",
          "text": [
            "<class 'pandas.core.frame.DataFrame'>\n",
            "RangeIndex: 180519 entries, 0 to 180518\n",
            "Data columns (total 53 columns):\n",
            " #   Column                         Non-Null Count   Dtype  \n",
            "---  ------                         --------------   -----  \n",
            " 0   Type                           180519 non-null  object \n",
            " 1   Days for shipping (real)       180519 non-null  int64  \n",
            " 2   Days for shipment (scheduled)  180519 non-null  int64  \n",
            " 3   Benefit per order              180519 non-null  float64\n",
            " 4   Sales per customer             180519 non-null  float64\n",
            " 5   Delivery Status                180519 non-null  object \n",
            " 6   Late_delivery_risk             180519 non-null  int64  \n",
            " 7   Category Id                    180519 non-null  int64  \n",
            " 8   Category Name                  180519 non-null  object \n",
            " 9   Customer City                  180519 non-null  object \n",
            " 10  Customer Country               180519 non-null  object \n",
            " 11  Customer Email                 180519 non-null  object \n",
            " 12  Customer Fname                 180519 non-null  object \n",
            " 13  Customer Id                    180519 non-null  int64  \n",
            " 14  Customer Lname                 180511 non-null  object \n",
            " 15  Customer Password              180519 non-null  object \n",
            " 16  Customer Segment               180519 non-null  object \n",
            " 17  Customer State                 180519 non-null  object \n",
            " 18  Customer Street                180519 non-null  object \n",
            " 19  Customer Zipcode               180516 non-null  float64\n",
            " 20  Department Id                  180519 non-null  int64  \n",
            " 21  Department Name                180519 non-null  object \n",
            " 22  Latitude                       180519 non-null  float64\n",
            " 23  Longitude                      180519 non-null  float64\n",
            " 24  Market                         180519 non-null  object \n",
            " 25  Order City                     180519 non-null  object \n",
            " 26  Order Country                  180519 non-null  object \n",
            " 27  Order Customer Id              180519 non-null  int64  \n",
            " 28  order date (DateOrders)        180519 non-null  object \n",
            " 29  Order Id                       180519 non-null  int64  \n",
            " 30  Order Item Cardprod Id         180519 non-null  int64  \n",
            " 31  Order Item Discount            180519 non-null  float64\n",
            " 32  Order Item Discount Rate       180519 non-null  float64\n",
            " 33  Order Item Id                  180519 non-null  int64  \n",
            " 34  Order Item Product Price       180519 non-null  float64\n",
            " 35  Order Item Profit Ratio        180519 non-null  float64\n",
            " 36  Order Item Quantity            180519 non-null  int64  \n",
            " 37  Sales                          180519 non-null  float64\n",
            " 38  Order Item Total               180519 non-null  float64\n",
            " 39  Order Profit Per Order         180519 non-null  float64\n",
            " 40  Order Region                   180519 non-null  object \n",
            " 41  Order State                    180519 non-null  object \n",
            " 42  Order Status                   180519 non-null  object \n",
            " 43  Order Zipcode                  24840 non-null   float64\n",
            " 44  Product Card Id                180519 non-null  int64  \n",
            " 45  Product Category Id            180519 non-null  int64  \n",
            " 46  Product Description            0 non-null       float64\n",
            " 47  Product Image                  180519 non-null  object \n",
            " 48  Product Name                   180519 non-null  object \n",
            " 49  Product Price                  180519 non-null  float64\n",
            " 50  Product Status                 180519 non-null  int64  \n",
            " 51  shipping date (DateOrders)     180519 non-null  object \n",
            " 52  Shipping Mode                  180519 non-null  object \n",
            "dtypes: float64(15), int64(14), object(24)\n",
            "memory usage: 73.0+ MB\n"
          ]
        }
      ],
      "source": [
        "df.info()"
      ]
    },
    {
      "cell_type": "code",
      "execution_count": null,
      "metadata": {
        "id": "0S3I_St3hE5-"
      },
      "outputs": [],
      "source": [
        "# Handling missing values\n",
        "# Handling data types\n",
        "# Handling categorical variables\n",
        "# Handling outliers\n"
      ]
    },
    {
      "cell_type": "code",
      "execution_count": null,
      "metadata": {
        "colab": {
          "base_uri": "https://localhost:8080/",
          "height": 428
        },
        "id": "tuUVL1gAGAQQ",
        "outputId": "607bc34a-094f-496d-ebf6-02e9961c59e1"
      },
      "outputs": [
        {
          "output_type": "execute_result",
          "data": {
            "text/plain": [
              "       Days for shipping (real)  Days for shipment (scheduled)  \\\n",
              "count             180519.000000                  180519.000000   \n",
              "mean                   3.497654                       2.931847   \n",
              "std                    1.623722                       1.374449   \n",
              "min                    0.000000                       0.000000   \n",
              "25%                    2.000000                       2.000000   \n",
              "50%                    3.000000                       4.000000   \n",
              "75%                    5.000000                       4.000000   \n",
              "max                    6.000000                       4.000000   \n",
              "\n",
              "       Benefit per order  Sales per customer  Late_delivery_risk  \\\n",
              "count      180519.000000       180519.000000       180519.000000   \n",
              "mean           21.974989          183.107609            0.548291   \n",
              "std           104.433526          120.043670            0.497664   \n",
              "min         -4274.979980            7.490000            0.000000   \n",
              "25%             7.000000          104.379997            0.000000   \n",
              "50%            31.520000          163.990005            1.000000   \n",
              "75%            64.800003          247.399994            1.000000   \n",
              "max           911.799988         1939.989990            1.000000   \n",
              "\n",
              "         Category Id    Customer Id  Customer Zipcode  Department Id  \\\n",
              "count  180519.000000  180519.000000     180516.000000  180519.000000   \n",
              "mean       31.851451    6691.379495      35921.126914       5.443460   \n",
              "std        15.640064    4162.918106      37542.461122       1.629246   \n",
              "min         2.000000       1.000000        603.000000       2.000000   \n",
              "25%        18.000000    3258.500000        725.000000       4.000000   \n",
              "50%        29.000000    6457.000000      19380.000000       5.000000   \n",
              "75%        45.000000    9779.000000      78207.000000       7.000000   \n",
              "max        76.000000   20757.000000      99205.000000      12.000000   \n",
              "\n",
              "            Latitude  ...  Order Item Quantity          Sales  \\\n",
              "count  180519.000000  ...        180519.000000  180519.000000   \n",
              "mean       29.719955  ...             2.127638     203.772096   \n",
              "std         9.813646  ...             1.453451     132.273077   \n",
              "min       -33.937553  ...             1.000000       9.990000   \n",
              "25%        18.265432  ...             1.000000     119.980003   \n",
              "50%        33.144863  ...             1.000000     199.919998   \n",
              "75%        39.279617  ...             3.000000     299.950012   \n",
              "max        48.781933  ...             5.000000    1999.989990   \n",
              "\n",
              "       Order Item Total  Order Profit Per Order  Order Zipcode  \\\n",
              "count     180519.000000           180519.000000   24840.000000   \n",
              "mean         183.107609               21.974989   55426.132327   \n",
              "std          120.043670              104.433526   31919.279101   \n",
              "min            7.490000            -4274.979980    1040.000000   \n",
              "25%          104.379997                7.000000   23464.000000   \n",
              "50%          163.990005               31.520000   59405.000000   \n",
              "75%          247.399994               64.800003   90008.000000   \n",
              "max         1939.989990              911.799988   99301.000000   \n",
              "\n",
              "       Product Card Id  Product Category Id  Product Description  \\\n",
              "count    180519.000000        180519.000000                  0.0   \n",
              "mean        692.509764            31.851451                  NaN   \n",
              "std         336.446807            15.640064                  NaN   \n",
              "min          19.000000             2.000000                  NaN   \n",
              "25%         403.000000            18.000000                  NaN   \n",
              "50%         627.000000            29.000000                  NaN   \n",
              "75%        1004.000000            45.000000                  NaN   \n",
              "max        1363.000000            76.000000                  NaN   \n",
              "\n",
              "       Product Price  Product Status  \n",
              "count  180519.000000        180519.0  \n",
              "mean      141.232550             0.0  \n",
              "std       139.732492             0.0  \n",
              "min         9.990000             0.0  \n",
              "25%        50.000000             0.0  \n",
              "50%        59.990002             0.0  \n",
              "75%       199.990005             0.0  \n",
              "max      1999.989990             0.0  \n",
              "\n",
              "[8 rows x 29 columns]"
            ],
            "text/html": [
              "\n",
              "  <div id=\"df-afbc3690-617d-4cd2-8bf9-0a55d00e49fc\">\n",
              "    <div class=\"colab-df-container\">\n",
              "      <div>\n",
              "<style scoped>\n",
              "    .dataframe tbody tr th:only-of-type {\n",
              "        vertical-align: middle;\n",
              "    }\n",
              "\n",
              "    .dataframe tbody tr th {\n",
              "        vertical-align: top;\n",
              "    }\n",
              "\n",
              "    .dataframe thead th {\n",
              "        text-align: right;\n",
              "    }\n",
              "</style>\n",
              "<table border=\"1\" class=\"dataframe\">\n",
              "  <thead>\n",
              "    <tr style=\"text-align: right;\">\n",
              "      <th></th>\n",
              "      <th>Days for shipping (real)</th>\n",
              "      <th>Days for shipment (scheduled)</th>\n",
              "      <th>Benefit per order</th>\n",
              "      <th>Sales per customer</th>\n",
              "      <th>Late_delivery_risk</th>\n",
              "      <th>Category Id</th>\n",
              "      <th>Customer Id</th>\n",
              "      <th>Customer Zipcode</th>\n",
              "      <th>Department Id</th>\n",
              "      <th>Latitude</th>\n",
              "      <th>...</th>\n",
              "      <th>Order Item Quantity</th>\n",
              "      <th>Sales</th>\n",
              "      <th>Order Item Total</th>\n",
              "      <th>Order Profit Per Order</th>\n",
              "      <th>Order Zipcode</th>\n",
              "      <th>Product Card Id</th>\n",
              "      <th>Product Category Id</th>\n",
              "      <th>Product Description</th>\n",
              "      <th>Product Price</th>\n",
              "      <th>Product Status</th>\n",
              "    </tr>\n",
              "  </thead>\n",
              "  <tbody>\n",
              "    <tr>\n",
              "      <th>count</th>\n",
              "      <td>180519.000000</td>\n",
              "      <td>180519.000000</td>\n",
              "      <td>180519.000000</td>\n",
              "      <td>180519.000000</td>\n",
              "      <td>180519.000000</td>\n",
              "      <td>180519.000000</td>\n",
              "      <td>180519.000000</td>\n",
              "      <td>180516.000000</td>\n",
              "      <td>180519.000000</td>\n",
              "      <td>180519.000000</td>\n",
              "      <td>...</td>\n",
              "      <td>180519.000000</td>\n",
              "      <td>180519.000000</td>\n",
              "      <td>180519.000000</td>\n",
              "      <td>180519.000000</td>\n",
              "      <td>24840.000000</td>\n",
              "      <td>180519.000000</td>\n",
              "      <td>180519.000000</td>\n",
              "      <td>0.0</td>\n",
              "      <td>180519.000000</td>\n",
              "      <td>180519.0</td>\n",
              "    </tr>\n",
              "    <tr>\n",
              "      <th>mean</th>\n",
              "      <td>3.497654</td>\n",
              "      <td>2.931847</td>\n",
              "      <td>21.974989</td>\n",
              "      <td>183.107609</td>\n",
              "      <td>0.548291</td>\n",
              "      <td>31.851451</td>\n",
              "      <td>6691.379495</td>\n",
              "      <td>35921.126914</td>\n",
              "      <td>5.443460</td>\n",
              "      <td>29.719955</td>\n",
              "      <td>...</td>\n",
              "      <td>2.127638</td>\n",
              "      <td>203.772096</td>\n",
              "      <td>183.107609</td>\n",
              "      <td>21.974989</td>\n",
              "      <td>55426.132327</td>\n",
              "      <td>692.509764</td>\n",
              "      <td>31.851451</td>\n",
              "      <td>NaN</td>\n",
              "      <td>141.232550</td>\n",
              "      <td>0.0</td>\n",
              "    </tr>\n",
              "    <tr>\n",
              "      <th>std</th>\n",
              "      <td>1.623722</td>\n",
              "      <td>1.374449</td>\n",
              "      <td>104.433526</td>\n",
              "      <td>120.043670</td>\n",
              "      <td>0.497664</td>\n",
              "      <td>15.640064</td>\n",
              "      <td>4162.918106</td>\n",
              "      <td>37542.461122</td>\n",
              "      <td>1.629246</td>\n",
              "      <td>9.813646</td>\n",
              "      <td>...</td>\n",
              "      <td>1.453451</td>\n",
              "      <td>132.273077</td>\n",
              "      <td>120.043670</td>\n",
              "      <td>104.433526</td>\n",
              "      <td>31919.279101</td>\n",
              "      <td>336.446807</td>\n",
              "      <td>15.640064</td>\n",
              "      <td>NaN</td>\n",
              "      <td>139.732492</td>\n",
              "      <td>0.0</td>\n",
              "    </tr>\n",
              "    <tr>\n",
              "      <th>min</th>\n",
              "      <td>0.000000</td>\n",
              "      <td>0.000000</td>\n",
              "      <td>-4274.979980</td>\n",
              "      <td>7.490000</td>\n",
              "      <td>0.000000</td>\n",
              "      <td>2.000000</td>\n",
              "      <td>1.000000</td>\n",
              "      <td>603.000000</td>\n",
              "      <td>2.000000</td>\n",
              "      <td>-33.937553</td>\n",
              "      <td>...</td>\n",
              "      <td>1.000000</td>\n",
              "      <td>9.990000</td>\n",
              "      <td>7.490000</td>\n",
              "      <td>-4274.979980</td>\n",
              "      <td>1040.000000</td>\n",
              "      <td>19.000000</td>\n",
              "      <td>2.000000</td>\n",
              "      <td>NaN</td>\n",
              "      <td>9.990000</td>\n",
              "      <td>0.0</td>\n",
              "    </tr>\n",
              "    <tr>\n",
              "      <th>25%</th>\n",
              "      <td>2.000000</td>\n",
              "      <td>2.000000</td>\n",
              "      <td>7.000000</td>\n",
              "      <td>104.379997</td>\n",
              "      <td>0.000000</td>\n",
              "      <td>18.000000</td>\n",
              "      <td>3258.500000</td>\n",
              "      <td>725.000000</td>\n",
              "      <td>4.000000</td>\n",
              "      <td>18.265432</td>\n",
              "      <td>...</td>\n",
              "      <td>1.000000</td>\n",
              "      <td>119.980003</td>\n",
              "      <td>104.379997</td>\n",
              "      <td>7.000000</td>\n",
              "      <td>23464.000000</td>\n",
              "      <td>403.000000</td>\n",
              "      <td>18.000000</td>\n",
              "      <td>NaN</td>\n",
              "      <td>50.000000</td>\n",
              "      <td>0.0</td>\n",
              "    </tr>\n",
              "    <tr>\n",
              "      <th>50%</th>\n",
              "      <td>3.000000</td>\n",
              "      <td>4.000000</td>\n",
              "      <td>31.520000</td>\n",
              "      <td>163.990005</td>\n",
              "      <td>1.000000</td>\n",
              "      <td>29.000000</td>\n",
              "      <td>6457.000000</td>\n",
              "      <td>19380.000000</td>\n",
              "      <td>5.000000</td>\n",
              "      <td>33.144863</td>\n",
              "      <td>...</td>\n",
              "      <td>1.000000</td>\n",
              "      <td>199.919998</td>\n",
              "      <td>163.990005</td>\n",
              "      <td>31.520000</td>\n",
              "      <td>59405.000000</td>\n",
              "      <td>627.000000</td>\n",
              "      <td>29.000000</td>\n",
              "      <td>NaN</td>\n",
              "      <td>59.990002</td>\n",
              "      <td>0.0</td>\n",
              "    </tr>\n",
              "    <tr>\n",
              "      <th>75%</th>\n",
              "      <td>5.000000</td>\n",
              "      <td>4.000000</td>\n",
              "      <td>64.800003</td>\n",
              "      <td>247.399994</td>\n",
              "      <td>1.000000</td>\n",
              "      <td>45.000000</td>\n",
              "      <td>9779.000000</td>\n",
              "      <td>78207.000000</td>\n",
              "      <td>7.000000</td>\n",
              "      <td>39.279617</td>\n",
              "      <td>...</td>\n",
              "      <td>3.000000</td>\n",
              "      <td>299.950012</td>\n",
              "      <td>247.399994</td>\n",
              "      <td>64.800003</td>\n",
              "      <td>90008.000000</td>\n",
              "      <td>1004.000000</td>\n",
              "      <td>45.000000</td>\n",
              "      <td>NaN</td>\n",
              "      <td>199.990005</td>\n",
              "      <td>0.0</td>\n",
              "    </tr>\n",
              "    <tr>\n",
              "      <th>max</th>\n",
              "      <td>6.000000</td>\n",
              "      <td>4.000000</td>\n",
              "      <td>911.799988</td>\n",
              "      <td>1939.989990</td>\n",
              "      <td>1.000000</td>\n",
              "      <td>76.000000</td>\n",
              "      <td>20757.000000</td>\n",
              "      <td>99205.000000</td>\n",
              "      <td>12.000000</td>\n",
              "      <td>48.781933</td>\n",
              "      <td>...</td>\n",
              "      <td>5.000000</td>\n",
              "      <td>1999.989990</td>\n",
              "      <td>1939.989990</td>\n",
              "      <td>911.799988</td>\n",
              "      <td>99301.000000</td>\n",
              "      <td>1363.000000</td>\n",
              "      <td>76.000000</td>\n",
              "      <td>NaN</td>\n",
              "      <td>1999.989990</td>\n",
              "      <td>0.0</td>\n",
              "    </tr>\n",
              "  </tbody>\n",
              "</table>\n",
              "<p>8 rows × 29 columns</p>\n",
              "</div>\n",
              "      <button class=\"colab-df-convert\" onclick=\"convertToInteractive('df-afbc3690-617d-4cd2-8bf9-0a55d00e49fc')\"\n",
              "              title=\"Convert this dataframe to an interactive table.\"\n",
              "              style=\"display:none;\">\n",
              "        \n",
              "  <svg xmlns=\"http://www.w3.org/2000/svg\" height=\"24px\"viewBox=\"0 0 24 24\"\n",
              "       width=\"24px\">\n",
              "    <path d=\"M0 0h24v24H0V0z\" fill=\"none\"/>\n",
              "    <path d=\"M18.56 5.44l.94 2.06.94-2.06 2.06-.94-2.06-.94-.94-2.06-.94 2.06-2.06.94zm-11 1L8.5 8.5l.94-2.06 2.06-.94-2.06-.94L8.5 2.5l-.94 2.06-2.06.94zm10 10l.94 2.06.94-2.06 2.06-.94-2.06-.94-.94-2.06-.94 2.06-2.06.94z\"/><path d=\"M17.41 7.96l-1.37-1.37c-.4-.4-.92-.59-1.43-.59-.52 0-1.04.2-1.43.59L10.3 9.45l-7.72 7.72c-.78.78-.78 2.05 0 2.83L4 21.41c.39.39.9.59 1.41.59.51 0 1.02-.2 1.41-.59l7.78-7.78 2.81-2.81c.8-.78.8-2.07 0-2.86zM5.41 20L4 18.59l7.72-7.72 1.47 1.35L5.41 20z\"/>\n",
              "  </svg>\n",
              "      </button>\n",
              "      \n",
              "  <style>\n",
              "    .colab-df-container {\n",
              "      display:flex;\n",
              "      flex-wrap:wrap;\n",
              "      gap: 12px;\n",
              "    }\n",
              "\n",
              "    .colab-df-convert {\n",
              "      background-color: #E8F0FE;\n",
              "      border: none;\n",
              "      border-radius: 50%;\n",
              "      cursor: pointer;\n",
              "      display: none;\n",
              "      fill: #1967D2;\n",
              "      height: 32px;\n",
              "      padding: 0 0 0 0;\n",
              "      width: 32px;\n",
              "    }\n",
              "\n",
              "    .colab-df-convert:hover {\n",
              "      background-color: #E2EBFA;\n",
              "      box-shadow: 0px 1px 2px rgba(60, 64, 67, 0.3), 0px 1px 3px 1px rgba(60, 64, 67, 0.15);\n",
              "      fill: #174EA6;\n",
              "    }\n",
              "\n",
              "    [theme=dark] .colab-df-convert {\n",
              "      background-color: #3B4455;\n",
              "      fill: #D2E3FC;\n",
              "    }\n",
              "\n",
              "    [theme=dark] .colab-df-convert:hover {\n",
              "      background-color: #434B5C;\n",
              "      box-shadow: 0px 1px 3px 1px rgba(0, 0, 0, 0.15);\n",
              "      filter: drop-shadow(0px 1px 2px rgba(0, 0, 0, 0.3));\n",
              "      fill: #FFFFFF;\n",
              "    }\n",
              "  </style>\n",
              "\n",
              "      <script>\n",
              "        const buttonEl =\n",
              "          document.querySelector('#df-afbc3690-617d-4cd2-8bf9-0a55d00e49fc button.colab-df-convert');\n",
              "        buttonEl.style.display =\n",
              "          google.colab.kernel.accessAllowed ? 'block' : 'none';\n",
              "\n",
              "        async function convertToInteractive(key) {\n",
              "          const element = document.querySelector('#df-afbc3690-617d-4cd2-8bf9-0a55d00e49fc');\n",
              "          const dataTable =\n",
              "            await google.colab.kernel.invokeFunction('convertToInteractive',\n",
              "                                                     [key], {});\n",
              "          if (!dataTable) return;\n",
              "\n",
              "          const docLinkHtml = 'Like what you see? Visit the ' +\n",
              "            '<a target=\"_blank\" href=https://colab.research.google.com/notebooks/data_table.ipynb>data table notebook</a>'\n",
              "            + ' to learn more about interactive tables.';\n",
              "          element.innerHTML = '';\n",
              "          dataTable['output_type'] = 'display_data';\n",
              "          await google.colab.output.renderOutput(dataTable, element);\n",
              "          const docLink = document.createElement('div');\n",
              "          docLink.innerHTML = docLinkHtml;\n",
              "          element.appendChild(docLink);\n",
              "        }\n",
              "      </script>\n",
              "    </div>\n",
              "  </div>\n",
              "  "
            ]
          },
          "metadata": {},
          "execution_count": 13
        }
      ],
      "source": [
        "df.describe()"
      ]
    },
    {
      "cell_type": "code",
      "execution_count": null,
      "metadata": {
        "colab": {
          "base_uri": "https://localhost:8080/"
        },
        "id": "4J3uo-ISGDFG",
        "outputId": "5dcacca5-fef3-4fd4-d18f-4f2963bac445"
      },
      "outputs": [
        {
          "output_type": "execute_result",
          "data": {
            "text/plain": [
              "Type                                  0\n",
              "Days for shipping (real)              0\n",
              "Days for shipment (scheduled)         0\n",
              "Benefit per order                     0\n",
              "Sales per customer                    0\n",
              "Delivery Status                       0\n",
              "Late_delivery_risk                    0\n",
              "Category Id                           0\n",
              "Category Name                         0\n",
              "Customer City                         0\n",
              "Customer Country                      0\n",
              "Customer Email                        0\n",
              "Customer Fname                        0\n",
              "Customer Id                           0\n",
              "Customer Lname                        8\n",
              "Customer Password                     0\n",
              "Customer Segment                      0\n",
              "Customer State                        0\n",
              "Customer Street                       0\n",
              "Customer Zipcode                      3\n",
              "Department Id                         0\n",
              "Department Name                       0\n",
              "Latitude                              0\n",
              "Longitude                             0\n",
              "Market                                0\n",
              "Order City                            0\n",
              "Order Country                         0\n",
              "Order Customer Id                     0\n",
              "order date (DateOrders)               0\n",
              "Order Id                              0\n",
              "Order Item Cardprod Id                0\n",
              "Order Item Discount                   0\n",
              "Order Item Discount Rate              0\n",
              "Order Item Id                         0\n",
              "Order Item Product Price              0\n",
              "Order Item Profit Ratio               0\n",
              "Order Item Quantity                   0\n",
              "Sales                                 0\n",
              "Order Item Total                      0\n",
              "Order Profit Per Order                0\n",
              "Order Region                          0\n",
              "Order State                           0\n",
              "Order Status                          0\n",
              "Order Zipcode                    155679\n",
              "Product Card Id                       0\n",
              "Product Category Id                   0\n",
              "Product Description              180519\n",
              "Product Image                         0\n",
              "Product Name                          0\n",
              "Product Price                         0\n",
              "Product Status                        0\n",
              "shipping date (DateOrders)            0\n",
              "Shipping Mode                         0\n",
              "dtype: int64"
            ]
          },
          "metadata": {},
          "execution_count": 14
        }
      ],
      "source": [
        "df.isna().sum()"
      ]
    },
    {
      "cell_type": "code",
      "execution_count": null,
      "metadata": {
        "id": "yx37rFO-GJ__"
      },
      "outputs": [],
      "source": [
        "df.drop([\"Customer Email\",\"Customer Password\",\"Product Image\",\"Customer Fname\",\"Customer Fname\"],axis=1,inplace=True)"
      ]
    },
    {
      "cell_type": "code",
      "execution_count": null,
      "metadata": {
        "colab": {
          "base_uri": "https://localhost:8080/",
          "height": 421
        },
        "id": "iG-oVePGGMrC",
        "outputId": "a7785a84-9e69-4915-e1d6-044a31cef74d"
      },
      "outputs": [
        {
          "output_type": "execute_result",
          "data": {
            "text/plain": [
              "       Type  Days for shipping (real)  Days for shipment (scheduled)  \\\n",
              "0     DEBIT                         3                              4   \n",
              "1  TRANSFER                         5                              4   \n",
              "2      CASH                         4                              4   \n",
              "3     DEBIT                         3                              4   \n",
              "4   PAYMENT                         2                              4   \n",
              "\n",
              "   Benefit per order  Sales per customer   Delivery Status  \\\n",
              "0          91.250000          314.640015  Advance shipping   \n",
              "1        -249.089996          311.359985     Late delivery   \n",
              "2        -247.779999          309.720001  Shipping on time   \n",
              "3          22.860001          304.809998  Advance shipping   \n",
              "4         134.210007          298.250000  Advance shipping   \n",
              "\n",
              "   Late_delivery_risk  Category Id   Category Name Customer City  ...  \\\n",
              "0                   0           73  Sporting Goods        Caguas  ...   \n",
              "1                   1           73  Sporting Goods        Caguas  ...   \n",
              "2                   0           73  Sporting Goods      San Jose  ...   \n",
              "3                   0           73  Sporting Goods   Los Angeles  ...   \n",
              "4                   0           73  Sporting Goods        Caguas  ...   \n",
              "\n",
              "      Order Status  Order Zipcode Product Card Id Product Category Id  \\\n",
              "0         COMPLETE            NaN            1360                  73   \n",
              "1          PENDING            NaN            1360                  73   \n",
              "2           CLOSED            NaN            1360                  73   \n",
              "3         COMPLETE            NaN            1360                  73   \n",
              "4  PENDING_PAYMENT            NaN            1360                  73   \n",
              "\n",
              "  Product Description  Product Name  Product Price  Product Status  \\\n",
              "0                 NaN  Smart watch          327.75               0   \n",
              "1                 NaN  Smart watch          327.75               0   \n",
              "2                 NaN  Smart watch          327.75               0   \n",
              "3                 NaN  Smart watch          327.75               0   \n",
              "4                 NaN  Smart watch          327.75               0   \n",
              "\n",
              "  shipping date (DateOrders)   Shipping Mode  \n",
              "0             2/3/2018 22:56  Standard Class  \n",
              "1            1/18/2018 12:27  Standard Class  \n",
              "2            1/17/2018 12:06  Standard Class  \n",
              "3            1/16/2018 11:45  Standard Class  \n",
              "4            1/15/2018 11:24  Standard Class  \n",
              "\n",
              "[5 rows x 49 columns]"
            ],
            "text/html": [
              "\n",
              "  <div id=\"df-8e4f249e-257a-4633-a474-958fa978a47b\">\n",
              "    <div class=\"colab-df-container\">\n",
              "      <div>\n",
              "<style scoped>\n",
              "    .dataframe tbody tr th:only-of-type {\n",
              "        vertical-align: middle;\n",
              "    }\n",
              "\n",
              "    .dataframe tbody tr th {\n",
              "        vertical-align: top;\n",
              "    }\n",
              "\n",
              "    .dataframe thead th {\n",
              "        text-align: right;\n",
              "    }\n",
              "</style>\n",
              "<table border=\"1\" class=\"dataframe\">\n",
              "  <thead>\n",
              "    <tr style=\"text-align: right;\">\n",
              "      <th></th>\n",
              "      <th>Type</th>\n",
              "      <th>Days for shipping (real)</th>\n",
              "      <th>Days for shipment (scheduled)</th>\n",
              "      <th>Benefit per order</th>\n",
              "      <th>Sales per customer</th>\n",
              "      <th>Delivery Status</th>\n",
              "      <th>Late_delivery_risk</th>\n",
              "      <th>Category Id</th>\n",
              "      <th>Category Name</th>\n",
              "      <th>Customer City</th>\n",
              "      <th>...</th>\n",
              "      <th>Order Status</th>\n",
              "      <th>Order Zipcode</th>\n",
              "      <th>Product Card Id</th>\n",
              "      <th>Product Category Id</th>\n",
              "      <th>Product Description</th>\n",
              "      <th>Product Name</th>\n",
              "      <th>Product Price</th>\n",
              "      <th>Product Status</th>\n",
              "      <th>shipping date (DateOrders)</th>\n",
              "      <th>Shipping Mode</th>\n",
              "    </tr>\n",
              "  </thead>\n",
              "  <tbody>\n",
              "    <tr>\n",
              "      <th>0</th>\n",
              "      <td>DEBIT</td>\n",
              "      <td>3</td>\n",
              "      <td>4</td>\n",
              "      <td>91.250000</td>\n",
              "      <td>314.640015</td>\n",
              "      <td>Advance shipping</td>\n",
              "      <td>0</td>\n",
              "      <td>73</td>\n",
              "      <td>Sporting Goods</td>\n",
              "      <td>Caguas</td>\n",
              "      <td>...</td>\n",
              "      <td>COMPLETE</td>\n",
              "      <td>NaN</td>\n",
              "      <td>1360</td>\n",
              "      <td>73</td>\n",
              "      <td>NaN</td>\n",
              "      <td>Smart watch</td>\n",
              "      <td>327.75</td>\n",
              "      <td>0</td>\n",
              "      <td>2/3/2018 22:56</td>\n",
              "      <td>Standard Class</td>\n",
              "    </tr>\n",
              "    <tr>\n",
              "      <th>1</th>\n",
              "      <td>TRANSFER</td>\n",
              "      <td>5</td>\n",
              "      <td>4</td>\n",
              "      <td>-249.089996</td>\n",
              "      <td>311.359985</td>\n",
              "      <td>Late delivery</td>\n",
              "      <td>1</td>\n",
              "      <td>73</td>\n",
              "      <td>Sporting Goods</td>\n",
              "      <td>Caguas</td>\n",
              "      <td>...</td>\n",
              "      <td>PENDING</td>\n",
              "      <td>NaN</td>\n",
              "      <td>1360</td>\n",
              "      <td>73</td>\n",
              "      <td>NaN</td>\n",
              "      <td>Smart watch</td>\n",
              "      <td>327.75</td>\n",
              "      <td>0</td>\n",
              "      <td>1/18/2018 12:27</td>\n",
              "      <td>Standard Class</td>\n",
              "    </tr>\n",
              "    <tr>\n",
              "      <th>2</th>\n",
              "      <td>CASH</td>\n",
              "      <td>4</td>\n",
              "      <td>4</td>\n",
              "      <td>-247.779999</td>\n",
              "      <td>309.720001</td>\n",
              "      <td>Shipping on time</td>\n",
              "      <td>0</td>\n",
              "      <td>73</td>\n",
              "      <td>Sporting Goods</td>\n",
              "      <td>San Jose</td>\n",
              "      <td>...</td>\n",
              "      <td>CLOSED</td>\n",
              "      <td>NaN</td>\n",
              "      <td>1360</td>\n",
              "      <td>73</td>\n",
              "      <td>NaN</td>\n",
              "      <td>Smart watch</td>\n",
              "      <td>327.75</td>\n",
              "      <td>0</td>\n",
              "      <td>1/17/2018 12:06</td>\n",
              "      <td>Standard Class</td>\n",
              "    </tr>\n",
              "    <tr>\n",
              "      <th>3</th>\n",
              "      <td>DEBIT</td>\n",
              "      <td>3</td>\n",
              "      <td>4</td>\n",
              "      <td>22.860001</td>\n",
              "      <td>304.809998</td>\n",
              "      <td>Advance shipping</td>\n",
              "      <td>0</td>\n",
              "      <td>73</td>\n",
              "      <td>Sporting Goods</td>\n",
              "      <td>Los Angeles</td>\n",
              "      <td>...</td>\n",
              "      <td>COMPLETE</td>\n",
              "      <td>NaN</td>\n",
              "      <td>1360</td>\n",
              "      <td>73</td>\n",
              "      <td>NaN</td>\n",
              "      <td>Smart watch</td>\n",
              "      <td>327.75</td>\n",
              "      <td>0</td>\n",
              "      <td>1/16/2018 11:45</td>\n",
              "      <td>Standard Class</td>\n",
              "    </tr>\n",
              "    <tr>\n",
              "      <th>4</th>\n",
              "      <td>PAYMENT</td>\n",
              "      <td>2</td>\n",
              "      <td>4</td>\n",
              "      <td>134.210007</td>\n",
              "      <td>298.250000</td>\n",
              "      <td>Advance shipping</td>\n",
              "      <td>0</td>\n",
              "      <td>73</td>\n",
              "      <td>Sporting Goods</td>\n",
              "      <td>Caguas</td>\n",
              "      <td>...</td>\n",
              "      <td>PENDING_PAYMENT</td>\n",
              "      <td>NaN</td>\n",
              "      <td>1360</td>\n",
              "      <td>73</td>\n",
              "      <td>NaN</td>\n",
              "      <td>Smart watch</td>\n",
              "      <td>327.75</td>\n",
              "      <td>0</td>\n",
              "      <td>1/15/2018 11:24</td>\n",
              "      <td>Standard Class</td>\n",
              "    </tr>\n",
              "  </tbody>\n",
              "</table>\n",
              "<p>5 rows × 49 columns</p>\n",
              "</div>\n",
              "      <button class=\"colab-df-convert\" onclick=\"convertToInteractive('df-8e4f249e-257a-4633-a474-958fa978a47b')\"\n",
              "              title=\"Convert this dataframe to an interactive table.\"\n",
              "              style=\"display:none;\">\n",
              "        \n",
              "  <svg xmlns=\"http://www.w3.org/2000/svg\" height=\"24px\"viewBox=\"0 0 24 24\"\n",
              "       width=\"24px\">\n",
              "    <path d=\"M0 0h24v24H0V0z\" fill=\"none\"/>\n",
              "    <path d=\"M18.56 5.44l.94 2.06.94-2.06 2.06-.94-2.06-.94-.94-2.06-.94 2.06-2.06.94zm-11 1L8.5 8.5l.94-2.06 2.06-.94-2.06-.94L8.5 2.5l-.94 2.06-2.06.94zm10 10l.94 2.06.94-2.06 2.06-.94-2.06-.94-.94-2.06-.94 2.06-2.06.94z\"/><path d=\"M17.41 7.96l-1.37-1.37c-.4-.4-.92-.59-1.43-.59-.52 0-1.04.2-1.43.59L10.3 9.45l-7.72 7.72c-.78.78-.78 2.05 0 2.83L4 21.41c.39.39.9.59 1.41.59.51 0 1.02-.2 1.41-.59l7.78-7.78 2.81-2.81c.8-.78.8-2.07 0-2.86zM5.41 20L4 18.59l7.72-7.72 1.47 1.35L5.41 20z\"/>\n",
              "  </svg>\n",
              "      </button>\n",
              "      \n",
              "  <style>\n",
              "    .colab-df-container {\n",
              "      display:flex;\n",
              "      flex-wrap:wrap;\n",
              "      gap: 12px;\n",
              "    }\n",
              "\n",
              "    .colab-df-convert {\n",
              "      background-color: #E8F0FE;\n",
              "      border: none;\n",
              "      border-radius: 50%;\n",
              "      cursor: pointer;\n",
              "      display: none;\n",
              "      fill: #1967D2;\n",
              "      height: 32px;\n",
              "      padding: 0 0 0 0;\n",
              "      width: 32px;\n",
              "    }\n",
              "\n",
              "    .colab-df-convert:hover {\n",
              "      background-color: #E2EBFA;\n",
              "      box-shadow: 0px 1px 2px rgba(60, 64, 67, 0.3), 0px 1px 3px 1px rgba(60, 64, 67, 0.15);\n",
              "      fill: #174EA6;\n",
              "    }\n",
              "\n",
              "    [theme=dark] .colab-df-convert {\n",
              "      background-color: #3B4455;\n",
              "      fill: #D2E3FC;\n",
              "    }\n",
              "\n",
              "    [theme=dark] .colab-df-convert:hover {\n",
              "      background-color: #434B5C;\n",
              "      box-shadow: 0px 1px 3px 1px rgba(0, 0, 0, 0.15);\n",
              "      filter: drop-shadow(0px 1px 2px rgba(0, 0, 0, 0.3));\n",
              "      fill: #FFFFFF;\n",
              "    }\n",
              "  </style>\n",
              "\n",
              "      <script>\n",
              "        const buttonEl =\n",
              "          document.querySelector('#df-8e4f249e-257a-4633-a474-958fa978a47b button.colab-df-convert');\n",
              "        buttonEl.style.display =\n",
              "          google.colab.kernel.accessAllowed ? 'block' : 'none';\n",
              "\n",
              "        async function convertToInteractive(key) {\n",
              "          const element = document.querySelector('#df-8e4f249e-257a-4633-a474-958fa978a47b');\n",
              "          const dataTable =\n",
              "            await google.colab.kernel.invokeFunction('convertToInteractive',\n",
              "                                                     [key], {});\n",
              "          if (!dataTable) return;\n",
              "\n",
              "          const docLinkHtml = 'Like what you see? Visit the ' +\n",
              "            '<a target=\"_blank\" href=https://colab.research.google.com/notebooks/data_table.ipynb>data table notebook</a>'\n",
              "            + ' to learn more about interactive tables.';\n",
              "          element.innerHTML = '';\n",
              "          dataTable['output_type'] = 'display_data';\n",
              "          await google.colab.output.renderOutput(dataTable, element);\n",
              "          const docLink = document.createElement('div');\n",
              "          docLink.innerHTML = docLinkHtml;\n",
              "          element.appendChild(docLink);\n",
              "        }\n",
              "      </script>\n",
              "    </div>\n",
              "  </div>\n",
              "  "
            ]
          },
          "metadata": {},
          "execution_count": 16
        }
      ],
      "source": [
        "df.head()"
      ]
    },
    {
      "cell_type": "code",
      "execution_count": null,
      "metadata": {
        "id": "_PGFR2TXiXbf"
      },
      "outputs": [],
      "source": [
        "df['Order Zipcode'].fillna(0, inplace=True)\n",
        "df['Product Description'].fillna(0, inplace=True)"
      ]
    },
    {
      "cell_type": "code",
      "execution_count": null,
      "metadata": {
        "id": "0SPfecDkGPiG"
      },
      "outputs": [],
      "source": [
        "df.rename(columns={\"Type\":\"Type Of Payments\"},inplace=True)"
      ]
    },
    {
      "cell_type": "code",
      "execution_count": null,
      "metadata": {
        "id": "Z_WurjwLGRc1",
        "colab": {
          "base_uri": "https://localhost:8080/"
        },
        "outputId": "70ca6581-8c95-4e2d-aadc-d5b024647395"
      },
      "outputs": [
        {
          "output_type": "stream",
          "name": "stdout",
          "text": [
            "<class 'pandas.core.frame.DataFrame'>\n",
            "RangeIndex: 180519 entries, 0 to 180518\n",
            "Data columns (total 49 columns):\n",
            " #   Column                         Non-Null Count   Dtype  \n",
            "---  ------                         --------------   -----  \n",
            " 0   Type Of Payments               180519 non-null  object \n",
            " 1   Days for shipping (real)       180519 non-null  int64  \n",
            " 2   Days for shipment (scheduled)  180519 non-null  int64  \n",
            " 3   Benefit per order              180519 non-null  float64\n",
            " 4   Sales per customer             180519 non-null  float64\n",
            " 5   Delivery Status                180519 non-null  object \n",
            " 6   Late_delivery_risk             180519 non-null  int64  \n",
            " 7   Category Id                    180519 non-null  int64  \n",
            " 8   Category Name                  180519 non-null  object \n",
            " 9   Customer City                  180519 non-null  object \n",
            " 10  Customer Country               180519 non-null  object \n",
            " 11  Customer Id                    180519 non-null  int64  \n",
            " 12  Customer Lname                 180511 non-null  object \n",
            " 13  Customer Segment               180519 non-null  object \n",
            " 14  Customer State                 180519 non-null  object \n",
            " 15  Customer Street                180519 non-null  object \n",
            " 16  Customer Zipcode               180516 non-null  float64\n",
            " 17  Department Id                  180519 non-null  int64  \n",
            " 18  Department Name                180519 non-null  object \n",
            " 19  Latitude                       180519 non-null  float64\n",
            " 20  Longitude                      180519 non-null  float64\n",
            " 21  Market                         180519 non-null  object \n",
            " 22  Order City                     180519 non-null  object \n",
            " 23  Order Country                  180519 non-null  object \n",
            " 24  Order Customer Id              180519 non-null  int64  \n",
            " 25  order date (DateOrders)        180519 non-null  object \n",
            " 26  Order Id                       180519 non-null  int64  \n",
            " 27  Order Item Cardprod Id         180519 non-null  int64  \n",
            " 28  Order Item Discount            180519 non-null  float64\n",
            " 29  Order Item Discount Rate       180519 non-null  float64\n",
            " 30  Order Item Id                  180519 non-null  int64  \n",
            " 31  Order Item Product Price       180519 non-null  float64\n",
            " 32  Order Item Profit Ratio        180519 non-null  float64\n",
            " 33  Order Item Quantity            180519 non-null  int64  \n",
            " 34  Sales                          180519 non-null  float64\n",
            " 35  Order Item Total               180519 non-null  float64\n",
            " 36  Order Profit Per Order         180519 non-null  float64\n",
            " 37  Order Region                   180519 non-null  object \n",
            " 38  Order State                    180519 non-null  object \n",
            " 39  Order Status                   180519 non-null  object \n",
            " 40  Order Zipcode                  180519 non-null  float64\n",
            " 41  Product Card Id                180519 non-null  int64  \n",
            " 42  Product Category Id            180519 non-null  int64  \n",
            " 43  Product Description            180519 non-null  float64\n",
            " 44  Product Name                   180519 non-null  object \n",
            " 45  Product Price                  180519 non-null  float64\n",
            " 46  Product Status                 180519 non-null  int64  \n",
            " 47  shipping date (DateOrders)     180519 non-null  object \n",
            " 48  Shipping Mode                  180519 non-null  object \n",
            "dtypes: float64(15), int64(14), object(20)\n",
            "memory usage: 67.5+ MB\n"
          ]
        }
      ],
      "source": [
        "df.info()"
      ]
    },
    {
      "cell_type": "markdown",
      "metadata": {
        "id": "J2zs_3jqS6VH"
      },
      "source": [
        "Sales per year,month and day date"
      ]
    },
    {
      "cell_type": "code",
      "execution_count": null,
      "metadata": {
        "id": "5b-ZkeCFS6_P"
      },
      "outputs": [],
      "source": [
        "df['year'] = df['order date (DateOrders)'].apply(lambda x: x.split('/')[-1].split(' ')[0])"
      ]
    },
    {
      "cell_type": "code",
      "execution_count": null,
      "metadata": {
        "id": "FszQk1lDS99U"
      },
      "outputs": [],
      "source": [
        "df['month'] = df['order date (DateOrders)'].apply(lambda x: x.split('/')[0].split(' ')[0])"
      ]
    },
    {
      "cell_type": "code",
      "execution_count": null,
      "metadata": {
        "id": "jL2U1DHZTC76"
      },
      "outputs": [],
      "source": [
        "df['day date'] = df['order date (DateOrders)'].apply(lambda x: x.split('/')[1].split(' ')[0])"
      ]
    },
    {
      "cell_type": "markdown",
      "metadata": {
        "id": "JVlamLIPTqJW"
      },
      "source": [
        "**Data Modeling**"
      ]
    },
    {
      "cell_type": "markdown",
      "metadata": {
        "id": "IVgmSnFjTtm9"
      },
      "source": [
        "Encoding label"
      ]
    },
    {
      "cell_type": "code",
      "execution_count": null,
      "metadata": {
        "id": "WcpaMSehTv5g"
      },
      "outputs": [],
      "source": [
        "from sklearn.preprocessing import LabelEncoder"
      ]
    },
    {
      "cell_type": "code",
      "execution_count": null,
      "metadata": {
        "id": "oi6iJ0vETyV2"
      },
      "outputs": [],
      "source": [
        "le=LabelEncoder()\n",
        "def Labelencoder_feature(x):\n",
        "    le=LabelEncoder()\n",
        "    x=le.fit_transform(x)\n",
        "    return x"
      ]
    },
    {
      "cell_type": "markdown",
      "metadata": {
        "id": "GcpUNf_fT4fV"
      },
      "source": [
        "Forcasting sales of different product"
      ]
    },
    {
      "cell_type": "code",
      "execution_count": null,
      "metadata": {
        "id": "vO5WYi1UT667"
      },
      "outputs": [],
      "source": [
        "data_sales=df[['Type Of Payments','Benefit per order', 'Sales per customer', 'Delivery Status','Late_delivery_risk', \n",
        "             'Category Name', 'Customer City','Customer Country','Customer Id','Customer Segment',\n",
        "             'Customer State', 'Customer Zipcode','Department Name', 'Latitude', 'Longitude', 'Market',\n",
        "             'Order City', 'Order Country', 'Order Customer Id','order date (DateOrders)', 'Order Id', \n",
        "             'Order Item Cardprod Id','Order Item Discount', 'Order Item Discount Rate', 'Order Item Id',\n",
        "             'Order Item Product Price', 'Order Item Profit Ratio','Order Item Quantity', 'Sales', \n",
        "             'Order Item Total','Order Profit Per Order', 'Order Region', 'Order State', 'Order Status',\n",
        "             'Order Zipcode', 'Product Card Id', 'Product Category Id','Product Description', \n",
        "             'Product Name', 'Product Price','Product Status', 'shipping date (DateOrders)', 'Shipping Mode']]"
      ]
    },
    {
      "cell_type": "code",
      "execution_count": null,
      "metadata": {
        "id": "9o-evIwHT-gz"
      },
      "outputs": [],
      "source": [
        "features=data_sales.drop(columns=['Benefit per order'])\n",
        "target=data_sales['Benefit per order'].astype(str)"
      ]
    },
    {
      "cell_type": "code",
      "execution_count": null,
      "metadata": {
        "colab": {
          "base_uri": "https://localhost:8080/",
          "height": 334
        },
        "id": "rtX-zEOwUA2z",
        "outputId": "4f672007-d540-49b4-8f97-0925b7085eab"
      },
      "outputs": [
        {
          "output_type": "execute_result",
          "data": {
            "text/plain": [
              "   Type Of Payments  Sales per customer  Delivery Status  Late_delivery_risk  \\\n",
              "0                 1                2568                0                   0   \n",
              "1                 3                2559                1                   1   \n",
              "2                 0                2555                3                   0   \n",
              "3                 1                2546                0                   0   \n",
              "4                 2                2526                0                   0   \n",
              "\n",
              "   Category Name  Customer City  Customer Country  Customer Id  \\\n",
              "0             40             66                 1        20649   \n",
              "1             40             66                 1        19386   \n",
              "2             40            452                 0        19385   \n",
              "3             40            285                 0        19384   \n",
              "4             40             66                 1        19383   \n",
              "\n",
              "   Customer Segment  Customer State  ...  Order Status  Order Zipcode  \\\n",
              "0                 0              36  ...             2              0   \n",
              "1                 0              36  ...             5              0   \n",
              "2                 0               5  ...             1              0   \n",
              "3                 2               5  ...             2              0   \n",
              "4                 1              36  ...             6              0   \n",
              "\n",
              "   Product Card Id  Product Category Id  Product Description  Product Name  \\\n",
              "0              114                   47                    0            78   \n",
              "1              114                   47                    0            78   \n",
              "2              114                   47                    0            78   \n",
              "3              114                   47                    0            78   \n",
              "4              114                   47                    0            78   \n",
              "\n",
              "   Product Price  Product Status  shipping date (DateOrders)  Shipping Mode  \n",
              "0             62               0                       27149              3  \n",
              "1             62               0                        2209              3  \n",
              "2             62               0                        1980              3  \n",
              "3             62               0                        1752              3  \n",
              "4             62               0                        1528              3  \n",
              "\n",
              "[5 rows x 42 columns]"
            ],
            "text/html": [
              "\n",
              "  <div id=\"df-c251026d-040c-4b33-8da2-5f35b43def47\">\n",
              "    <div class=\"colab-df-container\">\n",
              "      <div>\n",
              "<style scoped>\n",
              "    .dataframe tbody tr th:only-of-type {\n",
              "        vertical-align: middle;\n",
              "    }\n",
              "\n",
              "    .dataframe tbody tr th {\n",
              "        vertical-align: top;\n",
              "    }\n",
              "\n",
              "    .dataframe thead th {\n",
              "        text-align: right;\n",
              "    }\n",
              "</style>\n",
              "<table border=\"1\" class=\"dataframe\">\n",
              "  <thead>\n",
              "    <tr style=\"text-align: right;\">\n",
              "      <th></th>\n",
              "      <th>Type Of Payments</th>\n",
              "      <th>Sales per customer</th>\n",
              "      <th>Delivery Status</th>\n",
              "      <th>Late_delivery_risk</th>\n",
              "      <th>Category Name</th>\n",
              "      <th>Customer City</th>\n",
              "      <th>Customer Country</th>\n",
              "      <th>Customer Id</th>\n",
              "      <th>Customer Segment</th>\n",
              "      <th>Customer State</th>\n",
              "      <th>...</th>\n",
              "      <th>Order Status</th>\n",
              "      <th>Order Zipcode</th>\n",
              "      <th>Product Card Id</th>\n",
              "      <th>Product Category Id</th>\n",
              "      <th>Product Description</th>\n",
              "      <th>Product Name</th>\n",
              "      <th>Product Price</th>\n",
              "      <th>Product Status</th>\n",
              "      <th>shipping date (DateOrders)</th>\n",
              "      <th>Shipping Mode</th>\n",
              "    </tr>\n",
              "  </thead>\n",
              "  <tbody>\n",
              "    <tr>\n",
              "      <th>0</th>\n",
              "      <td>1</td>\n",
              "      <td>2568</td>\n",
              "      <td>0</td>\n",
              "      <td>0</td>\n",
              "      <td>40</td>\n",
              "      <td>66</td>\n",
              "      <td>1</td>\n",
              "      <td>20649</td>\n",
              "      <td>0</td>\n",
              "      <td>36</td>\n",
              "      <td>...</td>\n",
              "      <td>2</td>\n",
              "      <td>0</td>\n",
              "      <td>114</td>\n",
              "      <td>47</td>\n",
              "      <td>0</td>\n",
              "      <td>78</td>\n",
              "      <td>62</td>\n",
              "      <td>0</td>\n",
              "      <td>27149</td>\n",
              "      <td>3</td>\n",
              "    </tr>\n",
              "    <tr>\n",
              "      <th>1</th>\n",
              "      <td>3</td>\n",
              "      <td>2559</td>\n",
              "      <td>1</td>\n",
              "      <td>1</td>\n",
              "      <td>40</td>\n",
              "      <td>66</td>\n",
              "      <td>1</td>\n",
              "      <td>19386</td>\n",
              "      <td>0</td>\n",
              "      <td>36</td>\n",
              "      <td>...</td>\n",
              "      <td>5</td>\n",
              "      <td>0</td>\n",
              "      <td>114</td>\n",
              "      <td>47</td>\n",
              "      <td>0</td>\n",
              "      <td>78</td>\n",
              "      <td>62</td>\n",
              "      <td>0</td>\n",
              "      <td>2209</td>\n",
              "      <td>3</td>\n",
              "    </tr>\n",
              "    <tr>\n",
              "      <th>2</th>\n",
              "      <td>0</td>\n",
              "      <td>2555</td>\n",
              "      <td>3</td>\n",
              "      <td>0</td>\n",
              "      <td>40</td>\n",
              "      <td>452</td>\n",
              "      <td>0</td>\n",
              "      <td>19385</td>\n",
              "      <td>0</td>\n",
              "      <td>5</td>\n",
              "      <td>...</td>\n",
              "      <td>1</td>\n",
              "      <td>0</td>\n",
              "      <td>114</td>\n",
              "      <td>47</td>\n",
              "      <td>0</td>\n",
              "      <td>78</td>\n",
              "      <td>62</td>\n",
              "      <td>0</td>\n",
              "      <td>1980</td>\n",
              "      <td>3</td>\n",
              "    </tr>\n",
              "    <tr>\n",
              "      <th>3</th>\n",
              "      <td>1</td>\n",
              "      <td>2546</td>\n",
              "      <td>0</td>\n",
              "      <td>0</td>\n",
              "      <td>40</td>\n",
              "      <td>285</td>\n",
              "      <td>0</td>\n",
              "      <td>19384</td>\n",
              "      <td>2</td>\n",
              "      <td>5</td>\n",
              "      <td>...</td>\n",
              "      <td>2</td>\n",
              "      <td>0</td>\n",
              "      <td>114</td>\n",
              "      <td>47</td>\n",
              "      <td>0</td>\n",
              "      <td>78</td>\n",
              "      <td>62</td>\n",
              "      <td>0</td>\n",
              "      <td>1752</td>\n",
              "      <td>3</td>\n",
              "    </tr>\n",
              "    <tr>\n",
              "      <th>4</th>\n",
              "      <td>2</td>\n",
              "      <td>2526</td>\n",
              "      <td>0</td>\n",
              "      <td>0</td>\n",
              "      <td>40</td>\n",
              "      <td>66</td>\n",
              "      <td>1</td>\n",
              "      <td>19383</td>\n",
              "      <td>1</td>\n",
              "      <td>36</td>\n",
              "      <td>...</td>\n",
              "      <td>6</td>\n",
              "      <td>0</td>\n",
              "      <td>114</td>\n",
              "      <td>47</td>\n",
              "      <td>0</td>\n",
              "      <td>78</td>\n",
              "      <td>62</td>\n",
              "      <td>0</td>\n",
              "      <td>1528</td>\n",
              "      <td>3</td>\n",
              "    </tr>\n",
              "  </tbody>\n",
              "</table>\n",
              "<p>5 rows × 42 columns</p>\n",
              "</div>\n",
              "      <button class=\"colab-df-convert\" onclick=\"convertToInteractive('df-c251026d-040c-4b33-8da2-5f35b43def47')\"\n",
              "              title=\"Convert this dataframe to an interactive table.\"\n",
              "              style=\"display:none;\">\n",
              "        \n",
              "  <svg xmlns=\"http://www.w3.org/2000/svg\" height=\"24px\"viewBox=\"0 0 24 24\"\n",
              "       width=\"24px\">\n",
              "    <path d=\"M0 0h24v24H0V0z\" fill=\"none\"/>\n",
              "    <path d=\"M18.56 5.44l.94 2.06.94-2.06 2.06-.94-2.06-.94-.94-2.06-.94 2.06-2.06.94zm-11 1L8.5 8.5l.94-2.06 2.06-.94-2.06-.94L8.5 2.5l-.94 2.06-2.06.94zm10 10l.94 2.06.94-2.06 2.06-.94-2.06-.94-.94-2.06-.94 2.06-2.06.94z\"/><path d=\"M17.41 7.96l-1.37-1.37c-.4-.4-.92-.59-1.43-.59-.52 0-1.04.2-1.43.59L10.3 9.45l-7.72 7.72c-.78.78-.78 2.05 0 2.83L4 21.41c.39.39.9.59 1.41.59.51 0 1.02-.2 1.41-.59l7.78-7.78 2.81-2.81c.8-.78.8-2.07 0-2.86zM5.41 20L4 18.59l7.72-7.72 1.47 1.35L5.41 20z\"/>\n",
              "  </svg>\n",
              "      </button>\n",
              "      \n",
              "  <style>\n",
              "    .colab-df-container {\n",
              "      display:flex;\n",
              "      flex-wrap:wrap;\n",
              "      gap: 12px;\n",
              "    }\n",
              "\n",
              "    .colab-df-convert {\n",
              "      background-color: #E8F0FE;\n",
              "      border: none;\n",
              "      border-radius: 50%;\n",
              "      cursor: pointer;\n",
              "      display: none;\n",
              "      fill: #1967D2;\n",
              "      height: 32px;\n",
              "      padding: 0 0 0 0;\n",
              "      width: 32px;\n",
              "    }\n",
              "\n",
              "    .colab-df-convert:hover {\n",
              "      background-color: #E2EBFA;\n",
              "      box-shadow: 0px 1px 2px rgba(60, 64, 67, 0.3), 0px 1px 3px 1px rgba(60, 64, 67, 0.15);\n",
              "      fill: #174EA6;\n",
              "    }\n",
              "\n",
              "    [theme=dark] .colab-df-convert {\n",
              "      background-color: #3B4455;\n",
              "      fill: #D2E3FC;\n",
              "    }\n",
              "\n",
              "    [theme=dark] .colab-df-convert:hover {\n",
              "      background-color: #434B5C;\n",
              "      box-shadow: 0px 1px 3px 1px rgba(0, 0, 0, 0.15);\n",
              "      filter: drop-shadow(0px 1px 2px rgba(0, 0, 0, 0.3));\n",
              "      fill: #FFFFFF;\n",
              "    }\n",
              "  </style>\n",
              "\n",
              "      <script>\n",
              "        const buttonEl =\n",
              "          document.querySelector('#df-c251026d-040c-4b33-8da2-5f35b43def47 button.colab-df-convert');\n",
              "        buttonEl.style.display =\n",
              "          google.colab.kernel.accessAllowed ? 'block' : 'none';\n",
              "\n",
              "        async function convertToInteractive(key) {\n",
              "          const element = document.querySelector('#df-c251026d-040c-4b33-8da2-5f35b43def47');\n",
              "          const dataTable =\n",
              "            await google.colab.kernel.invokeFunction('convertToInteractive',\n",
              "                                                     [key], {});\n",
              "          if (!dataTable) return;\n",
              "\n",
              "          const docLinkHtml = 'Like what you see? Visit the ' +\n",
              "            '<a target=\"_blank\" href=https://colab.research.google.com/notebooks/data_table.ipynb>data table notebook</a>'\n",
              "            + ' to learn more about interactive tables.';\n",
              "          element.innerHTML = '';\n",
              "          dataTable['output_type'] = 'display_data';\n",
              "          await google.colab.output.renderOutput(dataTable, element);\n",
              "          const docLink = document.createElement('div');\n",
              "          docLink.innerHTML = docLinkHtml;\n",
              "          element.appendChild(docLink);\n",
              "        }\n",
              "      </script>\n",
              "    </div>\n",
              "  </div>\n",
              "  "
            ]
          },
          "metadata": {},
          "execution_count": 27
        }
      ],
      "source": [
        "features=features.apply(Labelencoder_feature)\n",
        "features.head()"
      ]
    },
    {
      "cell_type": "code",
      "execution_count": null,
      "metadata": {
        "id": "nuXXGjb4UDcA"
      },
      "outputs": [],
      "source": [
        "final_features=features[['Sales per customer', 'Category Name', 'Sales', \n",
        "                         'Order Item Quantity', 'Order Item Product Price', \n",
        "                         'Customer Id', 'Customer Segment', 'Department Name', \n",
        "                         'Market', 'Order City', 'Order Customer Id', \n",
        "                         'order date (DateOrders)', 'Order Id', \n",
        "                         'Order Item Cardprod Id', 'Order Item Discount',\n",
        "                         'Order Item Id', 'Order Item Total', 'Order Profit Per Order',\n",
        "                         'Order Region', 'Order State', 'Order Zipcode', 'Product Card Id',\n",
        "                         'Product Category Id', 'Product Name', 'Product Price',\n",
        "                         'shipping date (DateOrders)']]"
      ]
    },
    {
      "cell_type": "code",
      "execution_count": null,
      "metadata": {
        "colab": {
          "base_uri": "https://localhost:8080/",
          "height": 539
        },
        "id": "BR5iMoUWUGhE",
        "outputId": "eb64e5a0-d013-45b2-85af-69a335a431a3"
      },
      "outputs": [
        {
          "output_type": "execute_result",
          "data": {
            "text/plain": [
              "        Sales per customer  Category Name  Sales  Order Item Quantity  \\\n",
              "0                     2568             40    166                    0   \n",
              "1                     2559             40    166                    0   \n",
              "2                     2555             40    166                    0   \n",
              "3                     2546             40    166                    0   \n",
              "4                     2526             40    166                    0   \n",
              "...                    ...            ...    ...                  ...   \n",
              "180514                2752             18    177                    0   \n",
              "180515                2743             18    177                    0   \n",
              "180516                2734             18    177                    0   \n",
              "180517                2725             18    177                    0   \n",
              "180518                2716             18    177                    0   \n",
              "\n",
              "        Order Item Product Price  Customer Id  Customer Segment  \\\n",
              "0                             62        20649                 0   \n",
              "1                             62        19386                 0   \n",
              "2                             62        19385                 0   \n",
              "3                             62        19384                 2   \n",
              "4                             62        19383                 1   \n",
              "...                          ...          ...               ...   \n",
              "180514                        66          992                 2   \n",
              "180515                        66         9066                 1   \n",
              "180516                        66          288                 1   \n",
              "180517                        66         2781                 0   \n",
              "180518                        66         7486                 0   \n",
              "\n",
              "        Department Name  Market  Order City  ...  Order Item Total  \\\n",
              "0                     4       3         332  ...              2568   \n",
              "1                     4       3         392  ...              2559   \n",
              "2                     4       3         392  ...              2555   \n",
              "3                     4       3        3226  ...              2546   \n",
              "4                     4       3        3226  ...              2526   \n",
              "...                 ...     ...         ...  ...               ...   \n",
              "180514                3       3        2921  ...              2752   \n",
              "180515                3       3        1362  ...              2743   \n",
              "180516                3       3          25  ...              2734   \n",
              "180517                3       3          25  ...              2725   \n",
              "180518                3       3        2202  ...              2716   \n",
              "\n",
              "        Order Profit Per Order  Order Region  Order State  Order Zipcode  \\\n",
              "0                        18934            15          475              0   \n",
              "1                         2272            13          841              0   \n",
              "2                         2293            13          841              0   \n",
              "3                        13638            11          835              0   \n",
              "4                        20599            11          835              0   \n",
              "...                        ...           ...          ...            ...   \n",
              "180514                   15208             7          914              0   \n",
              "180515                     422             7          770              0   \n",
              "180516                   20768            11           88              0   \n",
              "180517                   21463            11           88              0   \n",
              "180518                   21263            13          967              0   \n",
              "\n",
              "        Product Card Id  Product Category Id  Product Name  Product Price  \\\n",
              "0                   114                   47            78             62   \n",
              "1                   114                   47            78             62   \n",
              "2                   114                   47            78             62   \n",
              "3                   114                   47            78             62   \n",
              "4                   114                   47            78             62   \n",
              "...                 ...                  ...           ...            ...   \n",
              "180514               96                   30            24             66   \n",
              "180515               96                   30            24             66   \n",
              "180516               96                   30            24             66   \n",
              "180517               96                   30            24             66   \n",
              "180518               96                   30            24             66   \n",
              "\n",
              "        shipping date (DateOrders)  \n",
              "0                            27149  \n",
              "1                             2209  \n",
              "2                             1980  \n",
              "3                             1752  \n",
              "4                             1528  \n",
              "...                            ...  \n",
              "180514                        2733  \n",
              "180515                        2339  \n",
              "180516                        2727  \n",
              "180517                        2114  \n",
              "180518                        2334  \n",
              "\n",
              "[180519 rows x 26 columns]"
            ],
            "text/html": [
              "\n",
              "  <div id=\"df-96ef790b-2d30-4441-85c2-406a0dac2c29\">\n",
              "    <div class=\"colab-df-container\">\n",
              "      <div>\n",
              "<style scoped>\n",
              "    .dataframe tbody tr th:only-of-type {\n",
              "        vertical-align: middle;\n",
              "    }\n",
              "\n",
              "    .dataframe tbody tr th {\n",
              "        vertical-align: top;\n",
              "    }\n",
              "\n",
              "    .dataframe thead th {\n",
              "        text-align: right;\n",
              "    }\n",
              "</style>\n",
              "<table border=\"1\" class=\"dataframe\">\n",
              "  <thead>\n",
              "    <tr style=\"text-align: right;\">\n",
              "      <th></th>\n",
              "      <th>Sales per customer</th>\n",
              "      <th>Category Name</th>\n",
              "      <th>Sales</th>\n",
              "      <th>Order Item Quantity</th>\n",
              "      <th>Order Item Product Price</th>\n",
              "      <th>Customer Id</th>\n",
              "      <th>Customer Segment</th>\n",
              "      <th>Department Name</th>\n",
              "      <th>Market</th>\n",
              "      <th>Order City</th>\n",
              "      <th>...</th>\n",
              "      <th>Order Item Total</th>\n",
              "      <th>Order Profit Per Order</th>\n",
              "      <th>Order Region</th>\n",
              "      <th>Order State</th>\n",
              "      <th>Order Zipcode</th>\n",
              "      <th>Product Card Id</th>\n",
              "      <th>Product Category Id</th>\n",
              "      <th>Product Name</th>\n",
              "      <th>Product Price</th>\n",
              "      <th>shipping date (DateOrders)</th>\n",
              "    </tr>\n",
              "  </thead>\n",
              "  <tbody>\n",
              "    <tr>\n",
              "      <th>0</th>\n",
              "      <td>2568</td>\n",
              "      <td>40</td>\n",
              "      <td>166</td>\n",
              "      <td>0</td>\n",
              "      <td>62</td>\n",
              "      <td>20649</td>\n",
              "      <td>0</td>\n",
              "      <td>4</td>\n",
              "      <td>3</td>\n",
              "      <td>332</td>\n",
              "      <td>...</td>\n",
              "      <td>2568</td>\n",
              "      <td>18934</td>\n",
              "      <td>15</td>\n",
              "      <td>475</td>\n",
              "      <td>0</td>\n",
              "      <td>114</td>\n",
              "      <td>47</td>\n",
              "      <td>78</td>\n",
              "      <td>62</td>\n",
              "      <td>27149</td>\n",
              "    </tr>\n",
              "    <tr>\n",
              "      <th>1</th>\n",
              "      <td>2559</td>\n",
              "      <td>40</td>\n",
              "      <td>166</td>\n",
              "      <td>0</td>\n",
              "      <td>62</td>\n",
              "      <td>19386</td>\n",
              "      <td>0</td>\n",
              "      <td>4</td>\n",
              "      <td>3</td>\n",
              "      <td>392</td>\n",
              "      <td>...</td>\n",
              "      <td>2559</td>\n",
              "      <td>2272</td>\n",
              "      <td>13</td>\n",
              "      <td>841</td>\n",
              "      <td>0</td>\n",
              "      <td>114</td>\n",
              "      <td>47</td>\n",
              "      <td>78</td>\n",
              "      <td>62</td>\n",
              "      <td>2209</td>\n",
              "    </tr>\n",
              "    <tr>\n",
              "      <th>2</th>\n",
              "      <td>2555</td>\n",
              "      <td>40</td>\n",
              "      <td>166</td>\n",
              "      <td>0</td>\n",
              "      <td>62</td>\n",
              "      <td>19385</td>\n",
              "      <td>0</td>\n",
              "      <td>4</td>\n",
              "      <td>3</td>\n",
              "      <td>392</td>\n",
              "      <td>...</td>\n",
              "      <td>2555</td>\n",
              "      <td>2293</td>\n",
              "      <td>13</td>\n",
              "      <td>841</td>\n",
              "      <td>0</td>\n",
              "      <td>114</td>\n",
              "      <td>47</td>\n",
              "      <td>78</td>\n",
              "      <td>62</td>\n",
              "      <td>1980</td>\n",
              "    </tr>\n",
              "    <tr>\n",
              "      <th>3</th>\n",
              "      <td>2546</td>\n",
              "      <td>40</td>\n",
              "      <td>166</td>\n",
              "      <td>0</td>\n",
              "      <td>62</td>\n",
              "      <td>19384</td>\n",
              "      <td>2</td>\n",
              "      <td>4</td>\n",
              "      <td>3</td>\n",
              "      <td>3226</td>\n",
              "      <td>...</td>\n",
              "      <td>2546</td>\n",
              "      <td>13638</td>\n",
              "      <td>11</td>\n",
              "      <td>835</td>\n",
              "      <td>0</td>\n",
              "      <td>114</td>\n",
              "      <td>47</td>\n",
              "      <td>78</td>\n",
              "      <td>62</td>\n",
              "      <td>1752</td>\n",
              "    </tr>\n",
              "    <tr>\n",
              "      <th>4</th>\n",
              "      <td>2526</td>\n",
              "      <td>40</td>\n",
              "      <td>166</td>\n",
              "      <td>0</td>\n",
              "      <td>62</td>\n",
              "      <td>19383</td>\n",
              "      <td>1</td>\n",
              "      <td>4</td>\n",
              "      <td>3</td>\n",
              "      <td>3226</td>\n",
              "      <td>...</td>\n",
              "      <td>2526</td>\n",
              "      <td>20599</td>\n",
              "      <td>11</td>\n",
              "      <td>835</td>\n",
              "      <td>0</td>\n",
              "      <td>114</td>\n",
              "      <td>47</td>\n",
              "      <td>78</td>\n",
              "      <td>62</td>\n",
              "      <td>1528</td>\n",
              "    </tr>\n",
              "    <tr>\n",
              "      <th>...</th>\n",
              "      <td>...</td>\n",
              "      <td>...</td>\n",
              "      <td>...</td>\n",
              "      <td>...</td>\n",
              "      <td>...</td>\n",
              "      <td>...</td>\n",
              "      <td>...</td>\n",
              "      <td>...</td>\n",
              "      <td>...</td>\n",
              "      <td>...</td>\n",
              "      <td>...</td>\n",
              "      <td>...</td>\n",
              "      <td>...</td>\n",
              "      <td>...</td>\n",
              "      <td>...</td>\n",
              "      <td>...</td>\n",
              "      <td>...</td>\n",
              "      <td>...</td>\n",
              "      <td>...</td>\n",
              "      <td>...</td>\n",
              "      <td>...</td>\n",
              "    </tr>\n",
              "    <tr>\n",
              "      <th>180514</th>\n",
              "      <td>2752</td>\n",
              "      <td>18</td>\n",
              "      <td>177</td>\n",
              "      <td>0</td>\n",
              "      <td>66</td>\n",
              "      <td>992</td>\n",
              "      <td>2</td>\n",
              "      <td>3</td>\n",
              "      <td>3</td>\n",
              "      <td>2921</td>\n",
              "      <td>...</td>\n",
              "      <td>2752</td>\n",
              "      <td>15208</td>\n",
              "      <td>7</td>\n",
              "      <td>914</td>\n",
              "      <td>0</td>\n",
              "      <td>96</td>\n",
              "      <td>30</td>\n",
              "      <td>24</td>\n",
              "      <td>66</td>\n",
              "      <td>2733</td>\n",
              "    </tr>\n",
              "    <tr>\n",
              "      <th>180515</th>\n",
              "      <td>2743</td>\n",
              "      <td>18</td>\n",
              "      <td>177</td>\n",
              "      <td>0</td>\n",
              "      <td>66</td>\n",
              "      <td>9066</td>\n",
              "      <td>1</td>\n",
              "      <td>3</td>\n",
              "      <td>3</td>\n",
              "      <td>1362</td>\n",
              "      <td>...</td>\n",
              "      <td>2743</td>\n",
              "      <td>422</td>\n",
              "      <td>7</td>\n",
              "      <td>770</td>\n",
              "      <td>0</td>\n",
              "      <td>96</td>\n",
              "      <td>30</td>\n",
              "      <td>24</td>\n",
              "      <td>66</td>\n",
              "      <td>2339</td>\n",
              "    </tr>\n",
              "    <tr>\n",
              "      <th>180516</th>\n",
              "      <td>2734</td>\n",
              "      <td>18</td>\n",
              "      <td>177</td>\n",
              "      <td>0</td>\n",
              "      <td>66</td>\n",
              "      <td>288</td>\n",
              "      <td>1</td>\n",
              "      <td>3</td>\n",
              "      <td>3</td>\n",
              "      <td>25</td>\n",
              "      <td>...</td>\n",
              "      <td>2734</td>\n",
              "      <td>20768</td>\n",
              "      <td>11</td>\n",
              "      <td>88</td>\n",
              "      <td>0</td>\n",
              "      <td>96</td>\n",
              "      <td>30</td>\n",
              "      <td>24</td>\n",
              "      <td>66</td>\n",
              "      <td>2727</td>\n",
              "    </tr>\n",
              "    <tr>\n",
              "      <th>180517</th>\n",
              "      <td>2725</td>\n",
              "      <td>18</td>\n",
              "      <td>177</td>\n",
              "      <td>0</td>\n",
              "      <td>66</td>\n",
              "      <td>2781</td>\n",
              "      <td>0</td>\n",
              "      <td>3</td>\n",
              "      <td>3</td>\n",
              "      <td>25</td>\n",
              "      <td>...</td>\n",
              "      <td>2725</td>\n",
              "      <td>21463</td>\n",
              "      <td>11</td>\n",
              "      <td>88</td>\n",
              "      <td>0</td>\n",
              "      <td>96</td>\n",
              "      <td>30</td>\n",
              "      <td>24</td>\n",
              "      <td>66</td>\n",
              "      <td>2114</td>\n",
              "    </tr>\n",
              "    <tr>\n",
              "      <th>180518</th>\n",
              "      <td>2716</td>\n",
              "      <td>18</td>\n",
              "      <td>177</td>\n",
              "      <td>0</td>\n",
              "      <td>66</td>\n",
              "      <td>7486</td>\n",
              "      <td>0</td>\n",
              "      <td>3</td>\n",
              "      <td>3</td>\n",
              "      <td>2202</td>\n",
              "      <td>...</td>\n",
              "      <td>2716</td>\n",
              "      <td>21263</td>\n",
              "      <td>13</td>\n",
              "      <td>967</td>\n",
              "      <td>0</td>\n",
              "      <td>96</td>\n",
              "      <td>30</td>\n",
              "      <td>24</td>\n",
              "      <td>66</td>\n",
              "      <td>2334</td>\n",
              "    </tr>\n",
              "  </tbody>\n",
              "</table>\n",
              "<p>180519 rows × 26 columns</p>\n",
              "</div>\n",
              "      <button class=\"colab-df-convert\" onclick=\"convertToInteractive('df-96ef790b-2d30-4441-85c2-406a0dac2c29')\"\n",
              "              title=\"Convert this dataframe to an interactive table.\"\n",
              "              style=\"display:none;\">\n",
              "        \n",
              "  <svg xmlns=\"http://www.w3.org/2000/svg\" height=\"24px\"viewBox=\"0 0 24 24\"\n",
              "       width=\"24px\">\n",
              "    <path d=\"M0 0h24v24H0V0z\" fill=\"none\"/>\n",
              "    <path d=\"M18.56 5.44l.94 2.06.94-2.06 2.06-.94-2.06-.94-.94-2.06-.94 2.06-2.06.94zm-11 1L8.5 8.5l.94-2.06 2.06-.94-2.06-.94L8.5 2.5l-.94 2.06-2.06.94zm10 10l.94 2.06.94-2.06 2.06-.94-2.06-.94-.94-2.06-.94 2.06-2.06.94z\"/><path d=\"M17.41 7.96l-1.37-1.37c-.4-.4-.92-.59-1.43-.59-.52 0-1.04.2-1.43.59L10.3 9.45l-7.72 7.72c-.78.78-.78 2.05 0 2.83L4 21.41c.39.39.9.59 1.41.59.51 0 1.02-.2 1.41-.59l7.78-7.78 2.81-2.81c.8-.78.8-2.07 0-2.86zM5.41 20L4 18.59l7.72-7.72 1.47 1.35L5.41 20z\"/>\n",
              "  </svg>\n",
              "      </button>\n",
              "      \n",
              "  <style>\n",
              "    .colab-df-container {\n",
              "      display:flex;\n",
              "      flex-wrap:wrap;\n",
              "      gap: 12px;\n",
              "    }\n",
              "\n",
              "    .colab-df-convert {\n",
              "      background-color: #E8F0FE;\n",
              "      border: none;\n",
              "      border-radius: 50%;\n",
              "      cursor: pointer;\n",
              "      display: none;\n",
              "      fill: #1967D2;\n",
              "      height: 32px;\n",
              "      padding: 0 0 0 0;\n",
              "      width: 32px;\n",
              "    }\n",
              "\n",
              "    .colab-df-convert:hover {\n",
              "      background-color: #E2EBFA;\n",
              "      box-shadow: 0px 1px 2px rgba(60, 64, 67, 0.3), 0px 1px 3px 1px rgba(60, 64, 67, 0.15);\n",
              "      fill: #174EA6;\n",
              "    }\n",
              "\n",
              "    [theme=dark] .colab-df-convert {\n",
              "      background-color: #3B4455;\n",
              "      fill: #D2E3FC;\n",
              "    }\n",
              "\n",
              "    [theme=dark] .colab-df-convert:hover {\n",
              "      background-color: #434B5C;\n",
              "      box-shadow: 0px 1px 3px 1px rgba(0, 0, 0, 0.15);\n",
              "      filter: drop-shadow(0px 1px 2px rgba(0, 0, 0, 0.3));\n",
              "      fill: #FFFFFF;\n",
              "    }\n",
              "  </style>\n",
              "\n",
              "      <script>\n",
              "        const buttonEl =\n",
              "          document.querySelector('#df-96ef790b-2d30-4441-85c2-406a0dac2c29 button.colab-df-convert');\n",
              "        buttonEl.style.display =\n",
              "          google.colab.kernel.accessAllowed ? 'block' : 'none';\n",
              "\n",
              "        async function convertToInteractive(key) {\n",
              "          const element = document.querySelector('#df-96ef790b-2d30-4441-85c2-406a0dac2c29');\n",
              "          const dataTable =\n",
              "            await google.colab.kernel.invokeFunction('convertToInteractive',\n",
              "                                                     [key], {});\n",
              "          if (!dataTable) return;\n",
              "\n",
              "          const docLinkHtml = 'Like what you see? Visit the ' +\n",
              "            '<a target=\"_blank\" href=https://colab.research.google.com/notebooks/data_table.ipynb>data table notebook</a>'\n",
              "            + ' to learn more about interactive tables.';\n",
              "          element.innerHTML = '';\n",
              "          dataTable['output_type'] = 'display_data';\n",
              "          await google.colab.output.renderOutput(dataTable, element);\n",
              "          const docLink = document.createElement('div');\n",
              "          docLink.innerHTML = docLinkHtml;\n",
              "          element.appendChild(docLink);\n",
              "        }\n",
              "      </script>\n",
              "    </div>\n",
              "  </div>\n",
              "  "
            ]
          },
          "metadata": {},
          "execution_count": 29
        }
      ],
      "source": [
        "final_features"
      ]
    },
    {
      "cell_type": "code",
      "execution_count": null,
      "metadata": {
        "colab": {
          "base_uri": "https://localhost:8080/"
        },
        "id": "m6nyyNp7UTnF",
        "outputId": "070ad275-fcbc-4966-89ba-c0221d6807b0"
      },
      "outputs": [
        {
          "output_type": "execute_result",
          "data": {
            "text/plain": [
              "Index(['Sales per customer', 'Category Name', 'Sales', 'Order Item Quantity',\n",
              "       'Order Item Product Price', 'Customer Id', 'Customer Segment',\n",
              "       'Department Name', 'Market', 'Order City', 'Order Customer Id',\n",
              "       'order date (DateOrders)', 'Order Id', 'Order Item Cardprod Id',\n",
              "       'Order Item Discount', 'Order Item Id', 'Order Item Total',\n",
              "       'Order Profit Per Order', 'Order Region', 'Order State',\n",
              "       'Order Zipcode', 'Product Card Id', 'Product Category Id',\n",
              "       'Product Name', 'Product Price', 'shipping date (DateOrders)',\n",
              "       'Benefit per order'],\n",
              "      dtype='object')"
            ]
          },
          "metadata": {},
          "execution_count": 30
        }
      ],
      "source": [
        "final_data=pd.concat([final_features,target],axis=1)\n",
        "final_data.columns"
      ]
    },
    {
      "cell_type": "code",
      "execution_count": null,
      "metadata": {
        "id": "B7qLxWh6UWgK",
        "colab": {
          "base_uri": "https://localhost:8080/",
          "height": 464
        },
        "outputId": "913a2702-4b24-4062-ed40-d130d6926207"
      },
      "outputs": [
        {
          "output_type": "execute_result",
          "data": {
            "text/plain": [
              "<Axes: >"
            ]
          },
          "metadata": {},
          "execution_count": 31
        },
        {
          "output_type": "display_data",
          "data": {
            "text/plain": [
              "<Figure size 2000x1000 with 2 Axes>"
            ],
            "image/png": "[encoded data removed]"
          },
          "metadata": {}
        }
      ],
      "source": [
        "import matplotlib. pyplot as plt \n",
        "import seaborn as sns\n",
        "fig=plt.figure(figsize=(20,10))\n",
        "sns.heatmap(final_data.corr(),annot=True,fmt=\".3f\",cmap=\"BuPu\")"
      ]
    },
    {
      "cell_type": "code",
      "execution_count": null,
      "metadata": {
        "id": "9rOTxP8YUcCt"
      },
      "outputs": [],
      "source": [
        "from sklearn.linear_model import LinearRegression\n",
        "from sklearn.model_selection import train_test_split\n",
        "from sklearn.metrics import classification_report\n",
        "from sklearn import *\n",
        "from sklearn.metrics import r2_score\n",
        "from sklearn.metrics import mean_squared_error\n",
        "from sklearn.metrics import confusion_matrix\n",
        "from sklearn.metrics import ConfusionMatrixDisplay\n",
        "from sklearn.linear_model import Lasso\n",
        "from sklearn.preprocessing import StandardScaler\n",
        "from sklearn.pipeline import Pipeline\n",
        "from sklearn.metrics import mean_absolute_error\n",
        "from sklearn.linear_model import Ridge\n",
        "from sklearn.preprocessing import *\n",
        "from sklearn.tree import DecisionTreeClassifier\n",
        "from sklearn.metrics import classification_report, confusion_matrix\n",
        "from sklearn.ensemble import RandomForestClassifier\n",
        "from sklearn.ensemble import GradientBoostingClassifier\n",
        "from sklearn import svm\n",
        "from sklearn.naive_bayes import GaussianNB  \n",
        "from sklearn.neighbors import KNeighborsClassifier\n",
        "import pickle"
      ]
    },
    {
      "cell_type": "markdown",
      "metadata": {
        "id": "D02jjrX9UfWo"
      },
      "source": [
        "***Linear Regression model***"
      ]
    },
    {
      "cell_type": "code",
      "execution_count": null,
      "metadata": {
        "colab": {
          "base_uri": "https://localhost:8080/"
        },
        "id": "3lnCLkIxUhrJ",
        "outputId": "760454ab-75dc-476d-82b3-f0e5c56a087d"
      },
      "outputs": [
        {
          "output_type": "execute_result",
          "data": {
            "text/plain": [
              "69749      62.63000107\n",
              "84547     -300.7000122\n",
              "135057            13.5\n",
              "92309     -431.8900146\n",
              "145534           -32.0\n",
              "              ...     \n",
              "55375      14.85000038\n",
              "112710     35.09000015\n",
              "101205     16.88999939\n",
              "7921      -108.7399979\n",
              "145979    -63.15999985\n",
              "Name: Benefit per order, Length: 126363, dtype: object"
            ]
          },
          "metadata": {},
          "execution_count": 34
        }
      ],
      "source": [
        "X_train,X_test,y_train,y_test=train_test_split(final_features,target,test_size=0.3)\n",
        "\n",
        "X_train\n",
        "y_train"
      ]
    },
    {
      "cell_type": "code",
      "execution_count": null,
      "metadata": {
        "id": "525RvXiYVJPi"
      },
      "outputs": [],
      "source": [
        "X_train,X_test,y_train,y_test=train_test_split(final_features,target,test_size=0.3)"
      ]
    },
    {
      "cell_type": "code",
      "execution_count": null,
      "metadata": {
        "id": "-d1V6_gIVLo5"
      },
      "outputs": [],
      "source": [
        "from sklearn.linear_model import LinearRegression\n",
        "\n",
        "# Create a linear regression model object\n",
        "linReg = LinearRegression()\n",
        "\n",
        "# Fit the model to the training data\n",
        "linReg.fit(X_train, y_train)\n",
        "\n",
        "# Use the model to make predictions on the test set\n",
        "y_pred = linReg.predict(X_test)"
      ]
    },
    {
      "cell_type": "code",
      "execution_count": null,
      "metadata": {
        "colab": {
          "base_uri": "https://localhost:8080/"
        },
        "id": "i4JFnM9zVT3P",
        "outputId": "d4c81a18-61ae-4c58-8743-3acd924fad0d"
      },
      "outputs": [
        {
          "output_type": "stream",
          "name": "stdout",
          "text": [
            "r2 score is: 0.7331728617286932\n",
            "mean_sqrd_error is 3034.3999893539917\n",
            "root_mean_squared error of is 55.08538816559244\n"
          ]
        }
      ],
      "source": [
        "ln_score=r2_score(y_test,y_pred)\n",
        "print(\"r2 score is:\" ,ln_score)\n",
        "print(\"mean_sqrd_error is\",mean_squared_error(y_test,y_pred))\n",
        "print(\"root_mean_squared error of is\",np.sqrt(mean_squared_error(y_test,y_pred)))"
      ]
    },
    {
      "cell_type": "code",
      "execution_count": null,
      "metadata": {
        "colab": {
          "base_uri": "https://localhost:8080/",
          "height": 363
        },
        "id": "RIdQ9wqSVWWp",
        "outputId": "15066328-7413-4a8b-e029-4265eab0cfb3"
      },
      "outputs": [
        {
          "output_type": "execute_result",
          "data": {
            "text/plain": [
              "             actual   predicted\n",
              "22959   58.04000092   80.847836\n",
              "53957   62.08000183   75.711485\n",
              "63316   18.71999931   14.960126\n",
              "161676  133.7599945  140.458009\n",
              "165408  0.569999993   -9.828258\n",
              "111950  80.44000244   99.234593\n",
              "32257   39.11000061   49.659516\n",
              "132006  38.20000076   41.598213\n",
              "59312         24.75    5.980884\n",
              "8394    15.43999958   19.088579"
            ],
            "text/html": [
              "\n",
              "  <div id=\"df-848f75a3-fb99-40fc-879a-2901b702e3ac\">\n",
              "    <div class=\"colab-df-container\">\n",
              "      <div>\n",
              "<style scoped>\n",
              "    .dataframe tbody tr th:only-of-type {\n",
              "        vertical-align: middle;\n",
              "    }\n",
              "\n",
              "    .dataframe tbody tr th {\n",
              "        vertical-align: top;\n",
              "    }\n",
              "\n",
              "    .dataframe thead th {\n",
              "        text-align: right;\n",
              "    }\n",
              "</style>\n",
              "<table border=\"1\" class=\"dataframe\">\n",
              "  <thead>\n",
              "    <tr style=\"text-align: right;\">\n",
              "      <th></th>\n",
              "      <th>actual</th>\n",
              "      <th>predicted</th>\n",
              "    </tr>\n",
              "  </thead>\n",
              "  <tbody>\n",
              "    <tr>\n",
              "      <th>22959</th>\n",
              "      <td>58.04000092</td>\n",
              "      <td>80.847836</td>\n",
              "    </tr>\n",
              "    <tr>\n",
              "      <th>53957</th>\n",
              "      <td>62.08000183</td>\n",
              "      <td>75.711485</td>\n",
              "    </tr>\n",
              "    <tr>\n",
              "      <th>63316</th>\n",
              "      <td>18.71999931</td>\n",
              "      <td>14.960126</td>\n",
              "    </tr>\n",
              "    <tr>\n",
              "      <th>161676</th>\n",
              "      <td>133.7599945</td>\n",
              "      <td>140.458009</td>\n",
              "    </tr>\n",
              "    <tr>\n",
              "      <th>165408</th>\n",
              "      <td>0.569999993</td>\n",
              "      <td>-9.828258</td>\n",
              "    </tr>\n",
              "    <tr>\n",
              "      <th>111950</th>\n",
              "      <td>80.44000244</td>\n",
              "      <td>99.234593</td>\n",
              "    </tr>\n",
              "    <tr>\n",
              "      <th>32257</th>\n",
              "      <td>39.11000061</td>\n",
              "      <td>49.659516</td>\n",
              "    </tr>\n",
              "    <tr>\n",
              "      <th>132006</th>\n",
              "      <td>38.20000076</td>\n",
              "      <td>41.598213</td>\n",
              "    </tr>\n",
              "    <tr>\n",
              "      <th>59312</th>\n",
              "      <td>24.75</td>\n",
              "      <td>5.980884</td>\n",
              "    </tr>\n",
              "    <tr>\n",
              "      <th>8394</th>\n",
              "      <td>15.43999958</td>\n",
              "      <td>19.088579</td>\n",
              "    </tr>\n",
              "  </tbody>\n",
              "</table>\n",
              "</div>\n",
              "      <button class=\"colab-df-convert\" onclick=\"convertToInteractive('df-848f75a3-fb99-40fc-879a-2901b702e3ac')\"\n",
              "              title=\"Convert this dataframe to an interactive table.\"\n",
              "              style=\"display:none;\">\n",
              "        \n",
              "  <svg xmlns=\"http://www.w3.org/2000/svg\" height=\"24px\"viewBox=\"0 0 24 24\"\n",
              "       width=\"24px\">\n",
              "    <path d=\"M0 0h24v24H0V0z\" fill=\"none\"/>\n",
              "    <path d=\"M18.56 5.44l.94 2.06.94-2.06 2.06-.94-2.06-.94-.94-2.06-.94 2.06-2.06.94zm-11 1L8.5 8.5l.94-2.06 2.06-.94-2.06-.94L8.5 2.5l-.94 2.06-2.06.94zm10 10l.94 2.06.94-2.06 2.06-.94-2.06-.94-.94-2.06-.94 2.06-2.06.94z\"/><path d=\"M17.41 7.96l-1.37-1.37c-.4-.4-.92-.59-1.43-.59-.52 0-1.04.2-1.43.59L10.3 9.45l-7.72 7.72c-.78.78-.78 2.05 0 2.83L4 21.41c.39.39.9.59 1.41.59.51 0 1.02-.2 1.41-.59l7.78-7.78 2.81-2.81c.8-.78.8-2.07 0-2.86zM5.41 20L4 18.59l7.72-7.72 1.47 1.35L5.41 20z\"/>\n",
              "  </svg>\n",
              "      </button>\n",
              "      \n",
              "  <style>\n",
              "    .colab-df-container {\n",
              "      display:flex;\n",
              "      flex-wrap:wrap;\n",
              "      gap: 12px;\n",
              "    }\n",
              "\n",
              "    .colab-df-convert {\n",
              "      background-color: #E8F0FE;\n",
              "      border: none;\n",
              "      border-radius: 50%;\n",
              "      cursor: pointer;\n",
              "      display: none;\n",
              "      fill: #1967D2;\n",
              "      height: 32px;\n",
              "      padding: 0 0 0 0;\n",
              "      width: 32px;\n",
              "    }\n",
              "\n",
              "    .colab-df-convert:hover {\n",
              "      background-color: #E2EBFA;\n",
              "      box-shadow: 0px 1px 2px rgba(60, 64, 67, 0.3), 0px 1px 3px 1px rgba(60, 64, 67, 0.15);\n",
              "      fill: #174EA6;\n",
              "    }\n",
              "\n",
              "    [theme=dark] .colab-df-convert {\n",
              "      background-color: #3B4455;\n",
              "      fill: #D2E3FC;\n",
              "    }\n",
              "\n",
              "    [theme=dark] .colab-df-convert:hover {\n",
              "      background-color: #434B5C;\n",
              "      box-shadow: 0px 1px 3px 1px rgba(0, 0, 0, 0.15);\n",
              "      filter: drop-shadow(0px 1px 2px rgba(0, 0, 0, 0.3));\n",
              "      fill: #FFFFFF;\n",
              "    }\n",
              "  </style>\n",
              "\n",
              "      <script>\n",
              "        const buttonEl =\n",
              "          document.querySelector('#df-848f75a3-fb99-40fc-879a-2901b702e3ac button.colab-df-convert');\n",
              "        buttonEl.style.display =\n",
              "          google.colab.kernel.accessAllowed ? 'block' : 'none';\n",
              "\n",
              "        async function convertToInteractive(key) {\n",
              "          const element = document.querySelector('#df-848f75a3-fb99-40fc-879a-2901b702e3ac');\n",
              "          const dataTable =\n",
              "            await google.colab.kernel.invokeFunction('convertToInteractive',\n",
              "                                                     [key], {});\n",
              "          if (!dataTable) return;\n",
              "\n",
              "          const docLinkHtml = 'Like what you see? Visit the ' +\n",
              "            '<a target=\"_blank\" href=https://colab.research.google.com/notebooks/data_table.ipynb>data table notebook</a>'\n",
              "            + ' to learn more about interactive tables.';\n",
              "          element.innerHTML = '';\n",
              "          dataTable['output_type'] = 'display_data';\n",
              "          await google.colab.output.renderOutput(dataTable, element);\n",
              "          const docLink = document.createElement('div');\n",
              "          docLink.innerHTML = docLinkHtml;\n",
              "          element.appendChild(docLink);\n",
              "        }\n",
              "      </script>\n",
              "    </div>\n",
              "  </div>\n",
              "  "
            ]
          },
          "metadata": {},
          "execution_count": 38
        }
      ],
      "source": [
        "lin_train_predict = pd.DataFrame({'actual' : y_train,\n",
        "                                 'predicted' : linReg.predict(X_train)})\n",
        "lin_train_predict.head(10)"
      ]
    },
    {
      "cell_type": "markdown",
      "metadata": {
        "id": "-KXNUu6GVZur"
      },
      "source": [
        "***Lasso***"
      ]
    },
    {
      "cell_type": "code",
      "execution_count": null,
      "metadata": {
        "id": "dArduJMkVbb5"
      },
      "outputs": [],
      "source": [
        "X_train,X_test,y_train,y_test=train_test_split(final_features,target,test_size=0.3)"
      ]
    },
    {
      "cell_type": "code",
      "execution_count": null,
      "metadata": {
        "id": "NtJDZDkyVgbE"
      },
      "outputs": [],
      "source": [
        "lasReg=Lasso()\n",
        "lasmodel=lasReg.fit(X_train,y_train)"
      ]
    },
    {
      "cell_type": "code",
      "execution_count": null,
      "metadata": {
        "colab": {
          "base_uri": "https://localhost:8080/"
        },
        "id": "E-fkkDwjVn8m",
        "outputId": "c3b0f569-f9ea-4701-913b-888a788ff86c"
      },
      "outputs": [
        {
          "output_type": "execute_result",
          "data": {
            "text/plain": [
              "array([ -7.97139559,  38.31720124, 120.00406891, ...,  34.79691781,\n",
              "        -5.93333264, 111.0441746 ])"
            ]
          },
          "metadata": {},
          "execution_count": 41
        }
      ],
      "source": [
        "y_prediction =lasReg.predict(X_test)\n",
        "y_prediction"
      ]
    },
    {
      "cell_type": "code",
      "execution_count": null,
      "metadata": {
        "colab": {
          "base_uri": "https://localhost:8080/"
        },
        "id": "Y4anq0qHVrkI",
        "outputId": "c0c0a0b2-9044-4545-8d0b-580bf6583276"
      },
      "outputs": [
        {
          "output_type": "stream",
          "name": "stdout",
          "text": [
            "r2 socre is: 0.7183224767877348\n",
            "mean_sqrd_error is 3280.780297076687\n",
            "root_mean_squared error of is 57.278096136976195\n"
          ]
        }
      ],
      "source": [
        "ls_score=r2_score(y_test,y_prediction)\n",
        "print(\"r2 socre is:\" ,ls_score)\n",
        "print(\"mean_sqrd_error is\",mean_squared_error(y_test,y_prediction))\n",
        "print(\"root_mean_squared error of is\",np.sqrt(mean_squared_error(y_test,y_prediction)))"
      ]
    },
    {
      "cell_type": "markdown",
      "metadata": {
        "id": "CsZ4wN7hVwdy"
      },
      "source": [
        "Ridge regression"
      ]
    },
    {
      "cell_type": "code",
      "execution_count": null,
      "metadata": {
        "id": "N8KmSCZ-VyKO"
      },
      "outputs": [],
      "source": [
        "X_train,X_test,y_train,y_test=train_test_split(final_features,target,test_size=0.3)"
      ]
    },
    {
      "cell_type": "code",
      "execution_count": null,
      "metadata": {
        "id": "_lLCj89rV2U5"
      },
      "outputs": [],
      "source": [
        "ridReg=Ridge()\n",
        "ridmodel=ridReg.fit(X_train,y_train)"
      ]
    },
    {
      "cell_type": "code",
      "execution_count": null,
      "metadata": {
        "colab": {
          "base_uri": "https://localhost:8080/"
        },
        "id": "04Z7J5LsV4wf",
        "outputId": "a8cdbe27-1e84-43e0-f139-77b1eece3b4e"
      },
      "outputs": [
        {
          "output_type": "execute_result",
          "data": {
            "text/plain": [
              "array([111.1594369 ,  99.11606696, 129.09204396, ...,  72.89959598,\n",
              "        41.22146561,  72.31426029])"
            ]
          },
          "metadata": {},
          "execution_count": 45
        }
      ],
      "source": [
        "y_prediction =ridReg.predict(X_test)\n",
        "y_prediction"
      ]
    },
    {
      "cell_type": "code",
      "execution_count": null,
      "metadata": {
        "colab": {
          "base_uri": "https://localhost:8080/"
        },
        "id": "D2M03C23WGnv",
        "outputId": "b851d267-9dcd-46f1-d6ef-1a5281f98732"
      },
      "outputs": [
        {
          "output_type": "stream",
          "name": "stdout",
          "text": [
            "r2 socre is: 0.7545854213922876\n",
            "mean_sqrd_error is 2668.1139453203446\n",
            "root_mean_squared error of is 51.65378926390923\n"
          ]
        }
      ],
      "source": [
        "rd_score=r2_score(y_test,y_prediction)\n",
        "print(\"r2 socre is:\" ,rd_score)\n",
        "print(\"mean_sqrd_error is\",mean_squared_error(y_test,y_prediction))\n",
        "print(\"root_mean_squared error of is\",np.sqrt(mean_squared_error(y_test,y_prediction)))"
      ]
    },
    {
      "cell_type": "markdown",
      "metadata": {
        "id": "_pfOmvyOWJDY"
      },
      "source": [
        "***KNN***"
      ]
    },
    {
      "cell_type": "code",
      "execution_count": null,
      "metadata": {
        "id": "IaQwA8duWMbn"
      },
      "outputs": [],
      "source": [
        "X_train,X_test,y_train,y_test=train_test_split(final_features,target,test_size=0.3)"
      ]
    },
    {
      "cell_type": "code",
      "execution_count": null,
      "metadata": {
        "colab": {
          "base_uri": "https://localhost:8080/",
          "height": 74
        },
        "id": "nIwkn6AbWQHN",
        "outputId": "ad89055f-0983-406b-e982-9bebb5b8dbae"
      },
      "outputs": [
        {
          "output_type": "execute_result",
          "data": {
            "text/plain": [
              "KNeighborsClassifier(n_neighbors=7)"
            ],
            "text/html": [
              "<style>#sk-container-id-1 {color: black;background-color: white;}#sk-container-id-1 pre{padding: 0;}#sk-container-id-1 div.sk-toggleable {background-color: white;}#sk-container-id-1 label.sk-toggleable__label {cursor: pointer;display: block;width: 100%;margin-bottom: 0;padding: 0.3em;box-sizing: border-box;text-align: center;}#sk-container-id-1 label.sk-toggleable__label-arrow:before {content: \"▸\";float: left;margin-right: 0.25em;color: #696969;}#sk-container-id-1 label.sk-toggleable__label-arrow:hover:before {color: black;}#sk-container-id-1 div.sk-estimator:hover label.sk-toggleable__label-arrow:before {color: black;}#sk-container-id-1 div.sk-toggleable__content {max-height: 0;max-width: 0;overflow: hidden;text-align: left;background-color: #f0f8ff;}#sk-container-id-1 div.sk-toggleable__content pre {margin: 0.2em;color: black;border-radius: 0.25em;background-color: #f0f8ff;}#sk-container-id-1 input.sk-toggleable__control:checked~div.sk-toggleable__content {max-height: 200px;max-width: 100%;overflow: auto;}#sk-container-id-1 input.sk-toggleable__control:checked~label.sk-toggleable__label-arrow:before {content: \"▾\";}#sk-container-id-1 div.sk-estimator input.sk-toggleable__control:checked~label.sk-toggleable__label {background-color: #d4ebff;}#sk-container-id-1 div.sk-label input.sk-toggleable__control:checked~label.sk-toggleable__label {background-color: #d4ebff;}#sk-container-id-1 input.sk-hidden--visually {border: 0;clip: rect(1px 1px 1px 1px);clip: rect(1px, 1px, 1px, 1px);height: 1px;margin: -1px;overflow: hidden;padding: 0;position: absolute;width: 1px;}#sk-container-id-1 div.sk-estimator {font-family: monospace;background-color: #f0f8ff;border: 1px dotted black;border-radius: 0.25em;box-sizing: border-box;margin-bottom: 0.5em;}#sk-container-id-1 div.sk-estimator:hover {background-color: #d4ebff;}#sk-container-id-1 div.sk-parallel-item::after {content: \"\";width: 100%;border-bottom: 1px solid gray;flex-grow: 1;}#sk-container-id-1 div.sk-label:hover label.sk-toggleable__label {background-color: #d4ebff;}#sk-container-id-1 div.sk-serial::before {content: \"\";position: absolute;border-left: 1px solid gray;box-sizing: border-box;top: 0;bottom: 0;left: 50%;z-index: 0;}#sk-container-id-1 div.sk-serial {display: flex;flex-direction: column;align-items: center;background-color: white;padding-right: 0.2em;padding-left: 0.2em;position: relative;}#sk-container-id-1 div.sk-item {position: relative;z-index: 1;}#sk-container-id-1 div.sk-parallel {display: flex;align-items: stretch;justify-content: center;background-color: white;position: relative;}#sk-container-id-1 div.sk-item::before, #sk-container-id-1 div.sk-parallel-item::before {content: \"\";position: absolute;border-left: 1px solid gray;box-sizing: border-box;top: 0;bottom: 0;left: 50%;z-index: -1;}#sk-container-id-1 div.sk-parallel-item {display: flex;flex-direction: column;z-index: 1;position: relative;background-color: white;}#sk-container-id-1 div.sk-parallel-item:first-child::after {align-self: flex-end;width: 50%;}#sk-container-id-1 div.sk-parallel-item:last-child::after {align-self: flex-start;width: 50%;}#sk-container-id-1 div.sk-parallel-item:only-child::after {width: 0;}#sk-container-id-1 div.sk-dashed-wrapped {border: 1px dashed gray;margin: 0 0.4em 0.5em 0.4em;box-sizing: border-box;padding-bottom: 0.4em;background-color: white;}#sk-container-id-1 div.sk-label label {font-family: monospace;font-weight: bold;display: inline-block;line-height: 1.2em;}#sk-container-id-1 div.sk-label-container {text-align: center;}#sk-container-id-1 div.sk-container {/* jupyter's `normalize.less` sets `[hidden] { display: none; }` but bootstrap.min.css set `[hidden] { display: none !important; }` so we also need the `!important` here to be able to override the default hidden behavior on the sphinx rendered scikit-learn.org. See: https://github.com/scikit-learn/scikit-learn/issues/21755 */display: inline-block !important;position: relative;}#sk-container-id-1 div.sk-text-repr-fallback {display: none;}</style><div id=\"sk-container-id-1\" class=\"sk-top-container\"><div class=\"sk-text-repr-fallback\"><pre>KNeighborsClassifier(n_neighbors=7)</pre><b>In a Jupyter environment, please rerun this cell to show the HTML representation or trust the notebook. <br />On GitHub, the HTML representation is unable to render, please try loading this page with nbviewer.org.</b></div><div class=\"sk-container\" hidden><div class=\"sk-item\"><div class=\"sk-estimator sk-toggleable\"><input class=\"sk-toggleable__control sk-hidden--visually\" id=\"sk-estimator-id-1\" type=\"checkbox\" checked><label for=\"sk-estimator-id-1\" class=\"sk-toggleable__label sk-toggleable__label-arrow\">KNeighborsClassifier</label><div class=\"sk-toggleable__content\"><pre>KNeighborsClassifier(n_neighbors=7)</pre></div></div></div></div></div>"
            ]
          },
          "metadata": {},
          "execution_count": 48
        }
      ],
      "source": [
        "knncls=KNeighborsClassifier(n_neighbors=7)\n",
        "knncls.fit(X_train,y_train)"
      ]
    },
    {
      "cell_type": "code",
      "execution_count": null,
      "metadata": {
        "id": "TrYgfetUWSkw"
      },
      "outputs": [],
      "source": [
        "y_prediction =knncls.predict(X_test)"
      ]
    },
    {
      "cell_type": "code",
      "execution_count": null,
      "metadata": {
        "colab": {
          "base_uri": "https://localhost:8080/"
        },
        "id": "y-uWAc0dXBd5",
        "outputId": "c9d61531-1420-4432-93c9-c54543ab1bec"
      },
      "outputs": [
        {
          "output_type": "stream",
          "name": "stdout",
          "text": [
            "r2 score is: 0.7324254414941204\n",
            "mean_sqrd_error is 2781.361873501199\n",
            "root_mean_squared error of is 52.73861842617039\n",
            "Accuracy: 0.0013664229263608834\n"
          ]
        }
      ],
      "source": [
        "from sklearn.metrics import accuracy_score\n",
        "knn_score=r2_score(y_test,y_prediction)\n",
        "print(\"r2 score is:\" ,knn_score)\n",
        "print(\"mean_sqrd_error is\",mean_squared_error(y_test,y_prediction))\n",
        "print(\"root_mean_squared error of is\",np.sqrt(mean_squared_error(y_test,y_prediction)))\n",
        "accuracy = accuracy_score(y_test, y_prediction)\n",
        "print(\"Accuracy:\", accuracy)"
      ]
    },
    {
      "cell_type": "markdown",
      "metadata": {
        "id": "3SPoVpR5XLY_"
      },
      "source": [
        "***Naive bayes***"
      ]
    },
    {
      "cell_type": "code",
      "execution_count": null,
      "metadata": {
        "id": "39CB2vD5XUxC"
      },
      "outputs": [],
      "source": [
        "# X_train,X_test,y_train,y_test=train_test_split(final_features,target,test_size=0.3)"
      ]
    },
    {
      "cell_type": "code",
      "execution_count": null,
      "metadata": {
        "id": "l02rKgmGYUZa"
      },
      "outputs": [],
      "source": [
        "# sc=StandardScaler()"
      ]
    },
    {
      "cell_type": "code",
      "execution_count": null,
      "metadata": {
        "id": "Eu9K1peHYYBa"
      },
      "outputs": [],
      "source": [
        "# x_scaler=sc.fit_transform(final_features)"
      ]
    },
    {
      "cell_type": "code",
      "execution_count": null,
      "metadata": {
        "id": "MlsYauefYiHk"
      },
      "outputs": [],
      "source": [
        "# pipe=Pipeline(steps=[(\"sc\",sc),(\"Guaasinnb\", GaussianNB())])"
      ]
    },
    {
      "cell_type": "code",
      "execution_count": null,
      "metadata": {
        "colab": {
          "base_uri": "https://localhost:8080/",
          "height": 124
        },
        "id": "6Tggi5bYYiLF",
        "outputId": "84cfeb8b-449e-4fcd-b1c7-eed25ca5e79b"
      },
      "outputs": [
        {
          "output_type": "execute_result",
          "data": {
            "text/plain": [
              "Pipeline(steps=[('sc', StandardScaler()), ('Guaasinnb', GaussianNB())])"
            ],
            "text/html": [
              "<style>#sk-container-id-2 {color: black;background-color: white;}#sk-container-id-2 pre{padding: 0;}#sk-container-id-2 div.sk-toggleable {background-color: white;}#sk-container-id-2 label.sk-toggleable__label {cursor: pointer;display: block;width: 100%;margin-bottom: 0;padding: 0.3em;box-sizing: border-box;text-align: center;}#sk-container-id-2 label.sk-toggleable__label-arrow:before {content: \"▸\";float: left;margin-right: 0.25em;color: #696969;}#sk-container-id-2 label.sk-toggleable__label-arrow:hover:before {color: black;}#sk-container-id-2 div.sk-estimator:hover label.sk-toggleable__label-arrow:before {color: black;}#sk-container-id-2 div.sk-toggleable__content {max-height: 0;max-width: 0;overflow: hidden;text-align: left;background-color: #f0f8ff;}#sk-container-id-2 div.sk-toggleable__content pre {margin: 0.2em;color: black;border-radius: 0.25em;background-color: #f0f8ff;}#sk-container-id-2 input.sk-toggleable__control:checked~div.sk-toggleable__content {max-height: 200px;max-width: 100%;overflow: auto;}#sk-container-id-2 input.sk-toggleable__control:checked~label.sk-toggleable__label-arrow:before {content: \"▾\";}#sk-container-id-2 div.sk-estimator input.sk-toggleable__control:checked~label.sk-toggleable__label {background-color: #d4ebff;}#sk-container-id-2 div.sk-label input.sk-toggleable__control:checked~label.sk-toggleable__label {background-color: #d4ebff;}#sk-container-id-2 input.sk-hidden--visually {border: 0;clip: rect(1px 1px 1px 1px);clip: rect(1px, 1px, 1px, 1px);height: 1px;margin: -1px;overflow: hidden;padding: 0;position: absolute;width: 1px;}#sk-container-id-2 div.sk-estimator {font-family: monospace;background-color: #f0f8ff;border: 1px dotted black;border-radius: 0.25em;box-sizing: border-box;margin-bottom: 0.5em;}#sk-container-id-2 div.sk-estimator:hover {background-color: #d4ebff;}#sk-container-id-2 div.sk-parallel-item::after {content: \"\";width: 100%;border-bottom: 1px solid gray;flex-grow: 1;}#sk-container-id-2 div.sk-label:hover label.sk-toggleable__label {background-color: #d4ebff;}#sk-container-id-2 div.sk-serial::before {content: \"\";position: absolute;border-left: 1px solid gray;box-sizing: border-box;top: 0;bottom: 0;left: 50%;z-index: 0;}#sk-container-id-2 div.sk-serial {display: flex;flex-direction: column;align-items: center;background-color: white;padding-right: 0.2em;padding-left: 0.2em;position: relative;}#sk-container-id-2 div.sk-item {position: relative;z-index: 1;}#sk-container-id-2 div.sk-parallel {display: flex;align-items: stretch;justify-content: center;background-color: white;position: relative;}#sk-container-id-2 div.sk-item::before, #sk-container-id-2 div.sk-parallel-item::before {content: \"\";position: absolute;border-left: 1px solid gray;box-sizing: border-box;top: 0;bottom: 0;left: 50%;z-index: -1;}#sk-container-id-2 div.sk-parallel-item {display: flex;flex-direction: column;z-index: 1;position: relative;background-color: white;}#sk-container-id-2 div.sk-parallel-item:first-child::after {align-self: flex-end;width: 50%;}#sk-container-id-2 div.sk-parallel-item:last-child::after {align-self: flex-start;width: 50%;}#sk-container-id-2 div.sk-parallel-item:only-child::after {width: 0;}#sk-container-id-2 div.sk-dashed-wrapped {border: 1px dashed gray;margin: 0 0.4em 0.5em 0.4em;box-sizing: border-box;padding-bottom: 0.4em;background-color: white;}#sk-container-id-2 div.sk-label label {font-family: monospace;font-weight: bold;display: inline-block;line-height: 1.2em;}#sk-container-id-2 div.sk-label-container {text-align: center;}#sk-container-id-2 div.sk-container {/* jupyter's `normalize.less` sets `[hidden] { display: none; }` but bootstrap.min.css set `[hidden] { display: none !important; }` so we also need the `!important` here to be able to override the default hidden behavior on the sphinx rendered scikit-learn.org. See: https://github.com/scikit-learn/scikit-learn/issues/21755 */display: inline-block !important;position: relative;}#sk-container-id-2 div.sk-text-repr-fallback {display: none;}</style><div id=\"sk-container-id-2\" class=\"sk-top-container\"><div class=\"sk-text-repr-fallback\"><pre>Pipeline(steps=[(&#x27;sc&#x27;, StandardScaler()), (&#x27;Guaasinnb&#x27;, GaussianNB())])</pre><b>In a Jupyter environment, please rerun this cell to show the HTML representation or trust the notebook. <br />On GitHub, the HTML representation is unable to render, please try loading this page with nbviewer.org.</b></div><div class=\"sk-container\" hidden><div class=\"sk-item sk-dashed-wrapped\"><div class=\"sk-label-container\"><div class=\"sk-label sk-toggleable\"><input class=\"sk-toggleable__control sk-hidden--visually\" id=\"sk-estimator-id-2\" type=\"checkbox\" ><label for=\"sk-estimator-id-2\" class=\"sk-toggleable__label sk-toggleable__label-arrow\">Pipeline</label><div class=\"sk-toggleable__content\"><pre>Pipeline(steps=[(&#x27;sc&#x27;, StandardScaler()), (&#x27;Guaasinnb&#x27;, GaussianNB())])</pre></div></div></div><div class=\"sk-serial\"><div class=\"sk-item\"><div class=\"sk-estimator sk-toggleable\"><input class=\"sk-toggleable__control sk-hidden--visually\" id=\"sk-estimator-id-3\" type=\"checkbox\" ><label for=\"sk-estimator-id-3\" class=\"sk-toggleable__label sk-toggleable__label-arrow\">StandardScaler</label><div class=\"sk-toggleable__content\"><pre>StandardScaler()</pre></div></div></div><div class=\"sk-item\"><div class=\"sk-estimator sk-toggleable\"><input class=\"sk-toggleable__control sk-hidden--visually\" id=\"sk-estimator-id-4\" type=\"checkbox\" ><label for=\"sk-estimator-id-4\" class=\"sk-toggleable__label sk-toggleable__label-arrow\">GaussianNB</label><div class=\"sk-toggleable__content\"><pre>GaussianNB()</pre></div></div></div></div></div></div></div>"
            ]
          },
          "metadata": {},
          "execution_count": 55
        }
      ],
      "source": [
        "# pipe.fit(X_train, y_train)"
      ]
    },
    {
      "cell_type": "code",
      "execution_count": null,
      "metadata": {
        "id": "YwWa3Xt0Yn52"
      },
      "outputs": [],
      "source": [
        "# gu_Score=pipe.score(X_test, y_test)\n",
        "gu_Score"
      ]
    },
    {
      "cell_type": "markdown",
      "metadata": {
        "id": "aQ-l9MUfYvka"
      },
      "source": [
        "***SVM***"
      ]
    },
    {
      "cell_type": "code",
      "execution_count": null,
      "metadata": {
        "id": "Igdm9RZ-Y0nD"
      },
      "outputs": [],
      "source": [
        "# X_train,X_test,y_train,y_test=train_test_split(final_features,target,test_size=0.3)"
      ]
    },
    {
      "cell_type": "code",
      "execution_count": null,
      "metadata": {
        "id": "Pn2LpOt8Y3xy"
      },
      "outputs": [],
      "source": [
        "# from sklearn.svm import SVC\n",
        "# from sklearn.metrics import accuracy_score\n",
        "# model = SVC(kernel='linear', C=1, gamma='auto')\n",
        "\n",
        "# # Train the SVM model on the training set\n",
        "# model.fit(X_train, y_train)\n",
        "\n",
        "# # Predict the classes of the test set\n",
        "# y_pred = model.predict(X_test)\n",
        "\n",
        "# # Calculate the accuracy of the model\n",
        "# accuracy = accuracy_score(y_test, y_pred)\n",
        "\n",
        "# # Print the accuracy score\n",
        "# print(\"Accuracy:\", accuracy)"
      ]
    },
    {
      "cell_type": "code",
      "execution_count": null,
      "metadata": {
        "id": "bMEvEqzGZnsq"
      },
      "outputs": [],
      "source": [
        "# svc_score=r2_score(y_test,y_pred)\n",
        "# print(\"r2 score is:\" ,svc_score)\n",
        "# print(\"mean_sqrd_error is\",mean_squared_error(y_test,y_pred))\n",
        "# print(\"root_mean_squared error of is\",np.sqrt(mean_squared_error(y_test,y_pred)))"
      ]
    },
    {
      "cell_type": "markdown",
      "metadata": {
        "id": "3WFR-FF3SNIh"
      },
      "source": [
        "**GRADIENT BOOST**"
      ]
    },
    {
      "cell_type": "code",
      "execution_count": null,
      "metadata": {
        "id": "VrJkHJIgZyJX"
      },
      "outputs": [],
      "source": [
        "X_train,X_test,y_train,y_test=train_test_split(final_features,target,test_size=0.3)"
      ]
    },
    {
      "cell_type": "code",
      "execution_count": null,
      "metadata": {
        "id": "93Jdu1B5Z3tm",
        "colab": {
          "base_uri": "https://localhost:8080/"
        },
        "outputId": "bf34312e-999d-4793-ba02-13df7996946a"
      },
      "outputs": [
        {
          "output_type": "stream",
          "name": "stdout",
          "text": [
            "Mean Squared Error: 6.299300625167704\n"
          ]
        }
      ],
      "source": [
        "from sklearn.ensemble import GradientBoostingRegressor\n",
        "# Fit Gradient Boosting Regression model\n",
        "gbr = GradientBoostingRegressor(n_estimators=100, max_depth=4, learning_rate=0.1)\n",
        "gbr.fit(X_train, y_train)\n",
        "\n",
        "# Predict the target variable on the test set\n",
        "y_pred = gbr.predict(X_test)\n",
        "\n",
        "# Calculate the mean squared error of the predictions\n",
        "mse = mean_squared_error(y_test, y_pred)\n",
        "print('Mean Squared Error:', mse)"
      ]
    },
    {
      "cell_type": "code",
      "execution_count": null,
      "metadata": {
        "id": "TERFv3W8Z-Dd",
        "colab": {
          "base_uri": "https://localhost:8080/"
        },
        "outputId": "c5c45c74-0ace-4203-fc40-8061bd87b3f9"
      },
      "outputs": [
        {
          "output_type": "stream",
          "name": "stdout",
          "text": [
            "r2 score is: 0.9994227976722518\n",
            "mean_sqrd_error is 6.299300625167704\n",
            "root_mean_squared error of is 2.5098407569341337\n"
          ]
        }
      ],
      "source": [
        "gb_score=r2_score(y_test,y_pred)\n",
        "print(\"r2 score is:\" ,gb_score)\n",
        "print(\"mean_sqrd_error is\",mean_squared_error(y_test,y_pred))\n",
        "print(\"root_mean_squared error of is\",np.sqrt(mean_squared_error(y_test,y_pred)))"
      ]
    },
    {
      "cell_type": "markdown",
      "metadata": {
        "id": "KxGLPPSnaBKC"
      },
      "source": [
        "***Decison tree***"
      ]
    },
    {
      "cell_type": "code",
      "execution_count": null,
      "metadata": {
        "id": "8nczSC1CaFi-"
      },
      "outputs": [],
      "source": [
        "X_train,X_test,y_train,y_test=train_test_split(final_features,target,test_size=0.3)"
      ]
    },
    {
      "cell_type": "code",
      "execution_count": null,
      "metadata": {
        "id": "-NSRf3Z6aKXI",
        "colab": {
          "base_uri": "https://localhost:8080/"
        },
        "outputId": "a7310104-1a66-4440-a9d3-8574ebe8c9b7"
      },
      "outputs": [
        {
          "output_type": "stream",
          "name": "stdout",
          "text": [
            "Mean Squared Error:  16.501538616435635\n"
          ]
        }
      ],
      "source": [
        "from sklearn.tree import DecisionTreeRegressor\n",
        "# Create a decision tree regressor object\n",
        "dt = DecisionTreeRegressor()\n",
        "\n",
        "# Train the model on the training data\n",
        "dt.fit(X_train, y_train)\n",
        "\n",
        "# Make predictions on the test data\n",
        "y_pred = dt.predict(X_test)\n",
        "\n",
        "# Calculate the mean squared error of the model\n",
        "mse = mean_squared_error(y_test, y_pred)\n",
        "\n",
        "print(\"Mean Squared Error: \", mse)"
      ]
    },
    {
      "cell_type": "code",
      "execution_count": null,
      "metadata": {
        "id": "cNbWcOzjaPOf",
        "colab": {
          "base_uri": "https://localhost:8080/"
        },
        "outputId": "0d30aaac-f0c6-4519-84bd-22d1357a5971"
      },
      "outputs": [
        {
          "output_type": "stream",
          "name": "stdout",
          "text": [
            "r2 score is: 0.9985007798289157\n",
            "root_mean_squared error of is 4.06220858849415\n"
          ]
        }
      ],
      "source": [
        "dt_score=r2_score(y_test,y_pred)\n",
        "print(\"r2 score is:\" ,dt_score)\n",
        "print(\"root_mean_squared error of is\",np.sqrt(mean_squared_error(y_test,y_pred)))"
      ]
    },
    {
      "cell_type": "markdown",
      "metadata": {
        "id": "Y04MkeMvaRla"
      },
      "source": [
        "***Random Forest***"
      ]
    },
    {
      "cell_type": "code",
      "execution_count": null,
      "metadata": {
        "id": "849qkkdcaWhs"
      },
      "outputs": [],
      "source": [
        "X_train,X_test,y_train,y_test=train_test_split(final_features,target,test_size=0.3)"
      ]
    },
    {
      "cell_type": "code",
      "execution_count": null,
      "metadata": {
        "id": "KOLRES-iaYx3",
        "colab": {
          "base_uri": "https://localhost:8080/"
        },
        "outputId": "202a2526-c6f4-4bf9-a1ea-50621580b99f"
      },
      "outputs": [
        {
          "output_type": "stream",
          "name": "stdout",
          "text": [
            "Mean Squared Error: 29.75088256201592\n"
          ]
        }
      ],
      "source": [
        "from sklearn.ensemble import RandomForestRegressor\n",
        "# create random forest regressor model\n",
        "rf = RandomForestRegressor(n_estimators=100, max_depth=10, random_state=42)\n",
        "\n",
        "# fit model to training data\n",
        "rf.fit(X_train, y_train)\n",
        "\n",
        "# make predictions on test data\n",
        "y_pred = rf.predict(X_test)\n",
        "\n",
        "# calculate mean squared error\n",
        "mse = mean_squared_error(y_test, y_pred)\n",
        "print(\"Mean Squared Error:\", mse)"
      ]
    },
    {
      "cell_type": "code",
      "execution_count": null,
      "metadata": {
        "id": "P1F6JH3kaeJW",
        "colab": {
          "base_uri": "https://localhost:8080/"
        },
        "outputId": "c0613f8c-edd5-429f-99e8-2986e013b962"
      },
      "outputs": [
        {
          "output_type": "stream",
          "name": "stdout",
          "text": [
            "r2 score is: 0.9973356579683506\n",
            "root_mean_squared error of is 5.454436961045193\n"
          ]
        }
      ],
      "source": [
        "rf_score=r2_score(y_test,y_pred)\n",
        "print(\"r2 score is:\" ,rf_score)\n",
        "print(\"root_mean_squared error of is\",np.sqrt(mean_squared_error(y_test,y_pred)))"
      ]
    },
    {
      "cell_type": "markdown",
      "metadata": {
        "id": "A2FG6KNldmnU"
      },
      "source": [
        "***LSTM***"
      ]
    },
    {
      "cell_type": "code",
      "execution_count": null,
      "metadata": {
        "id": "JZ4dYzSoTzph",
        "colab": {
          "base_uri": "https://localhost:8080/"
        },
        "outputId": "85443bbe-9f27-4ce4-8e4c-faf4a734b6c7"
      },
      "outputs": [
        {
          "output_type": "stream",
          "name": "stdout",
          "text": [
            "Epoch 1/10\n",
            "4513/4513 [==============================] - 40s 7ms/step - loss: 0.0035\n",
            "Epoch 2/10\n",
            "4513/4513 [==============================] - 32s 7ms/step - loss: 1.0073e-04\n",
            "Epoch 3/10\n",
            "4513/4513 [==============================] - 34s 8ms/step - loss: 7.4099e-05\n",
            "Epoch 4/10\n",
            "4513/4513 [==============================] - 34s 8ms/step - loss: 5.9968e-05\n",
            "Epoch 5/10\n",
            "4513/4513 [==============================] - 39s 9ms/step - loss: 4.4063e-05\n",
            "Epoch 6/10\n",
            "4513/4513 [==============================] - 32s 7ms/step - loss: 3.1171e-05\n",
            "Epoch 7/10\n",
            "4513/4513 [==============================] - 33s 7ms/step - loss: 2.5783e-05\n",
            "Epoch 8/10\n",
            "4513/4513 [==============================] - 33s 7ms/step - loss: 2.3563e-05\n",
            "Epoch 9/10\n",
            "4513/4513 [==============================] - 34s 7ms/step - loss: 2.5514e-05\n",
            "Epoch 10/10\n",
            "4513/4513 [==============================] - 34s 7ms/step - loss: 2.1257e-05\n",
            "1129/1129 [==============================] - 5s 3ms/step\n",
            "Mean Squared Error:  1.2408030029830966e-05\n",
            "R2 Score:  0.9675271535153726\n"
          ]
        }
      ],
      "source": [
        "import pandas as pd\n",
        "import numpy as np\n",
        "from sklearn.preprocessing import MinMaxScaler\n",
        "from sklearn.model_selection import train_test_split\n",
        "from sklearn.metrics import mean_squared_error, r2_score\n",
        "from keras.models import Sequential\n",
        "from keras.layers import LSTM, Dense\n",
        "\n",
        "\n",
        "# Preprocess data\n",
        "scaler = MinMaxScaler(feature_range=(0, 1))\n",
        "scaled_data = scaler.fit_transform(final_data)\n",
        "\n",
        "# Split the data into features and target\n",
        "X = scaled_data[:, :-1]\n",
        "y = scaled_data[:, -1]\n",
        "\n",
        "# Split the data into train and test sets\n",
        "X_train, X_test, y_train, y_test = train_test_split(X, y, test_size=0.2, random_state=42)\n",
        "\n",
        "# Reshape input to be [samples, time steps, features]\n",
        "X_train = np.reshape(X_train, (X_train.shape[0], 1, X_train.shape[1]))\n",
        "X_test = np.reshape(X_test, (X_test.shape[0], 1, X_test.shape[1]))\n",
        "\n",
        "# Define the LSTM model\n",
        "model = Sequential()\n",
        "model.add(LSTM(50, return_sequences=True, input_shape=(1, X_train.shape[2])))\n",
        "model.add(LSTM(50, return_sequences=True))\n",
        "model.add(LSTM(50))\n",
        "model.add(Dense(1))\n",
        "model.compile(loss='mean_squared_error', optimizer='adam')\n",
        "\n",
        "# Train the model\n",
        "model.fit(X_train, y_train, epochs=10, batch_size=32, verbose=1)\n",
        "\n",
        "# Make predictions\n",
        "y_pred = model.predict(X_test)\n",
        "\n",
        "# Calculate evaluation metrics\n",
        "mse = mean_squared_error(y_test, y_pred)\n",
        "r2 = r2_score(y_test, y_pred)\n",
        "\n",
        "print(\"Mean Squared Error: \", mse)\n",
        "print(\"R2 Score: \", r2)\n",
        "\n"
      ]
    },
    {
      "cell_type": "markdown",
      "metadata": {
        "id": "vywFoMNidq4z"
      },
      "source": [
        "***GRU***"
      ]
    },
    {
      "cell_type": "code",
      "execution_count": null,
      "metadata": {
        "id": "uLBcspSdftH9",
        "colab": {
          "base_uri": "https://localhost:8080/"
        },
        "outputId": "2a1bcfc4-5bc6-463e-addf-230ab7c034e0"
      },
      "outputs": [
        {
          "output_type": "stream",
          "name": "stdout",
          "text": [
            "Epoch 1/20\n",
            "4513/4513 [==============================] - 40s 8ms/step - loss: 0.0014\n",
            "Epoch 2/20\n",
            "4513/4513 [==============================] - 35s 8ms/step - loss: 1.0063e-04\n",
            "Epoch 3/20\n",
            "4513/4513 [==============================] - 35s 8ms/step - loss: 8.0040e-05\n",
            "Epoch 4/20\n",
            "4513/4513 [==============================] - 36s 8ms/step - loss: 6.6171e-05\n",
            "Epoch 5/20\n",
            "4513/4513 [==============================] - 35s 8ms/step - loss: 5.5463e-05\n",
            "Epoch 6/20\n",
            "4513/4513 [==============================] - 35s 8ms/step - loss: 5.3301e-05\n",
            "Epoch 7/20\n",
            "4513/4513 [==============================] - 35s 8ms/step - loss: 5.0585e-05\n",
            "Epoch 8/20\n",
            "4513/4513 [==============================] - 36s 8ms/step - loss: 4.8901e-05\n",
            "Epoch 9/20\n",
            "4513/4513 [==============================] - 36s 8ms/step - loss: 4.6519e-05\n",
            "Epoch 10/20\n",
            "4513/4513 [==============================] - 36s 8ms/step - loss: 4.4799e-05\n",
            "Epoch 11/20\n",
            "4513/4513 [==============================] - 35s 8ms/step - loss: 4.4725e-05\n",
            "Epoch 12/20\n",
            "4513/4513 [==============================] - 36s 8ms/step - loss: 4.2311e-05\n",
            "Epoch 13/20\n",
            "4513/4513 [==============================] - 36s 8ms/step - loss: 4.2162e-05\n",
            "Epoch 14/20\n",
            "4513/4513 [==============================] - 36s 8ms/step - loss: 4.0075e-05\n",
            "Epoch 15/20\n",
            "4513/4513 [==============================] - 36s 8ms/step - loss: 3.9859e-05\n",
            "Epoch 16/20\n",
            "4513/4513 [==============================] - 35s 8ms/step - loss: 4.0984e-05\n",
            "Epoch 17/20\n",
            "4513/4513 [==============================] - 36s 8ms/step - loss: 3.8914e-05\n",
            "Epoch 18/20\n",
            "4513/4513 [==============================] - 36s 8ms/step - loss: 3.5575e-05\n",
            "Epoch 19/20\n",
            "4513/4513 [==============================] - 36s 8ms/step - loss: 3.4954e-05\n",
            "Epoch 20/20\n",
            "4513/4513 [==============================] - 35s 8ms/step - loss: 3.8086e-05\n",
            "1129/1129 [==============================] - 4s 2ms/step\n",
            "Mean Squared Error:  1.4797932047608512e-05\n",
            "R2 Score:  0.9612725811819715\n"
          ]
        }
      ],
      "source": [
        "import pandas as pd\n",
        "import numpy as np\n",
        "from sklearn.preprocessing import MinMaxScaler\n",
        "from sklearn.model_selection import train_test_split\n",
        "from sklearn.metrics import mean_squared_error, r2_score\n",
        "from keras.models import Sequential\n",
        "from keras.layers import GRU, Dense, Dropout\n",
        "\n",
        "\n",
        "\n",
        "# Preprocess the data\n",
        "scaler = MinMaxScaler(feature_range=(0, 1))\n",
        "scaled_data = scaler.fit_transform(final_data)\n",
        "\n",
        "# Split the data into features and target\n",
        "X = scaled_data[:, :-1]\n",
        "y = scaled_data[:, -1]\n",
        "\n",
        "# Split the data into train and test sets\n",
        "X_train, X_test, y_train, y_test = train_test_split(X, y, test_size=0.2, random_state=42)\n",
        "\n",
        "# Reshape input to be [samples, time steps, features]\n",
        "X_train = np.reshape(X_train, (X_train.shape[0], 1, X_train.shape[1]))\n",
        "X_test = np.reshape(X_test, (X_test.shape[0], 1, X_test.shape[1]))\n",
        "\n",
        "# Define the GRU model\n",
        "model = Sequential()\n",
        "model.add(GRU(128, input_shape=(1, X_train.shape[2]), return_sequences=True))\n",
        "model.add(Dropout(0.2))\n",
        "model.add(GRU(64))\n",
        "model.add(Dropout(0.2))\n",
        "model.add(Dense(32))\n",
        "model.add(Dense(1))\n",
        "model.compile(loss='mean_squared_error', optimizer='adam')\n",
        "\n",
        "# Train the model\n",
        "model.fit(X_train, y_train, epochs=20, batch_size=32, verbose=1)\n",
        "\n",
        "# Make predictions\n",
        "y_pred = model.predict(X_test)\n",
        "# Calculate evaluation metrics\n",
        "mse = mean_squared_error(y_test, y_pred)\n",
        "r2 = r2_score(y_test, y_pred)\n",
        "\n",
        "print(\"Mean Squared Error: \", mse)\n",
        "print(\"R2 Score: \", r2)\n"
      ]
    },
    {
      "cell_type": "markdown",
      "metadata": {
        "id": "4nGuslPXDMJo"
      },
      "source": [
        "***Multilayer Perceptron model***"
      ]
    },
    {
      "cell_type": "code",
      "execution_count": null,
      "metadata": {
        "id": "JiPkGzS3DNv4",
        "colab": {
          "base_uri": "https://localhost:8080/"
        },
        "outputId": "78eb0333-d47c-48a1-b444-a7d2fdc08f51"
      },
      "outputs": [
        {
          "output_type": "stream",
          "name": "stdout",
          "text": [
            "r2 score is: 0.822919020342671\n",
            "mean squared error is: 1988.6748166989858\n",
            "root mean squared error is: 44.594560393606145\n"
          ]
        }
      ],
      "source": [
        "from sklearn.neural_network import MLPRegressor\n",
        "\n",
        "# Multilayer Perceptron model\n",
        "X_train,X_test,y_train,y_test=train_test_split(final_features,target,test_size=0.2)\n",
        "\n",
        "mlpReg = MLPRegressor(hidden_layer_sizes=(100,50,), activation='relu', solver='adam', max_iter=2000)\n",
        "mlpmodel = mlpReg.fit(X_train, y_train)\n",
        "\n",
        "y_prediction = mlpReg.predict(X_test)\n",
        "\n",
        "mlp_score = r2_score(y_test, y_prediction)\n",
        "print(\"r2 score is:\", mlp_score)\n",
        "print(\"mean squared error is:\", mean_squared_error(y_test, y_prediction))\n",
        "print(\"root mean squared error is:\", np.sqrt(mean_squared_error(y_test, y_prediction)))\n"
      ]
    },
    {
      "cell_type": "markdown",
      "metadata": {
        "id": "MMxutYiKDqjn"
      },
      "source": [
        "***Ordinary Least Squares (OLS)***"
      ]
    },
    {
      "cell_type": "code",
      "execution_count": null,
      "metadata": {
        "id": "6LmvlR9GdkAC",
        "colab": {
          "base_uri": "https://localhost:8080/"
        },
        "outputId": "e5ff00f2-4743-4eb7-9ed0-7478e930537f"
      },
      "outputs": [
        {
          "output_type": "stream",
          "name": "stdout",
          "text": [
            "r2 score is: 1.0\n",
            "mean squared error is: 1.7401914282218603e-24\n",
            "root mean squared error is: 1.3191631545119277e-12\n"
          ]
        }
      ],
      "source": [
        "import statsmodels.api as sm\n",
        "from sklearn.model_selection import train_test_split\n",
        "from sklearn.metrics import r2_score, mean_squared_error\n",
        "import numpy as np\n",
        "\n",
        "# Convert Sales column to float type\n",
        "final_data['Sales'] = final_data['Sales'].astype(float)\n",
        "y = final_data['Sales']\n",
        "\n",
        "# Split the data into training and testing sets\n",
        "X_train,X_test,y_train,y_test=train_test_split(final_features,y,test_size=0.2)\n",
        "\n",
        "# Add constant to the features matrix\n",
        "X_train = sm.add_constant(X_train)\n",
        "X_test = sm.add_constant(X_test)\n",
        "\n",
        "# Create the OLS model\n",
        "model = sm.OLS(y_train, X_train)\n",
        "\n",
        "# Fit the OLS model\n",
        "results = model.fit()\n",
        "\n",
        "# Make predictions on the testing set\n",
        "y_prediction = results.predict(X_test)\n",
        "\n",
        "# Calculate evaluation metrics\n",
        "r2_score = r2_score(y_test, y_prediction)\n",
        "mean_squared_error = mean_squared_error(y_test, y_prediction)\n",
        "root_mean_squared_error = np.sqrt(mean_squared_error)\n",
        "\n",
        "# Print the summary statistics and evaluation metrics of the model\n",
        "# print(results.summary())\n",
        "print(\"r2 score is:\", r2_score)\n",
        "print(\"mean squared error is:\", mean_squared_error)\n",
        "print(\"root mean squared error is:\", root_mean_squared_error)\n"
      ]
    },
    {
      "cell_type": "markdown",
      "metadata": {
        "id": "7D9d1TsbD-RZ"
      },
      "source": [
        "***Kruskal-Wallis test***"
      ]
    },
    {
      "cell_type": "code",
      "execution_count": null,
      "metadata": {
        "id": "Fmq-gpsBpEHr",
        "colab": {
          "base_uri": "https://localhost:8080/"
        },
        "outputId": "96ef81e3-2205-4892-bb77-d3fc4322498d"
      },
      "outputs": [
        {
          "output_type": "stream",
          "name": "stdout",
          "text": [
            "R2 score: 0.4488698583641293\n",
            "Mean squared error: 1173.0606159420913\n",
            "Root mean squared error: 34.24997249549394\n"
          ]
        }
      ],
      "source": [
        "import numpy as np\n",
        "import pandas as pd\n",
        "import scipy.stats as stats\n",
        "from sklearn.model_selection import train_test_split\n",
        "from sklearn.linear_model import LinearRegression\n",
        "from sklearn.metrics import r2_score, mean_squared_error\n",
        "\n",
        "# Split the data into training and testing sets\n",
        "X = final_data['Product Price'].values.reshape(-1, 1)\n",
        "y = final_data['Sales'].values.reshape(-1, 1)\n",
        "X_train, X_test, y_train, y_test = train_test_split(X, y, test_size=0.3, random_state=42)\n",
        "\n",
        "# Train a linear regression model\n",
        "reg = LinearRegression().fit(X_train, y_train)\n",
        "\n",
        "# Evaluate the model on the testing set\n",
        "y_pred = reg.predict(X_test)\n",
        "r2 = r2_score(y_test, y_pred)\n",
        "mse = mean_squared_error(y_test, y_pred)\n",
        "rmse = np.sqrt(mse)\n",
        "\n",
        "# Display the evaluation metrics\n",
        "print('R2 score:', r2)\n",
        "print('Mean squared error:', mse)\n",
        "print('Root mean squared error:', rmse)"
      ]
    },
    {
      "cell_type": "markdown",
      "metadata": {
        "id": "tq5zyhpVDyJg"
      },
      "source": [
        "***T-test***"
      ]
    },
    {
      "cell_type": "code",
      "source": [
        "final_data['Benefit per order'] = pd.to_numeric(final_data['Benefit per order'])"
      ],
      "metadata": {
        "id": "Z9g3zTcdEoQB"
      },
      "execution_count": null,
      "outputs": []
    },
    {
      "cell_type": "code",
      "execution_count": null,
      "metadata": {
        "id": "DiDBCcPXiXU4",
        "colab": {
          "base_uri": "https://localhost:8080/"
        },
        "outputId": "0ee146f8-3b8b-4629-bac3-3d950cb6d1b6"
      },
      "outputs": [
        {
          "output_type": "stream",
          "name": "stdout",
          "text": [
            "T-test: Ttest_indResult(statistic=-50.724957611575974, pvalue=0.0)\n",
            "r2 score: 1.0\n",
            "mean squared error: 2.1152622209858708e-27\n",
            "root mean squared error: 4.59919799637488e-14\n",
            "Actual vs predicted values:\n"
          ]
        }
      ],
      "source": [
        "import statsmodels.api as sm\n",
        "import scipy.stats as stats\n",
        "from sklearn.metrics import r2_score, mean_squared_error\n",
        "from sklearn.model_selection import train_test_split\n",
        "import pandas as pd\n",
        "import numpy as np\n",
        "\n",
        "# Split the data into training and testing sets\n",
        "X_train, X_test, y_train, y_test = train_test_split(final_data[['Benefit per order', 'Product Price']], final_data['Benefit per order'], test_size=0.2, random_state=42)\n",
        "\n",
        "# Perform T-test\n",
        "t_test = stats.ttest_ind(X_train['Benefit per order'], X_train['Product Price'])\n",
        "\n",
        "# Fit linear regression model to training data\n",
        "model = sm.OLS(y_train, X_train).fit()\n",
        "\n",
        "# Make predictions on test data\n",
        "y_pred = model.predict(X_test)\n",
        "\n",
        "# Calculate r2 score\n",
        "r2 = r2_score(y_test, y_pred)\n",
        "\n",
        "# Calculate mean squared error\n",
        "mse = mean_squared_error(y_test, y_pred)\n",
        "\n",
        "# Calculate root mean squared error\n",
        "rmse = np.sqrt(mse)\n",
        "\n",
        "# Display T-test result, r2 score, mean squared error, and root mean squared error\n",
        "print('T-test:', t_test)\n",
        "print('r2 score:', r2)\n",
        "print('mean squared error:', mse)\n",
        "print('root mean squared error:', rmse)\n",
        "print('Actual vs predicted values:')\n"
      ]
    },
    {
      "cell_type": "markdown",
      "metadata": {
        "id": "uQ5sfwcbD4_a"
      },
      "source": [
        "***Chi-square test***"
      ]
    },
    {
      "cell_type": "code",
      "execution_count": null,
      "metadata": {
        "id": "NOUSilVSotXW",
        "colab": {
          "base_uri": "https://localhost:8080/"
        },
        "outputId": "db5db109-38e9-406a-bd85-0f78d6778251"
      },
      "outputs": [
        {
          "output_type": "stream",
          "name": "stdout",
          "text": [
            "Chi-Square test statistic: 4886817.441628419\n",
            "p-value: 0.0\n",
            "Degrees of freedom: 1627778\n",
            "Classification report:\n",
            "              precision    recall  f1-score   support\n",
            "\n",
            "           0       0.49      0.68      0.57     75070\n",
            "           1       0.68      0.49      0.57    105449\n",
            "\n",
            "    accuracy                           0.57    180519\n",
            "   macro avg       0.58      0.58      0.57    180519\n",
            "weighted avg       0.60      0.57      0.57    180519\n",
            "\n",
            "Accuracy score: 0.5687268376182009\n"
          ]
        }
      ],
      "source": [
        "import numpy as np\n",
        "import pandas as pd\n",
        "import scipy.stats as stats\n",
        "from sklearn.metrics import classification_report, accuracy_score\n",
        "\n",
        "\n",
        "# Create cross-tabulation table of Sales and Product Price\n",
        "observed = pd.crosstab(final_data['Benefit per order'], final_data['Product Price'])\n",
        "\n",
        "# Perform chi-square test of independence\n",
        "chi2, p_value, dof, expected = stats.chi2_contingency(observed)\n",
        "\n",
        "# Display chi-square test results\n",
        "print('Chi-Square test statistic:', chi2)\n",
        "print('p-value:', p_value)\n",
        "print('Degrees of freedom:', dof)\n",
        "\n",
        "# Predict Sales using Product Price as a feature\n",
        "y_true = final_data['Benefit per order']\n",
        "y_pred = final_data['Product Price'] > final_data['Product Price'].mean()\n",
        "\n",
        "# Convert y_true into binary values\n",
        "threshold = final_data['Benefit per order'].mean()\n",
        "y_true = (y_true > threshold).astype(int)\n",
        "\n",
        "# Compute classification report and accuracy score\n",
        "report = classification_report(y_true, y_pred)\n",
        "accuracy = accuracy_score(y_true, y_pred)\n",
        "\n",
        "# Display performance evaluation metrics\n",
        "print('Classification report:')\n",
        "print(report)\n",
        "print('Accuracy score:', accuracy)\n"
      ]
    },
    {
      "cell_type": "code",
      "source": [],
      "metadata": {
        "id": "Ue86k3iUM7fA"
      },
      "execution_count": null,
      "outputs": []
    }
  ],
  "metadata": {
    "colab": {
      "provenance": [],
      "include_colab_link": true
    },
    "kernelspec": {
      "display_name": "Python 3",
      "name": "python3"
    },
    "language_info": {
      "name": "python"
    }
  },
  "nbformat": 4,
  "nbformat_minor": 0
}